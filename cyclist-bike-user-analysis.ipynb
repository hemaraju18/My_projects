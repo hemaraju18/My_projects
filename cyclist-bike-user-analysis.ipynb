{
 "cells": [
  {
   "cell_type": "markdown",
   "id": "a2437240",
   "metadata": {
    "papermill": {
     "duration": 0.040301,
     "end_time": "2023-03-05T16:01:01.919833",
     "exception": false,
     "start_time": "2023-03-05T16:01:01.879532",
     "status": "completed"
    },
    "tags": []
   },
   "source": [
    "# Cyclist Bike User Analysis\n",
    "### A comprehensive analysis of the ride preferences of casual riders and Cyclistic members in the year 2022"
   ]
  },
  {
   "cell_type": "markdown",
   "id": "ed580f5a",
   "metadata": {
    "papermill": {
     "duration": 0.035611,
     "end_time": "2023-03-05T16:01:01.991081",
     "exception": false,
     "start_time": "2023-03-05T16:01:01.955470",
     "status": "completed"
    },
    "tags": []
   },
   "source": [
    "## Outline\n",
    "* Executive Summary\n",
    "* Introduction\n",
    "* Data Preparation\n",
    "* Data Processing\n",
    "* EDA with Data Visualization\n",
    "* Conclusion\n",
    "* Appendix"
   ]
  },
  {
   "cell_type": "markdown",
   "id": "b1732b60",
   "metadata": {
    "papermill": {
     "duration": 0.035248,
     "end_time": "2023-03-05T16:01:02.063726",
     "exception": false,
     "start_time": "2023-03-05T16:01:02.028478",
     "status": "completed"
    },
    "tags": []
   },
   "source": [
    "## Executive Summary:\n",
    "### Objective:\n",
    "The context of this analysis is the stakeholders of a Chicago-based bike rental company Cyclistic (a fictitious company), believe that the company's future growth depends on maximizing the number of annual memberships. So, they want to get some insights from their rider data for the year 2022 to understand the preference of casual riders, and it's members.\n",
    "\n",
    "### Questions to be Answered:\n",
    "1. How do annual members and casual riders use Cyclistic bikes differently?\n",
    "2. Why would casual riders buy Cyclistic annual memberships?\n",
    "3. How can Cyclistic use digital media to influence casual riders to become members?\n",
    "\n",
    "### The Proposed Solution: \n",
    "* The average trip duration of Cyclistic Members is much less than that of the casual Riders. So, it will be a benificial act if we can convert casual riders into Cyclist annual members.\n",
    "* There is a good number of casual riders turn-out between the hours 15:00 to 19:00  every evening and 11:00 to 19:00 on Friday and Saturday. By offering extra privileges and benefits for Cyclisic members during rush hours, we can encourage more casual users to transform into Cyclist annual members.\n",
    "* There is a high increase in rides from April to August. It is the best time to run a digital media campaign to encourage casual riders to transform into annual members.\n",
    "​"
   ]
  },
  {
   "cell_type": "markdown",
   "id": "ead72f62",
   "metadata": {
    "papermill": {
     "duration": 0.03597,
     "end_time": "2023-03-05T16:01:02.135449",
     "exception": false,
     "start_time": "2023-03-05T16:01:02.099479",
     "status": "completed"
    },
    "tags": []
   },
   "source": [
    "## Introduction:\n",
    "Cyclistic is a Chicago-based bike rental company established in 2016. Cyclistic has 5,824 bicycles that are geo-tracked and locked into a network of 692 stations across Chicago.  Cyclisic offers three flexible pricing plans to its customers, those are namely single-ride passes, full-day passes, and annual memberships. Customers who purchase single-ride or full-day passes are referred to as casual riders. Customers who purchased annual memberships are referred to as Cyclist members.\n",
    "\n",
    "Cyclist finance analysts have opined that annual members are more profitable than casual riders. So, the stakeholders of Cyclistic want to design a marketing strategy to convert casual riders into Cyclist members. In order to do that, their marketing team needs to understand how annual members and casual riders differ in their preferences. So, the Cyclistic marketing team is interested in analyzing the historical bike trip data to understand the trends. \n",
    "\n",
    "\n"
   ]
  },
  {
   "cell_type": "markdown",
   "id": "09785c75",
   "metadata": {
    "papermill": {
     "duration": 0.035544,
     "end_time": "2023-03-05T16:01:02.206865",
     "exception": false,
     "start_time": "2023-03-05T16:01:02.171321",
     "status": "completed"
    },
    "tags": []
   },
   "source": [
    "## Data Preparation:\n",
    "I have chosen 12 months of data from 2022 to study the ride preferences of casual riders and Cyclist annual members. The size of the 12 datasets combined is 1.1 GB. It is not feasible to analyze such big data in spreadsheets. The other options are R programming, Python programming, and SQL.\n",
    "\n",
    "Due to limited resources, I cannot use SQL for my analysis since I can only access the lite version of SQL warehouses. Hence, I would like to complete this task using Python for data preparation and processing and Tableau for exploratory data analysis (EDA)."
   ]
  },
  {
   "cell_type": "markdown",
   "id": "d77d8bd7",
   "metadata": {
    "papermill": {
     "duration": 0.036286,
     "end_time": "2023-03-05T16:01:02.278891",
     "exception": false,
     "start_time": "2023-03-05T16:01:02.242605",
     "status": "completed"
    },
    "tags": []
   },
   "source": [
    "Let's install the required python libraries and extract the data."
   ]
  },
  {
   "cell_type": "code",
   "execution_count": 1,
   "id": "af423f97",
   "metadata": {
    "execution": {
     "iopub.execute_input": "2023-03-05T16:01:02.352811Z",
     "iopub.status.busy": "2023-03-05T16:01:02.351464Z",
     "iopub.status.idle": "2023-03-05T16:01:03.711691Z",
     "shell.execute_reply": "2023-03-05T16:01:03.710287Z"
    },
    "papermill": {
     "duration": 1.400416,
     "end_time": "2023-03-05T16:01:03.714838",
     "exception": false,
     "start_time": "2023-03-05T16:01:02.314422",
     "status": "completed"
    },
    "tags": []
   },
   "outputs": [
    {
     "name": "stdout",
     "output_type": "stream",
     "text": [
      "/kaggle/input/cyclistic-case-study-2022-data/202202-divvy-tripdata.csv\n",
      "/kaggle/input/cyclistic-case-study-2022-data/202212-divvy-tripdata.csv\n",
      "/kaggle/input/cyclistic-case-study-2022-data/202208-divvy-tripdata.csv\n",
      "/kaggle/input/cyclistic-case-study-2022-data/202203-divvy-tripdata.csv\n",
      "/kaggle/input/cyclistic-case-study-2022-data/202209-divvy-tripdata.csv\n",
      "/kaggle/input/cyclistic-case-study-2022-data/202205-divvy-tripdata.csv\n",
      "/kaggle/input/cyclistic-case-study-2022-data/202206-divvy-tripdata.csv\n",
      "/kaggle/input/cyclistic-case-study-2022-data/202211-divvy-tripdata.csv\n",
      "/kaggle/input/cyclistic-case-study-2022-data/202201-divvy-tripdata.csv\n",
      "/kaggle/input/cyclistic-case-study-2022-data/202204-divvy-tripdata.csv\n",
      "/kaggle/input/cyclistic-case-study-2022-data/202210-divvy-tripdata.csv\n",
      "/kaggle/input/cyclistic-case-study-2022-data/202207-divvy-tripdata.csv\n"
     ]
    }
   ],
   "source": [
    "# This Python 3 environment comes with many helpful analytics libraries installed\n",
    "# It is defined by the kaggle/python Docker image: https://github.com/kaggle/docker-python\n",
    "# For example, here's several helpful packages to load\n",
    "\n",
    "import numpy as np # linear algebra\n",
    "import pandas as pd # data processing, CSV file I/O (e.g. pd.read_csv)\n",
    "import matplotlib.pyplot as plt\n",
    "#Seaborn is a Python data visualization library based on matplotlib. It provides a high-level interface for drawing attractive and informative statistical graphics\n",
    "import seaborn as sns\n",
    "\n",
    "# Input data files are available in the read-only \"../input/\" directory\n",
    "# For example, running this (by clicking run or pressing Shift+Enter) will list all files under the input directory\n",
    "\n",
    "import os\n",
    "for dirname, _, filenames in os.walk('/kaggle/input'):\n",
    "    for filename in filenames:\n",
    "        print(os.path.join(dirname, filename))\n",
    "\n",
    "# You can write up to 20GB to the current directory (/kaggle/working/) that gets preserved as output when you create a version using \"Save & Run All\" \n",
    "# You can also write temporary files to /kaggle/temp/, but they won't be saved outside of the current session"
   ]
  },
  {
   "cell_type": "markdown",
   "id": "d06dee90",
   "metadata": {
    "papermill": {
     "duration": 0.034952,
     "end_time": "2023-03-05T16:01:03.785401",
     "exception": false,
     "start_time": "2023-03-05T16:01:03.750449",
     "status": "completed"
    },
    "tags": []
   },
   "source": [
    "Now read the data into data frames using *'pd.read_csv()'* function of pandas."
   ]
  },
  {
   "cell_type": "code",
   "execution_count": 2,
   "id": "beeb212e",
   "metadata": {
    "execution": {
     "iopub.execute_input": "2023-03-05T16:01:03.860172Z",
     "iopub.status.busy": "2023-03-05T16:01:03.859717Z",
     "iopub.status.idle": "2023-03-05T16:01:37.987140Z",
     "shell.execute_reply": "2023-03-05T16:01:37.985756Z"
    },
    "papermill": {
     "duration": 34.168913,
     "end_time": "2023-03-05T16:01:37.990943",
     "exception": false,
     "start_time": "2023-03-05T16:01:03.822030",
     "status": "completed"
    },
    "tags": []
   },
   "outputs": [],
   "source": [
    "tripdata_2022_01 = pd.read_csv('/kaggle/input/cyclistic-case-study-2022-data/202201-divvy-tripdata.csv')\n",
    "tripdata_2022_02 = pd.read_csv('/kaggle/input/cyclistic-case-study-2022-data/202202-divvy-tripdata.csv')\n",
    "tripdata_2022_03 = pd.read_csv('/kaggle/input/cyclistic-case-study-2022-data/202203-divvy-tripdata.csv')\n",
    "tripdata_2022_04 = pd.read_csv('/kaggle/input/cyclistic-case-study-2022-data/202204-divvy-tripdata.csv')\n",
    "tripdata_2022_05 = pd.read_csv('/kaggle/input/cyclistic-case-study-2022-data/202205-divvy-tripdata.csv')\n",
    "tripdata_2022_06 = pd.read_csv('/kaggle/input/cyclistic-case-study-2022-data/202206-divvy-tripdata.csv')\n",
    "tripdata_2022_07 = pd.read_csv('/kaggle/input/cyclistic-case-study-2022-data/202207-divvy-tripdata.csv')\n",
    "tripdata_2022_08 = pd.read_csv('/kaggle/input/cyclistic-case-study-2022-data/202208-divvy-tripdata.csv')\n",
    "tripdata_2022_09 = pd.read_csv('/kaggle/input/cyclistic-case-study-2022-data/202209-divvy-tripdata.csv')\n",
    "tripdata_2022_10 = pd.read_csv('/kaggle/input/cyclistic-case-study-2022-data/202210-divvy-tripdata.csv')\n",
    "tripdata_2022_11 = pd.read_csv('/kaggle/input/cyclistic-case-study-2022-data/202211-divvy-tripdata.csv')\n",
    "tripdata_2022_12 = pd.read_csv('/kaggle/input/cyclistic-case-study-2022-data/202212-divvy-tripdata.csv')"
   ]
  },
  {
   "cell_type": "markdown",
   "id": "52336c50",
   "metadata": {
    "papermill": {
     "duration": 0.03556,
     "end_time": "2023-03-05T16:01:38.063045",
     "exception": false,
     "start_time": "2023-03-05T16:01:38.027485",
     "status": "completed"
    },
    "tags": []
   },
   "source": [
    "**Collectinging Data**\n",
    "\n",
    "This is the same data that has been given in the divvy website,readily available in kaggle. load the data into pandas data frames by using pd.read_csv function.\n"
   ]
  },
  {
   "cell_type": "markdown",
   "id": "c487973f",
   "metadata": {
    "papermill": {
     "duration": 0.034558,
     "end_time": "2023-03-05T16:01:38.133642",
     "exception": false,
     "start_time": "2023-03-05T16:01:38.099084",
     "status": "completed"
    },
    "tags": []
   },
   "source": [
    "Let's preview one of the data frames"
   ]
  },
  {
   "cell_type": "code",
   "execution_count": 3,
   "id": "9d290d43",
   "metadata": {
    "execution": {
     "iopub.execute_input": "2023-03-05T16:01:38.207527Z",
     "iopub.status.busy": "2023-03-05T16:01:38.206353Z",
     "iopub.status.idle": "2023-03-05T16:01:38.243440Z",
     "shell.execute_reply": "2023-03-05T16:01:38.242100Z"
    },
    "papermill": {
     "duration": 0.076603,
     "end_time": "2023-03-05T16:01:38.246600",
     "exception": false,
     "start_time": "2023-03-05T16:01:38.169997",
     "status": "completed"
    },
    "tags": []
   },
   "outputs": [
    {
     "data": {
      "text/html": [
       "<div>\n",
       "<style scoped>\n",
       "    .dataframe tbody tr th:only-of-type {\n",
       "        vertical-align: middle;\n",
       "    }\n",
       "\n",
       "    .dataframe tbody tr th {\n",
       "        vertical-align: top;\n",
       "    }\n",
       "\n",
       "    .dataframe thead th {\n",
       "        text-align: right;\n",
       "    }\n",
       "</style>\n",
       "<table border=\"1\" class=\"dataframe\">\n",
       "  <thead>\n",
       "    <tr style=\"text-align: right;\">\n",
       "      <th></th>\n",
       "      <th>ride_id</th>\n",
       "      <th>rideable_type</th>\n",
       "      <th>started_at</th>\n",
       "      <th>ended_at</th>\n",
       "      <th>start_station_name</th>\n",
       "      <th>start_station_id</th>\n",
       "      <th>end_station_name</th>\n",
       "      <th>end_station_id</th>\n",
       "      <th>start_lat</th>\n",
       "      <th>start_lng</th>\n",
       "      <th>end_lat</th>\n",
       "      <th>end_lng</th>\n",
       "      <th>member_casual</th>\n",
       "    </tr>\n",
       "  </thead>\n",
       "  <tbody>\n",
       "    <tr>\n",
       "      <th>0</th>\n",
       "      <td>C2F7DD78E82EC875</td>\n",
       "      <td>electric_bike</td>\n",
       "      <td>2022-01-13 11:59:47</td>\n",
       "      <td>2022-01-13 12:02:44</td>\n",
       "      <td>Glenwood Ave &amp; Touhy Ave</td>\n",
       "      <td>525</td>\n",
       "      <td>Clark St &amp; Touhy Ave</td>\n",
       "      <td>RP-007</td>\n",
       "      <td>42.012800</td>\n",
       "      <td>-87.665906</td>\n",
       "      <td>42.012560</td>\n",
       "      <td>-87.674367</td>\n",
       "      <td>casual</td>\n",
       "    </tr>\n",
       "    <tr>\n",
       "      <th>1</th>\n",
       "      <td>A6CF8980A652D272</td>\n",
       "      <td>electric_bike</td>\n",
       "      <td>2022-01-10 08:41:56</td>\n",
       "      <td>2022-01-10 08:46:17</td>\n",
       "      <td>Glenwood Ave &amp; Touhy Ave</td>\n",
       "      <td>525</td>\n",
       "      <td>Clark St &amp; Touhy Ave</td>\n",
       "      <td>RP-007</td>\n",
       "      <td>42.012763</td>\n",
       "      <td>-87.665967</td>\n",
       "      <td>42.012560</td>\n",
       "      <td>-87.674367</td>\n",
       "      <td>casual</td>\n",
       "    </tr>\n",
       "    <tr>\n",
       "      <th>2</th>\n",
       "      <td>BD0F91DFF741C66D</td>\n",
       "      <td>classic_bike</td>\n",
       "      <td>2022-01-25 04:53:40</td>\n",
       "      <td>2022-01-25 04:58:01</td>\n",
       "      <td>Sheffield Ave &amp; Fullerton Ave</td>\n",
       "      <td>TA1306000016</td>\n",
       "      <td>Greenview Ave &amp; Fullerton Ave</td>\n",
       "      <td>TA1307000001</td>\n",
       "      <td>41.925602</td>\n",
       "      <td>-87.653708</td>\n",
       "      <td>41.925330</td>\n",
       "      <td>-87.665800</td>\n",
       "      <td>member</td>\n",
       "    </tr>\n",
       "    <tr>\n",
       "      <th>3</th>\n",
       "      <td>CBB80ED419105406</td>\n",
       "      <td>classic_bike</td>\n",
       "      <td>2022-01-04 00:18:04</td>\n",
       "      <td>2022-01-04 00:33:00</td>\n",
       "      <td>Clark St &amp; Bryn Mawr Ave</td>\n",
       "      <td>KA1504000151</td>\n",
       "      <td>Paulina St &amp; Montrose Ave</td>\n",
       "      <td>TA1309000021</td>\n",
       "      <td>41.983593</td>\n",
       "      <td>-87.669154</td>\n",
       "      <td>41.961507</td>\n",
       "      <td>-87.671387</td>\n",
       "      <td>casual</td>\n",
       "    </tr>\n",
       "    <tr>\n",
       "      <th>4</th>\n",
       "      <td>DDC963BFDDA51EEA</td>\n",
       "      <td>classic_bike</td>\n",
       "      <td>2022-01-20 01:31:10</td>\n",
       "      <td>2022-01-20 01:37:12</td>\n",
       "      <td>Michigan Ave &amp; Jackson Blvd</td>\n",
       "      <td>TA1309000002</td>\n",
       "      <td>State St &amp; Randolph St</td>\n",
       "      <td>TA1305000029</td>\n",
       "      <td>41.877850</td>\n",
       "      <td>-87.624080</td>\n",
       "      <td>41.884621</td>\n",
       "      <td>-87.627834</td>\n",
       "      <td>member</td>\n",
       "    </tr>\n",
       "  </tbody>\n",
       "</table>\n",
       "</div>"
      ],
      "text/plain": [
       "            ride_id  rideable_type           started_at             ended_at  \\\n",
       "0  C2F7DD78E82EC875  electric_bike  2022-01-13 11:59:47  2022-01-13 12:02:44   \n",
       "1  A6CF8980A652D272  electric_bike  2022-01-10 08:41:56  2022-01-10 08:46:17   \n",
       "2  BD0F91DFF741C66D   classic_bike  2022-01-25 04:53:40  2022-01-25 04:58:01   \n",
       "3  CBB80ED419105406   classic_bike  2022-01-04 00:18:04  2022-01-04 00:33:00   \n",
       "4  DDC963BFDDA51EEA   classic_bike  2022-01-20 01:31:10  2022-01-20 01:37:12   \n",
       "\n",
       "              start_station_name start_station_id  \\\n",
       "0       Glenwood Ave & Touhy Ave              525   \n",
       "1       Glenwood Ave & Touhy Ave              525   \n",
       "2  Sheffield Ave & Fullerton Ave     TA1306000016   \n",
       "3       Clark St & Bryn Mawr Ave     KA1504000151   \n",
       "4    Michigan Ave & Jackson Blvd     TA1309000002   \n",
       "\n",
       "                end_station_name end_station_id  start_lat  start_lng  \\\n",
       "0           Clark St & Touhy Ave         RP-007  42.012800 -87.665906   \n",
       "1           Clark St & Touhy Ave         RP-007  42.012763 -87.665967   \n",
       "2  Greenview Ave & Fullerton Ave   TA1307000001  41.925602 -87.653708   \n",
       "3      Paulina St & Montrose Ave   TA1309000021  41.983593 -87.669154   \n",
       "4         State St & Randolph St   TA1305000029  41.877850 -87.624080   \n",
       "\n",
       "     end_lat    end_lng member_casual  \n",
       "0  42.012560 -87.674367        casual  \n",
       "1  42.012560 -87.674367        casual  \n",
       "2  41.925330 -87.665800        member  \n",
       "3  41.961507 -87.671387        casual  \n",
       "4  41.884621 -87.627834        member  "
      ]
     },
     "execution_count": 3,
     "metadata": {},
     "output_type": "execute_result"
    }
   ],
   "source": [
    "tripdata_2022_01.head()"
   ]
  },
  {
   "cell_type": "markdown",
   "id": "ce086845",
   "metadata": {
    "papermill": {
     "duration": 0.035046,
     "end_time": "2023-03-05T16:01:38.317527",
     "exception": false,
     "start_time": "2023-03-05T16:01:38.282481",
     "status": "completed"
    },
    "tags": []
   },
   "source": [
    "Check the size of the data frame (number of rows and columns)"
   ]
  },
  {
   "cell_type": "code",
   "execution_count": 4,
   "id": "ba1d6259",
   "metadata": {
    "execution": {
     "iopub.execute_input": "2023-03-05T16:01:38.398383Z",
     "iopub.status.busy": "2023-03-05T16:01:38.397905Z",
     "iopub.status.idle": "2023-03-05T16:01:38.406815Z",
     "shell.execute_reply": "2023-03-05T16:01:38.405391Z"
    },
    "papermill": {
     "duration": 0.050258,
     "end_time": "2023-03-05T16:01:38.409394",
     "exception": false,
     "start_time": "2023-03-05T16:01:38.359136",
     "status": "completed"
    },
    "tags": []
   },
   "outputs": [
    {
     "data": {
      "text/plain": [
       "(103770, 13)"
      ]
     },
     "execution_count": 4,
     "metadata": {},
     "output_type": "execute_result"
    }
   ],
   "source": [
    "tripdata_2022_01.shape"
   ]
  },
  {
   "cell_type": "markdown",
   "id": "c646809b",
   "metadata": {
    "papermill": {
     "duration": 0.036045,
     "end_time": "2023-03-05T16:01:38.483591",
     "exception": false,
     "start_time": "2023-03-05T16:01:38.447546",
     "status": "completed"
    },
    "tags": []
   },
   "source": [
    "**Data types:**\n",
    "Inspect the columns of all the datasets to check the data types of each columns. Choosing the data types suitable for our analysis is an important aspect."
   ]
  },
  {
   "cell_type": "code",
   "execution_count": 5,
   "id": "8a8db60d",
   "metadata": {
    "execution": {
     "iopub.execute_input": "2023-03-05T16:01:38.557857Z",
     "iopub.status.busy": "2023-03-05T16:01:38.557428Z",
     "iopub.status.idle": "2023-03-05T16:01:38.567607Z",
     "shell.execute_reply": "2023-03-05T16:01:38.566123Z"
    },
    "papermill": {
     "duration": 0.051024,
     "end_time": "2023-03-05T16:01:38.570423",
     "exception": false,
     "start_time": "2023-03-05T16:01:38.519399",
     "status": "completed"
    },
    "tags": []
   },
   "outputs": [
    {
     "data": {
      "text/plain": [
       "ride_id                object\n",
       "rideable_type          object\n",
       "started_at             object\n",
       "ended_at               object\n",
       "start_station_name     object\n",
       "start_station_id       object\n",
       "end_station_name       object\n",
       "end_station_id         object\n",
       "start_lat             float64\n",
       "start_lng             float64\n",
       "end_lat               float64\n",
       "end_lng               float64\n",
       "member_casual          object\n",
       "dtype: object"
      ]
     },
     "execution_count": 5,
     "metadata": {},
     "output_type": "execute_result"
    }
   ],
   "source": [
    "tripdata_2022_01.dtypes"
   ]
  },
  {
   "cell_type": "markdown",
   "id": "37f8c19d",
   "metadata": {
    "papermill": {
     "duration": 0.036922,
     "end_time": "2023-03-05T16:01:38.644612",
     "exception": false,
     "start_time": "2023-03-05T16:01:38.607690",
     "status": "completed"
    },
    "tags": []
   },
   "source": [
    "Let's check the remaining datasets too."
   ]
  },
  {
   "cell_type": "code",
   "execution_count": 6,
   "id": "0c6f8a4c",
   "metadata": {
    "execution": {
     "iopub.execute_input": "2023-03-05T16:01:38.720062Z",
     "iopub.status.busy": "2023-03-05T16:01:38.719334Z",
     "iopub.status.idle": "2023-03-05T16:01:38.732579Z",
     "shell.execute_reply": "2023-03-05T16:01:38.731232Z"
    },
    "papermill": {
     "duration": 0.053951,
     "end_time": "2023-03-05T16:01:38.735027",
     "exception": false,
     "start_time": "2023-03-05T16:01:38.681076",
     "status": "completed"
    },
    "tags": []
   },
   "outputs": [
    {
     "data": {
      "text/plain": [
       "ride_id                object\n",
       "rideable_type          object\n",
       "started_at             object\n",
       "ended_at               object\n",
       "start_station_name     object\n",
       "start_station_id       object\n",
       "end_station_name       object\n",
       "end_station_id         object\n",
       "start_lat             float64\n",
       "start_lng             float64\n",
       "end_lat               float64\n",
       "end_lng               float64\n",
       "member_casual          object\n",
       "dtype: object"
      ]
     },
     "execution_count": 6,
     "metadata": {},
     "output_type": "execute_result"
    }
   ],
   "source": [
    "tripdata_2022_02.dtypes\n",
    "tripdata_2022_03.dtypes\n",
    "tripdata_2022_04.dtypes\n",
    "tripdata_2022_05.dtypes\n",
    "tripdata_2022_06.dtypes\n",
    "tripdata_2022_07.dtypes\n",
    "tripdata_2022_08.dtypes\n",
    "tripdata_2022_09.dtypes\n",
    "tripdata_2022_10.dtypes\n",
    "tripdata_2022_11.dtypes\n",
    "tripdata_2022_12.dtypes"
   ]
  },
  {
   "cell_type": "markdown",
   "id": "22eeeef8",
   "metadata": {
    "papermill": {
     "duration": 0.036458,
     "end_time": "2023-03-05T16:01:38.807625",
     "exception": false,
     "start_time": "2023-03-05T16:01:38.771167",
     "status": "completed"
    },
    "tags": []
   },
   "source": [
    "### Merge the Datasets\n",
    "It is evident that all the datasets have same attributes and their data types are also similar. Hence we can merge the month-wise datasets to a single annual dataset for better analysis of member behaviours. "
   ]
  },
  {
   "cell_type": "code",
   "execution_count": 7,
   "id": "e648735e",
   "metadata": {
    "execution": {
     "iopub.execute_input": "2023-03-05T16:01:38.885970Z",
     "iopub.status.busy": "2023-03-05T16:01:38.884813Z",
     "iopub.status.idle": "2023-03-05T16:01:41.096466Z",
     "shell.execute_reply": "2023-03-05T16:01:41.095046Z"
    },
    "papermill": {
     "duration": 2.254616,
     "end_time": "2023-03-05T16:01:41.099940",
     "exception": false,
     "start_time": "2023-03-05T16:01:38.845324",
     "status": "completed"
    },
    "tags": []
   },
   "outputs": [],
   "source": [
    "tripdata_2022 = pd.concat([tripdata_2022_01, tripdata_2022_02, tripdata_2022_03,tripdata_2022_04, tripdata_2022_05, tripdata_2022_06,tripdata_2022_07, tripdata_2022_08, tripdata_2022_09, tripdata_2022_10, tripdata_2022_11, tripdata_2022_12])"
   ]
  },
  {
   "cell_type": "markdown",
   "id": "55f39aa9",
   "metadata": {
    "papermill": {
     "duration": 0.036284,
     "end_time": "2023-03-05T16:01:41.174077",
     "exception": false,
     "start_time": "2023-03-05T16:01:41.137793",
     "status": "completed"
    },
    "tags": []
   },
   "source": [
    "Check the size of the data frame (number of rows and columns)"
   ]
  },
  {
   "cell_type": "code",
   "execution_count": 8,
   "id": "dbbb6d36",
   "metadata": {
    "execution": {
     "iopub.execute_input": "2023-03-05T16:01:41.249048Z",
     "iopub.status.busy": "2023-03-05T16:01:41.248595Z",
     "iopub.status.idle": "2023-03-05T16:01:41.255846Z",
     "shell.execute_reply": "2023-03-05T16:01:41.254674Z"
    },
    "papermill": {
     "duration": 0.048727,
     "end_time": "2023-03-05T16:01:41.258910",
     "exception": false,
     "start_time": "2023-03-05T16:01:41.210183",
     "status": "completed"
    },
    "tags": []
   },
   "outputs": [
    {
     "data": {
      "text/plain": [
       "(5667717, 13)"
      ]
     },
     "execution_count": 8,
     "metadata": {},
     "output_type": "execute_result"
    }
   ],
   "source": [
    "tripdata_2022.shape"
   ]
  },
  {
   "cell_type": "markdown",
   "id": "74752dd3",
   "metadata": {
    "papermill": {
     "duration": 0.038126,
     "end_time": "2023-03-05T16:01:41.334099",
     "exception": false,
     "start_time": "2023-03-05T16:01:41.295973",
     "status": "completed"
    },
    "tags": []
   },
   "source": [
    "Eventhogh the datasets were merged, their individual index values may still persist in newly created dataset. Hence, it is a best practice to reset the index of newly created dataset."
   ]
  },
  {
   "cell_type": "code",
   "execution_count": 9,
   "id": "b7a7eb92",
   "metadata": {
    "execution": {
     "iopub.execute_input": "2023-03-05T16:01:41.410206Z",
     "iopub.status.busy": "2023-03-05T16:01:41.409791Z",
     "iopub.status.idle": "2023-03-05T16:01:45.159650Z",
     "shell.execute_reply": "2023-03-05T16:01:45.158394Z"
    },
    "papermill": {
     "duration": 3.792228,
     "end_time": "2023-03-05T16:01:45.162412",
     "exception": false,
     "start_time": "2023-03-05T16:01:41.370184",
     "status": "completed"
    },
    "tags": []
   },
   "outputs": [
    {
     "data": {
      "text/html": [
       "<div>\n",
       "<style scoped>\n",
       "    .dataframe tbody tr th:only-of-type {\n",
       "        vertical-align: middle;\n",
       "    }\n",
       "\n",
       "    .dataframe tbody tr th {\n",
       "        vertical-align: top;\n",
       "    }\n",
       "\n",
       "    .dataframe thead th {\n",
       "        text-align: right;\n",
       "    }\n",
       "</style>\n",
       "<table border=\"1\" class=\"dataframe\">\n",
       "  <thead>\n",
       "    <tr style=\"text-align: right;\">\n",
       "      <th></th>\n",
       "      <th>ride_id</th>\n",
       "      <th>rideable_type</th>\n",
       "      <th>started_at</th>\n",
       "      <th>ended_at</th>\n",
       "      <th>start_station_name</th>\n",
       "      <th>start_station_id</th>\n",
       "      <th>end_station_name</th>\n",
       "      <th>end_station_id</th>\n",
       "      <th>start_lat</th>\n",
       "      <th>start_lng</th>\n",
       "      <th>end_lat</th>\n",
       "      <th>end_lng</th>\n",
       "      <th>member_casual</th>\n",
       "    </tr>\n",
       "  </thead>\n",
       "  <tbody>\n",
       "    <tr>\n",
       "      <th>0</th>\n",
       "      <td>C2F7DD78E82EC875</td>\n",
       "      <td>electric_bike</td>\n",
       "      <td>2022-01-13 11:59:47</td>\n",
       "      <td>2022-01-13 12:02:44</td>\n",
       "      <td>Glenwood Ave &amp; Touhy Ave</td>\n",
       "      <td>525</td>\n",
       "      <td>Clark St &amp; Touhy Ave</td>\n",
       "      <td>RP-007</td>\n",
       "      <td>42.012800</td>\n",
       "      <td>-87.665906</td>\n",
       "      <td>42.012560</td>\n",
       "      <td>-87.674367</td>\n",
       "      <td>casual</td>\n",
       "    </tr>\n",
       "    <tr>\n",
       "      <th>1</th>\n",
       "      <td>A6CF8980A652D272</td>\n",
       "      <td>electric_bike</td>\n",
       "      <td>2022-01-10 08:41:56</td>\n",
       "      <td>2022-01-10 08:46:17</td>\n",
       "      <td>Glenwood Ave &amp; Touhy Ave</td>\n",
       "      <td>525</td>\n",
       "      <td>Clark St &amp; Touhy Ave</td>\n",
       "      <td>RP-007</td>\n",
       "      <td>42.012763</td>\n",
       "      <td>-87.665967</td>\n",
       "      <td>42.012560</td>\n",
       "      <td>-87.674367</td>\n",
       "      <td>casual</td>\n",
       "    </tr>\n",
       "    <tr>\n",
       "      <th>2</th>\n",
       "      <td>BD0F91DFF741C66D</td>\n",
       "      <td>classic_bike</td>\n",
       "      <td>2022-01-25 04:53:40</td>\n",
       "      <td>2022-01-25 04:58:01</td>\n",
       "      <td>Sheffield Ave &amp; Fullerton Ave</td>\n",
       "      <td>TA1306000016</td>\n",
       "      <td>Greenview Ave &amp; Fullerton Ave</td>\n",
       "      <td>TA1307000001</td>\n",
       "      <td>41.925602</td>\n",
       "      <td>-87.653708</td>\n",
       "      <td>41.925330</td>\n",
       "      <td>-87.665800</td>\n",
       "      <td>member</td>\n",
       "    </tr>\n",
       "    <tr>\n",
       "      <th>3</th>\n",
       "      <td>CBB80ED419105406</td>\n",
       "      <td>classic_bike</td>\n",
       "      <td>2022-01-04 00:18:04</td>\n",
       "      <td>2022-01-04 00:33:00</td>\n",
       "      <td>Clark St &amp; Bryn Mawr Ave</td>\n",
       "      <td>KA1504000151</td>\n",
       "      <td>Paulina St &amp; Montrose Ave</td>\n",
       "      <td>TA1309000021</td>\n",
       "      <td>41.983593</td>\n",
       "      <td>-87.669154</td>\n",
       "      <td>41.961507</td>\n",
       "      <td>-87.671387</td>\n",
       "      <td>casual</td>\n",
       "    </tr>\n",
       "    <tr>\n",
       "      <th>4</th>\n",
       "      <td>DDC963BFDDA51EEA</td>\n",
       "      <td>classic_bike</td>\n",
       "      <td>2022-01-20 01:31:10</td>\n",
       "      <td>2022-01-20 01:37:12</td>\n",
       "      <td>Michigan Ave &amp; Jackson Blvd</td>\n",
       "      <td>TA1309000002</td>\n",
       "      <td>State St &amp; Randolph St</td>\n",
       "      <td>TA1305000029</td>\n",
       "      <td>41.877850</td>\n",
       "      <td>-87.624080</td>\n",
       "      <td>41.884621</td>\n",
       "      <td>-87.627834</td>\n",
       "      <td>member</td>\n",
       "    </tr>\n",
       "  </tbody>\n",
       "</table>\n",
       "</div>"
      ],
      "text/plain": [
       "            ride_id  rideable_type           started_at             ended_at  \\\n",
       "0  C2F7DD78E82EC875  electric_bike  2022-01-13 11:59:47  2022-01-13 12:02:44   \n",
       "1  A6CF8980A652D272  electric_bike  2022-01-10 08:41:56  2022-01-10 08:46:17   \n",
       "2  BD0F91DFF741C66D   classic_bike  2022-01-25 04:53:40  2022-01-25 04:58:01   \n",
       "3  CBB80ED419105406   classic_bike  2022-01-04 00:18:04  2022-01-04 00:33:00   \n",
       "4  DDC963BFDDA51EEA   classic_bike  2022-01-20 01:31:10  2022-01-20 01:37:12   \n",
       "\n",
       "              start_station_name start_station_id  \\\n",
       "0       Glenwood Ave & Touhy Ave              525   \n",
       "1       Glenwood Ave & Touhy Ave              525   \n",
       "2  Sheffield Ave & Fullerton Ave     TA1306000016   \n",
       "3       Clark St & Bryn Mawr Ave     KA1504000151   \n",
       "4    Michigan Ave & Jackson Blvd     TA1309000002   \n",
       "\n",
       "                end_station_name end_station_id  start_lat  start_lng  \\\n",
       "0           Clark St & Touhy Ave         RP-007  42.012800 -87.665906   \n",
       "1           Clark St & Touhy Ave         RP-007  42.012763 -87.665967   \n",
       "2  Greenview Ave & Fullerton Ave   TA1307000001  41.925602 -87.653708   \n",
       "3      Paulina St & Montrose Ave   TA1309000021  41.983593 -87.669154   \n",
       "4         State St & Randolph St   TA1305000029  41.877850 -87.624080   \n",
       "\n",
       "     end_lat    end_lng member_casual  \n",
       "0  42.012560 -87.674367        casual  \n",
       "1  42.012560 -87.674367        casual  \n",
       "2  41.925330 -87.665800        member  \n",
       "3  41.961507 -87.671387        casual  \n",
       "4  41.884621 -87.627834        member  "
      ]
     },
     "execution_count": 9,
     "metadata": {},
     "output_type": "execute_result"
    }
   ],
   "source": [
    "tripdata_2022.reset_index(drop=True)\n",
    "tripdata_2022.head()\n"
   ]
  },
  {
   "cell_type": "markdown",
   "id": "2eca1918",
   "metadata": {
    "papermill": {
     "duration": 0.037446,
     "end_time": "2023-03-05T16:01:45.236520",
     "exception": false,
     "start_time": "2023-03-05T16:01:45.199074",
     "status": "completed"
    },
    "tags": []
   },
   "source": [
    "### Columns description:\n",
    "* **ride_id**: a unique code of 16 characters in length, assigned to each ride of the users.\n",
    "* **rideable_type**: The type of bike used by the rider among electric bike, classic bike, and docked bike.\n",
    "* **started_at**: Time and date when the ride has started.\n",
    "* **ended_at**: Time and date of ride termination.\n",
    "* **start_station_name**: Name of the station where the ride has started.\n",
    "* **start_station_id**: A unique code is assigned to each ride station.\n",
    "* **end_station_name**: Name of the station where the ride has ended.\n",
    "* **end_station_id**: A unique code is assigned to each ride station.\n",
    "* **start_lat**: geological latitude of the location where the ride has started.\n",
    "* **start_lng**: geological longitude of the location where the ride has started.\n",
    "* **end_lat**: geological latitude of the location where the ride has ended.\n",
    "* **end_lng**: geological longitude of the location where the ride has ended.\n",
    "* **member_casual**: Whether the rider is a member or casual. Member means, Cyclisic annual member, and casual means the casual rider."
   ]
  },
  {
   "cell_type": "markdown",
   "id": "5ca94316",
   "metadata": {
    "papermill": {
     "duration": 0.038058,
     "end_time": "2023-03-05T16:01:45.310986",
     "exception": false,
     "start_time": "2023-03-05T16:01:45.272928",
     "status": "completed"
    },
    "tags": []
   },
   "source": [
    "## Data Processing:"
   ]
  },
  {
   "cell_type": "markdown",
   "id": "9991870a",
   "metadata": {
    "papermill": {
     "duration": 0.037065,
     "end_time": "2023-03-05T16:01:45.386989",
     "exception": false,
     "start_time": "2023-03-05T16:01:45.349924",
     "status": "completed"
    },
    "tags": []
   },
   "source": [
    "### Checking for the missing values:"
   ]
  },
  {
   "cell_type": "code",
   "execution_count": 10,
   "id": "00289aac",
   "metadata": {
    "execution": {
     "iopub.execute_input": "2023-03-05T16:01:45.464161Z",
     "iopub.status.busy": "2023-03-05T16:01:45.463710Z",
     "iopub.status.idle": "2023-03-05T16:01:50.469477Z",
     "shell.execute_reply": "2023-03-05T16:01:50.468068Z"
    },
    "papermill": {
     "duration": 5.047983,
     "end_time": "2023-03-05T16:01:50.472429",
     "exception": false,
     "start_time": "2023-03-05T16:01:45.424446",
     "status": "completed"
    },
    "tags": []
   },
   "outputs": [
    {
     "data": {
      "text/plain": [
       "ride_id                0.000000\n",
       "rideable_type          0.000000\n",
       "started_at             0.000000\n",
       "ended_at               0.000000\n",
       "start_station_name    17.231102\n",
       "start_station_id      17.231102\n",
       "end_station_name      18.696265\n",
       "end_station_id        18.696265\n",
       "start_lat              0.000000\n",
       "start_lng              0.000000\n",
       "end_lat                0.103464\n",
       "end_lng                0.103464\n",
       "member_casual          0.000000\n",
       "dtype: float64"
      ]
     },
     "execution_count": 10,
     "metadata": {},
     "output_type": "execute_result"
    }
   ],
   "source": [
    "tripdata_2022.isnull().sum()/tripdata_2022.count()*100"
   ]
  },
  {
   "cell_type": "markdown",
   "id": "7e4807d4",
   "metadata": {
    "papermill": {
     "duration": 0.041131,
     "end_time": "2023-03-05T16:01:50.551896",
     "exception": false,
     "start_time": "2023-03-05T16:01:50.510765",
     "status": "completed"
    },
    "tags": []
   },
   "source": [
    "It is evident that large number of values are missing in **start_station_name, end_station_name, start_station_id, end_station_id** we may need station names in our analysis, but there are alot of missing values in these two columnns. So, we can use the location columns **start_lat, start_lng, end_lat, end_lng** instead of station names. \n",
    "\n",
    " Evidently some values are missing in the **end_lat, end_lng** columns,but very few as compared with the former. In general we will replace them with mean or frequency. \n",
    " * But in this case we will prefer to drop these rows as these columns are related to end location.\n",
    " * Since, replace the geo co-ordinates with mean values may not help our analysis, as duration of the ride( end time- start time) may not match for these values."
   ]
  },
  {
   "cell_type": "markdown",
   "id": "61eaf1f1",
   "metadata": {
    "papermill": {
     "duration": 0.036558,
     "end_time": "2023-03-05T16:01:50.625480",
     "exception": false,
     "start_time": "2023-03-05T16:01:50.588922",
     "status": "completed"
    },
    "tags": []
   },
   "source": [
    "### Check for the Duplicate Entries:"
   ]
  },
  {
   "cell_type": "markdown",
   "id": "ff7e726d",
   "metadata": {
    "papermill": {
     "duration": 0.037409,
     "end_time": "2023-03-05T16:01:50.700911",
     "exception": false,
     "start_time": "2023-03-05T16:01:50.663502",
     "status": "completed"
    },
    "tags": []
   },
   "source": [
    "We have to check the **ride_id** columnn for probing the duplicate entries, since this column of our data have a unique ride id for each ride."
   ]
  },
  {
   "cell_type": "code",
   "execution_count": 11,
   "id": "925231d9",
   "metadata": {
    "execution": {
     "iopub.execute_input": "2023-03-05T16:01:50.777481Z",
     "iopub.status.busy": "2023-03-05T16:01:50.777000Z",
     "iopub.status.idle": "2023-03-05T16:01:58.298661Z",
     "shell.execute_reply": "2023-03-05T16:01:58.297247Z"
    },
    "papermill": {
     "duration": 7.563843,
     "end_time": "2023-03-05T16:01:58.301798",
     "exception": false,
     "start_time": "2023-03-05T16:01:50.737955",
     "status": "completed"
    },
    "tags": []
   },
   "outputs": [
    {
     "data": {
      "text/plain": [
       "count              5667717\n",
       "unique             5667717\n",
       "top       C2F7DD78E82EC875\n",
       "freq                     1\n",
       "Name: ride_id, dtype: object"
      ]
     },
     "execution_count": 11,
     "metadata": {},
     "output_type": "execute_result"
    }
   ],
   "source": [
    "tripdata_2022['ride_id'].describe()"
   ]
  },
  {
   "cell_type": "markdown",
   "id": "b1c1764e",
   "metadata": {
    "papermill": {
     "duration": 0.036466,
     "end_time": "2023-03-05T16:01:58.377126",
     "exception": false,
     "start_time": "2023-03-05T16:01:58.340660",
     "status": "completed"
    },
    "tags": []
   },
   "source": [
    "It is evident that all the entries in the column **ride_id** are unique. So, there are no duplicate entries. "
   ]
  },
  {
   "cell_type": "markdown",
   "id": "1b39d193",
   "metadata": {
    "papermill": {
     "duration": 0.038814,
     "end_time": "2023-03-05T16:01:58.453460",
     "exception": false,
     "start_time": "2023-03-05T16:01:58.414646",
     "status": "completed"
    },
    "tags": []
   },
   "source": [
    "### Check the length of the column:"
   ]
  },
  {
   "cell_type": "code",
   "execution_count": 12,
   "id": "872f0248",
   "metadata": {
    "execution": {
     "iopub.execute_input": "2023-03-05T16:01:58.530519Z",
     "iopub.status.busy": "2023-03-05T16:01:58.529677Z",
     "iopub.status.idle": "2023-03-05T16:02:01.014443Z",
     "shell.execute_reply": "2023-03-05T16:02:01.012515Z"
    },
    "papermill": {
     "duration": 2.52728,
     "end_time": "2023-03-05T16:02:01.018093",
     "exception": false,
     "start_time": "2023-03-05T16:01:58.490813",
     "status": "completed"
    },
    "tags": []
   },
   "outputs": [
    {
     "data": {
      "text/plain": [
       "16    5667717\n",
       "Name: ride_id, dtype: int64"
      ]
     },
     "execution_count": 12,
     "metadata": {},
     "output_type": "execute_result"
    }
   ],
   "source": [
    "tripdata_2022['ride_id'].str.len().value_counts()"
   ]
  },
  {
   "cell_type": "markdown",
   "id": "ccb03bae",
   "metadata": {
    "papermill": {
     "duration": 0.039157,
     "end_time": "2023-03-05T16:02:01.095827",
     "exception": false,
     "start_time": "2023-03-05T16:02:01.056670",
     "status": "completed"
    },
    "tags": []
   },
   "source": [
    "Hence all the entries have the equal length of 16."
   ]
  },
  {
   "cell_type": "markdown",
   "id": "4a7471a5",
   "metadata": {
    "papermill": {
     "duration": 0.044323,
     "end_time": "2023-03-05T16:02:01.185703",
     "exception": false,
     "start_time": "2023-03-05T16:02:01.141380",
     "status": "completed"
    },
    "tags": []
   },
   "source": [
    "### Data Filtering:\n",
    "Let's filter out the variables have no significance in our analysis. Create a new dataframe with useful attributes. We don't need station names and station_ids as there are lot of missing values. \n",
    "* We need **ride_id** for uniquely identifying each ride.\n",
    "* We need **rideable_type** to understand the type of bike.\n",
    "* We need **started_at, ended_at** columns to calculate ride duration,and to extract day_of_month, day_of_week, month.\n",
    "* We need geo location co-ordinates to identify the possible trends in specific areas.\n",
    "* Most importantly we need **member_casual** column to understand rider preferences.\n"
   ]
  },
  {
   "cell_type": "code",
   "execution_count": 13,
   "id": "fd13a05e",
   "metadata": {
    "execution": {
     "iopub.execute_input": "2023-03-05T16:02:01.268994Z",
     "iopub.status.busy": "2023-03-05T16:02:01.268183Z",
     "iopub.status.idle": "2023-03-05T16:02:03.694460Z",
     "shell.execute_reply": "2023-03-05T16:02:03.692065Z"
    },
    "papermill": {
     "duration": 2.468227,
     "end_time": "2023-03-05T16:02:03.698080",
     "exception": false,
     "start_time": "2023-03-05T16:02:01.229853",
     "status": "completed"
    },
    "tags": []
   },
   "outputs": [
    {
     "data": {
      "text/html": [
       "<div>\n",
       "<style scoped>\n",
       "    .dataframe tbody tr th:only-of-type {\n",
       "        vertical-align: middle;\n",
       "    }\n",
       "\n",
       "    .dataframe tbody tr th {\n",
       "        vertical-align: top;\n",
       "    }\n",
       "\n",
       "    .dataframe thead th {\n",
       "        text-align: right;\n",
       "    }\n",
       "</style>\n",
       "<table border=\"1\" class=\"dataframe\">\n",
       "  <thead>\n",
       "    <tr style=\"text-align: right;\">\n",
       "      <th></th>\n",
       "      <th>ride_id</th>\n",
       "      <th>rideable_type</th>\n",
       "      <th>started_at</th>\n",
       "      <th>ended_at</th>\n",
       "      <th>start_lat</th>\n",
       "      <th>start_lng</th>\n",
       "      <th>end_lat</th>\n",
       "      <th>end_lng</th>\n",
       "      <th>member_casual</th>\n",
       "    </tr>\n",
       "  </thead>\n",
       "  <tbody>\n",
       "    <tr>\n",
       "      <th>0</th>\n",
       "      <td>C2F7DD78E82EC875</td>\n",
       "      <td>electric_bike</td>\n",
       "      <td>2022-01-13 11:59:47</td>\n",
       "      <td>2022-01-13 12:02:44</td>\n",
       "      <td>42.012800</td>\n",
       "      <td>-87.665906</td>\n",
       "      <td>42.012560</td>\n",
       "      <td>-87.674367</td>\n",
       "      <td>casual</td>\n",
       "    </tr>\n",
       "    <tr>\n",
       "      <th>1</th>\n",
       "      <td>A6CF8980A652D272</td>\n",
       "      <td>electric_bike</td>\n",
       "      <td>2022-01-10 08:41:56</td>\n",
       "      <td>2022-01-10 08:46:17</td>\n",
       "      <td>42.012763</td>\n",
       "      <td>-87.665967</td>\n",
       "      <td>42.012560</td>\n",
       "      <td>-87.674367</td>\n",
       "      <td>casual</td>\n",
       "    </tr>\n",
       "    <tr>\n",
       "      <th>2</th>\n",
       "      <td>BD0F91DFF741C66D</td>\n",
       "      <td>classic_bike</td>\n",
       "      <td>2022-01-25 04:53:40</td>\n",
       "      <td>2022-01-25 04:58:01</td>\n",
       "      <td>41.925602</td>\n",
       "      <td>-87.653708</td>\n",
       "      <td>41.925330</td>\n",
       "      <td>-87.665800</td>\n",
       "      <td>member</td>\n",
       "    </tr>\n",
       "    <tr>\n",
       "      <th>3</th>\n",
       "      <td>CBB80ED419105406</td>\n",
       "      <td>classic_bike</td>\n",
       "      <td>2022-01-04 00:18:04</td>\n",
       "      <td>2022-01-04 00:33:00</td>\n",
       "      <td>41.983593</td>\n",
       "      <td>-87.669154</td>\n",
       "      <td>41.961507</td>\n",
       "      <td>-87.671387</td>\n",
       "      <td>casual</td>\n",
       "    </tr>\n",
       "    <tr>\n",
       "      <th>4</th>\n",
       "      <td>DDC963BFDDA51EEA</td>\n",
       "      <td>classic_bike</td>\n",
       "      <td>2022-01-20 01:31:10</td>\n",
       "      <td>2022-01-20 01:37:12</td>\n",
       "      <td>41.877850</td>\n",
       "      <td>-87.624080</td>\n",
       "      <td>41.884621</td>\n",
       "      <td>-87.627834</td>\n",
       "      <td>member</td>\n",
       "    </tr>\n",
       "  </tbody>\n",
       "</table>\n",
       "</div>"
      ],
      "text/plain": [
       "            ride_id  rideable_type           started_at             ended_at  \\\n",
       "0  C2F7DD78E82EC875  electric_bike  2022-01-13 11:59:47  2022-01-13 12:02:44   \n",
       "1  A6CF8980A652D272  electric_bike  2022-01-10 08:41:56  2022-01-10 08:46:17   \n",
       "2  BD0F91DFF741C66D   classic_bike  2022-01-25 04:53:40  2022-01-25 04:58:01   \n",
       "3  CBB80ED419105406   classic_bike  2022-01-04 00:18:04  2022-01-04 00:33:00   \n",
       "4  DDC963BFDDA51EEA   classic_bike  2022-01-20 01:31:10  2022-01-20 01:37:12   \n",
       "\n",
       "   start_lat  start_lng    end_lat    end_lng member_casual  \n",
       "0  42.012800 -87.665906  42.012560 -87.674367        casual  \n",
       "1  42.012763 -87.665967  42.012560 -87.674367        casual  \n",
       "2  41.925602 -87.653708  41.925330 -87.665800        member  \n",
       "3  41.983593 -87.669154  41.961507 -87.671387        casual  \n",
       "4  41.877850 -87.624080  41.884621 -87.627834        member  "
      ]
     },
     "execution_count": 13,
     "metadata": {},
     "output_type": "execute_result"
    }
   ],
   "source": [
    "filtered_df = tripdata_2022[['ride_id', 'rideable_type', 'started_at', 'ended_at','start_lat', 'start_lng', 'end_lat', 'end_lng', 'member_casual' ]]\n",
    "filtered_df.head()"
   ]
  },
  {
   "cell_type": "code",
   "execution_count": 14,
   "id": "79d58d18",
   "metadata": {
    "execution": {
     "iopub.execute_input": "2023-03-05T16:02:03.781692Z",
     "iopub.status.busy": "2023-03-05T16:02:03.781238Z",
     "iopub.status.idle": "2023-03-05T16:02:04.445024Z",
     "shell.execute_reply": "2023-03-05T16:02:04.443669Z"
    },
    "papermill": {
     "duration": 0.708035,
     "end_time": "2023-03-05T16:02:04.447789",
     "exception": false,
     "start_time": "2023-03-05T16:02:03.739754",
     "status": "completed"
    },
    "tags": []
   },
   "outputs": [
    {
     "name": "stderr",
     "output_type": "stream",
     "text": [
      "/opt/conda/lib/python3.7/site-packages/pandas/util/_decorators.py:311: SettingWithCopyWarning: \n",
      "A value is trying to be set on a copy of a slice from a DataFrame\n",
      "\n",
      "See the caveats in the documentation: https://pandas.pydata.org/pandas-docs/stable/user_guide/indexing.html#returning-a-view-versus-a-copy\n",
      "  return func(*args, **kwargs)\n"
     ]
    }
   ],
   "source": [
    "# simply drop whole row where \"end_lat\" column has a missing value\n",
    "filtered_df.dropna(subset=[\"end_lat\"], axis=0, inplace=True)"
   ]
  },
  {
   "cell_type": "code",
   "execution_count": 15,
   "id": "804f689c",
   "metadata": {
    "execution": {
     "iopub.execute_input": "2023-03-05T16:02:04.527716Z",
     "iopub.status.busy": "2023-03-05T16:02:04.526193Z",
     "iopub.status.idle": "2023-03-05T16:02:07.473487Z",
     "shell.execute_reply": "2023-03-05T16:02:07.471973Z"
    },
    "papermill": {
     "duration": 2.99004,
     "end_time": "2023-03-05T16:02:07.476642",
     "exception": false,
     "start_time": "2023-03-05T16:02:04.486602",
     "status": "completed"
    },
    "tags": []
   },
   "outputs": [
    {
     "data": {
      "text/plain": [
       "ride_id          0.0\n",
       "rideable_type    0.0\n",
       "started_at       0.0\n",
       "ended_at         0.0\n",
       "start_lat        0.0\n",
       "start_lng        0.0\n",
       "end_lat          0.0\n",
       "end_lng          0.0\n",
       "member_casual    0.0\n",
       "dtype: float64"
      ]
     },
     "execution_count": 15,
     "metadata": {},
     "output_type": "execute_result"
    }
   ],
   "source": [
    "filtered_df.isnull().sum()/filtered_df.count()*100"
   ]
  },
  {
   "cell_type": "markdown",
   "id": "68c0ea2d",
   "metadata": {
    "papermill": {
     "duration": 0.037662,
     "end_time": "2023-03-05T16:02:07.552346",
     "exception": false,
     "start_time": "2023-03-05T16:02:07.514684",
     "status": "completed"
    },
    "tags": []
   },
   "source": [
    "Now there are no missing values. Now check for the data types."
   ]
  },
  {
   "cell_type": "code",
   "execution_count": 16,
   "id": "80f5377c",
   "metadata": {
    "execution": {
     "iopub.execute_input": "2023-03-05T16:02:07.628729Z",
     "iopub.status.busy": "2023-03-05T16:02:07.628280Z",
     "iopub.status.idle": "2023-03-05T16:02:07.637770Z",
     "shell.execute_reply": "2023-03-05T16:02:07.636325Z"
    },
    "papermill": {
     "duration": 0.051156,
     "end_time": "2023-03-05T16:02:07.640525",
     "exception": false,
     "start_time": "2023-03-05T16:02:07.589369",
     "status": "completed"
    },
    "tags": []
   },
   "outputs": [
    {
     "data": {
      "text/plain": [
       "ride_id           object\n",
       "rideable_type     object\n",
       "started_at        object\n",
       "ended_at          object\n",
       "start_lat        float64\n",
       "start_lng        float64\n",
       "end_lat          float64\n",
       "end_lng          float64\n",
       "member_casual     object\n",
       "dtype: object"
      ]
     },
     "execution_count": 16,
     "metadata": {},
     "output_type": "execute_result"
    }
   ],
   "source": [
    "filtered_df.dtypes"
   ]
  },
  {
   "cell_type": "markdown",
   "id": "1d2f9d3a",
   "metadata": {
    "papermill": {
     "duration": 0.037234,
     "end_time": "2023-03-05T16:02:07.715136",
     "exception": false,
     "start_time": "2023-03-05T16:02:07.677902",
     "status": "completed"
    },
    "tags": []
   },
   "source": [
    "Convert **started_at,eneded_at** columns to datetime"
   ]
  },
  {
   "cell_type": "code",
   "execution_count": 17,
   "id": "d5c72c4a",
   "metadata": {
    "execution": {
     "iopub.execute_input": "2023-03-05T16:02:07.793738Z",
     "iopub.status.busy": "2023-03-05T16:02:07.793325Z",
     "iopub.status.idle": "2023-03-05T16:02:11.377906Z",
     "shell.execute_reply": "2023-03-05T16:02:11.376413Z"
    },
    "papermill": {
     "duration": 3.627786,
     "end_time": "2023-03-05T16:02:11.380985",
     "exception": false,
     "start_time": "2023-03-05T16:02:07.753199",
     "status": "completed"
    },
    "tags": []
   },
   "outputs": [
    {
     "name": "stderr",
     "output_type": "stream",
     "text": [
      "/opt/conda/lib/python3.7/site-packages/pandas/core/frame.py:3641: SettingWithCopyWarning: \n",
      "A value is trying to be set on a copy of a slice from a DataFrame.\n",
      "Try using .loc[row_indexer,col_indexer] = value instead\n",
      "\n",
      "See the caveats in the documentation: https://pandas.pydata.org/pandas-docs/stable/user_guide/indexing.html#returning-a-view-versus-a-copy\n",
      "  self[k1] = value[k2]\n"
     ]
    },
    {
     "data": {
      "text/plain": [
       "ride_id                  object\n",
       "rideable_type            object\n",
       "started_at       datetime64[ns]\n",
       "ended_at         datetime64[ns]\n",
       "start_lat               float64\n",
       "start_lng               float64\n",
       "end_lat                 float64\n",
       "end_lng                 float64\n",
       "member_casual            object\n",
       "dtype: object"
      ]
     },
     "execution_count": 17,
     "metadata": {},
     "output_type": "execute_result"
    }
   ],
   "source": [
    "filtered_df[['started_at', 'ended_at']] = filtered_df[['started_at', 'ended_at']].astype(\"datetime64\")\n",
    "filtered_df.dtypes"
   ]
  },
  {
   "cell_type": "markdown",
   "id": "3a1cd605",
   "metadata": {
    "papermill": {
     "duration": 0.038891,
     "end_time": "2023-03-05T16:02:11.458941",
     "exception": false,
     "start_time": "2023-03-05T16:02:11.420050",
     "status": "completed"
    },
    "tags": []
   },
   "source": [
    "Now create columns to align the data with our analysis"
   ]
  },
  {
   "cell_type": "code",
   "execution_count": 18,
   "id": "925c15c4",
   "metadata": {
    "execution": {
     "iopub.execute_input": "2023-03-05T16:02:11.537900Z",
     "iopub.status.busy": "2023-03-05T16:02:11.537460Z",
     "iopub.status.idle": "2023-03-05T16:02:11.694312Z",
     "shell.execute_reply": "2023-03-05T16:02:11.692286Z"
    },
    "papermill": {
     "duration": 0.200666,
     "end_time": "2023-03-05T16:02:11.697499",
     "exception": false,
     "start_time": "2023-03-05T16:02:11.496833",
     "status": "completed"
    },
    "tags": []
   },
   "outputs": [
    {
     "name": "stderr",
     "output_type": "stream",
     "text": [
      "/opt/conda/lib/python3.7/site-packages/ipykernel_launcher.py:1: SettingWithCopyWarning: \n",
      "A value is trying to be set on a copy of a slice from a DataFrame.\n",
      "Try using .loc[row_indexer,col_indexer] = value instead\n",
      "\n",
      "See the caveats in the documentation: https://pandas.pydata.org/pandas-docs/stable/user_guide/indexing.html#returning-a-view-versus-a-copy\n",
      "  \"\"\"Entry point for launching an IPython kernel.\n"
     ]
    },
    {
     "data": {
      "text/html": [
       "<div>\n",
       "<style scoped>\n",
       "    .dataframe tbody tr th:only-of-type {\n",
       "        vertical-align: middle;\n",
       "    }\n",
       "\n",
       "    .dataframe tbody tr th {\n",
       "        vertical-align: top;\n",
       "    }\n",
       "\n",
       "    .dataframe thead th {\n",
       "        text-align: right;\n",
       "    }\n",
       "</style>\n",
       "<table border=\"1\" class=\"dataframe\">\n",
       "  <thead>\n",
       "    <tr style=\"text-align: right;\">\n",
       "      <th></th>\n",
       "      <th>ride_id</th>\n",
       "      <th>rideable_type</th>\n",
       "      <th>started_at</th>\n",
       "      <th>ended_at</th>\n",
       "      <th>start_lat</th>\n",
       "      <th>start_lng</th>\n",
       "      <th>end_lat</th>\n",
       "      <th>end_lng</th>\n",
       "      <th>member_casual</th>\n",
       "      <th>ride_duration</th>\n",
       "    </tr>\n",
       "  </thead>\n",
       "  <tbody>\n",
       "    <tr>\n",
       "      <th>0</th>\n",
       "      <td>C2F7DD78E82EC875</td>\n",
       "      <td>electric_bike</td>\n",
       "      <td>2022-01-13 11:59:47</td>\n",
       "      <td>2022-01-13 12:02:44</td>\n",
       "      <td>42.012800</td>\n",
       "      <td>-87.665906</td>\n",
       "      <td>42.012560</td>\n",
       "      <td>-87.674367</td>\n",
       "      <td>casual</td>\n",
       "      <td>0 days 00:02:57</td>\n",
       "    </tr>\n",
       "    <tr>\n",
       "      <th>1</th>\n",
       "      <td>A6CF8980A652D272</td>\n",
       "      <td>electric_bike</td>\n",
       "      <td>2022-01-10 08:41:56</td>\n",
       "      <td>2022-01-10 08:46:17</td>\n",
       "      <td>42.012763</td>\n",
       "      <td>-87.665967</td>\n",
       "      <td>42.012560</td>\n",
       "      <td>-87.674367</td>\n",
       "      <td>casual</td>\n",
       "      <td>0 days 00:04:21</td>\n",
       "    </tr>\n",
       "    <tr>\n",
       "      <th>2</th>\n",
       "      <td>BD0F91DFF741C66D</td>\n",
       "      <td>classic_bike</td>\n",
       "      <td>2022-01-25 04:53:40</td>\n",
       "      <td>2022-01-25 04:58:01</td>\n",
       "      <td>41.925602</td>\n",
       "      <td>-87.653708</td>\n",
       "      <td>41.925330</td>\n",
       "      <td>-87.665800</td>\n",
       "      <td>member</td>\n",
       "      <td>0 days 00:04:21</td>\n",
       "    </tr>\n",
       "    <tr>\n",
       "      <th>3</th>\n",
       "      <td>CBB80ED419105406</td>\n",
       "      <td>classic_bike</td>\n",
       "      <td>2022-01-04 00:18:04</td>\n",
       "      <td>2022-01-04 00:33:00</td>\n",
       "      <td>41.983593</td>\n",
       "      <td>-87.669154</td>\n",
       "      <td>41.961507</td>\n",
       "      <td>-87.671387</td>\n",
       "      <td>casual</td>\n",
       "      <td>0 days 00:14:56</td>\n",
       "    </tr>\n",
       "    <tr>\n",
       "      <th>4</th>\n",
       "      <td>DDC963BFDDA51EEA</td>\n",
       "      <td>classic_bike</td>\n",
       "      <td>2022-01-20 01:31:10</td>\n",
       "      <td>2022-01-20 01:37:12</td>\n",
       "      <td>41.877850</td>\n",
       "      <td>-87.624080</td>\n",
       "      <td>41.884621</td>\n",
       "      <td>-87.627834</td>\n",
       "      <td>member</td>\n",
       "      <td>0 days 00:06:02</td>\n",
       "    </tr>\n",
       "  </tbody>\n",
       "</table>\n",
       "</div>"
      ],
      "text/plain": [
       "            ride_id  rideable_type          started_at            ended_at  \\\n",
       "0  C2F7DD78E82EC875  electric_bike 2022-01-13 11:59:47 2022-01-13 12:02:44   \n",
       "1  A6CF8980A652D272  electric_bike 2022-01-10 08:41:56 2022-01-10 08:46:17   \n",
       "2  BD0F91DFF741C66D   classic_bike 2022-01-25 04:53:40 2022-01-25 04:58:01   \n",
       "3  CBB80ED419105406   classic_bike 2022-01-04 00:18:04 2022-01-04 00:33:00   \n",
       "4  DDC963BFDDA51EEA   classic_bike 2022-01-20 01:31:10 2022-01-20 01:37:12   \n",
       "\n",
       "   start_lat  start_lng    end_lat    end_lng member_casual   ride_duration  \n",
       "0  42.012800 -87.665906  42.012560 -87.674367        casual 0 days 00:02:57  \n",
       "1  42.012763 -87.665967  42.012560 -87.674367        casual 0 days 00:04:21  \n",
       "2  41.925602 -87.653708  41.925330 -87.665800        member 0 days 00:04:21  \n",
       "3  41.983593 -87.669154  41.961507 -87.671387        casual 0 days 00:14:56  \n",
       "4  41.877850 -87.624080  41.884621 -87.627834        member 0 days 00:06:02  "
      ]
     },
     "execution_count": 18,
     "metadata": {},
     "output_type": "execute_result"
    }
   ],
   "source": [
    "filtered_df['ride_duration'] = filtered_df['ended_at']-filtered_df['started_at']\n",
    "filtered_df.head()"
   ]
  },
  {
   "cell_type": "markdown",
   "id": "c0344c1d",
   "metadata": {
    "papermill": {
     "duration": 0.03809,
     "end_time": "2023-03-05T16:02:11.773941",
     "exception": false,
     "start_time": "2023-03-05T16:02:11.735851",
     "status": "completed"
    },
    "tags": []
   },
   "source": [
    "**ride_duration** is in the datetime format, we have to convert this into minutes as shown below."
   ]
  },
  {
   "cell_type": "code",
   "execution_count": 19,
   "id": "d52419fd",
   "metadata": {
    "execution": {
     "iopub.execute_input": "2023-03-05T16:02:11.858063Z",
     "iopub.status.busy": "2023-03-05T16:02:11.857117Z",
     "iopub.status.idle": "2023-03-05T16:02:12.038666Z",
     "shell.execute_reply": "2023-03-05T16:02:12.036768Z"
    },
    "papermill": {
     "duration": 0.229227,
     "end_time": "2023-03-05T16:02:12.042207",
     "exception": false,
     "start_time": "2023-03-05T16:02:11.812980",
     "status": "completed"
    },
    "tags": []
   },
   "outputs": [
    {
     "name": "stderr",
     "output_type": "stream",
     "text": [
      "/opt/conda/lib/python3.7/site-packages/ipykernel_launcher.py:1: SettingWithCopyWarning: \n",
      "A value is trying to be set on a copy of a slice from a DataFrame.\n",
      "Try using .loc[row_indexer,col_indexer] = value instead\n",
      "\n",
      "See the caveats in the documentation: https://pandas.pydata.org/pandas-docs/stable/user_guide/indexing.html#returning-a-view-versus-a-copy\n",
      "  \"\"\"Entry point for launching an IPython kernel.\n",
      "/opt/conda/lib/python3.7/site-packages/ipykernel_launcher.py:2: SettingWithCopyWarning: \n",
      "A value is trying to be set on a copy of a slice from a DataFrame.\n",
      "Try using .loc[row_indexer,col_indexer] = value instead\n",
      "\n",
      "See the caveats in the documentation: https://pandas.pydata.org/pandas-docs/stable/user_guide/indexing.html#returning-a-view-versus-a-copy\n",
      "  \n"
     ]
    },
    {
     "data": {
      "text/html": [
       "<div>\n",
       "<style scoped>\n",
       "    .dataframe tbody tr th:only-of-type {\n",
       "        vertical-align: middle;\n",
       "    }\n",
       "\n",
       "    .dataframe tbody tr th {\n",
       "        vertical-align: top;\n",
       "    }\n",
       "\n",
       "    .dataframe thead th {\n",
       "        text-align: right;\n",
       "    }\n",
       "</style>\n",
       "<table border=\"1\" class=\"dataframe\">\n",
       "  <thead>\n",
       "    <tr style=\"text-align: right;\">\n",
       "      <th></th>\n",
       "      <th>ride_id</th>\n",
       "      <th>rideable_type</th>\n",
       "      <th>started_at</th>\n",
       "      <th>ended_at</th>\n",
       "      <th>start_lat</th>\n",
       "      <th>start_lng</th>\n",
       "      <th>end_lat</th>\n",
       "      <th>end_lng</th>\n",
       "      <th>member_casual</th>\n",
       "      <th>ride_duration</th>\n",
       "      <th>ride_duration_minutes</th>\n",
       "    </tr>\n",
       "  </thead>\n",
       "  <tbody>\n",
       "    <tr>\n",
       "      <th>0</th>\n",
       "      <td>C2F7DD78E82EC875</td>\n",
       "      <td>electric_bike</td>\n",
       "      <td>2022-01-13 11:59:47</td>\n",
       "      <td>2022-01-13 12:02:44</td>\n",
       "      <td>42.012800</td>\n",
       "      <td>-87.665906</td>\n",
       "      <td>42.012560</td>\n",
       "      <td>-87.674367</td>\n",
       "      <td>casual</td>\n",
       "      <td>177.0</td>\n",
       "      <td>2.950000</td>\n",
       "    </tr>\n",
       "    <tr>\n",
       "      <th>1</th>\n",
       "      <td>A6CF8980A652D272</td>\n",
       "      <td>electric_bike</td>\n",
       "      <td>2022-01-10 08:41:56</td>\n",
       "      <td>2022-01-10 08:46:17</td>\n",
       "      <td>42.012763</td>\n",
       "      <td>-87.665967</td>\n",
       "      <td>42.012560</td>\n",
       "      <td>-87.674367</td>\n",
       "      <td>casual</td>\n",
       "      <td>261.0</td>\n",
       "      <td>4.350000</td>\n",
       "    </tr>\n",
       "    <tr>\n",
       "      <th>2</th>\n",
       "      <td>BD0F91DFF741C66D</td>\n",
       "      <td>classic_bike</td>\n",
       "      <td>2022-01-25 04:53:40</td>\n",
       "      <td>2022-01-25 04:58:01</td>\n",
       "      <td>41.925602</td>\n",
       "      <td>-87.653708</td>\n",
       "      <td>41.925330</td>\n",
       "      <td>-87.665800</td>\n",
       "      <td>member</td>\n",
       "      <td>261.0</td>\n",
       "      <td>4.350000</td>\n",
       "    </tr>\n",
       "    <tr>\n",
       "      <th>3</th>\n",
       "      <td>CBB80ED419105406</td>\n",
       "      <td>classic_bike</td>\n",
       "      <td>2022-01-04 00:18:04</td>\n",
       "      <td>2022-01-04 00:33:00</td>\n",
       "      <td>41.983593</td>\n",
       "      <td>-87.669154</td>\n",
       "      <td>41.961507</td>\n",
       "      <td>-87.671387</td>\n",
       "      <td>casual</td>\n",
       "      <td>896.0</td>\n",
       "      <td>14.933333</td>\n",
       "    </tr>\n",
       "    <tr>\n",
       "      <th>4</th>\n",
       "      <td>DDC963BFDDA51EEA</td>\n",
       "      <td>classic_bike</td>\n",
       "      <td>2022-01-20 01:31:10</td>\n",
       "      <td>2022-01-20 01:37:12</td>\n",
       "      <td>41.877850</td>\n",
       "      <td>-87.624080</td>\n",
       "      <td>41.884621</td>\n",
       "      <td>-87.627834</td>\n",
       "      <td>member</td>\n",
       "      <td>362.0</td>\n",
       "      <td>6.033333</td>\n",
       "    </tr>\n",
       "  </tbody>\n",
       "</table>\n",
       "</div>"
      ],
      "text/plain": [
       "            ride_id  rideable_type          started_at            ended_at  \\\n",
       "0  C2F7DD78E82EC875  electric_bike 2022-01-13 11:59:47 2022-01-13 12:02:44   \n",
       "1  A6CF8980A652D272  electric_bike 2022-01-10 08:41:56 2022-01-10 08:46:17   \n",
       "2  BD0F91DFF741C66D   classic_bike 2022-01-25 04:53:40 2022-01-25 04:58:01   \n",
       "3  CBB80ED419105406   classic_bike 2022-01-04 00:18:04 2022-01-04 00:33:00   \n",
       "4  DDC963BFDDA51EEA   classic_bike 2022-01-20 01:31:10 2022-01-20 01:37:12   \n",
       "\n",
       "   start_lat  start_lng    end_lat    end_lng member_casual  ride_duration  \\\n",
       "0  42.012800 -87.665906  42.012560 -87.674367        casual          177.0   \n",
       "1  42.012763 -87.665967  42.012560 -87.674367        casual          261.0   \n",
       "2  41.925602 -87.653708  41.925330 -87.665800        member          261.0   \n",
       "3  41.983593 -87.669154  41.961507 -87.671387        casual          896.0   \n",
       "4  41.877850 -87.624080  41.884621 -87.627834        member          362.0   \n",
       "\n",
       "   ride_duration_minutes  \n",
       "0               2.950000  \n",
       "1               4.350000  \n",
       "2               4.350000  \n",
       "3              14.933333  \n",
       "4               6.033333  "
      ]
     },
     "execution_count": 19,
     "metadata": {},
     "output_type": "execute_result"
    }
   ],
   "source": [
    "filtered_df['ride_duration'] = filtered_df['ride_duration'].astype(\"timedelta64[s]\")\n",
    "filtered_df['ride_duration_minutes'] = filtered_df['ride_duration']/60\n",
    "filtered_df.head()"
   ]
  },
  {
   "cell_type": "markdown",
   "id": "7e622bfc",
   "metadata": {
    "papermill": {
     "duration": 0.039694,
     "end_time": "2023-03-05T16:02:12.121390",
     "exception": false,
     "start_time": "2023-03-05T16:02:12.081696",
     "status": "completed"
    },
    "tags": []
   },
   "source": [
    "Now we got the ride duration in minutes.Now extract day of the month, month, day of week from the date"
   ]
  },
  {
   "cell_type": "code",
   "execution_count": 20,
   "id": "23409616",
   "metadata": {
    "execution": {
     "iopub.execute_input": "2023-03-05T16:02:12.202417Z",
     "iopub.status.busy": "2023-03-05T16:02:12.201039Z",
     "iopub.status.idle": "2023-03-05T16:02:14.489097Z",
     "shell.execute_reply": "2023-03-05T16:02:14.487009Z"
    },
    "papermill": {
     "duration": 2.331945,
     "end_time": "2023-03-05T16:02:14.492369",
     "exception": false,
     "start_time": "2023-03-05T16:02:12.160424",
     "status": "completed"
    },
    "tags": []
   },
   "outputs": [
    {
     "name": "stderr",
     "output_type": "stream",
     "text": [
      "/opt/conda/lib/python3.7/site-packages/ipykernel_launcher.py:1: SettingWithCopyWarning: \n",
      "A value is trying to be set on a copy of a slice from a DataFrame.\n",
      "Try using .loc[row_indexer,col_indexer] = value instead\n",
      "\n",
      "See the caveats in the documentation: https://pandas.pydata.org/pandas-docs/stable/user_guide/indexing.html#returning-a-view-versus-a-copy\n",
      "  \"\"\"Entry point for launching an IPython kernel.\n",
      "/opt/conda/lib/python3.7/site-packages/ipykernel_launcher.py:2: SettingWithCopyWarning: \n",
      "A value is trying to be set on a copy of a slice from a DataFrame.\n",
      "Try using .loc[row_indexer,col_indexer] = value instead\n",
      "\n",
      "See the caveats in the documentation: https://pandas.pydata.org/pandas-docs/stable/user_guide/indexing.html#returning-a-view-versus-a-copy\n",
      "  \n",
      "/opt/conda/lib/python3.7/site-packages/ipykernel_launcher.py:3: SettingWithCopyWarning: \n",
      "A value is trying to be set on a copy of a slice from a DataFrame.\n",
      "Try using .loc[row_indexer,col_indexer] = value instead\n",
      "\n",
      "See the caveats in the documentation: https://pandas.pydata.org/pandas-docs/stable/user_guide/indexing.html#returning-a-view-versus-a-copy\n",
      "  This is separate from the ipykernel package so we can avoid doing imports until\n",
      "/opt/conda/lib/python3.7/site-packages/ipykernel_launcher.py:4: SettingWithCopyWarning: \n",
      "A value is trying to be set on a copy of a slice from a DataFrame.\n",
      "Try using .loc[row_indexer,col_indexer] = value instead\n",
      "\n",
      "See the caveats in the documentation: https://pandas.pydata.org/pandas-docs/stable/user_guide/indexing.html#returning-a-view-versus-a-copy\n",
      "  after removing the cwd from sys.path.\n"
     ]
    },
    {
     "data": {
      "text/html": [
       "<div>\n",
       "<style scoped>\n",
       "    .dataframe tbody tr th:only-of-type {\n",
       "        vertical-align: middle;\n",
       "    }\n",
       "\n",
       "    .dataframe tbody tr th {\n",
       "        vertical-align: top;\n",
       "    }\n",
       "\n",
       "    .dataframe thead th {\n",
       "        text-align: right;\n",
       "    }\n",
       "</style>\n",
       "<table border=\"1\" class=\"dataframe\">\n",
       "  <thead>\n",
       "    <tr style=\"text-align: right;\">\n",
       "      <th></th>\n",
       "      <th>ride_id</th>\n",
       "      <th>rideable_type</th>\n",
       "      <th>started_at</th>\n",
       "      <th>ended_at</th>\n",
       "      <th>start_lat</th>\n",
       "      <th>start_lng</th>\n",
       "      <th>end_lat</th>\n",
       "      <th>end_lng</th>\n",
       "      <th>member_casual</th>\n",
       "      <th>ride_duration</th>\n",
       "      <th>ride_duration_minutes</th>\n",
       "      <th>month</th>\n",
       "      <th>day_of_month</th>\n",
       "      <th>day_of_week</th>\n",
       "      <th>day_hour</th>\n",
       "    </tr>\n",
       "  </thead>\n",
       "  <tbody>\n",
       "    <tr>\n",
       "      <th>0</th>\n",
       "      <td>C2F7DD78E82EC875</td>\n",
       "      <td>electric_bike</td>\n",
       "      <td>2022-01-13 11:59:47</td>\n",
       "      <td>2022-01-13 12:02:44</td>\n",
       "      <td>42.012800</td>\n",
       "      <td>-87.665906</td>\n",
       "      <td>42.012560</td>\n",
       "      <td>-87.674367</td>\n",
       "      <td>casual</td>\n",
       "      <td>177.0</td>\n",
       "      <td>2.950000</td>\n",
       "      <td>1</td>\n",
       "      <td>13</td>\n",
       "      <td>3</td>\n",
       "      <td>11</td>\n",
       "    </tr>\n",
       "    <tr>\n",
       "      <th>1</th>\n",
       "      <td>A6CF8980A652D272</td>\n",
       "      <td>electric_bike</td>\n",
       "      <td>2022-01-10 08:41:56</td>\n",
       "      <td>2022-01-10 08:46:17</td>\n",
       "      <td>42.012763</td>\n",
       "      <td>-87.665967</td>\n",
       "      <td>42.012560</td>\n",
       "      <td>-87.674367</td>\n",
       "      <td>casual</td>\n",
       "      <td>261.0</td>\n",
       "      <td>4.350000</td>\n",
       "      <td>1</td>\n",
       "      <td>10</td>\n",
       "      <td>0</td>\n",
       "      <td>8</td>\n",
       "    </tr>\n",
       "    <tr>\n",
       "      <th>2</th>\n",
       "      <td>BD0F91DFF741C66D</td>\n",
       "      <td>classic_bike</td>\n",
       "      <td>2022-01-25 04:53:40</td>\n",
       "      <td>2022-01-25 04:58:01</td>\n",
       "      <td>41.925602</td>\n",
       "      <td>-87.653708</td>\n",
       "      <td>41.925330</td>\n",
       "      <td>-87.665800</td>\n",
       "      <td>member</td>\n",
       "      <td>261.0</td>\n",
       "      <td>4.350000</td>\n",
       "      <td>1</td>\n",
       "      <td>25</td>\n",
       "      <td>1</td>\n",
       "      <td>4</td>\n",
       "    </tr>\n",
       "    <tr>\n",
       "      <th>3</th>\n",
       "      <td>CBB80ED419105406</td>\n",
       "      <td>classic_bike</td>\n",
       "      <td>2022-01-04 00:18:04</td>\n",
       "      <td>2022-01-04 00:33:00</td>\n",
       "      <td>41.983593</td>\n",
       "      <td>-87.669154</td>\n",
       "      <td>41.961507</td>\n",
       "      <td>-87.671387</td>\n",
       "      <td>casual</td>\n",
       "      <td>896.0</td>\n",
       "      <td>14.933333</td>\n",
       "      <td>1</td>\n",
       "      <td>4</td>\n",
       "      <td>1</td>\n",
       "      <td>0</td>\n",
       "    </tr>\n",
       "    <tr>\n",
       "      <th>4</th>\n",
       "      <td>DDC963BFDDA51EEA</td>\n",
       "      <td>classic_bike</td>\n",
       "      <td>2022-01-20 01:31:10</td>\n",
       "      <td>2022-01-20 01:37:12</td>\n",
       "      <td>41.877850</td>\n",
       "      <td>-87.624080</td>\n",
       "      <td>41.884621</td>\n",
       "      <td>-87.627834</td>\n",
       "      <td>member</td>\n",
       "      <td>362.0</td>\n",
       "      <td>6.033333</td>\n",
       "      <td>1</td>\n",
       "      <td>20</td>\n",
       "      <td>3</td>\n",
       "      <td>1</td>\n",
       "    </tr>\n",
       "  </tbody>\n",
       "</table>\n",
       "</div>"
      ],
      "text/plain": [
       "            ride_id  rideable_type          started_at            ended_at  \\\n",
       "0  C2F7DD78E82EC875  electric_bike 2022-01-13 11:59:47 2022-01-13 12:02:44   \n",
       "1  A6CF8980A652D272  electric_bike 2022-01-10 08:41:56 2022-01-10 08:46:17   \n",
       "2  BD0F91DFF741C66D   classic_bike 2022-01-25 04:53:40 2022-01-25 04:58:01   \n",
       "3  CBB80ED419105406   classic_bike 2022-01-04 00:18:04 2022-01-04 00:33:00   \n",
       "4  DDC963BFDDA51EEA   classic_bike 2022-01-20 01:31:10 2022-01-20 01:37:12   \n",
       "\n",
       "   start_lat  start_lng    end_lat    end_lng member_casual  ride_duration  \\\n",
       "0  42.012800 -87.665906  42.012560 -87.674367        casual          177.0   \n",
       "1  42.012763 -87.665967  42.012560 -87.674367        casual          261.0   \n",
       "2  41.925602 -87.653708  41.925330 -87.665800        member          261.0   \n",
       "3  41.983593 -87.669154  41.961507 -87.671387        casual          896.0   \n",
       "4  41.877850 -87.624080  41.884621 -87.627834        member          362.0   \n",
       "\n",
       "   ride_duration_minutes  month  day_of_month  day_of_week  day_hour  \n",
       "0               2.950000      1            13            3        11  \n",
       "1               4.350000      1            10            0         8  \n",
       "2               4.350000      1            25            1         4  \n",
       "3              14.933333      1             4            1         0  \n",
       "4               6.033333      1            20            3         1  "
      ]
     },
     "execution_count": 20,
     "metadata": {},
     "output_type": "execute_result"
    }
   ],
   "source": [
    "filtered_df['month'] = filtered_df['started_at'].dt.month\n",
    "filtered_df['day_of_month'] = filtered_df['started_at'].dt.day\n",
    "filtered_df['day_of_week'] = filtered_df['started_at'].dt.dayofweek\n",
    "filtered_df['day_hour'] = filtered_df['started_at'].dt.hour\n",
    "filtered_df.head()"
   ]
  },
  {
   "cell_type": "markdown",
   "id": "f60ec003",
   "metadata": {
    "papermill": {
     "duration": 0.040462,
     "end_time": "2023-03-05T16:02:14.572376",
     "exception": false,
     "start_time": "2023-03-05T16:02:14.531914",
     "status": "completed"
    },
    "tags": []
   },
   "source": [
    "Let's check the data types of newly added columns."
   ]
  },
  {
   "cell_type": "code",
   "execution_count": 21,
   "id": "36d446a7",
   "metadata": {
    "execution": {
     "iopub.execute_input": "2023-03-05T16:02:14.652937Z",
     "iopub.status.busy": "2023-03-05T16:02:14.652528Z",
     "iopub.status.idle": "2023-03-05T16:02:14.663295Z",
     "shell.execute_reply": "2023-03-05T16:02:14.661733Z"
    },
    "papermill": {
     "duration": 0.054599,
     "end_time": "2023-03-05T16:02:14.666383",
     "exception": false,
     "start_time": "2023-03-05T16:02:14.611784",
     "status": "completed"
    },
    "tags": []
   },
   "outputs": [
    {
     "data": {
      "text/plain": [
       "ride_id                          object\n",
       "rideable_type                    object\n",
       "started_at               datetime64[ns]\n",
       "ended_at                 datetime64[ns]\n",
       "start_lat                       float64\n",
       "start_lng                       float64\n",
       "end_lat                         float64\n",
       "end_lng                         float64\n",
       "member_casual                    object\n",
       "ride_duration                   float64\n",
       "ride_duration_minutes           float64\n",
       "month                             int64\n",
       "day_of_month                      int64\n",
       "day_of_week                       int64\n",
       "day_hour                          int64\n",
       "dtype: object"
      ]
     },
     "execution_count": 21,
     "metadata": {},
     "output_type": "execute_result"
    }
   ],
   "source": [
    "filtered_df.dtypes"
   ]
  },
  {
   "cell_type": "markdown",
   "id": "b0d73d63",
   "metadata": {
    "papermill": {
     "duration": 0.039669,
     "end_time": "2023-03-05T16:02:14.745978",
     "exception": false,
     "start_time": "2023-03-05T16:02:14.706309",
     "status": "completed"
    },
    "tags": []
   },
   "source": [
    "### Check for the outliers in the data:"
   ]
  },
  {
   "cell_type": "markdown",
   "id": "8cba7691",
   "metadata": {
    "papermill": {
     "duration": 0.039968,
     "end_time": "2023-03-05T16:02:14.827484",
     "exception": false,
     "start_time": "2023-03-05T16:02:14.787516",
     "status": "completed"
    },
    "tags": []
   },
   "source": [
    "Now check for the statistical summary of the newly added columns to check whether there are any outliers in our data."
   ]
  },
  {
   "cell_type": "code",
   "execution_count": 22,
   "id": "585944b0",
   "metadata": {
    "execution": {
     "iopub.execute_input": "2023-03-05T16:02:14.997777Z",
     "iopub.status.busy": "2023-03-05T16:02:14.996981Z",
     "iopub.status.idle": "2023-03-05T16:02:16.904668Z",
     "shell.execute_reply": "2023-03-05T16:02:16.903308Z"
    },
    "papermill": {
     "duration": 2.037691,
     "end_time": "2023-03-05T16:02:16.907803",
     "exception": false,
     "start_time": "2023-03-05T16:02:14.870112",
     "status": "completed"
    },
    "tags": []
   },
   "outputs": [
    {
     "data": {
      "text/html": [
       "<div>\n",
       "<style scoped>\n",
       "    .dataframe tbody tr th:only-of-type {\n",
       "        vertical-align: middle;\n",
       "    }\n",
       "\n",
       "    .dataframe tbody tr th {\n",
       "        vertical-align: top;\n",
       "    }\n",
       "\n",
       "    .dataframe thead th {\n",
       "        text-align: right;\n",
       "    }\n",
       "</style>\n",
       "<table border=\"1\" class=\"dataframe\">\n",
       "  <thead>\n",
       "    <tr style=\"text-align: right;\">\n",
       "      <th></th>\n",
       "      <th>ride_duration_minutes</th>\n",
       "      <th>day_of_month</th>\n",
       "      <th>day_of_week</th>\n",
       "      <th>month</th>\n",
       "      <th>day_hour</th>\n",
       "    </tr>\n",
       "  </thead>\n",
       "  <tbody>\n",
       "    <tr>\n",
       "      <th>count</th>\n",
       "      <td>5.661859e+06</td>\n",
       "      <td>5.661859e+06</td>\n",
       "      <td>5.661859e+06</td>\n",
       "      <td>5.661859e+06</td>\n",
       "      <td>5.661859e+06</td>\n",
       "    </tr>\n",
       "    <tr>\n",
       "      <th>mean</th>\n",
       "      <td>1.632754e+01</td>\n",
       "      <td>1.576865e+01</td>\n",
       "      <td>3.060934e+00</td>\n",
       "      <td>7.112207e+00</td>\n",
       "      <td>1.422442e+01</td>\n",
       "    </tr>\n",
       "    <tr>\n",
       "      <th>std</th>\n",
       "      <td>4.356683e+01</td>\n",
       "      <td>8.811930e+00</td>\n",
       "      <td>1.975445e+00</td>\n",
       "      <td>2.531593e+00</td>\n",
       "      <td>5.027977e+00</td>\n",
       "    </tr>\n",
       "    <tr>\n",
       "      <th>min</th>\n",
       "      <td>-1.035335e+04</td>\n",
       "      <td>1.000000e+00</td>\n",
       "      <td>0.000000e+00</td>\n",
       "      <td>1.000000e+00</td>\n",
       "      <td>0.000000e+00</td>\n",
       "    </tr>\n",
       "    <tr>\n",
       "      <th>25%</th>\n",
       "      <td>5.816667e+00</td>\n",
       "      <td>8.000000e+00</td>\n",
       "      <td>1.000000e+00</td>\n",
       "      <td>5.000000e+00</td>\n",
       "      <td>1.100000e+01</td>\n",
       "    </tr>\n",
       "    <tr>\n",
       "      <th>50%</th>\n",
       "      <td>1.026667e+01</td>\n",
       "      <td>1.600000e+01</td>\n",
       "      <td>3.000000e+00</td>\n",
       "      <td>7.000000e+00</td>\n",
       "      <td>1.500000e+01</td>\n",
       "    </tr>\n",
       "    <tr>\n",
       "      <th>75%</th>\n",
       "      <td>1.841667e+01</td>\n",
       "      <td>2.300000e+01</td>\n",
       "      <td>5.000000e+00</td>\n",
       "      <td>9.000000e+00</td>\n",
       "      <td>1.800000e+01</td>\n",
       "    </tr>\n",
       "    <tr>\n",
       "      <th>max</th>\n",
       "      <td>3.435407e+04</td>\n",
       "      <td>3.100000e+01</td>\n",
       "      <td>6.000000e+00</td>\n",
       "      <td>1.200000e+01</td>\n",
       "      <td>2.300000e+01</td>\n",
       "    </tr>\n",
       "  </tbody>\n",
       "</table>\n",
       "</div>"
      ],
      "text/plain": [
       "       ride_duration_minutes  day_of_month   day_of_week         month  \\\n",
       "count           5.661859e+06  5.661859e+06  5.661859e+06  5.661859e+06   \n",
       "mean            1.632754e+01  1.576865e+01  3.060934e+00  7.112207e+00   \n",
       "std             4.356683e+01  8.811930e+00  1.975445e+00  2.531593e+00   \n",
       "min            -1.035335e+04  1.000000e+00  0.000000e+00  1.000000e+00   \n",
       "25%             5.816667e+00  8.000000e+00  1.000000e+00  5.000000e+00   \n",
       "50%             1.026667e+01  1.600000e+01  3.000000e+00  7.000000e+00   \n",
       "75%             1.841667e+01  2.300000e+01  5.000000e+00  9.000000e+00   \n",
       "max             3.435407e+04  3.100000e+01  6.000000e+00  1.200000e+01   \n",
       "\n",
       "           day_hour  \n",
       "count  5.661859e+06  \n",
       "mean   1.422442e+01  \n",
       "std    5.027977e+00  \n",
       "min    0.000000e+00  \n",
       "25%    1.100000e+01  \n",
       "50%    1.500000e+01  \n",
       "75%    1.800000e+01  \n",
       "max    2.300000e+01  "
      ]
     },
     "execution_count": 22,
     "metadata": {},
     "output_type": "execute_result"
    }
   ],
   "source": [
    "filtered_df[['ride_duration_minutes', 'day_of_month','day_of_week', 'month', 'day_hour']].describe()"
   ]
  },
  {
   "cell_type": "markdown",
   "id": "52c581de",
   "metadata": {
    "papermill": {
     "duration": 0.040779,
     "end_time": "2023-03-05T16:02:16.989087",
     "exception": false,
     "start_time": "2023-03-05T16:02:16.948308",
     "status": "completed"
    },
    "tags": []
   },
   "source": [
    "Clearly in the ride_duration_minutes minimum value is less than zero so, there is a mismatch in start time and end time. Let's remove these rows."
   ]
  },
  {
   "cell_type": "code",
   "execution_count": 23,
   "id": "065b6567",
   "metadata": {
    "execution": {
     "iopub.execute_input": "2023-03-05T16:02:17.075774Z",
     "iopub.status.busy": "2023-03-05T16:02:17.075307Z",
     "iopub.status.idle": "2023-03-05T16:02:18.063580Z",
     "shell.execute_reply": "2023-03-05T16:02:18.061401Z"
    },
    "papermill": {
     "duration": 1.036617,
     "end_time": "2023-03-05T16:02:18.068115",
     "exception": false,
     "start_time": "2023-03-05T16:02:17.031498",
     "status": "completed"
    },
    "tags": []
   },
   "outputs": [
    {
     "data": {
      "text/html": [
       "<div>\n",
       "<style scoped>\n",
       "    .dataframe tbody tr th:only-of-type {\n",
       "        vertical-align: middle;\n",
       "    }\n",
       "\n",
       "    .dataframe tbody tr th {\n",
       "        vertical-align: top;\n",
       "    }\n",
       "\n",
       "    .dataframe thead th {\n",
       "        text-align: right;\n",
       "    }\n",
       "</style>\n",
       "<table border=\"1\" class=\"dataframe\">\n",
       "  <thead>\n",
       "    <tr style=\"text-align: right;\">\n",
       "      <th></th>\n",
       "      <th>ride_duration_minutes</th>\n",
       "    </tr>\n",
       "  </thead>\n",
       "  <tbody>\n",
       "    <tr>\n",
       "      <th>count</th>\n",
       "      <td>5.661328e+06</td>\n",
       "    </tr>\n",
       "    <tr>\n",
       "      <th>mean</th>\n",
       "      <td>1.633140e+01</td>\n",
       "    </tr>\n",
       "    <tr>\n",
       "      <th>std</th>\n",
       "      <td>4.334942e+01</td>\n",
       "    </tr>\n",
       "    <tr>\n",
       "      <th>min</th>\n",
       "      <td>1.666667e-02</td>\n",
       "    </tr>\n",
       "    <tr>\n",
       "      <th>25%</th>\n",
       "      <td>5.816667e+00</td>\n",
       "    </tr>\n",
       "    <tr>\n",
       "      <th>50%</th>\n",
       "      <td>1.026667e+01</td>\n",
       "    </tr>\n",
       "    <tr>\n",
       "      <th>75%</th>\n",
       "      <td>1.841667e+01</td>\n",
       "    </tr>\n",
       "    <tr>\n",
       "      <th>max</th>\n",
       "      <td>3.435407e+04</td>\n",
       "    </tr>\n",
       "  </tbody>\n",
       "</table>\n",
       "</div>"
      ],
      "text/plain": [
       "       ride_duration_minutes\n",
       "count           5.661328e+06\n",
       "mean            1.633140e+01\n",
       "std             4.334942e+01\n",
       "min             1.666667e-02\n",
       "25%             5.816667e+00\n",
       "50%             1.026667e+01\n",
       "75%             1.841667e+01\n",
       "max             3.435407e+04"
      ]
     },
     "execution_count": 23,
     "metadata": {},
     "output_type": "execute_result"
    }
   ],
   "source": [
    "filtered_df = filtered_df[filtered_df['ride_duration_minutes']>0]\n",
    "filtered_df[['ride_duration_minutes']].describe()\n"
   ]
  },
  {
   "cell_type": "code",
   "execution_count": 24,
   "id": "a5f7659e",
   "metadata": {
    "execution": {
     "iopub.execute_input": "2023-03-05T16:02:18.162859Z",
     "iopub.status.busy": "2023-03-05T16:02:18.161430Z",
     "iopub.status.idle": "2023-03-05T16:02:18.184929Z",
     "shell.execute_reply": "2023-03-05T16:02:18.183525Z"
    },
    "papermill": {
     "duration": 0.068343,
     "end_time": "2023-03-05T16:02:18.187719",
     "exception": false,
     "start_time": "2023-03-05T16:02:18.119376",
     "status": "completed"
    },
    "tags": []
   },
   "outputs": [
    {
     "data": {
      "text/html": [
       "<div>\n",
       "<style scoped>\n",
       "    .dataframe tbody tr th:only-of-type {\n",
       "        vertical-align: middle;\n",
       "    }\n",
       "\n",
       "    .dataframe tbody tr th {\n",
       "        vertical-align: top;\n",
       "    }\n",
       "\n",
       "    .dataframe thead th {\n",
       "        text-align: right;\n",
       "    }\n",
       "</style>\n",
       "<table border=\"1\" class=\"dataframe\">\n",
       "  <thead>\n",
       "    <tr style=\"text-align: right;\">\n",
       "      <th></th>\n",
       "      <th>ride_id</th>\n",
       "      <th>rideable_type</th>\n",
       "      <th>started_at</th>\n",
       "      <th>ended_at</th>\n",
       "      <th>start_lat</th>\n",
       "      <th>start_lng</th>\n",
       "      <th>end_lat</th>\n",
       "      <th>end_lng</th>\n",
       "      <th>member_casual</th>\n",
       "      <th>ride_duration</th>\n",
       "      <th>ride_duration_minutes</th>\n",
       "      <th>month</th>\n",
       "      <th>day_of_month</th>\n",
       "      <th>day_of_week</th>\n",
       "      <th>day_hour</th>\n",
       "    </tr>\n",
       "  </thead>\n",
       "  <tbody>\n",
       "    <tr>\n",
       "      <th>0</th>\n",
       "      <td>C2F7DD78E82EC875</td>\n",
       "      <td>electric_bike</td>\n",
       "      <td>2022-01-13 11:59:47</td>\n",
       "      <td>2022-01-13 12:02:44</td>\n",
       "      <td>42.012800</td>\n",
       "      <td>-87.665906</td>\n",
       "      <td>42.012560</td>\n",
       "      <td>-87.674367</td>\n",
       "      <td>casual</td>\n",
       "      <td>177.0</td>\n",
       "      <td>2.950000</td>\n",
       "      <td>1</td>\n",
       "      <td>13</td>\n",
       "      <td>3</td>\n",
       "      <td>11</td>\n",
       "    </tr>\n",
       "    <tr>\n",
       "      <th>1</th>\n",
       "      <td>A6CF8980A652D272</td>\n",
       "      <td>electric_bike</td>\n",
       "      <td>2022-01-10 08:41:56</td>\n",
       "      <td>2022-01-10 08:46:17</td>\n",
       "      <td>42.012763</td>\n",
       "      <td>-87.665967</td>\n",
       "      <td>42.012560</td>\n",
       "      <td>-87.674367</td>\n",
       "      <td>casual</td>\n",
       "      <td>261.0</td>\n",
       "      <td>4.350000</td>\n",
       "      <td>1</td>\n",
       "      <td>10</td>\n",
       "      <td>0</td>\n",
       "      <td>8</td>\n",
       "    </tr>\n",
       "    <tr>\n",
       "      <th>2</th>\n",
       "      <td>BD0F91DFF741C66D</td>\n",
       "      <td>classic_bike</td>\n",
       "      <td>2022-01-25 04:53:40</td>\n",
       "      <td>2022-01-25 04:58:01</td>\n",
       "      <td>41.925602</td>\n",
       "      <td>-87.653708</td>\n",
       "      <td>41.925330</td>\n",
       "      <td>-87.665800</td>\n",
       "      <td>member</td>\n",
       "      <td>261.0</td>\n",
       "      <td>4.350000</td>\n",
       "      <td>1</td>\n",
       "      <td>25</td>\n",
       "      <td>1</td>\n",
       "      <td>4</td>\n",
       "    </tr>\n",
       "    <tr>\n",
       "      <th>3</th>\n",
       "      <td>CBB80ED419105406</td>\n",
       "      <td>classic_bike</td>\n",
       "      <td>2022-01-04 00:18:04</td>\n",
       "      <td>2022-01-04 00:33:00</td>\n",
       "      <td>41.983593</td>\n",
       "      <td>-87.669154</td>\n",
       "      <td>41.961507</td>\n",
       "      <td>-87.671387</td>\n",
       "      <td>casual</td>\n",
       "      <td>896.0</td>\n",
       "      <td>14.933333</td>\n",
       "      <td>1</td>\n",
       "      <td>4</td>\n",
       "      <td>1</td>\n",
       "      <td>0</td>\n",
       "    </tr>\n",
       "    <tr>\n",
       "      <th>4</th>\n",
       "      <td>DDC963BFDDA51EEA</td>\n",
       "      <td>classic_bike</td>\n",
       "      <td>2022-01-20 01:31:10</td>\n",
       "      <td>2022-01-20 01:37:12</td>\n",
       "      <td>41.877850</td>\n",
       "      <td>-87.624080</td>\n",
       "      <td>41.884621</td>\n",
       "      <td>-87.627834</td>\n",
       "      <td>member</td>\n",
       "      <td>362.0</td>\n",
       "      <td>6.033333</td>\n",
       "      <td>1</td>\n",
       "      <td>20</td>\n",
       "      <td>3</td>\n",
       "      <td>1</td>\n",
       "    </tr>\n",
       "  </tbody>\n",
       "</table>\n",
       "</div>"
      ],
      "text/plain": [
       "            ride_id  rideable_type          started_at            ended_at  \\\n",
       "0  C2F7DD78E82EC875  electric_bike 2022-01-13 11:59:47 2022-01-13 12:02:44   \n",
       "1  A6CF8980A652D272  electric_bike 2022-01-10 08:41:56 2022-01-10 08:46:17   \n",
       "2  BD0F91DFF741C66D   classic_bike 2022-01-25 04:53:40 2022-01-25 04:58:01   \n",
       "3  CBB80ED419105406   classic_bike 2022-01-04 00:18:04 2022-01-04 00:33:00   \n",
       "4  DDC963BFDDA51EEA   classic_bike 2022-01-20 01:31:10 2022-01-20 01:37:12   \n",
       "\n",
       "   start_lat  start_lng    end_lat    end_lng member_casual  ride_duration  \\\n",
       "0  42.012800 -87.665906  42.012560 -87.674367        casual          177.0   \n",
       "1  42.012763 -87.665967  42.012560 -87.674367        casual          261.0   \n",
       "2  41.925602 -87.653708  41.925330 -87.665800        member          261.0   \n",
       "3  41.983593 -87.669154  41.961507 -87.671387        casual          896.0   \n",
       "4  41.877850 -87.624080  41.884621 -87.627834        member          362.0   \n",
       "\n",
       "   ride_duration_minutes  month  day_of_month  day_of_week  day_hour  \n",
       "0               2.950000      1            13            3        11  \n",
       "1               4.350000      1            10            0         8  \n",
       "2               4.350000      1            25            1         4  \n",
       "3              14.933333      1             4            1         0  \n",
       "4               6.033333      1            20            3         1  "
      ]
     },
     "execution_count": 24,
     "metadata": {},
     "output_type": "execute_result"
    }
   ],
   "source": [
    "filtered_df.head()"
   ]
  },
  {
   "cell_type": "markdown",
   "id": "0a4b186f",
   "metadata": {
    "papermill": {
     "duration": 0.039751,
     "end_time": "2023-03-05T16:02:18.268325",
     "exception": false,
     "start_time": "2023-03-05T16:02:18.228574",
     "status": "completed"
    },
    "tags": []
   },
   "source": [
    "We can export the filtered data. So, that we can use it for the analysis in Tableau or SQL."
   ]
  },
  {
   "cell_type": "code",
   "execution_count": 25,
   "id": "b907636a",
   "metadata": {
    "execution": {
     "iopub.execute_input": "2023-03-05T16:02:18.355263Z",
     "iopub.status.busy": "2023-03-05T16:02:18.354327Z",
     "iopub.status.idle": "2023-03-05T16:02:18.359351Z",
     "shell.execute_reply": "2023-03-05T16:02:18.358377Z"
    },
    "papermill": {
     "duration": 0.050279,
     "end_time": "2023-03-05T16:02:18.361905",
     "exception": false,
     "start_time": "2023-03-05T16:02:18.311626",
     "status": "completed"
    },
    "tags": []
   },
   "outputs": [],
   "source": [
    "#filtered_df.to_csv(\"filtered_df.csv\", index = False)"
   ]
  },
  {
   "cell_type": "markdown",
   "id": "0049ac5e",
   "metadata": {
    "papermill": {
     "duration": 0.043288,
     "end_time": "2023-03-05T16:02:18.445658",
     "exception": false,
     "start_time": "2023-03-05T16:02:18.402370",
     "status": "completed"
    },
    "tags": []
   },
   "source": [
    "I have downloaded the data. So, I'm disabling the code chunk to export the data, so that, I can save sometime and data, while I'm executing this next time."
   ]
  },
  {
   "cell_type": "markdown",
   "id": "eb2d19d7",
   "metadata": {
    "papermill": {
     "duration": 0.044043,
     "end_time": "2023-03-05T16:02:18.534814",
     "exception": false,
     "start_time": "2023-03-05T16:02:18.490771",
     "status": "completed"
    },
    "tags": []
   },
   "source": [
    "## Exploratory Data Analysis (EDA) with Data Visualization:\n",
    "\n",
    "Our data can be analyzed in many ways like by using python itself or using SQL or by using effective visuals. I'm choosing the third method to effectively analyze the given data using **tableau visuals**. We can also create the visuals here by using python, but by using tableau we can get better and more interactive visuals. \n",
    " \n",
    " The data analysis can be done using the *'filtered_df'* data frame, but it will take too long to render the files in our notebook or Tableau as it is a large file of 880 MB. For this reason, I'm extracting the subsets of filtered data to make the analysis easy and effective. I can embed the visuals directly from Tableau Public, but it's taking much time to render the visuals of such big data. Here I'm sharing a png file of the visualization, and I have also shared the original link in the appendix in the later part of the notebook. Here is the first visual."
   ]
  },
  {
   "cell_type": "markdown",
   "id": "49e8ab5b",
   "metadata": {
    "papermill": {
     "duration": 0.043399,
     "end_time": "2023-03-05T16:02:18.620024",
     "exception": false,
     "start_time": "2023-03-05T16:02:18.576625",
     "status": "completed"
    },
    "tags": []
   },
   "source": [
    "### Total Number of Trips by the Users in the Year 2022:"
   ]
  },
  {
   "cell_type": "code",
   "execution_count": 26,
   "id": "c171ae39",
   "metadata": {
    "execution": {
     "iopub.execute_input": "2023-03-05T16:02:18.708076Z",
     "iopub.status.busy": "2023-03-05T16:02:18.707006Z",
     "iopub.status.idle": "2023-03-05T16:02:19.549812Z",
     "shell.execute_reply": "2023-03-05T16:02:19.548353Z"
    },
    "papermill": {
     "duration": 0.890616,
     "end_time": "2023-03-05T16:02:19.553200",
     "exception": false,
     "start_time": "2023-03-05T16:02:18.662584",
     "status": "completed"
    },
    "tags": []
   },
   "outputs": [
    {
     "data": {
      "text/plain": [
       "member_casual\n",
       "casual    2316600\n",
       "member    3344728\n",
       "Name: ride_id, dtype: int64"
      ]
     },
     "execution_count": 26,
     "metadata": {},
     "output_type": "execute_result"
    }
   ],
   "source": [
    "total_trips = filtered_df.groupby(['member_casual'])['ride_id'].count()\n",
    "total_trips"
   ]
  },
  {
   "cell_type": "markdown",
   "id": "52d7f605",
   "metadata": {
    "papermill": {
     "duration": 0.040553,
     "end_time": "2023-03-05T16:02:19.634064",
     "exception": false,
     "start_time": "2023-03-05T16:02:19.593511",
     "status": "completed"
    },
    "tags": []
   },
   "source": [
    "Here I'm sharing the bar chart created in tableau for the better understanding of the numbers."
   ]
  },
  {
   "attachments": {
    "c5da0d82-0fb2-4a64-81e1-e460d2d52146.png": {
     "image/png": "[encoded data removed]"
    }
   },
   "cell_type": "markdown",
   "id": "ee7249f6",
   "metadata": {
    "papermill": {
     "duration": 0.04038,
     "end_time": "2023-03-05T16:02:19.714835",
     "exception": false,
     "start_time": "2023-03-05T16:02:19.674455",
     "status": "completed"
    },
    "tags": []
   },
   "source": [
    "![member_casual.png](attachment:c5da0d82-0fb2-4a64-81e1-e460d2d52146.png)"
   ]
  },
  {
   "cell_type": "code",
   "execution_count": 27,
   "id": "90fd2546",
   "metadata": {
    "execution": {
     "iopub.execute_input": "2023-03-05T16:02:19.803272Z",
     "iopub.status.busy": "2023-03-05T16:02:19.802733Z",
     "iopub.status.idle": "2023-03-05T16:02:19.810498Z",
     "shell.execute_reply": "2023-03-05T16:02:19.809425Z"
    },
    "papermill": {
     "duration": 0.055884,
     "end_time": "2023-03-05T16:02:19.813041",
     "exception": false,
     "start_time": "2023-03-05T16:02:19.757157",
     "status": "completed"
    },
    "tags": []
   },
   "outputs": [
    {
     "data": {
      "text/plain": [
       "0.5908027233186277"
      ]
     },
     "execution_count": 27,
     "metadata": {},
     "output_type": "execute_result"
    }
   ],
   "source": [
    "3344728/(2316600+3344728)"
   ]
  },
  {
   "cell_type": "markdown",
   "id": "f463474a",
   "metadata": {
    "papermill": {
     "duration": 0.039931,
     "end_time": "2023-03-05T16:02:19.894750",
     "exception": false,
     "start_time": "2023-03-05T16:02:19.854819",
     "status": "completed"
    },
    "tags": []
   },
   "source": [
    "From the above bar graph. we can observe that\n",
    "* From all the trips in 2022, member riders have a majority share of almost 60 percent.\n",
    "* The average trip duration of the casual riders is 21.9 minutes.\n",
    "* The average trip duration of member riders (12.4 minutes) is much less than that of the casual riders. \n"
   ]
  },
  {
   "cell_type": "markdown",
   "id": "79e39738",
   "metadata": {
    "papermill": {
     "duration": 0.039902,
     "end_time": "2023-03-05T16:02:19.976360",
     "exception": false,
     "start_time": "2023-03-05T16:02:19.936458",
     "status": "completed"
    },
    "tags": []
   },
   "source": [
    "### Rider Traffic in Diffrent Hours of the Given Day in the Year 2022:"
   ]
  },
  {
   "cell_type": "markdown",
   "id": "49c38ae1",
   "metadata": {
    "papermill": {
     "duration": 0.042986,
     "end_time": "2023-03-05T16:02:20.061241",
     "exception": false,
     "start_time": "2023-03-05T16:02:20.018255",
     "status": "completed"
    },
    "tags": []
   },
   "source": [
    "Here the line graph."
   ]
  },
  {
   "cell_type": "code",
   "execution_count": 28,
   "id": "40ec4930",
   "metadata": {
    "execution": {
     "iopub.execute_input": "2023-03-05T16:02:20.146093Z",
     "iopub.status.busy": "2023-03-05T16:02:20.145324Z",
     "iopub.status.idle": "2023-03-05T16:02:20.154020Z",
     "shell.execute_reply": "2023-03-05T16:02:20.153118Z"
    },
    "papermill": {
     "duration": 0.05363,
     "end_time": "2023-03-05T16:02:20.156590",
     "exception": false,
     "start_time": "2023-03-05T16:02:20.102960",
     "status": "completed"
    },
    "tags": []
   },
   "outputs": [
    {
     "data": {
      "text/html": [
       "<div class='tableauPlaceholder' id='viz1678001457493' style='position: relative'><noscript><a href='#'><img alt='Rider Trends in Different Hours of the Given Day in the Year 2022 ' src='https:&#47;&#47;public.tableau.com&#47;static&#47;images&#47;Cy&#47;CyclistHourlyUserTrend&#47;Sheet1&#47;1_rss.png' style='border: none' /></a></noscript><object class='tableauViz'  style='display:none;'><param name='host_url' value='https%3A%2F%2Fpublic.tableau.com%2F' /> <param name='embed_code_version' value='3' /> <param name='site_root' value='' /><param name='name' value='CyclistHourlyUserTrend&#47;Sheet1' /><param name='tabs' value='no' /><param name='toolbar' value='yes' /><param name='static_image' value='https:&#47;&#47;public.tableau.com&#47;static&#47;images&#47;Cy&#47;CyclistHourlyUserTrend&#47;Sheet1&#47;1.png' /> <param name='animate_transition' value='yes' /><param name='display_static_image' value='yes' /><param name='display_spinner' value='yes' /><param name='display_overlay' value='yes' /><param name='display_count' value='yes' /><param name='language' value='en-US' /></object></div>                <script type='text/javascript'>                    var divElement = document.getElementById('viz1678001457493');                    var vizElement = divElement.getElementsByTagName('object')[0];                    vizElement.style.width='100%';vizElement.style.height=(divElement.offsetWidth*0.75)+'px';                    var scriptElement = document.createElement('script');                    scriptElement.src = 'https://public.tableau.com/javascripts/api/viz_v1.js';                    vizElement.parentNode.insertBefore(scriptElement, vizElement);                </script>\n"
      ],
      "text/plain": [
       "<IPython.core.display.HTML object>"
      ]
     },
     "metadata": {},
     "output_type": "display_data"
    }
   ],
   "source": [
    "%%html\n",
    "<div class='tableauPlaceholder' id='viz1678001457493' style='position: relative'><noscript><a href='#'><img alt='Rider Trends in Different Hours of the Given Day in the Year 2022 ' src='https:&#47;&#47;public.tableau.com&#47;static&#47;images&#47;Cy&#47;CyclistHourlyUserTrend&#47;Sheet1&#47;1_rss.png' style='border: none' /></a></noscript><object class='tableauViz'  style='display:none;'><param name='host_url' value='https%3A%2F%2Fpublic.tableau.com%2F' /> <param name='embed_code_version' value='3' /> <param name='site_root' value='' /><param name='name' value='CyclistHourlyUserTrend&#47;Sheet1' /><param name='tabs' value='no' /><param name='toolbar' value='yes' /><param name='static_image' value='https:&#47;&#47;public.tableau.com&#47;static&#47;images&#47;Cy&#47;CyclistHourlyUserTrend&#47;Sheet1&#47;1.png' /> <param name='animate_transition' value='yes' /><param name='display_static_image' value='yes' /><param name='display_spinner' value='yes' /><param name='display_overlay' value='yes' /><param name='display_count' value='yes' /><param name='language' value='en-US' /></object></div>                <script type='text/javascript'>                    var divElement = document.getElementById('viz1678001457493');                    var vizElement = divElement.getElementsByTagName('object')[0];                    vizElement.style.width='100%';vizElement.style.height=(divElement.offsetWidth*0.75)+'px';                    var scriptElement = document.createElement('script');                    scriptElement.src = 'https://public.tableau.com/javascripts/api/viz_v1.js';                    vizElement.parentNode.insertBefore(scriptElement, vizElement);                </script>"
   ]
  },
  {
   "cell_type": "markdown",
   "id": "0a1e83ed",
   "metadata": {
    "papermill": {
     "duration": 0.043344,
     "end_time": "2023-03-05T16:02:20.241738",
     "exception": false,
     "start_time": "2023-03-05T16:02:20.198394",
     "status": "completed"
    },
    "tags": []
   },
   "source": [
    "We can see that on each day \n",
    "* Both casual and Cyclist member traffic is pre-dominantly high between **15:00 to 19:00**.\n",
    "* The peak hour is 17:00 for both types of riders.\n"
   ]
  },
  {
   "cell_type": "markdown",
   "id": "b6a3bf33",
   "metadata": {
    "papermill": {
     "duration": 0.040434,
     "end_time": "2023-03-05T16:02:20.324904",
     "exception": false,
     "start_time": "2023-03-05T16:02:20.284470",
     "status": "completed"
    },
    "tags": []
   },
   "source": [
    "### Weekly Rider Trends in the Year 2022:"
   ]
  },
  {
   "cell_type": "code",
   "execution_count": 29,
   "id": "c3155f7c",
   "metadata": {
    "execution": {
     "iopub.execute_input": "2023-03-05T16:02:20.411761Z",
     "iopub.status.busy": "2023-03-05T16:02:20.410282Z",
     "iopub.status.idle": "2023-03-05T16:02:20.421694Z",
     "shell.execute_reply": "2023-03-05T16:02:20.420374Z"
    },
    "papermill": {
     "duration": 0.057677,
     "end_time": "2023-03-05T16:02:20.424819",
     "exception": false,
     "start_time": "2023-03-05T16:02:20.367142",
     "status": "completed"
    },
    "tags": []
   },
   "outputs": [
    {
     "data": {
      "text/html": [
       "<div class='tableauPlaceholder' id='viz1678001586435' style='position: relative'><noscript><a href='#'><img alt='weekly_trend ' src='https:&#47;&#47;public.tableau.com&#47;static&#47;images&#47;Cy&#47;CyclistWeeklyUserTrend&#47;weekly_trend&#47;1_rss.png' style='border: none' /></a></noscript><object class='tableauViz'  style='display:none;'><param name='host_url' value='https%3A%2F%2Fpublic.tableau.com%2F' /> <param name='embed_code_version' value='3' /> <param name='site_root' value='' /><param name='name' value='CyclistWeeklyUserTrend&#47;weekly_trend' /><param name='tabs' value='no' /><param name='toolbar' value='yes' /><param name='static_image' value='https:&#47;&#47;public.tableau.com&#47;static&#47;images&#47;Cy&#47;CyclistWeeklyUserTrend&#47;weekly_trend&#47;1.png' /> <param name='animate_transition' value='yes' /><param name='display_static_image' value='yes' /><param name='display_spinner' value='yes' /><param name='display_overlay' value='yes' /><param name='display_count' value='yes' /><param name='language' value='en-US' /></object></div>                <script type='text/javascript'>                    var divElement = document.getElementById('viz1678001586435');                    var vizElement = divElement.getElementsByTagName('object')[0];                    if ( divElement.offsetWidth > 800 ) { vizElement.style.width='1000px';vizElement.style.height='827px';} else if ( divElement.offsetWidth > 500 ) { vizElement.style.width='1000px';vizElement.style.height='827px';} else { vizElement.style.width='100%';vizElement.style.height='727px';}                     var scriptElement = document.createElement('script');                    scriptElement.src = 'https://public.tableau.com/javascripts/api/viz_v1.js';                    vizElement.parentNode.insertBefore(scriptElement, vizElement);                </script>\n"
      ],
      "text/plain": [
       "<IPython.core.display.HTML object>"
      ]
     },
     "metadata": {},
     "output_type": "display_data"
    }
   ],
   "source": [
    "%%html\n",
    "<div class='tableauPlaceholder' id='viz1678001586435' style='position: relative'><noscript><a href='#'><img alt='weekly_trend ' src='https:&#47;&#47;public.tableau.com&#47;static&#47;images&#47;Cy&#47;CyclistWeeklyUserTrend&#47;weekly_trend&#47;1_rss.png' style='border: none' /></a></noscript><object class='tableauViz'  style='display:none;'><param name='host_url' value='https%3A%2F%2Fpublic.tableau.com%2F' /> <param name='embed_code_version' value='3' /> <param name='site_root' value='' /><param name='name' value='CyclistWeeklyUserTrend&#47;weekly_trend' /><param name='tabs' value='no' /><param name='toolbar' value='yes' /><param name='static_image' value='https:&#47;&#47;public.tableau.com&#47;static&#47;images&#47;Cy&#47;CyclistWeeklyUserTrend&#47;weekly_trend&#47;1.png' /> <param name='animate_transition' value='yes' /><param name='display_static_image' value='yes' /><param name='display_spinner' value='yes' /><param name='display_overlay' value='yes' /><param name='display_count' value='yes' /><param name='language' value='en-US' /></object></div>                <script type='text/javascript'>                    var divElement = document.getElementById('viz1678001586435');                    var vizElement = divElement.getElementsByTagName('object')[0];                    if ( divElement.offsetWidth > 800 ) { vizElement.style.width='1000px';vizElement.style.height='827px';} else if ( divElement.offsetWidth > 500 ) { vizElement.style.width='1000px';vizElement.style.height='827px';} else { vizElement.style.width='100%';vizElement.style.height='727px';}                     var scriptElement = document.createElement('script');                    scriptElement.src = 'https://public.tableau.com/javascripts/api/viz_v1.js';                    vizElement.parentNode.insertBefore(scriptElement, vizElement);                </script>"
   ]
  },
  {
   "cell_type": "markdown",
   "id": "42dfa940",
   "metadata": {
    "papermill": {
     "duration": 0.041785,
     "end_time": "2023-03-05T16:02:20.508102",
     "exception": false,
     "start_time": "2023-03-05T16:02:20.466317",
     "status": "completed"
    },
    "tags": []
   },
   "source": [
    "From the above line graphs we can say that:\n",
    "* Among the casual riders, **there is significant increase number of rides on Friday and Saturday**.\n",
    "* The average ride duration is also taking positive change towards the weekends for casual riders.\n",
    "* Unlike the member users are at the peak on Wednesdays, ans there is slight negative trend towards the weekend."
   ]
  },
  {
   "cell_type": "markdown",
   "id": "ea043766",
   "metadata": {
    "papermill": {
     "duration": 0.040132,
     "end_time": "2023-03-05T16:02:20.589813",
     "exception": false,
     "start_time": "2023-03-05T16:02:20.549681",
     "status": "completed"
    },
    "tags": []
   },
   "source": [
    "### Rider Traffic in Diffrent Hours on Friday and Satuarday in the Year 2022:"
   ]
  },
  {
   "cell_type": "markdown",
   "id": "6dc9d150",
   "metadata": {
    "papermill": {
     "duration": 0.040995,
     "end_time": "2023-03-05T16:02:20.671518",
     "exception": false,
     "start_time": "2023-03-05T16:02:20.630523",
     "status": "completed"
    },
    "tags": []
   },
   "source": [
    "We have seen that, Friday and Satuarday have some different rider trends than the remaining days ofthe week. Let's examine the rider traffic in different hours of these days."
   ]
  },
  {
   "cell_type": "code",
   "execution_count": 30,
   "id": "61007423",
   "metadata": {
    "execution": {
     "iopub.execute_input": "2023-03-05T16:02:20.757694Z",
     "iopub.status.busy": "2023-03-05T16:02:20.756904Z",
     "iopub.status.idle": "2023-03-05T16:02:20.766486Z",
     "shell.execute_reply": "2023-03-05T16:02:20.765088Z"
    },
    "papermill": {
     "duration": 0.056208,
     "end_time": "2023-03-05T16:02:20.769209",
     "exception": false,
     "start_time": "2023-03-05T16:02:20.713001",
     "status": "completed"
    },
    "tags": []
   },
   "outputs": [
    {
     "data": {
      "text/html": [
       "<div class='tableauPlaceholder' id='viz1678001720879' style='position: relative'><noscript><a href='#'><img alt='weekends ' src='https:&#47;&#47;public.tableau.com&#47;static&#47;images&#47;Cy&#47;CyclistHourlyTrendsinWeekends&#47;weekends&#47;1_rss.png' style='border: none' /></a></noscript><object class='tableauViz'  style='display:none;'><param name='host_url' value='https%3A%2F%2Fpublic.tableau.com%2F' /> <param name='embed_code_version' value='3' /> <param name='site_root' value='' /><param name='name' value='CyclistHourlyTrendsinWeekends&#47;weekends' /><param name='tabs' value='no' /><param name='toolbar' value='yes' /><param name='static_image' value='https:&#47;&#47;public.tableau.com&#47;static&#47;images&#47;Cy&#47;CyclistHourlyTrendsinWeekends&#47;weekends&#47;1.png' /> <param name='animate_transition' value='yes' /><param name='display_static_image' value='yes' /><param name='display_spinner' value='yes' /><param name='display_overlay' value='yes' /><param name='display_count' value='yes' /><param name='language' value='en-US' /></object></div>                <script type='text/javascript'>                    var divElement = document.getElementById('viz1678001720879');                    var vizElement = divElement.getElementsByTagName('object')[0];                    if ( divElement.offsetWidth > 800 ) { vizElement.style.width='1000px';vizElement.style.height='827px';} else if ( divElement.offsetWidth > 500 ) { vizElement.style.width='1000px';vizElement.style.height='827px';} else { vizElement.style.width='100%';vizElement.style.height='727px';}                     var scriptElement = document.createElement('script');                    scriptElement.src = 'https://public.tableau.com/javascripts/api/viz_v1.js';                    vizElement.parentNode.insertBefore(scriptElement, vizElement);                </script>\n"
      ],
      "text/plain": [
       "<IPython.core.display.HTML object>"
      ]
     },
     "metadata": {},
     "output_type": "display_data"
    }
   ],
   "source": [
    "%%html\n",
    "<div class='tableauPlaceholder' id='viz1678001720879' style='position: relative'><noscript><a href='#'><img alt='weekends ' src='https:&#47;&#47;public.tableau.com&#47;static&#47;images&#47;Cy&#47;CyclistHourlyTrendsinWeekends&#47;weekends&#47;1_rss.png' style='border: none' /></a></noscript><object class='tableauViz'  style='display:none;'><param name='host_url' value='https%3A%2F%2Fpublic.tableau.com%2F' /> <param name='embed_code_version' value='3' /> <param name='site_root' value='' /><param name='name' value='CyclistHourlyTrendsinWeekends&#47;weekends' /><param name='tabs' value='no' /><param name='toolbar' value='yes' /><param name='static_image' value='https:&#47;&#47;public.tableau.com&#47;static&#47;images&#47;Cy&#47;CyclistHourlyTrendsinWeekends&#47;weekends&#47;1.png' /> <param name='animate_transition' value='yes' /><param name='display_static_image' value='yes' /><param name='display_spinner' value='yes' /><param name='display_overlay' value='yes' /><param name='display_count' value='yes' /><param name='language' value='en-US' /></object></div>                <script type='text/javascript'>                    var divElement = document.getElementById('viz1678001720879');                    var vizElement = divElement.getElementsByTagName('object')[0];                    if ( divElement.offsetWidth > 800 ) { vizElement.style.width='1000px';vizElement.style.height='827px';} else if ( divElement.offsetWidth > 500 ) { vizElement.style.width='1000px';vizElement.style.height='827px';} else { vizElement.style.width='100%';vizElement.style.height='727px';}                     var scriptElement = document.createElement('script');                    scriptElement.src = 'https://public.tableau.com/javascripts/api/viz_v1.js';                    vizElement.parentNode.insertBefore(scriptElement, vizElement);                </script>"
   ]
  },
  {
   "cell_type": "markdown",
   "id": "6cd1f849",
   "metadata": {
    "papermill": {
     "duration": 0.041616,
     "end_time": "2023-03-05T16:02:20.853007",
     "exception": false,
     "start_time": "2023-03-05T16:02:20.811391",
     "status": "completed"
    },
    "tags": []
   },
   "source": [
    "From the above line graphs, it is evident that:\n",
    "* Rider traffic is diffrent in Friday and Saturday.\n",
    "*  Both casual and Cyclist member traffic is pre-dominantly high between **11:00 to 19:00**.\n",
    "* The peak hour is around **15:00** for both types of riders.\n",
    "* In remaining days the hourly trend is similar to the rider traffic in diffrent hours of the Given day in the year 2022.\n",
    "\n"
   ]
  },
  {
   "cell_type": "markdown",
   "id": "f2dac77d",
   "metadata": {
    "papermill": {
     "duration": 0.042012,
     "end_time": "2023-03-05T16:02:20.938366",
     "exception": false,
     "start_time": "2023-03-05T16:02:20.896354",
     "status": "completed"
    },
    "tags": []
   },
   "source": [
    "### Monthly Rider Trends in the Year 2022:"
   ]
  },
  {
   "cell_type": "code",
   "execution_count": 31,
   "id": "b5f80ce7",
   "metadata": {
    "execution": {
     "iopub.execute_input": "2023-03-05T16:02:21.025869Z",
     "iopub.status.busy": "2023-03-05T16:02:21.025120Z",
     "iopub.status.idle": "2023-03-05T16:02:21.034634Z",
     "shell.execute_reply": "2023-03-05T16:02:21.033315Z"
    },
    "papermill": {
     "duration": 0.057918,
     "end_time": "2023-03-05T16:02:21.037368",
     "exception": false,
     "start_time": "2023-03-05T16:02:20.979450",
     "status": "completed"
    },
    "tags": []
   },
   "outputs": [
    {
     "data": {
      "text/html": [
       "<div class='tableauPlaceholder' id='viz1678001965193' style='position: relative'><noscript><a href='#'><img alt='monthly_trend ' src='https:&#47;&#47;public.tableau.com&#47;static&#47;images&#47;Cy&#47;CyclistMonthlyUserTrendsfortheYearof2022&#47;monthly_trend&#47;1_rss.png' style='border: none' /></a></noscript><object class='tableauViz'  style='display:none;'><param name='host_url' value='https%3A%2F%2Fpublic.tableau.com%2F' /> <param name='embed_code_version' value='3' /> <param name='site_root' value='' /><param name='name' value='CyclistMonthlyUserTrendsfortheYearof2022&#47;monthly_trend' /><param name='tabs' value='no' /><param name='toolbar' value='yes' /><param name='static_image' value='https:&#47;&#47;public.tableau.com&#47;static&#47;images&#47;Cy&#47;CyclistMonthlyUserTrendsfortheYearof2022&#47;monthly_trend&#47;1.png' /> <param name='animate_transition' value='yes' /><param name='display_static_image' value='yes' /><param name='display_spinner' value='yes' /><param name='display_overlay' value='yes' /><param name='display_count' value='yes' /><param name='language' value='en-US' /></object></div>                <script type='text/javascript'>                    var divElement = document.getElementById('viz1678001965193');                    var vizElement = divElement.getElementsByTagName('object')[0];                    if ( divElement.offsetWidth > 800 ) { vizElement.style.width='1000px';vizElement.style.height='827px';} else if ( divElement.offsetWidth > 500 ) { vizElement.style.width='1000px';vizElement.style.height='827px';} else { vizElement.style.width='100%';vizElement.style.height='727px';}                     var scriptElement = document.createElement('script');                    scriptElement.src = 'https://public.tableau.com/javascripts/api/viz_v1.js';                    vizElement.parentNode.insertBefore(scriptElement, vizElement);                </script>\n"
      ],
      "text/plain": [
       "<IPython.core.display.HTML object>"
      ]
     },
     "metadata": {},
     "output_type": "display_data"
    }
   ],
   "source": [
    "%%html\n",
    "<div class='tableauPlaceholder' id='viz1678001965193' style='position: relative'><noscript><a href='#'><img alt='monthly_trend ' src='https:&#47;&#47;public.tableau.com&#47;static&#47;images&#47;Cy&#47;CyclistMonthlyUserTrendsfortheYearof2022&#47;monthly_trend&#47;1_rss.png' style='border: none' /></a></noscript><object class='tableauViz'  style='display:none;'><param name='host_url' value='https%3A%2F%2Fpublic.tableau.com%2F' /> <param name='embed_code_version' value='3' /> <param name='site_root' value='' /><param name='name' value='CyclistMonthlyUserTrendsfortheYearof2022&#47;monthly_trend' /><param name='tabs' value='no' /><param name='toolbar' value='yes' /><param name='static_image' value='https:&#47;&#47;public.tableau.com&#47;static&#47;images&#47;Cy&#47;CyclistMonthlyUserTrendsfortheYearof2022&#47;monthly_trend&#47;1.png' /> <param name='animate_transition' value='yes' /><param name='display_static_image' value='yes' /><param name='display_spinner' value='yes' /><param name='display_overlay' value='yes' /><param name='display_count' value='yes' /><param name='language' value='en-US' /></object></div>                <script type='text/javascript'>                    var divElement = document.getElementById('viz1678001965193');                    var vizElement = divElement.getElementsByTagName('object')[0];                    if ( divElement.offsetWidth > 800 ) { vizElement.style.width='1000px';vizElement.style.height='827px';} else if ( divElement.offsetWidth > 500 ) { vizElement.style.width='1000px';vizElement.style.height='827px';} else { vizElement.style.width='100%';vizElement.style.height='727px';}                     var scriptElement = document.createElement('script');                    scriptElement.src = 'https://public.tableau.com/javascripts/api/viz_v1.js';                    vizElement.parentNode.insertBefore(scriptElement, vizElement);                </script>"
   ]
  },
  {
   "cell_type": "markdown",
   "id": "ebc871a9",
   "metadata": {
    "papermill": {
     "duration": 0.043392,
     "end_time": "2023-03-05T16:02:21.124514",
     "exception": false,
     "start_time": "2023-03-05T16:02:21.081122",
     "status": "completed"
    },
    "tags": []
   },
   "source": [
    "From the above line graph, we can say that:\n",
    "* There is clear postive trend in the number of user from February to July in Both Cases.\n",
    "* There is a high growth in the number of **casual riders** from **April to July**.\n",
    "* The positive trend continued to make a peak in July for the casual riders.\n",
    "* We can observe the similar pattern in the number of rides of Cyclist members, but August has the most number of riders. \n",
    "* So, July-August duration is the peak period."
   ]
  },
  {
   "cell_type": "markdown",
   "id": "0f0f1445",
   "metadata": {
    "papermill": {
     "duration": 0.040651,
     "end_time": "2023-03-05T16:02:21.207281",
     "exception": false,
     "start_time": "2023-03-05T16:02:21.166630",
     "status": "completed"
    },
    "tags": []
   },
   "source": [
    "### Examine The Day-wise Trends in a Month:"
   ]
  },
  {
   "cell_type": "code",
   "execution_count": 32,
   "id": "a54ce9dc",
   "metadata": {
    "execution": {
     "iopub.execute_input": "2023-03-05T16:02:21.293178Z",
     "iopub.status.busy": "2023-03-05T16:02:21.292494Z",
     "iopub.status.idle": "2023-03-05T16:02:21.302020Z",
     "shell.execute_reply": "2023-03-05T16:02:21.300807Z"
    },
    "papermill": {
     "duration": 0.05578,
     "end_time": "2023-03-05T16:02:21.304840",
     "exception": false,
     "start_time": "2023-03-05T16:02:21.249060",
     "status": "completed"
    },
    "tags": []
   },
   "outputs": [
    {
     "data": {
      "text/html": [
       "<div class='tableauPlaceholder' id='viz1678002478298' style='position: relative'><noscript><a href='#'><img alt='Trends_month_days ' src='https:&#47;&#47;public.tableau.com&#47;static&#47;images&#47;Cy&#47;CyclistMonthDaysTrend&#47;Trends_month_days&#47;1_rss.png' style='border: none' /></a></noscript><object class='tableauViz'  style='display:none;'><param name='host_url' value='https%3A%2F%2Fpublic.tableau.com%2F' /> <param name='embed_code_version' value='3' /> <param name='site_root' value='' /><param name='name' value='CyclistMonthDaysTrend&#47;Trends_month_days' /><param name='tabs' value='no' /><param name='toolbar' value='yes' /><param name='static_image' value='https:&#47;&#47;public.tableau.com&#47;static&#47;images&#47;Cy&#47;CyclistMonthDaysTrend&#47;Trends_month_days&#47;1.png' /> <param name='animate_transition' value='yes' /><param name='display_static_image' value='yes' /><param name='display_spinner' value='yes' /><param name='display_overlay' value='yes' /><param name='display_count' value='yes' /><param name='language' value='en-US' /></object></div>                <script type='text/javascript'>                    var divElement = document.getElementById('viz1678002478298');                    var vizElement = divElement.getElementsByTagName('object')[0];                    if ( divElement.offsetWidth > 800 ) { vizElement.style.width='1000px';vizElement.style.height='827px';} else if ( divElement.offsetWidth > 500 ) { vizElement.style.width='1000px';vizElement.style.height='827px';} else { vizElement.style.width='100%';vizElement.style.height='727px';}                     var scriptElement = document.createElement('script');                    scriptElement.src = 'https://public.tableau.com/javascripts/api/viz_v1.js';                    vizElement.parentNode.insertBefore(scriptElement, vizElement);                </script>\n"
      ],
      "text/plain": [
       "<IPython.core.display.HTML object>"
      ]
     },
     "metadata": {},
     "output_type": "display_data"
    }
   ],
   "source": [
    "%%html\n",
    "<div class='tableauPlaceholder' id='viz1678002478298' style='position: relative'><noscript><a href='#'><img alt='Trends_month_days ' src='https:&#47;&#47;public.tableau.com&#47;static&#47;images&#47;Cy&#47;CyclistMonthDaysTrend&#47;Trends_month_days&#47;1_rss.png' style='border: none' /></a></noscript><object class='tableauViz'  style='display:none;'><param name='host_url' value='https%3A%2F%2Fpublic.tableau.com%2F' /> <param name='embed_code_version' value='3' /> <param name='site_root' value='' /><param name='name' value='CyclistMonthDaysTrend&#47;Trends_month_days' /><param name='tabs' value='no' /><param name='toolbar' value='yes' /><param name='static_image' value='https:&#47;&#47;public.tableau.com&#47;static&#47;images&#47;Cy&#47;CyclistMonthDaysTrend&#47;Trends_month_days&#47;1.png' /> <param name='animate_transition' value='yes' /><param name='display_static_image' value='yes' /><param name='display_spinner' value='yes' /><param name='display_overlay' value='yes' /><param name='display_count' value='yes' /><param name='language' value='en-US' /></object></div>                <script type='text/javascript'>                    var divElement = document.getElementById('viz1678002478298');                    var vizElement = divElement.getElementsByTagName('object')[0];                    if ( divElement.offsetWidth > 800 ) { vizElement.style.width='1000px';vizElement.style.height='827px';} else if ( divElement.offsetWidth > 500 ) { vizElement.style.width='1000px';vizElement.style.height='827px';} else { vizElement.style.width='100%';vizElement.style.height='727px';}                     var scriptElement = document.createElement('script');                    scriptElement.src = 'https://public.tableau.com/javascripts/api/viz_v1.js';                    vizElement.parentNode.insertBefore(scriptElement, vizElement);                </script>"
   ]
  },
  {
   "cell_type": "markdown",
   "id": "34d51f0e",
   "metadata": {
    "papermill": {
     "duration": 0.043216,
     "end_time": "2023-03-05T16:02:21.389649",
     "exception": false,
     "start_time": "2023-03-05T16:02:21.346433",
     "status": "completed"
    },
    "tags": []
   },
   "source": [
    "We can see that, there are **no significant** trends in the day-wise data of a month."
   ]
  },
  {
   "cell_type": "markdown",
   "id": "3e70e35a",
   "metadata": {
    "papermill": {
     "duration": 0.042637,
     "end_time": "2023-03-05T16:02:21.478789",
     "exception": false,
     "start_time": "2023-03-05T16:02:21.436152",
     "status": "completed"
    },
    "tags": []
   },
   "source": [
    "### Weekly Rider Trends in July and August:"
   ]
  },
  {
   "cell_type": "code",
   "execution_count": 33,
   "id": "2970b669",
   "metadata": {
    "execution": {
     "iopub.execute_input": "2023-03-05T16:02:21.569004Z",
     "iopub.status.busy": "2023-03-05T16:02:21.568171Z",
     "iopub.status.idle": "2023-03-05T16:02:21.576797Z",
     "shell.execute_reply": "2023-03-05T16:02:21.575564Z"
    },
    "papermill": {
     "duration": 0.055109,
     "end_time": "2023-03-05T16:02:21.580014",
     "exception": false,
     "start_time": "2023-03-05T16:02:21.524905",
     "status": "completed"
    },
    "tags": []
   },
   "outputs": [
    {
     "data": {
      "text/html": [
       "<div class='tableauPlaceholder' id='viz1678006223151' style='position: relative'><noscript><a href='#'><img alt='Dashboard 2 ' src='https:&#47;&#47;public.tableau.com&#47;static&#47;images&#47;Cy&#47;CyclistWeeklyRidertrendsinJulyandAugust&#47;Dashboard2&#47;1_rss.png' style='border: none' /></a></noscript><object class='tableauViz'  style='display:none;'><param name='host_url' value='https%3A%2F%2Fpublic.tableau.com%2F' /> <param name='embed_code_version' value='3' /> <param name='site_root' value='' /><param name='name' value='CyclistWeeklyRidertrendsinJulyandAugust&#47;Dashboard2' /><param name='tabs' value='no' /><param name='toolbar' value='yes' /><param name='static_image' value='https:&#47;&#47;public.tableau.com&#47;static&#47;images&#47;Cy&#47;CyclistWeeklyRidertrendsinJulyandAugust&#47;Dashboard2&#47;1.png' /> <param name='animate_transition' value='yes' /><param name='display_static_image' value='yes' /><param name='display_spinner' value='yes' /><param name='display_overlay' value='yes' /><param name='display_count' value='yes' /><param name='language' value='en-US' /></object></div>                <script type='text/javascript'>                    var divElement = document.getElementById('viz1678006223151');                    var vizElement = divElement.getElementsByTagName('object')[0];                    if ( divElement.offsetWidth > 800 ) { vizElement.style.width='1000px';vizElement.style.height='827px';} else if ( divElement.offsetWidth > 500 ) { vizElement.style.width='1000px';vizElement.style.height='827px';} else { vizElement.style.width='100%';vizElement.style.height='727px';}                     var scriptElement = document.createElement('script');                    scriptElement.src = 'https://public.tableau.com/javascripts/api/viz_v1.js';                    vizElement.parentNode.insertBefore(scriptElement, vizElement);                </script>\n"
      ],
      "text/plain": [
       "<IPython.core.display.HTML object>"
      ]
     },
     "metadata": {},
     "output_type": "display_data"
    }
   ],
   "source": [
    "%%html\n",
    "<div class='tableauPlaceholder' id='viz1678006223151' style='position: relative'><noscript><a href='#'><img alt='Dashboard 2 ' src='https:&#47;&#47;public.tableau.com&#47;static&#47;images&#47;Cy&#47;CyclistWeeklyRidertrendsinJulyandAugust&#47;Dashboard2&#47;1_rss.png' style='border: none' /></a></noscript><object class='tableauViz'  style='display:none;'><param name='host_url' value='https%3A%2F%2Fpublic.tableau.com%2F' /> <param name='embed_code_version' value='3' /> <param name='site_root' value='' /><param name='name' value='CyclistWeeklyRidertrendsinJulyandAugust&#47;Dashboard2' /><param name='tabs' value='no' /><param name='toolbar' value='yes' /><param name='static_image' value='https:&#47;&#47;public.tableau.com&#47;static&#47;images&#47;Cy&#47;CyclistWeeklyRidertrendsinJulyandAugust&#47;Dashboard2&#47;1.png' /> <param name='animate_transition' value='yes' /><param name='display_static_image' value='yes' /><param name='display_spinner' value='yes' /><param name='display_overlay' value='yes' /><param name='display_count' value='yes' /><param name='language' value='en-US' /></object></div>                <script type='text/javascript'>                    var divElement = document.getElementById('viz1678006223151');                    var vizElement = divElement.getElementsByTagName('object')[0];                    if ( divElement.offsetWidth > 800 ) { vizElement.style.width='1000px';vizElement.style.height='827px';} else if ( divElement.offsetWidth > 500 ) { vizElement.style.width='1000px';vizElement.style.height='827px';} else { vizElement.style.width='100%';vizElement.style.height='727px';}                     var scriptElement = document.createElement('script');                    scriptElement.src = 'https://public.tableau.com/javascripts/api/viz_v1.js';                    vizElement.parentNode.insertBefore(scriptElement, vizElement);                </script>\n"
   ]
  },
  {
   "cell_type": "markdown",
   "id": "c1a1d924",
   "metadata": {
    "papermill": {
     "duration": 0.040983,
     "end_time": "2023-03-05T16:02:21.662498",
     "exception": false,
     "start_time": "2023-03-05T16:02:21.621515",
     "status": "completed"
    },
    "tags": []
   },
   "source": [
    "Despite Change in numbers it is the same weekly rider trend we have seen earlier. There are no significant changes."
   ]
  },
  {
   "cell_type": "markdown",
   "id": "f2c5fb07",
   "metadata": {
    "papermill": {
     "duration": 0.042195,
     "end_time": "2023-03-05T16:02:21.745857",
     "exception": false,
     "start_time": "2023-03-05T16:02:21.703662",
     "status": "completed"
    },
    "tags": []
   },
   "source": [
    "Refer Appendix for weekly rider trends of all months."
   ]
  },
  {
   "cell_type": "markdown",
   "id": "030af799",
   "metadata": {
    "papermill": {
     "duration": 0.04391,
     "end_time": "2023-03-05T16:02:21.831664",
     "exception": false,
     "start_time": "2023-03-05T16:02:21.787754",
     "status": "completed"
    },
    "tags": []
   },
   "source": [
    "### Rider Trend in Different Hours of the Day for July and August:"
   ]
  },
  {
   "cell_type": "code",
   "execution_count": 34,
   "id": "516c1169",
   "metadata": {
    "execution": {
     "iopub.execute_input": "2023-03-05T16:02:21.920967Z",
     "iopub.status.busy": "2023-03-05T16:02:21.920475Z",
     "iopub.status.idle": "2023-03-05T16:02:21.929571Z",
     "shell.execute_reply": "2023-03-05T16:02:21.928446Z"
    },
    "papermill": {
     "duration": 0.054912,
     "end_time": "2023-03-05T16:02:21.931976",
     "exception": false,
     "start_time": "2023-03-05T16:02:21.877064",
     "status": "completed"
    },
    "tags": []
   },
   "outputs": [
    {
     "data": {
      "text/html": [
       "<div class='tableauPlaceholder' id='viz1678006303001' style='position: relative'><noscript><a href='#'><img alt='Dashboard 2 ' src='https:&#47;&#47;public.tableau.com&#47;static&#47;images&#47;Cy&#47;CyclistHourlyRiderTrendsinJulyandAugust&#47;Dashboard2&#47;1_rss.png' style='border: none' /></a></noscript><object class='tableauViz'  style='display:none;'><param name='host_url' value='https%3A%2F%2Fpublic.tableau.com%2F' /> <param name='embed_code_version' value='3' /> <param name='site_root' value='' /><param name='name' value='CyclistHourlyRiderTrendsinJulyandAugust&#47;Dashboard2' /><param name='tabs' value='no' /><param name='toolbar' value='yes' /><param name='static_image' value='https:&#47;&#47;public.tableau.com&#47;static&#47;images&#47;Cy&#47;CyclistHourlyRiderTrendsinJulyandAugust&#47;Dashboard2&#47;1.png' /> <param name='animate_transition' value='yes' /><param name='display_static_image' value='yes' /><param name='display_spinner' value='yes' /><param name='display_overlay' value='yes' /><param name='display_count' value='yes' /><param name='language' value='en-US' /></object></div>                <script type='text/javascript'>                    var divElement = document.getElementById('viz1678006303001');                    var vizElement = divElement.getElementsByTagName('object')[0];                    if ( divElement.offsetWidth > 800 ) { vizElement.style.width='1000px';vizElement.style.height='827px';} else if ( divElement.offsetWidth > 500 ) { vizElement.style.width='1000px';vizElement.style.height='827px';} else { vizElement.style.width='100%';vizElement.style.height='727px';}                     var scriptElement = document.createElement('script');                    scriptElement.src = 'https://public.tableau.com/javascripts/api/viz_v1.js';                    vizElement.parentNode.insertBefore(scriptElement, vizElement);                </script>\n"
      ],
      "text/plain": [
       "<IPython.core.display.HTML object>"
      ]
     },
     "metadata": {},
     "output_type": "display_data"
    }
   ],
   "source": [
    "%%html\n",
    "<div class='tableauPlaceholder' id='viz1678006303001' style='position: relative'><noscript><a href='#'><img alt='Dashboard 2 ' src='https:&#47;&#47;public.tableau.com&#47;static&#47;images&#47;Cy&#47;CyclistHourlyRiderTrendsinJulyandAugust&#47;Dashboard2&#47;1_rss.png' style='border: none' /></a></noscript><object class='tableauViz'  style='display:none;'><param name='host_url' value='https%3A%2F%2Fpublic.tableau.com%2F' /> <param name='embed_code_version' value='3' /> <param name='site_root' value='' /><param name='name' value='CyclistHourlyRiderTrendsinJulyandAugust&#47;Dashboard2' /><param name='tabs' value='no' /><param name='toolbar' value='yes' /><param name='static_image' value='https:&#47;&#47;public.tableau.com&#47;static&#47;images&#47;Cy&#47;CyclistHourlyRiderTrendsinJulyandAugust&#47;Dashboard2&#47;1.png' /> <param name='animate_transition' value='yes' /><param name='display_static_image' value='yes' /><param name='display_spinner' value='yes' /><param name='display_overlay' value='yes' /><param name='display_count' value='yes' /><param name='language' value='en-US' /></object></div>                <script type='text/javascript'>                    var divElement = document.getElementById('viz1678006303001');                    var vizElement = divElement.getElementsByTagName('object')[0];                    if ( divElement.offsetWidth > 800 ) { vizElement.style.width='1000px';vizElement.style.height='827px';} else if ( divElement.offsetWidth > 500 ) { vizElement.style.width='1000px';vizElement.style.height='827px';} else { vizElement.style.width='100%';vizElement.style.height='727px';}                     var scriptElement = document.createElement('script');                    scriptElement.src = 'https://public.tableau.com/javascripts/api/viz_v1.js';                    vizElement.parentNode.insertBefore(scriptElement, vizElement);                </script>"
   ]
  },
  {
   "cell_type": "markdown",
   "id": "8e4b263d",
   "metadata": {
    "papermill": {
     "duration": 0.047486,
     "end_time": "2023-03-05T16:02:22.022040",
     "exception": false,
     "start_time": "2023-03-05T16:02:21.974554",
     "status": "completed"
    },
    "tags": []
   },
   "source": [
    "Despite change in numbers, these hourly trends are similar to that of the annual trends of 2022."
   ]
  },
  {
   "cell_type": "markdown",
   "id": "4dfd7f5d",
   "metadata": {
    "papermill": {
     "duration": 0.040957,
     "end_time": "2023-03-05T16:02:22.105333",
     "exception": false,
     "start_time": "2023-03-05T16:02:22.064376",
     "status": "completed"
    },
    "tags": []
   },
   "source": [
    "Refer Appendix for the hourly trend details of all months."
   ]
  },
  {
   "cell_type": "markdown",
   "id": "38d1525d",
   "metadata": {
    "papermill": {
     "duration": 0.0413,
     "end_time": "2023-03-05T16:02:22.189557",
     "exception": false,
     "start_time": "2023-03-05T16:02:22.148257",
     "status": "completed"
    },
    "tags": []
   },
   "source": [
    "### Bike Preferences of the Riders:"
   ]
  },
  {
   "cell_type": "code",
   "execution_count": 35,
   "id": "683fd198",
   "metadata": {
    "execution": {
     "iopub.execute_input": "2023-03-05T16:02:22.275405Z",
     "iopub.status.busy": "2023-03-05T16:02:22.274916Z",
     "iopub.status.idle": "2023-03-05T16:02:22.283741Z",
     "shell.execute_reply": "2023-03-05T16:02:22.282541Z"
    },
    "papermill": {
     "duration": 0.054879,
     "end_time": "2023-03-05T16:02:22.286411",
     "exception": false,
     "start_time": "2023-03-05T16:02:22.231532",
     "status": "completed"
    },
    "tags": []
   },
   "outputs": [
    {
     "data": {
      "text/html": [
       "<div class='tableauPlaceholder' id='viz1678006437992' style='position: relative'><noscript><a href='#'><img alt='bike-preferences ' src='https:&#47;&#47;public.tableau.com&#47;static&#47;images&#47;Cy&#47;CyclistBikePreferencesoftheUsers&#47;bike-preferences&#47;1_rss.png' style='border: none' /></a></noscript><object class='tableauViz'  style='display:none;'><param name='host_url' value='https%3A%2F%2Fpublic.tableau.com%2F' /> <param name='embed_code_version' value='3' /> <param name='site_root' value='' /><param name='name' value='CyclistBikePreferencesoftheUsers&#47;bike-preferences' /><param name='tabs' value='no' /><param name='toolbar' value='yes' /><param name='static_image' value='https:&#47;&#47;public.tableau.com&#47;static&#47;images&#47;Cy&#47;CyclistBikePreferencesoftheUsers&#47;bike-preferences&#47;1.png' /> <param name='animate_transition' value='yes' /><param name='display_static_image' value='yes' /><param name='display_spinner' value='yes' /><param name='display_overlay' value='yes' /><param name='display_count' value='yes' /><param name='language' value='en-US' /></object></div>                <script type='text/javascript'>                    var divElement = document.getElementById('viz1678006437992');                    var vizElement = divElement.getElementsByTagName('object')[0];                    if ( divElement.offsetWidth > 800 ) { vizElement.style.width='1000px';vizElement.style.height='827px';} else if ( divElement.offsetWidth > 500 ) { vizElement.style.width='1000px';vizElement.style.height='827px';} else { vizElement.style.width='100%';vizElement.style.height='727px';}                     var scriptElement = document.createElement('script');                    scriptElement.src = 'https://public.tableau.com/javascripts/api/viz_v1.js';                    vizElement.parentNode.insertBefore(scriptElement, vizElement);                </script>\n"
      ],
      "text/plain": [
       "<IPython.core.display.HTML object>"
      ]
     },
     "metadata": {},
     "output_type": "display_data"
    }
   ],
   "source": [
    "%%html\n",
    "<div class='tableauPlaceholder' id='viz1678006437992' style='position: relative'><noscript><a href='#'><img alt='bike-preferences ' src='https:&#47;&#47;public.tableau.com&#47;static&#47;images&#47;Cy&#47;CyclistBikePreferencesoftheUsers&#47;bike-preferences&#47;1_rss.png' style='border: none' /></a></noscript><object class='tableauViz'  style='display:none;'><param name='host_url' value='https%3A%2F%2Fpublic.tableau.com%2F' /> <param name='embed_code_version' value='3' /> <param name='site_root' value='' /><param name='name' value='CyclistBikePreferencesoftheUsers&#47;bike-preferences' /><param name='tabs' value='no' /><param name='toolbar' value='yes' /><param name='static_image' value='https:&#47;&#47;public.tableau.com&#47;static&#47;images&#47;Cy&#47;CyclistBikePreferencesoftheUsers&#47;bike-preferences&#47;1.png' /> <param name='animate_transition' value='yes' /><param name='display_static_image' value='yes' /><param name='display_spinner' value='yes' /><param name='display_overlay' value='yes' /><param name='display_count' value='yes' /><param name='language' value='en-US' /></object></div>                <script type='text/javascript'>                    var divElement = document.getElementById('viz1678006437992');                    var vizElement = divElement.getElementsByTagName('object')[0];                    if ( divElement.offsetWidth > 800 ) { vizElement.style.width='1000px';vizElement.style.height='827px';} else if ( divElement.offsetWidth > 500 ) { vizElement.style.width='1000px';vizElement.style.height='827px';} else { vizElement.style.width='100%';vizElement.style.height='727px';}                     var scriptElement = document.createElement('script');                    scriptElement.src = 'https://public.tableau.com/javascripts/api/viz_v1.js';                    vizElement.parentNode.insertBefore(scriptElement, vizElement);                </script>"
   ]
  },
  {
   "cell_type": "markdown",
   "id": "763ca90c",
   "metadata": {
    "papermill": {
     "duration": 0.042643,
     "end_time": "2023-03-05T16:02:22.372728",
     "exception": false,
     "start_time": "2023-03-05T16:02:22.330085",
     "status": "completed"
    },
    "tags": []
   },
   "source": [
    "We can see that:\n",
    "* Electric bike is the most popular option among casual riders.\n",
    "* Docked bike is the least popular option among casual riders, but the avarage ride time of docked bike type highest among the bikes.\n",
    "* There is no docked bike option for the cyclist members. \n",
    "* Though classic bike is the popular choice among the  Cyclist members, but the number of electic bike users also closer to that of the classic bikes."
   ]
  },
  {
   "cell_type": "markdown",
   "id": "cb9fc2a7",
   "metadata": {
    "papermill": {
     "duration": 0.041194,
     "end_time": "2023-03-05T16:02:22.455737",
     "exception": false,
     "start_time": "2023-03-05T16:02:22.414543",
     "status": "completed"
    },
    "tags": []
   },
   "source": [
    "Refer Appendix for *Bike preferences in Dfferent Time Priods*"
   ]
  },
  {
   "cell_type": "markdown",
   "id": "f57d35d3",
   "metadata": {
    "papermill": {
     "duration": 0.042941,
     "end_time": "2023-03-05T16:02:22.540272",
     "exception": false,
     "start_time": "2023-03-05T16:02:22.497331",
     "status": "completed"
    },
    "tags": []
   },
   "source": [
    "### Start and End Location Analysis:"
   ]
  },
  {
   "cell_type": "code",
   "execution_count": 36,
   "id": "9e9c04df",
   "metadata": {
    "execution": {
     "iopub.execute_input": "2023-03-05T16:02:22.627985Z",
     "iopub.status.busy": "2023-03-05T16:02:22.627539Z",
     "iopub.status.idle": "2023-03-05T16:02:22.637536Z",
     "shell.execute_reply": "2023-03-05T16:02:22.636147Z"
    },
    "papermill": {
     "duration": 0.056164,
     "end_time": "2023-03-05T16:02:22.640403",
     "exception": false,
     "start_time": "2023-03-05T16:02:22.584239",
     "status": "completed"
    },
    "tags": []
   },
   "outputs": [
    {
     "data": {
      "text/html": [
       "<div class='tableauPlaceholder' id='viz1678006573020' style='position: relative'><noscript><a href='#'><img alt='Start _end_locations ' src='https:&#47;&#47;public.tableau.com&#47;static&#47;images&#47;Cy&#47;CyclistStartandEndlocationsoftheRides&#47;Start_end_locations&#47;1_rss.png' style='border: none' /></a></noscript><object class='tableauViz'  style='display:none;'><param name='host_url' value='https%3A%2F%2Fpublic.tableau.com%2F' /> <param name='embed_code_version' value='3' /> <param name='site_root' value='' /><param name='name' value='CyclistStartandEndlocationsoftheRides&#47;Start_end_locations' /><param name='tabs' value='no' /><param name='toolbar' value='yes' /><param name='static_image' value='https:&#47;&#47;public.tableau.com&#47;static&#47;images&#47;Cy&#47;CyclistStartandEndlocationsoftheRides&#47;Start_end_locations&#47;1.png' /> <param name='animate_transition' value='yes' /><param name='display_static_image' value='yes' /><param name='display_spinner' value='yes' /><param name='display_overlay' value='yes' /><param name='display_count' value='yes' /><param name='language' value='en-US' /></object></div>                <script type='text/javascript'>                    var divElement = document.getElementById('viz1678006573020');                    var vizElement = divElement.getElementsByTagName('object')[0];                    if ( divElement.offsetWidth > 800 ) { vizElement.style.width='1000px';vizElement.style.height='827px';} else if ( divElement.offsetWidth > 500 ) { vizElement.style.width='1000px';vizElement.style.height='827px';} else { vizElement.style.width='100%';vizElement.style.height='727px';}                     var scriptElement = document.createElement('script');                    scriptElement.src = 'https://public.tableau.com/javascripts/api/viz_v1.js';                    vizElement.parentNode.insertBefore(scriptElement, vizElement);                </script>\n"
      ],
      "text/plain": [
       "<IPython.core.display.HTML object>"
      ]
     },
     "metadata": {},
     "output_type": "display_data"
    }
   ],
   "source": [
    "%%html\n",
    "<div class='tableauPlaceholder' id='viz1678006573020' style='position: relative'><noscript><a href='#'><img alt='Start _end_locations ' src='https:&#47;&#47;public.tableau.com&#47;static&#47;images&#47;Cy&#47;CyclistStartandEndlocationsoftheRides&#47;Start_end_locations&#47;1_rss.png' style='border: none' /></a></noscript><object class='tableauViz'  style='display:none;'><param name='host_url' value='https%3A%2F%2Fpublic.tableau.com%2F' /> <param name='embed_code_version' value='3' /> <param name='site_root' value='' /><param name='name' value='CyclistStartandEndlocationsoftheRides&#47;Start_end_locations' /><param name='tabs' value='no' /><param name='toolbar' value='yes' /><param name='static_image' value='https:&#47;&#47;public.tableau.com&#47;static&#47;images&#47;Cy&#47;CyclistStartandEndlocationsoftheRides&#47;Start_end_locations&#47;1.png' /> <param name='animate_transition' value='yes' /><param name='display_static_image' value='yes' /><param name='display_spinner' value='yes' /><param name='display_overlay' value='yes' /><param name='display_count' value='yes' /><param name='language' value='en-US' /></object></div>                <script type='text/javascript'>                    var divElement = document.getElementById('viz1678006573020');                    var vizElement = divElement.getElementsByTagName('object')[0];                    if ( divElement.offsetWidth > 800 ) { vizElement.style.width='1000px';vizElement.style.height='827px';} else if ( divElement.offsetWidth > 500 ) { vizElement.style.width='1000px';vizElement.style.height='827px';} else { vizElement.style.width='100%';vizElement.style.height='727px';}                     var scriptElement = document.createElement('script');                    scriptElement.src = 'https://public.tableau.com/javascripts/api/viz_v1.js';                    vizElement.parentNode.insertBefore(scriptElement, vizElement);                </script>"
   ]
  },
  {
   "cell_type": "markdown",
   "id": "d3961f08",
   "metadata": {
    "papermill": {
     "duration": 0.042956,
     "end_time": "2023-03-05T16:02:22.725681",
     "exception": false,
     "start_time": "2023-03-05T16:02:22.682725",
     "status": "completed"
    },
    "tags": []
   },
   "source": [
    "\n"
   ]
  },
  {
   "cell_type": "markdown",
   "id": "5ed42196",
   "metadata": {
    "papermill": {
     "duration": 0.044499,
     "end_time": "2023-03-05T16:02:22.814892",
     "exception": false,
     "start_time": "2023-03-05T16:02:22.770393",
     "status": "completed"
    },
    "tags": []
   },
   "source": [
    "From the abobe stacked bar chart:\n",
    "* Around 40,683 casual rides were started from the location (41.892278, -87.612043) in 2022, it is highest number from a single location.**\n",
    "* Around 59,853 Casual rides have ended thei ride at the location (41.892278, -87.612043), which is same as the most popular starting location of the casual riders.\n",
    "* Hence this **location (41.892278, -87.612043) is the popular among the casual riders**.\n",
    "* Around 26,202 cyclist members were started from the location (41.78999, -87.59999) in 2022.\n",
    "* Around 26,561 cyclist members have ended their ride at the same location (41.78999, -87.59999).\n",
    "* Hence the **location (41.7900, -87.6000) is the popular among the cyclist members**."
   ]
  },
  {
   "cell_type": "markdown",
   "id": "d8d926a9",
   "metadata": {
    "papermill": {
     "duration": 0.045494,
     "end_time": "2023-03-05T16:02:22.904593",
     "exception": false,
     "start_time": "2023-03-05T16:02:22.859099",
     "status": "completed"
    },
    "tags": []
   },
   "source": [
    "Let's find out these location names from our january 2022 data 'tripdata_202201'. I,m choosing this file because it's size is manageable in my SQL server. Here I'm attaching the screenshot of the query and results."
   ]
  },
  {
   "attachments": {
    "3182f70a-9aea-47ac-b492-9b4713cf3d08.png": {
     "image/png": "[encoded data removed]"
    }
   },
   "cell_type": "markdown",
   "id": "efceacda",
   "metadata": {
    "papermill": {
     "duration": 0.041454,
     "end_time": "2023-03-05T16:02:22.989450",
     "exception": false,
     "start_time": "2023-03-05T16:02:22.947996",
     "status": "completed"
    },
    "tags": []
   },
   "source": [
    "![image.png](attachment:3182f70a-9aea-47ac-b492-9b4713cf3d08.png)"
   ]
  },
  {
   "cell_type": "markdown",
   "id": "44b013b0",
   "metadata": {
    "papermill": {
     "duration": 0.042376,
     "end_time": "2023-03-05T16:02:23.074966",
     "exception": false,
     "start_time": "2023-03-05T16:02:23.032590",
     "status": "completed"
    },
    "tags": []
   },
   "source": [
    "Hence **Streeter Dr & Grand Ave** is the popular among casual riders."
   ]
  },
  {
   "attachments": {
    "d324471d-1ae0-4e9b-bacb-3e72ede983d3.png": {
     "image/png": "[encoded data removed]"
    }
   },
   "cell_type": "markdown",
   "id": "f2b5cc44",
   "metadata": {
    "papermill": {
     "duration": 0.041345,
     "end_time": "2023-03-05T16:02:23.158183",
     "exception": false,
     "start_time": "2023-03-05T16:02:23.116838",
     "status": "completed"
    },
    "tags": []
   },
   "source": [
    "![image.png](attachment:d324471d-1ae0-4e9b-bacb-3e72ede983d3.png)"
   ]
  },
  {
   "cell_type": "markdown",
   "id": "44ceb700",
   "metadata": {
    "papermill": {
     "duration": 0.040906,
     "end_time": "2023-03-05T16:02:23.240509",
     "exception": false,
     "start_time": "2023-03-05T16:02:23.199603",
     "status": "completed"
    },
    "tags": []
   },
   "source": [
    "Hence **Lake Park Ave & 56th St** is the most popular location among Cyclist Members "
   ]
  },
  {
   "cell_type": "markdown",
   "id": "10beee79",
   "metadata": {
    "papermill": {
     "duration": 0.041091,
     "end_time": "2023-03-05T16:02:23.324662",
     "exception": false,
     "start_time": "2023-03-05T16:02:23.283571",
     "status": "completed"
    },
    "tags": []
   },
   "source": [
    "## Conclusions:"
   ]
  },
  {
   "cell_type": "markdown",
   "id": "bdf17fee",
   "metadata": {
    "papermill": {
     "duration": 0.041964,
     "end_time": "2023-03-05T16:02:23.408410",
     "exception": false,
     "start_time": "2023-03-05T16:02:23.366446",
     "status": "completed"
    },
    "tags": []
   },
   "source": [
    "Our objective is to convert casual riders into Cyclist members and to supply the needs of the existing members to encourage them towards the prolongation of their association with Cyclistic.\n",
    "\n",
    "* To convert casual riders to the Cyclistic members ,the Cyclisic members must have extra previliges and benefits during the peak demand hours.\n",
    "\n",
    "* The marketing team should design a scheme/offer for this purpose, and they must concentrate on how to cash-in the rider in-flow during **15:00 to 19:00** of every day and, heavy turn-out **on Friday and Saturday from 11:00 to 19:00**.\n",
    "* The best-time run a digital marketing campaign to promote annual membership is from **April to August**.\n",
    "* Make sure that there are sufficient number of bikes to cater user demand on 17:00 every day, especially on **Wednesday**, that sees highest footfall among member riders.\n",
    "* Concentrate on rider resources in **Streeter Dr & Grand Ave** and **Lake Park Ave & 56th St** localities and nearby areas. These are the respective popular locations of casual riders and Cyclist members. "
   ]
  },
  {
   "attachments": {
    "03dcf889-221b-4db3-8ff6-f21ed52f8560.jpg": {
     "image/jpeg": "[encoded data removed]"
    }
   },
   "cell_type": "markdown",
   "id": "efddfee3",
   "metadata": {
    "papermill": {
     "duration": 0.041402,
     "end_time": "2023-03-05T16:02:23.491366",
     "exception": false,
     "start_time": "2023-03-05T16:02:23.449964",
     "status": "completed"
    },
    "tags": []
   },
   "source": [
    "![istockphoto-1397892955-612x612.jpg](attachment:03dcf889-221b-4db3-8ff6-f21ed52f8560.jpg)"
   ]
  },
  {
   "cell_type": "markdown",
   "id": "906dfb20",
   "metadata": {
    "papermill": {
     "duration": 0.041307,
     "end_time": "2023-03-05T16:02:23.575091",
     "exception": false,
     "start_time": "2023-03-05T16:02:23.533784",
     "status": "completed"
    },
    "tags": []
   },
   "source": [
    "## Appendix:\n"
   ]
  },
  {
   "cell_type": "markdown",
   "id": "80aa1b85",
   "metadata": {
    "papermill": {
     "duration": 0.042608,
     "end_time": "2023-03-05T16:02:23.660308",
     "exception": false,
     "start_time": "2023-03-05T16:02:23.617700",
     "status": "completed"
    },
    "tags": []
   },
   "source": [
    "### Links of Tableau Visuals :"
   ]
  },
  {
   "cell_type": "markdown",
   "id": "c1ae2e68",
   "metadata": {
    "papermill": {
     "duration": 0.041295,
     "end_time": "2023-03-05T16:02:23.743269",
     "exception": false,
     "start_time": "2023-03-05T16:02:23.701974",
     "status": "completed"
    },
    "tags": []
   },
   "source": [
    "We can directly embed the Tableau visuals in our notebook itself. But it's taking a bit longer to render those files created from a large data source of about 880 MB. But for one visual I have used a seperate dataset extracted from the large file. I can embed that link here, and for remaining I'm providing the *Tableau Public* sharable links."
   ]
  },
  {
   "cell_type": "markdown",
   "id": "1c396783",
   "metadata": {
    "papermill": {
     "duration": 0.042297,
     "end_time": "2023-03-05T16:02:23.827359",
     "exception": false,
     "start_time": "2023-03-05T16:02:23.785062",
     "status": "completed"
    },
    "tags": []
   },
   "source": [
    "[Total Users](https://public.tableau.com/views/Cyclistic_Member_Analysis/member_casual_1?:language=en-US&:display_count=n&:origin=viz_share_link)"
   ]
  },
  {
   "attachments": {
    "06340dc5-2ace-46e5-8318-41584bb01bcf.png": {
     "image/png": "[encoded data removed]"
    }
   },
   "cell_type": "markdown",
   "id": "fd643d00",
   "metadata": {
    "papermill": {
     "duration": 0.041404,
     "end_time": "2023-03-05T16:02:23.911649",
     "exception": false,
     "start_time": "2023-03-05T16:02:23.870245",
     "status": "completed"
    },
    "tags": []
   },
   "source": [
    "[Hourly User Trend](https://public.tableau.com/views/CyclistHourlyUserTrend/Sheet1?:language=en-US&:display_count=n&:origin=viz_share_link![day_hour.png](attachment:06340dc5-2ace-46e5-8318-41584bb01bcf.png))"
   ]
  },
  {
   "cell_type": "markdown",
   "id": "ffd1fda3",
   "metadata": {
    "papermill": {
     "duration": 0.04478,
     "end_time": "2023-03-05T16:02:23.999211",
     "exception": false,
     "start_time": "2023-03-05T16:02:23.954431",
     "status": "completed"
    },
    "tags": []
   },
   "source": [
    "[Weekly User Trends](https://public.tableau.com/views/CyclistWeeklyUserTrend/weekly_trend?:language=en-US&:display_count=n&:origin=viz_share_link)"
   ]
  },
  {
   "cell_type": "markdown",
   "id": "e4eea819",
   "metadata": {
    "papermill": {
     "duration": 0.042797,
     "end_time": "2023-03-05T16:02:24.085994",
     "exception": false,
     "start_time": "2023-03-05T16:02:24.043197",
     "status": "completed"
    },
    "tags": []
   },
   "source": [
    "[Monthly User Trends](https://public.tableau.com/views/CyclistMonthlyUserTrendsfortheYearof2022/monthly_trend?:language=en-US&:display_count=n&:origin=viz_share_link)"
   ]
  },
  {
   "cell_type": "markdown",
   "id": "c52ad5e2",
   "metadata": {
    "papermill": {
     "duration": 0.041376,
     "end_time": "2023-03-05T16:02:24.170846",
     "exception": false,
     "start_time": "2023-03-05T16:02:24.129470",
     "status": "completed"
    },
    "tags": []
   },
   "source": [
    "[Bike Preferences](https://public.tableau.com/views/CyclistBikePreferencesoftheUsers/bike-preferences?:language=en-US&:display_count=n&:origin=viz_share_link)"
   ]
  },
  {
   "cell_type": "markdown",
   "id": "67537ee9",
   "metadata": {
    "papermill": {
     "duration": 0.043091,
     "end_time": "2023-03-05T16:02:24.257912",
     "exception": false,
     "start_time": "2023-03-05T16:02:24.214821",
     "status": "completed"
    },
    "tags": []
   },
   "source": [
    "[Start and End Locations](https://public.tableau.com/views/CyclistStartandEndlocationsoftheRides/Start_end_locations?:language=en-US&:display_count=n&:origin=viz_share_link)"
   ]
  },
  {
   "cell_type": "markdown",
   "id": "5156ac57",
   "metadata": {
    "papermill": {
     "duration": 0.042267,
     "end_time": "2023-03-05T16:02:24.343345",
     "exception": false,
     "start_time": "2023-03-05T16:02:24.301078",
     "status": "completed"
    },
    "tags": []
   },
   "source": [
    "[Month Day Trends](https://public.tableau.com/views/CyclistMonthDaysTrend/Trends_month_days?:language=en-US&:display_count=n&:origin=viz_share_link)"
   ]
  },
  {
   "cell_type": "markdown",
   "id": "81f3cf85",
   "metadata": {
    "papermill": {
     "duration": 0.042172,
     "end_time": "2023-03-05T16:02:24.427965",
     "exception": false,
     "start_time": "2023-03-05T16:02:24.385793",
     "status": "completed"
    },
    "tags": []
   },
   "source": [
    "[ Rider Traffic in Diffrent Hours on Friday and Satuarday in the Year 2022:](https://public.tableau.com/views/CyclistHourlyTrendsinWeekends/weekends?:language=en-US&:display_count=n&:origin=viz_share_link)"
   ]
  },
  {
   "cell_type": "markdown",
   "id": "9e3dac60",
   "metadata": {
    "papermill": {
     "duration": 0.042964,
     "end_time": "2023-03-05T16:02:24.513593",
     "exception": false,
     "start_time": "2023-03-05T16:02:24.470629",
     "status": "completed"
    },
    "tags": []
   },
   "source": [
    "[ Rider Trend in Different Hours of the Day for July and August](https://public.tableau.com/views/CyclistHourlyRiderTrendsinJulyandAugust/Dashboard2?:language=en-US&:display_count=n&:origin=viz_share_link)"
   ]
  },
  {
   "cell_type": "markdown",
   "id": "78d8db1c",
   "metadata": {
    "papermill": {
     "duration": 0.042023,
     "end_time": "2023-03-05T16:02:24.598635",
     "exception": false,
     "start_time": "2023-03-05T16:02:24.556612",
     "status": "completed"
    },
    "tags": []
   },
   "source": [
    "### Weekly Trends of All Months:"
   ]
  },
  {
   "cell_type": "code",
   "execution_count": 37,
   "id": "f7d221a1",
   "metadata": {
    "execution": {
     "iopub.execute_input": "2023-03-05T16:02:24.685239Z",
     "iopub.status.busy": "2023-03-05T16:02:24.684781Z",
     "iopub.status.idle": "2023-03-05T16:02:24.695454Z",
     "shell.execute_reply": "2023-03-05T16:02:24.693776Z"
    },
    "papermill": {
     "duration": 0.058156,
     "end_time": "2023-03-05T16:02:24.698544",
     "exception": false,
     "start_time": "2023-03-05T16:02:24.640388",
     "status": "completed"
    },
    "tags": []
   },
   "outputs": [
    {
     "data": {
      "text/html": [
       "<div class='tableauPlaceholder' id='viz1678008660039' style='position: relative'><noscript><a href='#'><img alt='Dashboard 3 ' src='https:&#47;&#47;public.tableau.com&#47;static&#47;images&#47;Cy&#47;CyclistWeeklyRiderTrendsofallMonths&#47;Dashboard3&#47;1_rss.png' style='border: none' /></a></noscript><object class='tableauViz'  style='display:none;'><param name='host_url' value='https%3A%2F%2Fpublic.tableau.com%2F' /> <param name='embed_code_version' value='3' /> <param name='site_root' value='' /><param name='name' value='CyclistWeeklyRiderTrendsofallMonths&#47;Dashboard3' /><param name='tabs' value='no' /><param name='toolbar' value='yes' /><param name='static_image' value='https:&#47;&#47;public.tableau.com&#47;static&#47;images&#47;Cy&#47;CyclistWeeklyRiderTrendsofallMonths&#47;Dashboard3&#47;1.png' /> <param name='animate_transition' value='yes' /><param name='display_static_image' value='yes' /><param name='display_spinner' value='yes' /><param name='display_overlay' value='yes' /><param name='display_count' value='yes' /><param name='language' value='en-US' /></object></div>                <script type='text/javascript'>                    var divElement = document.getElementById('viz1678008660039');                    var vizElement = divElement.getElementsByTagName('object')[0];                    if ( divElement.offsetWidth > 800 ) { vizElement.style.width='1000px';vizElement.style.height='827px';} else if ( divElement.offsetWidth > 500 ) { vizElement.style.width='1000px';vizElement.style.height='827px';} else { vizElement.style.width='100%';vizElement.style.height='727px';}                     var scriptElement = document.createElement('script');                    scriptElement.src = 'https://public.tableau.com/javascripts/api/viz_v1.js';                    vizElement.parentNode.insertBefore(scriptElement, vizElement);                </script>\n"
      ],
      "text/plain": [
       "<IPython.core.display.HTML object>"
      ]
     },
     "metadata": {},
     "output_type": "display_data"
    }
   ],
   "source": [
    "%%html\n",
    "<div class='tableauPlaceholder' id='viz1678008660039' style='position: relative'><noscript><a href='#'><img alt='Dashboard 3 ' src='https:&#47;&#47;public.tableau.com&#47;static&#47;images&#47;Cy&#47;CyclistWeeklyRiderTrendsofallMonths&#47;Dashboard3&#47;1_rss.png' style='border: none' /></a></noscript><object class='tableauViz'  style='display:none;'><param name='host_url' value='https%3A%2F%2Fpublic.tableau.com%2F' /> <param name='embed_code_version' value='3' /> <param name='site_root' value='' /><param name='name' value='CyclistWeeklyRiderTrendsofallMonths&#47;Dashboard3' /><param name='tabs' value='no' /><param name='toolbar' value='yes' /><param name='static_image' value='https:&#47;&#47;public.tableau.com&#47;static&#47;images&#47;Cy&#47;CyclistWeeklyRiderTrendsofallMonths&#47;Dashboard3&#47;1.png' /> <param name='animate_transition' value='yes' /><param name='display_static_image' value='yes' /><param name='display_spinner' value='yes' /><param name='display_overlay' value='yes' /><param name='display_count' value='yes' /><param name='language' value='en-US' /></object></div>                <script type='text/javascript'>                    var divElement = document.getElementById('viz1678008660039');                    var vizElement = divElement.getElementsByTagName('object')[0];                    if ( divElement.offsetWidth > 800 ) { vizElement.style.width='1000px';vizElement.style.height='827px';} else if ( divElement.offsetWidth > 500 ) { vizElement.style.width='1000px';vizElement.style.height='827px';} else { vizElement.style.width='100%';vizElement.style.height='727px';}                     var scriptElement = document.createElement('script');                    scriptElement.src = 'https://public.tableau.com/javascripts/api/viz_v1.js';                    vizElement.parentNode.insertBefore(scriptElement, vizElement);                </script>"
   ]
  },
  {
   "cell_type": "markdown",
   "id": "a0d0958d",
   "metadata": {
    "papermill": {
     "duration": 0.042779,
     "end_time": "2023-03-05T16:02:24.784306",
     "exception": false,
     "start_time": "2023-03-05T16:02:24.741527",
     "status": "completed"
    },
    "tags": []
   },
   "source": [
    "Despite change in numbersalmost every month has a similar weekly trend except average ride duration of casual riders on tuesdays of January."
   ]
  },
  {
   "cell_type": "markdown",
   "id": "8281fbfa",
   "metadata": {
    "papermill": {
     "duration": 0.042182,
     "end_time": "2023-03-05T16:02:24.869172",
     "exception": false,
     "start_time": "2023-03-05T16:02:24.826990",
     "status": "completed"
    },
    "tags": []
   },
   "source": [
    "### Hourly Trends of all Months:"
   ]
  },
  {
   "cell_type": "code",
   "execution_count": 38,
   "id": "7c5cae3b",
   "metadata": {
    "execution": {
     "iopub.execute_input": "2023-03-05T16:02:24.956056Z",
     "iopub.status.busy": "2023-03-05T16:02:24.955609Z",
     "iopub.status.idle": "2023-03-05T16:02:24.964834Z",
     "shell.execute_reply": "2023-03-05T16:02:24.963590Z"
    },
    "papermill": {
     "duration": 0.05556,
     "end_time": "2023-03-05T16:02:24.967476",
     "exception": false,
     "start_time": "2023-03-05T16:02:24.911916",
     "status": "completed"
    },
    "tags": []
   },
   "outputs": [
    {
     "data": {
      "text/html": [
       "<div class='tableauPlaceholder' id='viz1678009153903' style='position: relative'><noscript><a href='#'><img alt='Dashboard 3 ' src='https:&#47;&#47;public.tableau.com&#47;static&#47;images&#47;Ri&#47;RidertrafficinDifferentHoursofEachDayofaWeek&#47;Dashboard3&#47;1_rss.png' style='border: none' /></a></noscript><object class='tableauViz'  style='display:none;'><param name='host_url' value='https%3A%2F%2Fpublic.tableau.com%2F' /> <param name='embed_code_version' value='3' /> <param name='site_root' value='' /><param name='name' value='RidertrafficinDifferentHoursofEachDayofaWeek&#47;Dashboard3' /><param name='tabs' value='no' /><param name='toolbar' value='yes' /><param name='static_image' value='https:&#47;&#47;public.tableau.com&#47;static&#47;images&#47;Ri&#47;RidertrafficinDifferentHoursofEachDayofaWeek&#47;Dashboard3&#47;1.png' /> <param name='animate_transition' value='yes' /><param name='display_static_image' value='yes' /><param name='display_spinner' value='yes' /><param name='display_overlay' value='yes' /><param name='display_count' value='yes' /><param name='language' value='en-US' /></object></div>                <script type='text/javascript'>                    var divElement = document.getElementById('viz1678009153903');                    var vizElement = divElement.getElementsByTagName('object')[0];                    if ( divElement.offsetWidth > 800 ) { vizElement.style.width='1000px';vizElement.style.height='827px';} else if ( divElement.offsetWidth > 500 ) { vizElement.style.width='1000px';vizElement.style.height='827px';} else { vizElement.style.width='100%';vizElement.style.height='727px';}                     var scriptElement = document.createElement('script');                    scriptElement.src = 'https://public.tableau.com/javascripts/api/viz_v1.js';                    vizElement.parentNode.insertBefore(scriptElement, vizElement);                </script>\n"
      ],
      "text/plain": [
       "<IPython.core.display.HTML object>"
      ]
     },
     "metadata": {},
     "output_type": "display_data"
    }
   ],
   "source": [
    "%%html \n",
    "<div class='tableauPlaceholder' id='viz1678009153903' style='position: relative'><noscript><a href='#'><img alt='Dashboard 3 ' src='https:&#47;&#47;public.tableau.com&#47;static&#47;images&#47;Ri&#47;RidertrafficinDifferentHoursofEachDayofaWeek&#47;Dashboard3&#47;1_rss.png' style='border: none' /></a></noscript><object class='tableauViz'  style='display:none;'><param name='host_url' value='https%3A%2F%2Fpublic.tableau.com%2F' /> <param name='embed_code_version' value='3' /> <param name='site_root' value='' /><param name='name' value='RidertrafficinDifferentHoursofEachDayofaWeek&#47;Dashboard3' /><param name='tabs' value='no' /><param name='toolbar' value='yes' /><param name='static_image' value='https:&#47;&#47;public.tableau.com&#47;static&#47;images&#47;Ri&#47;RidertrafficinDifferentHoursofEachDayofaWeek&#47;Dashboard3&#47;1.png' /> <param name='animate_transition' value='yes' /><param name='display_static_image' value='yes' /><param name='display_spinner' value='yes' /><param name='display_overlay' value='yes' /><param name='display_count' value='yes' /><param name='language' value='en-US' /></object></div>                <script type='text/javascript'>                    var divElement = document.getElementById('viz1678009153903');                    var vizElement = divElement.getElementsByTagName('object')[0];                    if ( divElement.offsetWidth > 800 ) { vizElement.style.width='1000px';vizElement.style.height='827px';} else if ( divElement.offsetWidth > 500 ) { vizElement.style.width='1000px';vizElement.style.height='827px';} else { vizElement.style.width='100%';vizElement.style.height='727px';}                     var scriptElement = document.createElement('script');                    scriptElement.src = 'https://public.tableau.com/javascripts/api/viz_v1.js';                    vizElement.parentNode.insertBefore(scriptElement, vizElement);                </script>"
   ]
  },
  {
   "cell_type": "markdown",
   "id": "c012f82a",
   "metadata": {
    "papermill": {
     "duration": 0.042683,
     "end_time": "2023-03-05T16:02:25.053421",
     "exception": false,
     "start_time": "2023-03-05T16:02:25.010738",
     "status": "completed"
    },
    "tags": []
   },
   "source": [
    "### Bike Preferences:"
   ]
  },
  {
   "cell_type": "code",
   "execution_count": 39,
   "id": "f8822ab0",
   "metadata": {
    "execution": {
     "iopub.execute_input": "2023-03-05T16:02:25.140578Z",
     "iopub.status.busy": "2023-03-05T16:02:25.140119Z",
     "iopub.status.idle": "2023-03-05T16:02:25.149070Z",
     "shell.execute_reply": "2023-03-05T16:02:25.147729Z"
    },
    "papermill": {
     "duration": 0.055496,
     "end_time": "2023-03-05T16:02:25.151947",
     "exception": false,
     "start_time": "2023-03-05T16:02:25.096451",
     "status": "completed"
    },
    "tags": []
   },
   "outputs": [
    {
     "data": {
      "text/html": [
       "<div class='tableauPlaceholder' id='viz1677941294349' style='position: relative'><noscript><a href='#'><img alt='bike_preferences ' src='https:&#47;&#47;public.tableau.com&#47;static&#47;images&#47;Cy&#47;CyclistRidersBikePreferencesinDifferentTimePeriods&#47;bike_preferences&#47;1_rss.png' style='border: none' /></a></noscript><object class='tableauViz'  style='display:none;'><param name='host_url' value='https%3A%2F%2Fpublic.tableau.com%2F' /> <param name='embed_code_version' value='3' /> <param name='site_root' value='' /><param name='name' value='CyclistRidersBikePreferencesinDifferentTimePeriods&#47;bike_preferences' /><param name='tabs' value='no' /><param name='toolbar' value='yes' /><param name='static_image' value='https:&#47;&#47;public.tableau.com&#47;static&#47;images&#47;Cy&#47;CyclistRidersBikePreferencesinDifferentTimePeriods&#47;bike_preferences&#47;1.png' /> <param name='animate_transition' value='yes' /><param name='display_static_image' value='yes' /><param name='display_spinner' value='yes' /><param name='display_overlay' value='yes' /><param name='display_count' value='yes' /><param name='language' value='en-US' /></object></div>                <script type='text/javascript'>                    var divElement = document.getElementById('viz1677941294349');                    var vizElement = divElement.getElementsByTagName('object')[0];                    if ( divElement.offsetWidth > 800 ) { vizElement.style.width='1000px';vizElement.style.height='827px';} else if ( divElement.offsetWidth > 500 ) { vizElement.style.width='1000px';vizElement.style.height='827px';} else { vizElement.style.width='100%';vizElement.style.height='877px';}                     var scriptElement = document.createElement('script');                    scriptElement.src = 'https://public.tableau.com/javascripts/api/viz_v1.js';                    vizElement.parentNode.insertBefore(scriptElement, vizElement);                </script>\n"
      ],
      "text/plain": [
       "<IPython.core.display.HTML object>"
      ]
     },
     "metadata": {},
     "output_type": "display_data"
    }
   ],
   "source": [
    "%%html\n",
    "<div class='tableauPlaceholder' id='viz1677941294349' style='position: relative'><noscript><a href='#'><img alt='bike_preferences ' src='https:&#47;&#47;public.tableau.com&#47;static&#47;images&#47;Cy&#47;CyclistRidersBikePreferencesinDifferentTimePeriods&#47;bike_preferences&#47;1_rss.png' style='border: none' /></a></noscript><object class='tableauViz'  style='display:none;'><param name='host_url' value='https%3A%2F%2Fpublic.tableau.com%2F' /> <param name='embed_code_version' value='3' /> <param name='site_root' value='' /><param name='name' value='CyclistRidersBikePreferencesinDifferentTimePeriods&#47;bike_preferences' /><param name='tabs' value='no' /><param name='toolbar' value='yes' /><param name='static_image' value='https:&#47;&#47;public.tableau.com&#47;static&#47;images&#47;Cy&#47;CyclistRidersBikePreferencesinDifferentTimePeriods&#47;bike_preferences&#47;1.png' /> <param name='animate_transition' value='yes' /><param name='display_static_image' value='yes' /><param name='display_spinner' value='yes' /><param name='display_overlay' value='yes' /><param name='display_count' value='yes' /><param name='language' value='en-US' /></object></div>                <script type='text/javascript'>                    var divElement = document.getElementById('viz1677941294349');                    var vizElement = divElement.getElementsByTagName('object')[0];                    if ( divElement.offsetWidth > 800 ) { vizElement.style.width='1000px';vizElement.style.height='827px';} else if ( divElement.offsetWidth > 500 ) { vizElement.style.width='1000px';vizElement.style.height='827px';} else { vizElement.style.width='100%';vizElement.style.height='877px';}                     var scriptElement = document.createElement('script');                    scriptElement.src = 'https://public.tableau.com/javascripts/api/viz_v1.js';                    vizElement.parentNode.insertBefore(scriptElement, vizElement);                </script>"
   ]
  },
  {
   "cell_type": "markdown",
   "id": "f2a1cb9f",
   "metadata": {
    "papermill": {
     "duration": 0.043363,
     "end_time": "2023-03-05T16:02:25.239011",
     "exception": false,
     "start_time": "2023-03-05T16:02:25.195648",
     "status": "completed"
    },
    "tags": []
   },
   "source": [
    "### Alternative Methods of Analysis:"
   ]
  },
  {
   "cell_type": "markdown",
   "id": "776fb97c",
   "metadata": {
    "papermill": {
     "duration": 0.042257,
     "end_time": "2023-03-05T16:02:25.323799",
     "exception": false,
     "start_time": "2023-03-05T16:02:25.281542",
     "status": "completed"
    },
    "tags": []
   },
   "source": [
    "We can also use **SQL, Python and R programming** for data analysis. But, personally I'm feeling that visual form of analysis is most effective. But, some times we may stuck at some points in those cases we can also explore the remaining options of data analysis. \n",
    "\n",
    "Due to limited resources I cannot query such large data in the lite version of my SQL software. So I'm using python here. Here I'm reproducing the *'Start and End Location of Riders'* analysis to double check my results from Tableau."
   ]
  },
  {
   "cell_type": "code",
   "execution_count": 40,
   "id": "7a44ccd1",
   "metadata": {
    "execution": {
     "iopub.execute_input": "2023-03-05T16:02:25.411100Z",
     "iopub.status.busy": "2023-03-05T16:02:25.410611Z",
     "iopub.status.idle": "2023-03-05T16:02:25.415674Z",
     "shell.execute_reply": "2023-03-05T16:02:25.414121Z"
    },
    "papermill": {
     "duration": 0.052526,
     "end_time": "2023-03-05T16:02:25.418705",
     "exception": false,
     "start_time": "2023-03-05T16:02:25.366179",
     "status": "completed"
    },
    "tags": []
   },
   "outputs": [],
   "source": [
    "#location_df = filtered_df[['ride_id','start_lat', 'start_lng', 'end_lat', 'end_lng', 'member_casual']]\n",
    "#location_df.head()"
   ]
  },
  {
   "cell_type": "code",
   "execution_count": 41,
   "id": "d740a1b8",
   "metadata": {
    "execution": {
     "iopub.execute_input": "2023-03-05T16:02:25.507089Z",
     "iopub.status.busy": "2023-03-05T16:02:25.506675Z",
     "iopub.status.idle": "2023-03-05T16:02:25.512093Z",
     "shell.execute_reply": "2023-03-05T16:02:25.510673Z"
    },
    "papermill": {
     "duration": 0.053081,
     "end_time": "2023-03-05T16:02:25.514975",
     "exception": false,
     "start_time": "2023-03-05T16:02:25.461894",
     "status": "completed"
    },
    "tags": []
   },
   "outputs": [],
   "source": [
    "#location_df[['start_lat', 'start_lng', 'end_lat', 'end_lng']] = location_df[['start_lat', 'start_lng', 'end_lat', 'end_lng']].astype(\"object\")\n"
   ]
  },
  {
   "cell_type": "code",
   "execution_count": 42,
   "id": "3c315477",
   "metadata": {
    "execution": {
     "iopub.execute_input": "2023-03-05T16:02:25.602964Z",
     "iopub.status.busy": "2023-03-05T16:02:25.602560Z",
     "iopub.status.idle": "2023-03-05T16:02:25.607427Z",
     "shell.execute_reply": "2023-03-05T16:02:25.606011Z"
    },
    "papermill": {
     "duration": 0.051627,
     "end_time": "2023-03-05T16:02:25.610293",
     "exception": false,
     "start_time": "2023-03-05T16:02:25.558666",
     "status": "completed"
    },
    "tags": []
   },
   "outputs": [],
   "source": [
    "#start_data = location_df.groupby(['start_lat', 'start_lng','member_casual'])['ride_id'].count().reset_index()\n",
    "#start_data.head()"
   ]
  },
  {
   "cell_type": "code",
   "execution_count": 43,
   "id": "753a5030",
   "metadata": {
    "execution": {
     "iopub.execute_input": "2023-03-05T16:02:25.701377Z",
     "iopub.status.busy": "2023-03-05T16:02:25.700929Z",
     "iopub.status.idle": "2023-03-05T16:02:25.706275Z",
     "shell.execute_reply": "2023-03-05T16:02:25.704738Z"
    },
    "papermill": {
     "duration": 0.054139,
     "end_time": "2023-03-05T16:02:25.709071",
     "exception": false,
     "start_time": "2023-03-05T16:02:25.654932",
     "status": "completed"
    },
    "tags": []
   },
   "outputs": [],
   "source": [
    "#start_data.sort_values(by=['ride_id'], ascending=False)\n"
   ]
  },
  {
   "cell_type": "code",
   "execution_count": 44,
   "id": "12be9fbe",
   "metadata": {
    "execution": {
     "iopub.execute_input": "2023-03-05T16:02:25.797437Z",
     "iopub.status.busy": "2023-03-05T16:02:25.796064Z",
     "iopub.status.idle": "2023-03-05T16:02:25.802492Z",
     "shell.execute_reply": "2023-03-05T16:02:25.800843Z"
    },
    "papermill": {
     "duration": 0.053241,
     "end_time": "2023-03-05T16:02:25.805570",
     "exception": false,
     "start_time": "2023-03-05T16:02:25.752329",
     "status": "completed"
    },
    "tags": []
   },
   "outputs": [],
   "source": [
    "#40683/2316600"
   ]
  },
  {
   "cell_type": "code",
   "execution_count": 45,
   "id": "b9070583",
   "metadata": {
    "execution": {
     "iopub.execute_input": "2023-03-05T16:02:25.894036Z",
     "iopub.status.busy": "2023-03-05T16:02:25.893571Z",
     "iopub.status.idle": "2023-03-05T16:02:25.900651Z",
     "shell.execute_reply": "2023-03-05T16:02:25.899307Z"
    },
    "papermill": {
     "duration": 0.055202,
     "end_time": "2023-03-05T16:02:25.903209",
     "exception": false,
     "start_time": "2023-03-05T16:02:25.848007",
     "status": "completed"
    },
    "tags": []
   },
   "outputs": [
    {
     "data": {
      "text/plain": [
       "\"\\nend_data = location_df.groupby(['end_lat', 'end_lng','member_casual'])['ride_id'].count().reset_index()\\nend_data.head()\\n\""
      ]
     },
     "execution_count": 45,
     "metadata": {},
     "output_type": "execute_result"
    }
   ],
   "source": [
    "\"\"\"\n",
    "end_data = location_df.groupby(['end_lat', 'end_lng','member_casual'])['ride_id'].count().reset_index()\n",
    "end_data.head()\n",
    "\"\"\""
   ]
  },
  {
   "cell_type": "code",
   "execution_count": 46,
   "id": "48eda48b",
   "metadata": {
    "execution": {
     "iopub.execute_input": "2023-03-05T16:02:25.991795Z",
     "iopub.status.busy": "2023-03-05T16:02:25.990882Z",
     "iopub.status.idle": "2023-03-05T16:02:25.995384Z",
     "shell.execute_reply": "2023-03-05T16:02:25.994477Z"
    },
    "papermill": {
     "duration": 0.052223,
     "end_time": "2023-03-05T16:02:25.998041",
     "exception": false,
     "start_time": "2023-03-05T16:02:25.945818",
     "status": "completed"
    },
    "tags": []
   },
   "outputs": [],
   "source": [
    "#end_data.sort_values(by=['ride_id'], ascending=False)"
   ]
  },
  {
   "cell_type": "markdown",
   "id": "87d322b8",
   "metadata": {
    "papermill": {
     "duration": 0.043975,
     "end_time": "2023-03-05T16:02:26.092991",
     "exception": false,
     "start_time": "2023-03-05T16:02:26.049016",
     "status": "completed"
    },
    "tags": []
   },
   "source": [
    "Similarly, to find Hourly trends we can use the following code"
   ]
  },
  {
   "cell_type": "code",
   "execution_count": 47,
   "id": "9c56f04c",
   "metadata": {
    "execution": {
     "iopub.execute_input": "2023-03-05T16:02:26.181544Z",
     "iopub.status.busy": "2023-03-05T16:02:26.180671Z",
     "iopub.status.idle": "2023-03-05T16:02:26.185894Z",
     "shell.execute_reply": "2023-03-05T16:02:26.184455Z"
    },
    "papermill": {
     "duration": 0.052997,
     "end_time": "2023-03-05T16:02:26.188805",
     "exception": false,
     "start_time": "2023-03-05T16:02:26.135808",
     "status": "completed"
    },
    "tags": []
   },
   "outputs": [],
   "source": [
    "#hourly_trips = filtered_df.groupby(['day_hour','member_casual'])['ride_id'].count().reset_index()\n",
    "#hourly_trips.rename(columns = {'ride_id':'number_of_rides'}, inplace = True)\n",
    "#hourly_trips.head()"
   ]
  },
  {
   "cell_type": "markdown",
   "id": "10b00572",
   "metadata": {
    "papermill": {
     "duration": 0.04245,
     "end_time": "2023-03-05T16:02:26.275709",
     "exception": false,
     "start_time": "2023-03-05T16:02:26.233259",
     "status": "completed"
    },
    "tags": []
   },
   "source": [
    "### "
   ]
  },
  {
   "cell_type": "markdown",
   "id": "71828b5c",
   "metadata": {
    "papermill": {
     "duration": 0.043771,
     "end_time": "2023-03-05T16:02:26.362983",
     "exception": false,
     "start_time": "2023-03-05T16:02:26.319212",
     "status": "completed"
    },
    "tags": []
   },
   "source": [
    "### Annual Hourly User Trend:"
   ]
  },
  {
   "cell_type": "code",
   "execution_count": 48,
   "id": "228edc39",
   "metadata": {
    "execution": {
     "iopub.execute_input": "2023-03-05T16:02:26.452114Z",
     "iopub.status.busy": "2023-03-05T16:02:26.450849Z",
     "iopub.status.idle": "2023-03-05T16:02:26.459197Z",
     "shell.execute_reply": "2023-03-05T16:02:26.457833Z"
    },
    "papermill": {
     "duration": 0.055932,
     "end_time": "2023-03-05T16:02:26.461721",
     "exception": false,
     "start_time": "2023-03-05T16:02:26.405789",
     "status": "completed"
    },
    "tags": []
   },
   "outputs": [
    {
     "data": {
      "text/plain": [
       "\"\\nhourly_df = filtered_df[['day_hour', 'ride_id', 'member_casual']]\\nhourly_df.head()\\n\""
      ]
     },
     "execution_count": 48,
     "metadata": {},
     "output_type": "execute_result"
    }
   ],
   "source": [
    "\"\"\"\n",
    "hourly_df = filtered_df[['day_hour', 'ride_id', 'member_casual']]\n",
    "hourly_df.head()\n",
    "\"\"\""
   ]
  },
  {
   "cell_type": "code",
   "execution_count": 49,
   "id": "4fc191c6",
   "metadata": {
    "execution": {
     "iopub.execute_input": "2023-03-05T16:02:26.551005Z",
     "iopub.status.busy": "2023-03-05T16:02:26.550552Z",
     "iopub.status.idle": "2023-03-05T16:02:26.558111Z",
     "shell.execute_reply": "2023-03-05T16:02:26.556750Z"
    },
    "papermill": {
     "duration": 0.056449,
     "end_time": "2023-03-05T16:02:26.560613",
     "exception": false,
     "start_time": "2023-03-05T16:02:26.504164",
     "status": "completed"
    },
    "tags": []
   },
   "outputs": [
    {
     "data": {
      "text/plain": [
       "\"\\nhourly_trend = hourly_df.groupby(['day_hour','member_casual'])['ride_id'].count().reset_index()\\nhourly_trend.head()\\n\""
      ]
     },
     "execution_count": 49,
     "metadata": {},
     "output_type": "execute_result"
    }
   ],
   "source": [
    "\"\"\"\n",
    "hourly_trend = hourly_df.groupby(['day_hour','member_casual'])['ride_id'].count().reset_index()\n",
    "hourly_trend.head()\n",
    "\"\"\""
   ]
  },
  {
   "cell_type": "code",
   "execution_count": 50,
   "id": "5efd3c48",
   "metadata": {
    "execution": {
     "iopub.execute_input": "2023-03-05T16:02:26.648161Z",
     "iopub.status.busy": "2023-03-05T16:02:26.647729Z",
     "iopub.status.idle": "2023-03-05T16:02:26.654956Z",
     "shell.execute_reply": "2023-03-05T16:02:26.653696Z"
    },
    "papermill": {
     "duration": 0.053787,
     "end_time": "2023-03-05T16:02:26.657442",
     "exception": false,
     "start_time": "2023-03-05T16:02:26.603655",
     "status": "completed"
    },
    "tags": []
   },
   "outputs": [
    {
     "data": {
      "text/plain": [
       "'\\nsns.catplot(y=\"ride_id\", x=\"day_hour\", hue=\"member_casual\", data = hourly_trend, aspect = 3).set(title = \\'Annual Hourly Trend \\')\\nplt.xlabel(\"Day Hour\",fontsize=10)\\nplt.ylabel(\"Number of Rides\",fontsize=10)\\nplt.show()\\n'"
      ]
     },
     "execution_count": 50,
     "metadata": {},
     "output_type": "execute_result"
    }
   ],
   "source": [
    "\"\"\"\n",
    "sns.catplot(y=\"ride_id\", x=\"day_hour\", hue=\"member_casual\", data = hourly_trend, aspect = 3).set(title = 'Annual Hourly Trend ')\n",
    "plt.xlabel(\"Day Hour\",fontsize=10)\n",
    "plt.ylabel(\"Number of Rides\",fontsize=10)\n",
    "plt.show()\n",
    "\"\"\""
   ]
  },
  {
   "cell_type": "markdown",
   "id": "cfc054f3",
   "metadata": {
    "papermill": {
     "duration": 0.043149,
     "end_time": "2023-03-05T16:02:26.744278",
     "exception": false,
     "start_time": "2023-03-05T16:02:26.701129",
     "status": "completed"
    },
    "tags": []
   },
   "source": [
    "### Weekly User trend in 2022"
   ]
  },
  {
   "cell_type": "code",
   "execution_count": 51,
   "id": "9c8a7d4a",
   "metadata": {
    "execution": {
     "iopub.execute_input": "2023-03-05T16:02:26.833671Z",
     "iopub.status.busy": "2023-03-05T16:02:26.832888Z",
     "iopub.status.idle": "2023-03-05T16:02:26.839169Z",
     "shell.execute_reply": "2023-03-05T16:02:26.838275Z"
    },
    "papermill": {
     "duration": 0.053827,
     "end_time": "2023-03-05T16:02:26.841649",
     "exception": false,
     "start_time": "2023-03-05T16:02:26.787822",
     "status": "completed"
    },
    "tags": []
   },
   "outputs": [
    {
     "data": {
      "text/plain": [
       "\"\\nweekly_df = filtered_df[['day_of_week', 'ride_id', 'member_casual', 'ride_duration_minutes']]\\nweekly_df.head()\\n\""
      ]
     },
     "execution_count": 51,
     "metadata": {},
     "output_type": "execute_result"
    }
   ],
   "source": [
    "\"\"\"\n",
    "weekly_df = filtered_df[['day_of_week', 'ride_id', 'member_casual', 'ride_duration_minutes']]\n",
    "weekly_df.head()\n",
    "\"\"\""
   ]
  },
  {
   "cell_type": "code",
   "execution_count": 52,
   "id": "cd86f4f7",
   "metadata": {
    "execution": {
     "iopub.execute_input": "2023-03-05T16:02:26.936889Z",
     "iopub.status.busy": "2023-03-05T16:02:26.936377Z",
     "iopub.status.idle": "2023-03-05T16:02:26.943722Z",
     "shell.execute_reply": "2023-03-05T16:02:26.942541Z"
    },
    "papermill": {
     "duration": 0.058619,
     "end_time": "2023-03-05T16:02:26.946356",
     "exception": false,
     "start_time": "2023-03-05T16:02:26.887737",
     "status": "completed"
    },
    "tags": []
   },
   "outputs": [
    {
     "data": {
      "text/plain": [
       "\"\\nweekly_data = weekly_df.groupby(['day_of_week','member_casual'])['ride_id'].count().reset_index()\\nweekly_data.head()\\n\""
      ]
     },
     "execution_count": 52,
     "metadata": {},
     "output_type": "execute_result"
    }
   ],
   "source": [
    "\"\"\"\n",
    "weekly_data = weekly_df.groupby(['day_of_week','member_casual'])['ride_id'].count().reset_index()\n",
    "weekly_data.head()\n",
    "\"\"\""
   ]
  },
  {
   "cell_type": "code",
   "execution_count": 53,
   "id": "c58db553",
   "metadata": {
    "execution": {
     "iopub.execute_input": "2023-03-05T16:02:27.053686Z",
     "iopub.status.busy": "2023-03-05T16:02:27.052566Z",
     "iopub.status.idle": "2023-03-05T16:02:27.062532Z",
     "shell.execute_reply": "2023-03-05T16:02:27.061047Z"
    },
    "papermill": {
     "duration": 0.072796,
     "end_time": "2023-03-05T16:02:27.065325",
     "exception": false,
     "start_time": "2023-03-05T16:02:26.992529",
     "status": "completed"
    },
    "tags": []
   },
   "outputs": [
    {
     "data": {
      "text/plain": [
       "'\\nsns.lineplot(y=\"ride_id\", x=\"day_of_week\", hue=\"member_casual\", data = weekly_data ).set(title = \\' Number of Trips on Each Day of Week \\')\\nplt.xlabel(\"Day Hour\",fontsize=10)\\nplt.ylabel(\"Number of Rides\",fontsize=10)\\nplt.show()\\n'"
      ]
     },
     "execution_count": 53,
     "metadata": {},
     "output_type": "execute_result"
    }
   ],
   "source": [
    "\"\"\"\n",
    "sns.lineplot(y=\"ride_id\", x=\"day_of_week\", hue=\"member_casual\", data = weekly_data ).set(title = ' Number of Trips on Each Day of Week ')\n",
    "plt.xlabel(\"Day Hour\",fontsize=10)\n",
    "plt.ylabel(\"Number of Rides\",fontsize=10)\n",
    "plt.show()\n",
    "\"\"\""
   ]
  },
  {
   "cell_type": "markdown",
   "id": "1400f30e",
   "metadata": {
    "papermill": {
     "duration": 0.042304,
     "end_time": "2023-03-05T16:02:27.153795",
     "exception": false,
     "start_time": "2023-03-05T16:02:27.111491",
     "status": "completed"
    },
    "tags": []
   },
   "source": [
    "### Monthly User Trends in 2022:\n"
   ]
  },
  {
   "cell_type": "code",
   "execution_count": 54,
   "id": "81e48aa5",
   "metadata": {
    "execution": {
     "iopub.execute_input": "2023-03-05T16:02:27.242646Z",
     "iopub.status.busy": "2023-03-05T16:02:27.241679Z",
     "iopub.status.idle": "2023-03-05T16:02:27.250687Z",
     "shell.execute_reply": "2023-03-05T16:02:27.249044Z"
    },
    "papermill": {
     "duration": 0.056994,
     "end_time": "2023-03-05T16:02:27.253654",
     "exception": false,
     "start_time": "2023-03-05T16:02:27.196660",
     "status": "completed"
    },
    "tags": []
   },
   "outputs": [
    {
     "data": {
      "text/plain": [
       "\"\\nmonthly_df = filtered_df[['month', 'ride_id', 'member_casual', 'ride_duration_minutes']]\\nmonthly_df.head()\\n\""
      ]
     },
     "execution_count": 54,
     "metadata": {},
     "output_type": "execute_result"
    }
   ],
   "source": [
    "\"\"\"\n",
    "monthly_df = filtered_df[['month', 'ride_id', 'member_casual', 'ride_duration_minutes']]\n",
    "monthly_df.head()\n",
    "\"\"\""
   ]
  },
  {
   "cell_type": "code",
   "execution_count": 55,
   "id": "6782be86",
   "metadata": {
    "execution": {
     "iopub.execute_input": "2023-03-05T16:02:27.345560Z",
     "iopub.status.busy": "2023-03-05T16:02:27.345125Z",
     "iopub.status.idle": "2023-03-05T16:02:27.353902Z",
     "shell.execute_reply": "2023-03-05T16:02:27.352555Z"
    },
    "papermill": {
     "duration": 0.058621,
     "end_time": "2023-03-05T16:02:27.356878",
     "exception": false,
     "start_time": "2023-03-05T16:02:27.298257",
     "status": "completed"
    },
    "tags": []
   },
   "outputs": [
    {
     "data": {
      "text/plain": [
       "\"\\nmonthly_data = monthly_df.groupby(['month','member_casual'])['ride_id'].count().reset_index()\\nmonthly_data.head()\\n\""
      ]
     },
     "execution_count": 55,
     "metadata": {},
     "output_type": "execute_result"
    }
   ],
   "source": [
    "\"\"\"\n",
    "monthly_data = monthly_df.groupby(['month','member_casual'])['ride_id'].count().reset_index()\n",
    "monthly_data.head()\n",
    "\"\"\""
   ]
  },
  {
   "cell_type": "code",
   "execution_count": 56,
   "id": "cfbb38c1",
   "metadata": {
    "execution": {
     "iopub.execute_input": "2023-03-05T16:02:27.446426Z",
     "iopub.status.busy": "2023-03-05T16:02:27.445662Z",
     "iopub.status.idle": "2023-03-05T16:02:27.452988Z",
     "shell.execute_reply": "2023-03-05T16:02:27.451801Z"
    },
    "papermill": {
     "duration": 0.055617,
     "end_time": "2023-03-05T16:02:27.456014",
     "exception": false,
     "start_time": "2023-03-05T16:02:27.400397",
     "status": "completed"
    },
    "tags": []
   },
   "outputs": [
    {
     "data": {
      "text/plain": [
       "'\\nsns.lineplot(y=\"ride_id\", x=\"month\", hue=\"member_casual\", data = monthly_data ).set(title = \\'Monthly Trend of Riders\\')\\nplt.xlabel(\"Day Hour\",fontsize=10)\\nplt.ylabel(\"Number of Rides\",fontsize=10)\\nplt.show()\\n'"
      ]
     },
     "execution_count": 56,
     "metadata": {},
     "output_type": "execute_result"
    }
   ],
   "source": [
    "\"\"\"\n",
    "sns.lineplot(y=\"ride_id\", x=\"month\", hue=\"member_casual\", data = monthly_data ).set(title = 'Monthly Trend of Riders')\n",
    "plt.xlabel(\"Day Hour\",fontsize=10)\n",
    "plt.ylabel(\"Number of Rides\",fontsize=10)\n",
    "plt.show()\n",
    "\"\"\""
   ]
  },
  {
   "cell_type": "markdown",
   "id": "e6939e52",
   "metadata": {
    "papermill": {
     "duration": 0.044072,
     "end_time": "2023-03-05T16:02:27.543568",
     "exception": false,
     "start_time": "2023-03-05T16:02:27.499496",
     "status": "completed"
    },
    "tags": []
   },
   "source": [
    "### Hourly User trend on different weekdays:"
   ]
  },
  {
   "cell_type": "code",
   "execution_count": 57,
   "id": "e3648f26",
   "metadata": {
    "execution": {
     "iopub.execute_input": "2023-03-05T16:02:27.636202Z",
     "iopub.status.busy": "2023-03-05T16:02:27.635727Z",
     "iopub.status.idle": "2023-03-05T16:02:27.644108Z",
     "shell.execute_reply": "2023-03-05T16:02:27.642551Z"
    },
    "papermill": {
     "duration": 0.056994,
     "end_time": "2023-03-05T16:02:27.646917",
     "exception": false,
     "start_time": "2023-03-05T16:02:27.589923",
     "status": "completed"
    },
    "tags": []
   },
   "outputs": [
    {
     "data": {
      "text/plain": [
       "\"\\nfriday = filtered_df[filtered_df['day_of_week']==5]\\nfriday_hourly = friday[['day_hour', 'ride_id', 'member_casual','day_of_week']]\\nfriday_hourly.head()\\n\""
      ]
     },
     "execution_count": 57,
     "metadata": {},
     "output_type": "execute_result"
    }
   ],
   "source": [
    "\"\"\"\n",
    "friday = filtered_df[filtered_df['day_of_week']==5]\n",
    "friday_hourly = friday[['day_hour', 'ride_id', 'member_casual','day_of_week']]\n",
    "friday_hourly.head()\n",
    "\"\"\""
   ]
  },
  {
   "cell_type": "code",
   "execution_count": 58,
   "id": "4d572c1f",
   "metadata": {
    "execution": {
     "iopub.execute_input": "2023-03-05T16:02:27.737504Z",
     "iopub.status.busy": "2023-03-05T16:02:27.736399Z",
     "iopub.status.idle": "2023-03-05T16:02:27.743891Z",
     "shell.execute_reply": "2023-03-05T16:02:27.742762Z"
    },
    "papermill": {
     "duration": 0.05544,
     "end_time": "2023-03-05T16:02:27.746459",
     "exception": false,
     "start_time": "2023-03-05T16:02:27.691019",
     "status": "completed"
    },
    "tags": []
   },
   "outputs": [
    {
     "data": {
      "text/plain": [
       "\"\\nfr_h_grp = friday_hourly.groupby(['day_hour','member_casual'])['ride_id'].count().reset_index()\\nfr_h_grp.head()\\n\""
      ]
     },
     "execution_count": 58,
     "metadata": {},
     "output_type": "execute_result"
    }
   ],
   "source": [
    "\"\"\"\n",
    "fr_h_grp = friday_hourly.groupby(['day_hour','member_casual'])['ride_id'].count().reset_index()\n",
    "fr_h_grp.head()\n",
    "\"\"\""
   ]
  },
  {
   "cell_type": "code",
   "execution_count": 59,
   "id": "69c55d64",
   "metadata": {
    "execution": {
     "iopub.execute_input": "2023-03-05T16:02:27.839376Z",
     "iopub.status.busy": "2023-03-05T16:02:27.838638Z",
     "iopub.status.idle": "2023-03-05T16:02:27.845045Z",
     "shell.execute_reply": "2023-03-05T16:02:27.843864Z"
    },
    "papermill": {
     "duration": 0.056221,
     "end_time": "2023-03-05T16:02:27.847939",
     "exception": false,
     "start_time": "2023-03-05T16:02:27.791718",
     "status": "completed"
    },
    "tags": []
   },
   "outputs": [
    {
     "data": {
      "text/plain": [
       "\"\\nfr_h_grp_df = fr_h_grp.sort_values(by=['ride_id'], ascending=False)\\nfr_h_grp_df.head(10)\\n\""
      ]
     },
     "execution_count": 59,
     "metadata": {},
     "output_type": "execute_result"
    }
   ],
   "source": [
    "\"\"\"\n",
    "fr_h_grp_df = fr_h_grp.sort_values(by=['ride_id'], ascending=False)\n",
    "fr_h_grp_df.head(10)\n",
    "\"\"\""
   ]
  },
  {
   "cell_type": "code",
   "execution_count": 60,
   "id": "a13a1ad6",
   "metadata": {
    "execution": {
     "iopub.execute_input": "2023-03-05T16:02:27.940391Z",
     "iopub.status.busy": "2023-03-05T16:02:27.939939Z",
     "iopub.status.idle": "2023-03-05T16:02:27.947733Z",
     "shell.execute_reply": "2023-03-05T16:02:27.946322Z"
    },
    "papermill": {
     "duration": 0.056545,
     "end_time": "2023-03-05T16:02:27.950437",
     "exception": false,
     "start_time": "2023-03-05T16:02:27.893892",
     "status": "completed"
    },
    "tags": []
   },
   "outputs": [
    {
     "data": {
      "text/plain": [
       "'\\nfriday_hourly_trend = fr_h_grp_df\\nsns.catplot(y=\"ride_id\", x=\"day_hour\", hue=\"member_casual\", data = friday_hourly_trend, aspect = 3).set(title = \\'Friday Hourly Trend \\')\\nplt.xlabel(\"Day Hour\",fontsize=20)\\nplt.ylabel(\"Number of Rides\",fontsize=20)\\nplt.show()\\n'"
      ]
     },
     "execution_count": 60,
     "metadata": {},
     "output_type": "execute_result"
    }
   ],
   "source": [
    "\"\"\"\n",
    "friday_hourly_trend = fr_h_grp_df\n",
    "sns.catplot(y=\"ride_id\", x=\"day_hour\", hue=\"member_casual\", data = friday_hourly_trend, aspect = 3).set(title = 'Friday Hourly Trend ')\n",
    "plt.xlabel(\"Day Hour\",fontsize=20)\n",
    "plt.ylabel(\"Number of Rides\",fontsize=20)\n",
    "plt.show()\n",
    "\"\"\""
   ]
  },
  {
   "cell_type": "markdown",
   "id": "eafcfd16",
   "metadata": {
    "papermill": {
     "duration": 0.043064,
     "end_time": "2023-03-05T16:02:28.039481",
     "exception": false,
     "start_time": "2023-03-05T16:02:27.996417",
     "status": "completed"
    },
    "tags": []
   },
   "source": [
    "On fridays \n",
    "* Number of casual riders are more than that of Cyclistic members.\n",
    "* The most number of rides are taking place in between 11:00 to 19:00."
   ]
  },
  {
   "cell_type": "code",
   "execution_count": 61,
   "id": "b644d681",
   "metadata": {
    "execution": {
     "iopub.execute_input": "2023-03-05T16:02:28.129094Z",
     "iopub.status.busy": "2023-03-05T16:02:28.128677Z",
     "iopub.status.idle": "2023-03-05T16:02:28.135185Z",
     "shell.execute_reply": "2023-03-05T16:02:28.134289Z"
    },
    "papermill": {
     "duration": 0.054609,
     "end_time": "2023-03-05T16:02:28.138073",
     "exception": false,
     "start_time": "2023-03-05T16:02:28.083464",
     "status": "completed"
    },
    "tags": []
   },
   "outputs": [
    {
     "data": {
      "text/plain": [
       "\"\\nsatuarday = filtered_df[filtered_df['day_of_week']==6]\\nsatuarday_hourly = satuarday[['day_hour', 'ride_id', 'member_casual','day_of_week']]\\nst_h_grp = satuarday_hourly.groupby(['day_hour','member_casual'])['ride_id'].count().reset_index()\\nst_h_grp.head()\\n\""
      ]
     },
     "execution_count": 61,
     "metadata": {},
     "output_type": "execute_result"
    }
   ],
   "source": [
    "\"\"\"\n",
    "satuarday = filtered_df[filtered_df['day_of_week']==6]\n",
    "satuarday_hourly = satuarday[['day_hour', 'ride_id', 'member_casual','day_of_week']]\n",
    "st_h_grp = satuarday_hourly.groupby(['day_hour','member_casual'])['ride_id'].count().reset_index()\n",
    "st_h_grp.head()\n",
    "\"\"\""
   ]
  },
  {
   "cell_type": "code",
   "execution_count": 62,
   "id": "d2686f58",
   "metadata": {
    "execution": {
     "iopub.execute_input": "2023-03-05T16:02:28.228555Z",
     "iopub.status.busy": "2023-03-05T16:02:28.227196Z",
     "iopub.status.idle": "2023-03-05T16:02:28.234672Z",
     "shell.execute_reply": "2023-03-05T16:02:28.233410Z"
    },
    "papermill": {
     "duration": 0.055768,
     "end_time": "2023-03-05T16:02:28.237622",
     "exception": false,
     "start_time": "2023-03-05T16:02:28.181854",
     "status": "completed"
    },
    "tags": []
   },
   "outputs": [
    {
     "data": {
      "text/plain": [
       "\"\\nst_h_grp_df = st_h_grp.sort_values(by=['ride_id'], ascending=False)\\nst_h_grp_df.head(10)\\n\""
      ]
     },
     "execution_count": 62,
     "metadata": {},
     "output_type": "execute_result"
    }
   ],
   "source": [
    "\"\"\"\n",
    "st_h_grp_df = st_h_grp.sort_values(by=['ride_id'], ascending=False)\n",
    "st_h_grp_df.head(10)\n",
    "\"\"\""
   ]
  },
  {
   "cell_type": "code",
   "execution_count": 63,
   "id": "47decd5d",
   "metadata": {
    "execution": {
     "iopub.execute_input": "2023-03-05T16:02:28.330934Z",
     "iopub.status.busy": "2023-03-05T16:02:28.329735Z",
     "iopub.status.idle": "2023-03-05T16:02:28.337261Z",
     "shell.execute_reply": "2023-03-05T16:02:28.336206Z"
    },
    "papermill": {
     "duration": 0.056557,
     "end_time": "2023-03-05T16:02:28.339793",
     "exception": false,
     "start_time": "2023-03-05T16:02:28.283236",
     "status": "completed"
    },
    "tags": []
   },
   "outputs": [
    {
     "data": {
      "text/plain": [
       "'\\nSatuarday_hourly_trend = st_h_grp_df\\nsns.catplot(y=\"ride_id\", x=\"day_hour\", hue=\"member_casual\", data = Satuarday_hourly_trend, aspect = 3).set(title = \\'Satuarday Hourly Trend \\')\\nplt.xlabel(\"Day Hour\",fontsize=10)\\nplt.ylabel(\"Number of Rides\",fontsize=10)\\nplt.show()\\n'"
      ]
     },
     "execution_count": 63,
     "metadata": {},
     "output_type": "execute_result"
    }
   ],
   "source": [
    "\"\"\"\n",
    "Satuarday_hourly_trend = st_h_grp_df\n",
    "sns.catplot(y=\"ride_id\", x=\"day_hour\", hue=\"member_casual\", data = Satuarday_hourly_trend, aspect = 3).set(title = 'Satuarday Hourly Trend ')\n",
    "plt.xlabel(\"Day Hour\",fontsize=10)\n",
    "plt.ylabel(\"Number of Rides\",fontsize=10)\n",
    "plt.show()\n",
    "\"\"\""
   ]
  },
  {
   "cell_type": "markdown",
   "id": "9fdac3ae",
   "metadata": {
    "papermill": {
     "duration": 0.044198,
     "end_time": "2023-03-05T16:02:28.428816",
     "exception": false,
     "start_time": "2023-03-05T16:02:28.384618",
     "status": "completed"
    },
    "tags": []
   },
   "source": [
    "saturday trends are similar to that of the friday trends."
   ]
  },
  {
   "cell_type": "code",
   "execution_count": 64,
   "id": "d0e07e31",
   "metadata": {
    "execution": {
     "iopub.execute_input": "2023-03-05T16:02:28.521355Z",
     "iopub.status.busy": "2023-03-05T16:02:28.520489Z",
     "iopub.status.idle": "2023-03-05T16:02:28.527683Z",
     "shell.execute_reply": "2023-03-05T16:02:28.526085Z"
    },
    "papermill": {
     "duration": 0.05615,
     "end_time": "2023-03-05T16:02:28.530635",
     "exception": false,
     "start_time": "2023-03-05T16:02:28.474485",
     "status": "completed"
    },
    "tags": []
   },
   "outputs": [
    {
     "data": {
      "text/plain": [
       "\"\\nsunday = filtered_df[filtered_df['day_of_week']==0]\\nsunday_hourly = sunday[['day_hour', 'ride_id', 'member_casual','day_of_week']]\\nsun_h_grp = sunday_hourly.groupby(['day_hour','member_casual'])['ride_id'].count().reset_index()\\nsun_h_grp.head()\\n\""
      ]
     },
     "execution_count": 64,
     "metadata": {},
     "output_type": "execute_result"
    }
   ],
   "source": [
    "\"\"\"\n",
    "sunday = filtered_df[filtered_df['day_of_week']==0]\n",
    "sunday_hourly = sunday[['day_hour', 'ride_id', 'member_casual','day_of_week']]\n",
    "sun_h_grp = sunday_hourly.groupby(['day_hour','member_casual'])['ride_id'].count().reset_index()\n",
    "sun_h_grp.head()\n",
    "\"\"\""
   ]
  },
  {
   "cell_type": "code",
   "execution_count": 65,
   "id": "986a9570",
   "metadata": {
    "execution": {
     "iopub.execute_input": "2023-03-05T16:02:28.623450Z",
     "iopub.status.busy": "2023-03-05T16:02:28.622172Z",
     "iopub.status.idle": "2023-03-05T16:02:28.631141Z",
     "shell.execute_reply": "2023-03-05T16:02:28.629836Z"
    },
    "papermill": {
     "duration": 0.058394,
     "end_time": "2023-03-05T16:02:28.634475",
     "exception": false,
     "start_time": "2023-03-05T16:02:28.576081",
     "status": "completed"
    },
    "tags": []
   },
   "outputs": [
    {
     "data": {
      "text/plain": [
       "'\\nsunday_hourly_trend = sun_h_grp\\nsns.catplot(y=\"ride_id\", x=\"day_hour\", hue=\"member_casual\", data = sunday_hourly_trend, aspect = 3).set(title = \\'Sunday Hourly Trend \\')\\nplt.xlabel(\"Day Hour\",fontsize=10)\\nplt.ylabel(\"Number of Rides\",fontsize=10)\\nplt.show()\\n'"
      ]
     },
     "execution_count": 65,
     "metadata": {},
     "output_type": "execute_result"
    }
   ],
   "source": [
    "\"\"\"\n",
    "sunday_hourly_trend = sun_h_grp\n",
    "sns.catplot(y=\"ride_id\", x=\"day_hour\", hue=\"member_casual\", data = sunday_hourly_trend, aspect = 3).set(title = 'Sunday Hourly Trend ')\n",
    "plt.xlabel(\"Day Hour\",fontsize=10)\n",
    "plt.ylabel(\"Number of Rides\",fontsize=10)\n",
    "plt.show()\n",
    "\"\"\""
   ]
  },
  {
   "cell_type": "code",
   "execution_count": 66,
   "id": "833a6dec",
   "metadata": {
    "execution": {
     "iopub.execute_input": "2023-03-05T16:02:28.725731Z",
     "iopub.status.busy": "2023-03-05T16:02:28.725197Z",
     "iopub.status.idle": "2023-03-05T16:02:28.733508Z",
     "shell.execute_reply": "2023-03-05T16:02:28.732175Z"
    },
    "papermill": {
     "duration": 0.05729,
     "end_time": "2023-03-05T16:02:28.736164",
     "exception": false,
     "start_time": "2023-03-05T16:02:28.678874",
     "status": "completed"
    },
    "tags": []
   },
   "outputs": [
    {
     "data": {
      "text/plain": [
       "\"\\nmonday = filtered_df[filtered_df['day_of_week']==1]\\nmonday_hourly = monday[['day_hour', 'ride_id', 'member_casual','day_of_week']]\\nmon_h_grp = monday_hourly.groupby(['day_hour','member_casual'])['ride_id'].count().reset_index()\\nmon_h_grp.head()\\n\""
      ]
     },
     "execution_count": 66,
     "metadata": {},
     "output_type": "execute_result"
    }
   ],
   "source": [
    "\"\"\"\n",
    "monday = filtered_df[filtered_df['day_of_week']==1]\n",
    "monday_hourly = monday[['day_hour', 'ride_id', 'member_casual','day_of_week']]\n",
    "mon_h_grp = monday_hourly.groupby(['day_hour','member_casual'])['ride_id'].count().reset_index()\n",
    "mon_h_grp.head()\n",
    "\"\"\""
   ]
  },
  {
   "cell_type": "code",
   "execution_count": 67,
   "id": "3c5070af",
   "metadata": {
    "execution": {
     "iopub.execute_input": "2023-03-05T16:02:28.830016Z",
     "iopub.status.busy": "2023-03-05T16:02:28.828874Z",
     "iopub.status.idle": "2023-03-05T16:02:28.837002Z",
     "shell.execute_reply": "2023-03-05T16:02:28.835720Z"
    },
    "papermill": {
     "duration": 0.059062,
     "end_time": "2023-03-05T16:02:28.839746",
     "exception": false,
     "start_time": "2023-03-05T16:02:28.780684",
     "status": "completed"
    },
    "tags": []
   },
   "outputs": [
    {
     "data": {
      "text/plain": [
       "'\\nmonday_hourly_trend = mon_h_grp\\nsns.catplot(y=\"ride_id\", x=\"day_hour\", hue=\"member_casual\", data = monday_hourly_trend, aspect = 3).set(title = \\'Monday Hourly User Trend \\')\\nplt.xlabel(\"Day Hour\",fontsize=10)\\nplt.ylabel(\"Number of Rides\",fontsize=10)\\nplt.show()\\n'"
      ]
     },
     "execution_count": 67,
     "metadata": {},
     "output_type": "execute_result"
    }
   ],
   "source": [
    "\"\"\"\n",
    "monday_hourly_trend = mon_h_grp\n",
    "sns.catplot(y=\"ride_id\", x=\"day_hour\", hue=\"member_casual\", data = monday_hourly_trend, aspect = 3).set(title = 'Monday Hourly User Trend ')\n",
    "plt.xlabel(\"Day Hour\",fontsize=10)\n",
    "plt.ylabel(\"Number of Rides\",fontsize=10)\n",
    "plt.show()\n",
    "\"\"\""
   ]
  },
  {
   "cell_type": "code",
   "execution_count": 68,
   "id": "64ac6b1d",
   "metadata": {
    "execution": {
     "iopub.execute_input": "2023-03-05T16:02:28.933249Z",
     "iopub.status.busy": "2023-03-05T16:02:28.932115Z",
     "iopub.status.idle": "2023-03-05T16:02:28.940296Z",
     "shell.execute_reply": "2023-03-05T16:02:28.938922Z"
    },
    "papermill": {
     "duration": 0.057799,
     "end_time": "2023-03-05T16:02:28.943200",
     "exception": false,
     "start_time": "2023-03-05T16:02:28.885401",
     "status": "completed"
    },
    "tags": []
   },
   "outputs": [
    {
     "data": {
      "text/plain": [
       "\"\\ntueday = filtered_df[filtered_df['day_of_week'] == 2]\\ntueday_hourly = tueday[['day_hour', 'ride_id', 'member_casual','day_of_week']]\\ntue_h_grp = tueday_hourly.groupby(['day_hour','member_casual'])['ride_id'].count().reset_index()\\ntue_h_grp.head()\\n\""
      ]
     },
     "execution_count": 68,
     "metadata": {},
     "output_type": "execute_result"
    }
   ],
   "source": [
    "\"\"\"\n",
    "tueday = filtered_df[filtered_df['day_of_week'] == 2]\n",
    "tueday_hourly = tueday[['day_hour', 'ride_id', 'member_casual','day_of_week']]\n",
    "tue_h_grp = tueday_hourly.groupby(['day_hour','member_casual'])['ride_id'].count().reset_index()\n",
    "tue_h_grp.head()\n",
    "\"\"\""
   ]
  },
  {
   "cell_type": "code",
   "execution_count": 69,
   "id": "cf7350cc",
   "metadata": {
    "execution": {
     "iopub.execute_input": "2023-03-05T16:02:29.058408Z",
     "iopub.status.busy": "2023-03-05T16:02:29.056974Z",
     "iopub.status.idle": "2023-03-05T16:02:29.067652Z",
     "shell.execute_reply": "2023-03-05T16:02:29.066212Z"
    },
    "papermill": {
     "duration": 0.081716,
     "end_time": "2023-03-05T16:02:29.070709",
     "exception": false,
     "start_time": "2023-03-05T16:02:28.988993",
     "status": "completed"
    },
    "tags": []
   },
   "outputs": [
    {
     "data": {
      "text/plain": [
       "'\\nsns.catplot(y=\"ride_id\", x=\"day_hour\", hue=\"member_casual\", data = tue_h_grp, aspect = 3).set(title = \\'Tueday Hourly User Trend \\')\\nplt.xlabel(\"Day Hour\",fontsize=10)\\nplt.ylabel(\"Number of Rides\",fontsize=10)\\nplt.show()\\n'"
      ]
     },
     "execution_count": 69,
     "metadata": {},
     "output_type": "execute_result"
    }
   ],
   "source": [
    "\"\"\"\n",
    "sns.catplot(y=\"ride_id\", x=\"day_hour\", hue=\"member_casual\", data = tue_h_grp, aspect = 3).set(title = 'Tueday Hourly User Trend ')\n",
    "plt.xlabel(\"Day Hour\",fontsize=10)\n",
    "plt.ylabel(\"Number of Rides\",fontsize=10)\n",
    "plt.show()\n",
    "\"\"\""
   ]
  },
  {
   "cell_type": "markdown",
   "id": "7a596f66",
   "metadata": {
    "papermill": {
     "duration": 0.04548,
     "end_time": "2023-03-05T16:02:29.170245",
     "exception": false,
     "start_time": "2023-03-05T16:02:29.124765",
     "status": "completed"
    },
    "tags": []
   },
   "source": [
    "Unlike Friday and Satuarday, Sunday numbers are similar to that of annual hourly trends of each day.\n",
    "* Most number of rides are occuring between  15:00 to 19:00 hours.\n",
    "* Monday and Tuesday also follows the annual hourly trend."
   ]
  },
  {
   "cell_type": "markdown",
   "id": "1ef6375c",
   "metadata": {
    "papermill": {
     "duration": 0.044342,
     "end_time": "2023-03-05T16:02:29.259635",
     "exception": false,
     "start_time": "2023-03-05T16:02:29.215293",
     "status": "completed"
    },
    "tags": []
   },
   "source": [
    "### Ride Durattion of Users:"
   ]
  },
  {
   "cell_type": "code",
   "execution_count": 70,
   "id": "aaff5121",
   "metadata": {
    "execution": {
     "iopub.execute_input": "2023-03-05T16:02:29.353874Z",
     "iopub.status.busy": "2023-03-05T16:02:29.352954Z",
     "iopub.status.idle": "2023-03-05T16:02:29.359247Z",
     "shell.execute_reply": "2023-03-05T16:02:29.358281Z"
    },
    "papermill": {
     "duration": 0.056209,
     "end_time": "2023-03-05T16:02:29.362146",
     "exception": false,
     "start_time": "2023-03-05T16:02:29.305937",
     "status": "completed"
    },
    "tags": []
   },
   "outputs": [],
   "source": [
    "#duration_month = filtered_df[['ride_duration_minutes', 'month', 'member_casual']]\n",
    "#sns.catplot(y=\"ride_duration_minutes\", x=\"month\", hue=\"member_casual\", data = duration_month, aspect = 3).set(title = 'Monthly Ride Duration Trend ')\n",
    "#plt.xlabel(\"Month\",fontsize=20)\n",
    "#plt.ylabel(\"Ride duration in minutes\",fontsize=20)\n",
    "#plt.show()\n",
    "# These plots will take much longer to render, we have already get these insights from our monthly Average ride time analysis"
   ]
  },
  {
   "cell_type": "markdown",
   "id": "2da0339e",
   "metadata": {
    "papermill": {
     "duration": 0.046927,
     "end_time": "2023-03-05T16:02:29.456004",
     "exception": false,
     "start_time": "2023-03-05T16:02:29.409077",
     "status": "completed"
    },
    "tags": []
   },
   "source": [
    "There are some outliers in the ride duaration of users (ride duration> 2000 minutes), those points are predominantly belong to the casual riders. Let's filter them out for a more clear picture."
   ]
  },
  {
   "cell_type": "code",
   "execution_count": 71,
   "id": "703c2e32",
   "metadata": {
    "execution": {
     "iopub.execute_input": "2023-03-05T16:02:29.552469Z",
     "iopub.status.busy": "2023-03-05T16:02:29.551544Z",
     "iopub.status.idle": "2023-03-05T16:02:29.557343Z",
     "shell.execute_reply": "2023-03-05T16:02:29.556260Z"
    },
    "papermill": {
     "duration": 0.057644,
     "end_time": "2023-03-05T16:02:29.560191",
     "exception": false,
     "start_time": "2023-03-05T16:02:29.502547",
     "status": "completed"
    },
    "tags": []
   },
   "outputs": [],
   "source": [
    "#duration_month = duration_month[duration_month['ride_duration_minutes'] < 2000]\n",
    "#sns.catplot(y=\"ride_duration_minutes\", x=\"month\", hue=\"member_casual\", data = duration_month, aspect = 3).set(title = 'Monthly Ride Duration Trend ')\n",
    "#plt.xlabel(\"Month\",fontsize=10)\n",
    "#plt.ylabel(\"Ride duration in minutes\",fontsize=10)\n",
    "#plt.show()\n",
    "#These plots will take much longer to render, we have already get these insights from our monthly Average ride time analysis"
   ]
  },
  {
   "cell_type": "markdown",
   "id": "3c8679ac",
   "metadata": {
    "papermill": {
     "duration": 0.045789,
     "end_time": "2023-03-05T16:02:29.720667",
     "exception": false,
     "start_time": "2023-03-05T16:02:29.674878",
     "status": "completed"
    },
    "tags": []
   },
   "source": [
    "It is evident that casual riders ride duration is longer than that of the memmer user, especially in the months from April to August. "
   ]
  },
  {
   "cell_type": "code",
   "execution_count": 72,
   "id": "44221e32",
   "metadata": {
    "execution": {
     "iopub.execute_input": "2023-03-05T16:02:29.814197Z",
     "iopub.status.busy": "2023-03-05T16:02:29.813753Z",
     "iopub.status.idle": "2023-03-05T16:02:29.819050Z",
     "shell.execute_reply": "2023-03-05T16:02:29.817633Z"
    },
    "papermill": {
     "duration": 0.055558,
     "end_time": "2023-03-05T16:02:29.821895",
     "exception": false,
     "start_time": "2023-03-05T16:02:29.766337",
     "status": "completed"
    },
    "tags": []
   },
   "outputs": [],
   "source": [
    "#filtered_df.dtypes"
   ]
  },
  {
   "cell_type": "code",
   "execution_count": 73,
   "id": "26e6f512",
   "metadata": {
    "execution": {
     "iopub.execute_input": "2023-03-05T16:02:29.916128Z",
     "iopub.status.busy": "2023-03-05T16:02:29.915258Z",
     "iopub.status.idle": "2023-03-05T16:02:29.923019Z",
     "shell.execute_reply": "2023-03-05T16:02:29.921072Z"
    },
    "papermill": {
     "duration": 0.058973,
     "end_time": "2023-03-05T16:02:29.925896",
     "exception": false,
     "start_time": "2023-03-05T16:02:29.866923",
     "status": "completed"
    },
    "tags": []
   },
   "outputs": [
    {
     "data": {
      "text/plain": [
       "\"\\nannual_trends_df = filtered_df[['ride_id', 'rideable_type','member_casual','ride_duration_minutes','month','day_of_week','day_of_month', 'day_hour']]\\nannual_trends_df.head()\\n\""
      ]
     },
     "execution_count": 73,
     "metadata": {},
     "output_type": "execute_result"
    }
   ],
   "source": [
    "\"\"\"\n",
    "annual_trends_df = filtered_df[['ride_id', 'rideable_type','member_casual','ride_duration_minutes','month','day_of_week','day_of_month', 'day_hour']]\n",
    "annual_trends_df.head()\n",
    "\"\"\""
   ]
  },
  {
   "cell_type": "code",
   "execution_count": 74,
   "id": "05b8a8b2",
   "metadata": {
    "execution": {
     "iopub.execute_input": "2023-03-05T16:02:30.022389Z",
     "iopub.status.busy": "2023-03-05T16:02:30.021468Z",
     "iopub.status.idle": "2023-03-05T16:02:30.026393Z",
     "shell.execute_reply": "2023-03-05T16:02:30.025129Z"
    },
    "papermill": {
     "duration": 0.057862,
     "end_time": "2023-03-05T16:02:30.029180",
     "exception": false,
     "start_time": "2023-03-05T16:02:29.971318",
     "status": "completed"
    },
    "tags": []
   },
   "outputs": [],
   "source": [
    "#annual_trends_df.to_csv(\"annual_trends_df.csv\",index = False )"
   ]
  }
 ],
 "metadata": {
  "kernelspec": {
   "display_name": "Python 3",
   "language": "python",
   "name": "python3"
  },
  "language_info": {
   "codemirror_mode": {
    "name": "ipython",
    "version": 3
   },
   "file_extension": ".py",
   "mimetype": "text/x-python",
   "name": "python",
   "nbconvert_exporter": "python",
   "pygments_lexer": "ipython3",
   "version": "3.7.12"
  },
  "papermill": {
   "default_parameters": {},
   "duration": 101.927999,
   "end_time": "2023-03-05T16:02:32.403450",
   "environment_variables": {},
   "exception": null,
   "input_path": "__notebook__.ipynb",
   "output_path": "__notebook__.ipynb",
   "parameters": {},
   "start_time": "2023-03-05T16:00:50.475451",
   "version": "2.4.0"
  }
 },
 "nbformat": 4,
 "nbformat_minor": 5
}
