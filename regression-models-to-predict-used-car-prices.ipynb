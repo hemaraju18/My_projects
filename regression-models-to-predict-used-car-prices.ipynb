{
 "cells": [
  {
   "cell_type": "code",
   "execution_count": 1,
   "id": "9027e9b8",
   "metadata": {
    "_cell_guid": "b1076dfc-b9ad-4769-8c92-a6c4dae69d19",
    "_uuid": "8f2839f25d086af736a60e9eeb907d3b93b6e0e5",
    "execution": {
     "iopub.execute_input": "2023-06-05T09:24:19.442367Z",
     "iopub.status.busy": "2023-06-05T09:24:19.441771Z",
     "iopub.status.idle": "2023-06-05T09:24:19.470778Z",
     "shell.execute_reply": "2023-06-05T09:24:19.469577Z"
    },
    "papermill": {
     "duration": 0.050088,
     "end_time": "2023-06-05T09:24:19.473939",
     "exception": false,
     "start_time": "2023-06-05T09:24:19.423851",
     "status": "completed"
    },
    "tags": []
   },
   "outputs": [
    {
     "name": "stdout",
     "output_type": "stream",
     "text": [
      "/kaggle/input/car-info/car_info.csv\n",
      "/kaggle/input/used-cars-price-prediction/test-data.csv\n",
      "/kaggle/input/used-cars-price-prediction/train-data.csv\n"
     ]
    }
   ],
   "source": [
    "# This Python 3 environment comes with many helpful analytics libraries installed\n",
    "# It is defined by the kaggle/python Docker image: https://github.com/kaggle/docker-python\n",
    "# For example, here's several helpful packages to load\n",
    "\n",
    "import numpy as np # linear algebra\n",
    "import pandas as pd # data processing, CSV file I/O (e.g. pd.read_csv)\n",
    "\n",
    "# Input data files are available in the read-only \"../input/\" directory\n",
    "# For example, running this (by clicking run or pressing Shift+Enter) will list all files under the input directory\n",
    "\n",
    "import os\n",
    "for dirname, _, filenames in os.walk('/kaggle/input'):\n",
    "    for filename in filenames:\n",
    "        print(os.path.join(dirname, filename))\n",
    "\n",
    "# You can write up to 20GB to the current directory (/kaggle/working/) that gets preserved as output when you create a version using \"Save & Run All\" \n",
    "# You can also write temporary files to /kaggle/temp/, but they won't be saved outside of the current session"
   ]
  },
  {
   "cell_type": "markdown",
   "id": "2e3ec3f4",
   "metadata": {
    "papermill": {
     "duration": 0.014873,
     "end_time": "2023-06-05T09:24:19.504326",
     "exception": false,
     "start_time": "2023-06-05T09:24:19.489453",
     "status": "completed"
    },
    "tags": []
   },
   "source": [
    "I'm using the dataset from bigquery_ public data. This contains the information about various features of a used car and selling price. Here Our objective is to build a regression model the performs better on predicting the selling price."
   ]
  },
  {
   "cell_type": "code",
   "execution_count": 2,
   "id": "12dbe436",
   "metadata": {
    "execution": {
     "iopub.execute_input": "2023-06-05T09:24:19.537381Z",
     "iopub.status.busy": "2023-06-05T09:24:19.536588Z",
     "iopub.status.idle": "2023-06-05T09:24:19.604614Z",
     "shell.execute_reply": "2023-06-05T09:24:19.603434Z"
    },
    "papermill": {
     "duration": 0.087922,
     "end_time": "2023-06-05T09:24:19.607413",
     "exception": false,
     "start_time": "2023-06-05T09:24:19.519491",
     "status": "completed"
    },
    "tags": []
   },
   "outputs": [
    {
     "data": {
      "text/html": [
       "<div>\n",
       "<style scoped>\n",
       "    .dataframe tbody tr th:only-of-type {\n",
       "        vertical-align: middle;\n",
       "    }\n",
       "\n",
       "    .dataframe tbody tr th {\n",
       "        vertical-align: top;\n",
       "    }\n",
       "\n",
       "    .dataframe thead th {\n",
       "        text-align: right;\n",
       "    }\n",
       "</style>\n",
       "<table border=\"1\" class=\"dataframe\">\n",
       "  <thead>\n",
       "    <tr style=\"text-align: right;\">\n",
       "      <th></th>\n",
       "      <th>make</th>\n",
       "      <th>fuel_type</th>\n",
       "      <th>num_of_doors</th>\n",
       "      <th>body_style</th>\n",
       "      <th>drive_wheels</th>\n",
       "      <th>engine_location</th>\n",
       "      <th>wheel_base</th>\n",
       "      <th>length</th>\n",
       "      <th>width</th>\n",
       "      <th>height</th>\n",
       "      <th>curb_weight</th>\n",
       "      <th>engine_type</th>\n",
       "      <th>num_of_cylinders</th>\n",
       "      <th>engine_size</th>\n",
       "      <th>fuel_system</th>\n",
       "      <th>compression_ratio</th>\n",
       "      <th>horsepower</th>\n",
       "      <th>city_mpg</th>\n",
       "      <th>highway_mpg</th>\n",
       "      <th>price</th>\n",
       "    </tr>\n",
       "  </thead>\n",
       "  <tbody>\n",
       "    <tr>\n",
       "      <th>0</th>\n",
       "      <td>jaguar</td>\n",
       "      <td>gas</td>\n",
       "      <td>four</td>\n",
       "      <td>sedan</td>\n",
       "      <td>rwd</td>\n",
       "      <td>front</td>\n",
       "      <td>113.0</td>\n",
       "      <td>199.6</td>\n",
       "      <td>69.6</td>\n",
       "      <td>52.8</td>\n",
       "      <td>4066</td>\n",
       "      <td>dohc</td>\n",
       "      <td>six</td>\n",
       "      <td>258</td>\n",
       "      <td>mpfi</td>\n",
       "      <td>8.1</td>\n",
       "      <td>176</td>\n",
       "      <td>15</td>\n",
       "      <td>19</td>\n",
       "      <td>35550</td>\n",
       "    </tr>\n",
       "    <tr>\n",
       "      <th>1</th>\n",
       "      <td>jaguar</td>\n",
       "      <td>gas</td>\n",
       "      <td>four</td>\n",
       "      <td>sedan</td>\n",
       "      <td>rwd</td>\n",
       "      <td>front</td>\n",
       "      <td>113.0</td>\n",
       "      <td>199.6</td>\n",
       "      <td>69.6</td>\n",
       "      <td>52.8</td>\n",
       "      <td>4066</td>\n",
       "      <td>dohc</td>\n",
       "      <td>six</td>\n",
       "      <td>258</td>\n",
       "      <td>mpfi</td>\n",
       "      <td>8.1</td>\n",
       "      <td>176</td>\n",
       "      <td>15</td>\n",
       "      <td>19</td>\n",
       "      <td>32250</td>\n",
       "    </tr>\n",
       "    <tr>\n",
       "      <th>2</th>\n",
       "      <td>mercedes-benz</td>\n",
       "      <td>gas</td>\n",
       "      <td>two</td>\n",
       "      <td>hardtop</td>\n",
       "      <td>rwd</td>\n",
       "      <td>front</td>\n",
       "      <td>112.0</td>\n",
       "      <td>199.2</td>\n",
       "      <td>72.0</td>\n",
       "      <td>55.4</td>\n",
       "      <td>3715</td>\n",
       "      <td>ohcv</td>\n",
       "      <td>eight</td>\n",
       "      <td>304</td>\n",
       "      <td>mpfi</td>\n",
       "      <td>8.0</td>\n",
       "      <td>184</td>\n",
       "      <td>14</td>\n",
       "      <td>16</td>\n",
       "      <td>45400</td>\n",
       "    </tr>\n",
       "    <tr>\n",
       "      <th>3</th>\n",
       "      <td>mercedes-benz</td>\n",
       "      <td>gas</td>\n",
       "      <td>four</td>\n",
       "      <td>sedan</td>\n",
       "      <td>rwd</td>\n",
       "      <td>front</td>\n",
       "      <td>120.9</td>\n",
       "      <td>208.1</td>\n",
       "      <td>71.7</td>\n",
       "      <td>56.7</td>\n",
       "      <td>3900</td>\n",
       "      <td>ohcv</td>\n",
       "      <td>eight</td>\n",
       "      <td>308</td>\n",
       "      <td>mpfi</td>\n",
       "      <td>8.0</td>\n",
       "      <td>184</td>\n",
       "      <td>14</td>\n",
       "      <td>16</td>\n",
       "      <td>40960</td>\n",
       "    </tr>\n",
       "    <tr>\n",
       "      <th>4</th>\n",
       "      <td>chevrolet</td>\n",
       "      <td>gas</td>\n",
       "      <td>two</td>\n",
       "      <td>hatchback</td>\n",
       "      <td>fwd</td>\n",
       "      <td>front</td>\n",
       "      <td>88.4</td>\n",
       "      <td>141.1</td>\n",
       "      <td>60.3</td>\n",
       "      <td>53.2</td>\n",
       "      <td>1488</td>\n",
       "      <td>l</td>\n",
       "      <td>three</td>\n",
       "      <td>61</td>\n",
       "      <td>2bbl</td>\n",
       "      <td>9.5</td>\n",
       "      <td>48</td>\n",
       "      <td>47</td>\n",
       "      <td>53</td>\n",
       "      <td>5151</td>\n",
       "    </tr>\n",
       "  </tbody>\n",
       "</table>\n",
       "</div>"
      ],
      "text/plain": [
       "            make fuel_type num_of_doors body_style drive_wheels  \\\n",
       "0         jaguar       gas         four      sedan          rwd   \n",
       "1         jaguar       gas         four      sedan          rwd   \n",
       "2  mercedes-benz       gas          two    hardtop          rwd   \n",
       "3  mercedes-benz       gas         four      sedan          rwd   \n",
       "4      chevrolet       gas          two  hatchback          fwd   \n",
       "\n",
       "  engine_location  wheel_base  length  width  height  curb_weight engine_type  \\\n",
       "0           front       113.0   199.6   69.6    52.8         4066        dohc   \n",
       "1           front       113.0   199.6   69.6    52.8         4066        dohc   \n",
       "2           front       112.0   199.2   72.0    55.4         3715        ohcv   \n",
       "3           front       120.9   208.1   71.7    56.7         3900        ohcv   \n",
       "4           front        88.4   141.1   60.3    53.2         1488           l   \n",
       "\n",
       "  num_of_cylinders  engine_size fuel_system  compression_ratio  horsepower  \\\n",
       "0              six          258        mpfi                8.1         176   \n",
       "1              six          258        mpfi                8.1         176   \n",
       "2            eight          304        mpfi                8.0         184   \n",
       "3            eight          308        mpfi                8.0         184   \n",
       "4            three           61        2bbl                9.5          48   \n",
       "\n",
       "   city_mpg  highway_mpg  price  \n",
       "0        15           19  35550  \n",
       "1        15           19  32250  \n",
       "2        14           16  45400  \n",
       "3        14           16  40960  \n",
       "4        47           53   5151  "
      ]
     },
     "execution_count": 2,
     "metadata": {},
     "output_type": "execute_result"
    }
   ],
   "source": [
    "data = pd.read_csv('/kaggle/input/car-info/car_info.csv')\n",
    "data.head()"
   ]
  },
  {
   "cell_type": "code",
   "execution_count": 3,
   "id": "cb46b478",
   "metadata": {
    "execution": {
     "iopub.execute_input": "2023-06-05T09:24:19.641688Z",
     "iopub.status.busy": "2023-06-05T09:24:19.640854Z",
     "iopub.status.idle": "2023-06-05T09:24:19.671477Z",
     "shell.execute_reply": "2023-06-05T09:24:19.670212Z"
    },
    "papermill": {
     "duration": 0.051323,
     "end_time": "2023-06-05T09:24:19.674607",
     "exception": false,
     "start_time": "2023-06-05T09:24:19.623284",
     "status": "completed"
    },
    "tags": []
   },
   "outputs": [
    {
     "name": "stdout",
     "output_type": "stream",
     "text": [
      "<class 'pandas.core.frame.DataFrame'>\n",
      "RangeIndex: 202 entries, 0 to 201\n",
      "Data columns (total 20 columns):\n",
      " #   Column             Non-Null Count  Dtype  \n",
      "---  ------             --------------  -----  \n",
      " 0   make               202 non-null    object \n",
      " 1   fuel_type          202 non-null    object \n",
      " 2   num_of_doors       202 non-null    object \n",
      " 3   body_style         202 non-null    object \n",
      " 4   drive_wheels       202 non-null    object \n",
      " 5   engine_location    202 non-null    object \n",
      " 6   wheel_base         202 non-null    float64\n",
      " 7   length             202 non-null    float64\n",
      " 8   width              202 non-null    float64\n",
      " 9   height             202 non-null    float64\n",
      " 10  curb_weight        202 non-null    int64  \n",
      " 11  engine_type        202 non-null    object \n",
      " 12  num_of_cylinders   202 non-null    object \n",
      " 13  engine_size        202 non-null    int64  \n",
      " 14  fuel_system        202 non-null    object \n",
      " 15  compression_ratio  202 non-null    float64\n",
      " 16  horsepower         202 non-null    int64  \n",
      " 17  city_mpg           202 non-null    int64  \n",
      " 18  highway_mpg        202 non-null    int64  \n",
      " 19  price              202 non-null    int64  \n",
      "dtypes: float64(5), int64(6), object(9)\n",
      "memory usage: 31.7+ KB\n"
     ]
    }
   ],
   "source": [
    "data.info()"
   ]
  },
  {
   "cell_type": "markdown",
   "id": "938cedb3",
   "metadata": {
    "papermill": {
     "duration": 0.015629,
     "end_time": "2023-06-05T09:24:19.706380",
     "exception": false,
     "start_time": "2023-06-05T09:24:19.690751",
     "status": "completed"
    },
    "tags": []
   },
   "source": [
    "## One Hot Encoding:"
   ]
  },
  {
   "cell_type": "code",
   "execution_count": 4,
   "id": "1577feab",
   "metadata": {
    "execution": {
     "iopub.execute_input": "2023-06-05T09:24:19.741442Z",
     "iopub.status.busy": "2023-06-05T09:24:19.741009Z",
     "iopub.status.idle": "2023-06-05T09:24:19.787289Z",
     "shell.execute_reply": "2023-06-05T09:24:19.785819Z"
    },
    "papermill": {
     "duration": 0.067241,
     "end_time": "2023-06-05T09:24:19.790276",
     "exception": false,
     "start_time": "2023-06-05T09:24:19.723035",
     "status": "completed"
    },
    "tags": []
   },
   "outputs": [
    {
     "name": "stderr",
     "output_type": "stream",
     "text": [
      "/tmp/ipykernel_20/2136744880.py:2: DeprecationWarning: `np.object` is a deprecated alias for the builtin `object`. To silence this warning, use `object` by itself. Doing this will not modify any behavior and is safe. \n",
      "Deprecated in NumPy 1.20; for more details and guidance: https://numpy.org/devdocs/release/1.20.0-notes.html#deprecations\n",
      "  one_hot_encode_cols = data.dtypes[data.dtypes == np.object]  # filtering by string categoricals\n"
     ]
    },
    {
     "data": {
      "text/html": [
       "<div>\n",
       "<style scoped>\n",
       "    .dataframe tbody tr th:only-of-type {\n",
       "        vertical-align: middle;\n",
       "    }\n",
       "\n",
       "    .dataframe tbody tr th {\n",
       "        vertical-align: top;\n",
       "    }\n",
       "\n",
       "    .dataframe thead th {\n",
       "        text-align: right;\n",
       "    }\n",
       "</style>\n",
       "<table border=\"1\" class=\"dataframe\">\n",
       "  <thead>\n",
       "    <tr style=\"text-align: right;\">\n",
       "      <th></th>\n",
       "      <th>wheel_base</th>\n",
       "      <th>length</th>\n",
       "      <th>width</th>\n",
       "      <th>height</th>\n",
       "      <th>curb_weight</th>\n",
       "      <th>engine_size</th>\n",
       "      <th>compression_ratio</th>\n",
       "      <th>horsepower</th>\n",
       "      <th>city_mpg</th>\n",
       "      <th>highway_mpg</th>\n",
       "      <th>...</th>\n",
       "      <th>num_of_cylinders_twelve</th>\n",
       "      <th>num_of_cylinders_two</th>\n",
       "      <th>fuel_system_1bbl</th>\n",
       "      <th>fuel_system_2bbl</th>\n",
       "      <th>fuel_system_4bbl</th>\n",
       "      <th>fuel_system_idi</th>\n",
       "      <th>fuel_system_mfi</th>\n",
       "      <th>fuel_system_mpfi</th>\n",
       "      <th>fuel_system_spdi</th>\n",
       "      <th>fuel_system_spfi</th>\n",
       "    </tr>\n",
       "  </thead>\n",
       "  <tbody>\n",
       "    <tr>\n",
       "      <th>0</th>\n",
       "      <td>113.0</td>\n",
       "      <td>199.6</td>\n",
       "      <td>69.6</td>\n",
       "      <td>52.8</td>\n",
       "      <td>4066</td>\n",
       "      <td>258</td>\n",
       "      <td>8.1</td>\n",
       "      <td>176</td>\n",
       "      <td>15</td>\n",
       "      <td>19</td>\n",
       "      <td>...</td>\n",
       "      <td>0</td>\n",
       "      <td>0</td>\n",
       "      <td>0</td>\n",
       "      <td>0</td>\n",
       "      <td>0</td>\n",
       "      <td>0</td>\n",
       "      <td>0</td>\n",
       "      <td>1</td>\n",
       "      <td>0</td>\n",
       "      <td>0</td>\n",
       "    </tr>\n",
       "    <tr>\n",
       "      <th>1</th>\n",
       "      <td>113.0</td>\n",
       "      <td>199.6</td>\n",
       "      <td>69.6</td>\n",
       "      <td>52.8</td>\n",
       "      <td>4066</td>\n",
       "      <td>258</td>\n",
       "      <td>8.1</td>\n",
       "      <td>176</td>\n",
       "      <td>15</td>\n",
       "      <td>19</td>\n",
       "      <td>...</td>\n",
       "      <td>0</td>\n",
       "      <td>0</td>\n",
       "      <td>0</td>\n",
       "      <td>0</td>\n",
       "      <td>0</td>\n",
       "      <td>0</td>\n",
       "      <td>0</td>\n",
       "      <td>1</td>\n",
       "      <td>0</td>\n",
       "      <td>0</td>\n",
       "    </tr>\n",
       "    <tr>\n",
       "      <th>2</th>\n",
       "      <td>112.0</td>\n",
       "      <td>199.2</td>\n",
       "      <td>72.0</td>\n",
       "      <td>55.4</td>\n",
       "      <td>3715</td>\n",
       "      <td>304</td>\n",
       "      <td>8.0</td>\n",
       "      <td>184</td>\n",
       "      <td>14</td>\n",
       "      <td>16</td>\n",
       "      <td>...</td>\n",
       "      <td>0</td>\n",
       "      <td>0</td>\n",
       "      <td>0</td>\n",
       "      <td>0</td>\n",
       "      <td>0</td>\n",
       "      <td>0</td>\n",
       "      <td>0</td>\n",
       "      <td>1</td>\n",
       "      <td>0</td>\n",
       "      <td>0</td>\n",
       "    </tr>\n",
       "    <tr>\n",
       "      <th>3</th>\n",
       "      <td>120.9</td>\n",
       "      <td>208.1</td>\n",
       "      <td>71.7</td>\n",
       "      <td>56.7</td>\n",
       "      <td>3900</td>\n",
       "      <td>308</td>\n",
       "      <td>8.0</td>\n",
       "      <td>184</td>\n",
       "      <td>14</td>\n",
       "      <td>16</td>\n",
       "      <td>...</td>\n",
       "      <td>0</td>\n",
       "      <td>0</td>\n",
       "      <td>0</td>\n",
       "      <td>0</td>\n",
       "      <td>0</td>\n",
       "      <td>0</td>\n",
       "      <td>0</td>\n",
       "      <td>1</td>\n",
       "      <td>0</td>\n",
       "      <td>0</td>\n",
       "    </tr>\n",
       "    <tr>\n",
       "      <th>4</th>\n",
       "      <td>88.4</td>\n",
       "      <td>141.1</td>\n",
       "      <td>60.3</td>\n",
       "      <td>53.2</td>\n",
       "      <td>1488</td>\n",
       "      <td>61</td>\n",
       "      <td>9.5</td>\n",
       "      <td>48</td>\n",
       "      <td>47</td>\n",
       "      <td>53</td>\n",
       "      <td>...</td>\n",
       "      <td>0</td>\n",
       "      <td>0</td>\n",
       "      <td>0</td>\n",
       "      <td>1</td>\n",
       "      <td>0</td>\n",
       "      <td>0</td>\n",
       "      <td>0</td>\n",
       "      <td>0</td>\n",
       "      <td>0</td>\n",
       "      <td>0</td>\n",
       "    </tr>\n",
       "  </tbody>\n",
       "</table>\n",
       "<p>5 rows × 68 columns</p>\n",
       "</div>"
      ],
      "text/plain": [
       "   wheel_base  length  width  height  curb_weight  engine_size  \\\n",
       "0       113.0   199.6   69.6    52.8         4066          258   \n",
       "1       113.0   199.6   69.6    52.8         4066          258   \n",
       "2       112.0   199.2   72.0    55.4         3715          304   \n",
       "3       120.9   208.1   71.7    56.7         3900          308   \n",
       "4        88.4   141.1   60.3    53.2         1488           61   \n",
       "\n",
       "   compression_ratio  horsepower  city_mpg  highway_mpg  ...  \\\n",
       "0                8.1         176        15           19  ...   \n",
       "1                8.1         176        15           19  ...   \n",
       "2                8.0         184        14           16  ...   \n",
       "3                8.0         184        14           16  ...   \n",
       "4                9.5          48        47           53  ...   \n",
       "\n",
       "   num_of_cylinders_twelve  num_of_cylinders_two  fuel_system_1bbl  \\\n",
       "0                        0                     0                 0   \n",
       "1                        0                     0                 0   \n",
       "2                        0                     0                 0   \n",
       "3                        0                     0                 0   \n",
       "4                        0                     0                 0   \n",
       "\n",
       "   fuel_system_2bbl  fuel_system_4bbl  fuel_system_idi  fuel_system_mfi  \\\n",
       "0                 0                 0                0                0   \n",
       "1                 0                 0                0                0   \n",
       "2                 0                 0                0                0   \n",
       "3                 0                 0                0                0   \n",
       "4                 1                 0                0                0   \n",
       "\n",
       "   fuel_system_mpfi  fuel_system_spdi  fuel_system_spfi  \n",
       "0                 1                 0                 0  \n",
       "1                 1                 0                 0  \n",
       "2                 1                 0                 0  \n",
       "3                 1                 0                 0  \n",
       "4                 0                 0                 0  \n",
       "\n",
       "[5 rows x 68 columns]"
      ]
     },
     "execution_count": 4,
     "metadata": {},
     "output_type": "execute_result"
    }
   ],
   "source": [
    "# Get a Pd.Series consisting of all the string categoricals\n",
    "one_hot_encode_cols = data.dtypes[data.dtypes == np.object]  # filtering by string categoricals\n",
    "one_hot_encode_cols = one_hot_encode_cols.index.tolist()  # list of categorical fields\n",
    "\n",
    "# Here we see another way of one-hot-encoding:\n",
    "# Encode these columns as categoricals so one hot encoding works on split data (if desired)\n",
    "for col in one_hot_encode_cols:\n",
    "    data[col] = pd.Categorical(data[col])\n",
    "\n",
    "# Do the one hot encoding\n",
    "data = pd.get_dummies(data, columns=one_hot_encode_cols)\n",
    "data.head()"
   ]
  },
  {
   "cell_type": "code",
   "execution_count": 5,
   "id": "5e5f379c",
   "metadata": {
    "execution": {
     "iopub.execute_input": "2023-06-05T09:24:19.825896Z",
     "iopub.status.busy": "2023-06-05T09:24:19.825400Z",
     "iopub.status.idle": "2023-06-05T09:24:19.832604Z",
     "shell.execute_reply": "2023-06-05T09:24:19.831185Z"
    },
    "papermill": {
     "duration": 0.028242,
     "end_time": "2023-06-05T09:24:19.835093",
     "exception": false,
     "start_time": "2023-06-05T09:24:19.806851",
     "status": "completed"
    },
    "tags": []
   },
   "outputs": [],
   "source": [
    "y_col = \"price\"\n",
    "\n",
    "X = data.drop(y_col, axis=1)\n",
    "y = data[y_col]"
   ]
  },
  {
   "cell_type": "markdown",
   "id": "334e0d3d",
   "metadata": {
    "papermill": {
     "duration": 0.016216,
     "end_time": "2023-06-05T09:24:19.867875",
     "exception": false,
     "start_time": "2023-06-05T09:24:19.851659",
     "status": "completed"
    },
    "tags": []
   },
   "source": [
    "### Standard Scaling:"
   ]
  },
  {
   "cell_type": "code",
   "execution_count": 6,
   "id": "6fd5645a",
   "metadata": {
    "execution": {
     "iopub.execute_input": "2023-06-05T09:24:19.902980Z",
     "iopub.status.busy": "2023-06-05T09:24:19.902552Z",
     "iopub.status.idle": "2023-06-05T09:24:21.340965Z",
     "shell.execute_reply": "2023-06-05T09:24:21.339782Z"
    },
    "papermill": {
     "duration": 1.459878,
     "end_time": "2023-06-05T09:24:21.344181",
     "exception": false,
     "start_time": "2023-06-05T09:24:19.884303",
     "status": "completed"
    },
    "tags": []
   },
   "outputs": [],
   "source": [
    "from sklearn.preprocessing import StandardScaler\n",
    "\n",
    "s = StandardScaler()\n",
    "X_ss = s.fit_transform(X)"
   ]
  },
  {
   "cell_type": "markdown",
   "id": "3ac3b767",
   "metadata": {
    "papermill": {
     "duration": 0.016201,
     "end_time": "2023-06-05T09:24:21.377921",
     "exception": false,
     "start_time": "2023-06-05T09:24:21.361720",
     "status": "completed"
    },
    "tags": []
   },
   "source": [
    "### Create Polynomial Features:"
   ]
  },
  {
   "cell_type": "code",
   "execution_count": 7,
   "id": "26a0f1be",
   "metadata": {
    "execution": {
     "iopub.execute_input": "2023-06-05T09:24:21.413488Z",
     "iopub.status.busy": "2023-06-05T09:24:21.412715Z",
     "iopub.status.idle": "2023-06-05T09:24:21.417848Z",
     "shell.execute_reply": "2023-06-05T09:24:21.416609Z"
    },
    "papermill": {
     "duration": 0.0262,
     "end_time": "2023-06-05T09:24:21.420842",
     "exception": false,
     "start_time": "2023-06-05T09:24:21.394642",
     "status": "completed"
    },
    "tags": []
   },
   "outputs": [],
   "source": [
    "from sklearn.preprocessing import PolynomialFeatures"
   ]
  },
  {
   "cell_type": "code",
   "execution_count": 8,
   "id": "46d07080",
   "metadata": {
    "execution": {
     "iopub.execute_input": "2023-06-05T09:24:21.455785Z",
     "iopub.status.busy": "2023-06-05T09:24:21.455246Z",
     "iopub.status.idle": "2023-06-05T09:24:21.472392Z",
     "shell.execute_reply": "2023-06-05T09:24:21.471134Z"
    },
    "papermill": {
     "duration": 0.038147,
     "end_time": "2023-06-05T09:24:21.475605",
     "exception": false,
     "start_time": "2023-06-05T09:24:21.437458",
     "status": "completed"
    },
    "tags": []
   },
   "outputs": [],
   "source": [
    "pf = PolynomialFeatures(degree=2, include_bias=False,)\n",
    "X_pf = pf.fit_transform(X)"
   ]
  },
  {
   "cell_type": "markdown",
   "id": "2b5b1e2d",
   "metadata": {
    "papermill": {
     "duration": 0.01646,
     "end_time": "2023-06-05T09:24:21.508638",
     "exception": false,
     "start_time": "2023-06-05T09:24:21.492178",
     "status": "completed"
    },
    "tags": []
   },
   "source": [
    "Let's import  **train_test_split()**"
   ]
  },
  {
   "cell_type": "code",
   "execution_count": 9,
   "id": "6260c556",
   "metadata": {
    "execution": {
     "iopub.execute_input": "2023-06-05T09:24:21.544263Z",
     "iopub.status.busy": "2023-06-05T09:24:21.543825Z",
     "iopub.status.idle": "2023-06-05T09:24:21.667161Z",
     "shell.execute_reply": "2023-06-05T09:24:21.665920Z"
    },
    "papermill": {
     "duration": 0.144607,
     "end_time": "2023-06-05T09:24:21.670268",
     "exception": false,
     "start_time": "2023-06-05T09:24:21.525661",
     "status": "completed"
    },
    "tags": []
   },
   "outputs": [],
   "source": [
    "from sklearn.model_selection import train_test_split"
   ]
  },
  {
   "cell_type": "code",
   "execution_count": 10,
   "id": "df056525",
   "metadata": {
    "execution": {
     "iopub.execute_input": "2023-06-05T09:24:21.705524Z",
     "iopub.status.busy": "2023-06-05T09:24:21.705055Z",
     "iopub.status.idle": "2023-06-05T09:24:21.717114Z",
     "shell.execute_reply": "2023-06-05T09:24:21.715938Z"
    },
    "papermill": {
     "duration": 0.033164,
     "end_time": "2023-06-05T09:24:21.720017",
     "exception": false,
     "start_time": "2023-06-05T09:24:21.686853",
     "status": "completed"
    },
    "tags": []
   },
   "outputs": [],
   "source": [
    "X_train, X_test, y_train, y_test = train_test_split(X_pf, y, test_size=0.3, \n",
    "                                                    random_state=72018)"
   ]
  },
  {
   "cell_type": "markdown",
   "id": "544c092f",
   "metadata": {
    "papermill": {
     "duration": 0.016133,
     "end_time": "2023-06-05T09:24:21.752983",
     "exception": false,
     "start_time": "2023-06-05T09:24:21.736850",
     "status": "completed"
    },
    "tags": []
   },
   "source": [
    "# Linear Regression:"
   ]
  },
  {
   "cell_type": "code",
   "execution_count": 11,
   "id": "9c50d69c",
   "metadata": {
    "execution": {
     "iopub.execute_input": "2023-06-05T09:24:21.789131Z",
     "iopub.status.busy": "2023-06-05T09:24:21.788182Z",
     "iopub.status.idle": "2023-06-05T09:24:21.927115Z",
     "shell.execute_reply": "2023-06-05T09:24:21.925876Z"
    },
    "papermill": {
     "duration": 0.160303,
     "end_time": "2023-06-05T09:24:21.930001",
     "exception": false,
     "start_time": "2023-06-05T09:24:21.769698",
     "status": "completed"
    },
    "tags": []
   },
   "outputs": [],
   "source": [
    "from sklearn.linear_model import LinearRegression\n",
    "from sklearn.metrics import r2_score\n",
    "\n",
    "lr = LinearRegression()"
   ]
  },
  {
   "cell_type": "code",
   "execution_count": 12,
   "id": "fd2bc4f1",
   "metadata": {
    "execution": {
     "iopub.execute_input": "2023-06-05T09:24:21.969910Z",
     "iopub.status.busy": "2023-06-05T09:24:21.969385Z",
     "iopub.status.idle": "2023-06-05T09:24:22.088396Z",
     "shell.execute_reply": "2023-06-05T09:24:22.086802Z"
    },
    "papermill": {
     "duration": 0.144566,
     "end_time": "2023-06-05T09:24:22.093385",
     "exception": false,
     "start_time": "2023-06-05T09:24:21.948819",
     "status": "completed"
    },
    "tags": []
   },
   "outputs": [
    {
     "data": {
      "text/plain": [
       "-0.0025155754850745282"
      ]
     },
     "execution_count": 12,
     "metadata": {},
     "output_type": "execute_result"
    }
   ],
   "source": [
    "X_train_s = s.fit_transform(X_train)\n",
    "lr.fit(X_train_s, y_train)\n",
    "X_test_s = s.transform(X_test)\n",
    "y_pred = lr.predict(X_test_s)\n",
    "r2_score(y_pred, y_test)"
   ]
  },
  {
   "cell_type": "markdown",
   "id": "f4f48ac8",
   "metadata": {
    "papermill": {
     "duration": 0.035021,
     "end_time": "2023-06-05T09:24:22.204181",
     "exception": false,
     "start_time": "2023-06-05T09:24:22.169160",
     "status": "completed"
    },
    "tags": []
   },
   "source": [
    "**Negative R2 score is an indication of overfitting.**"
   ]
  },
  {
   "cell_type": "code",
   "execution_count": 13,
   "id": "76f2226c",
   "metadata": {
    "execution": {
     "iopub.execute_input": "2023-06-05T09:24:22.239299Z",
     "iopub.status.busy": "2023-06-05T09:24:22.238831Z",
     "iopub.status.idle": "2023-06-05T09:24:22.246690Z",
     "shell.execute_reply": "2023-06-05T09:24:22.245285Z"
    },
    "papermill": {
     "duration": 0.028832,
     "end_time": "2023-06-05T09:24:22.249605",
     "exception": false,
     "start_time": "2023-06-05T09:24:22.220773",
     "status": "completed"
    },
    "tags": []
   },
   "outputs": [
    {
     "name": "stdout",
     "output_type": "stream",
     "text": [
      "sum of coefficients: 2.6975324044581386e+17\n",
      "number of coefficients not equal to 0: 1228\n"
     ]
    }
   ],
   "source": [
    "print('sum of coefficients:', abs(lr.coef_).sum() )\n",
    "print('number of coefficients not equal to 0:', (lr.coef_!=0).sum())"
   ]
  },
  {
   "cell_type": "markdown",
   "id": "49bcdbcf",
   "metadata": {
    "papermill": {
     "duration": 0.016468,
     "end_time": "2023-06-05T09:24:22.283124",
     "exception": false,
     "start_time": "2023-06-05T09:24:22.266656",
     "status": "completed"
    },
    "tags": []
   },
   "source": [
    "# LASSO Regression:"
   ]
  },
  {
   "cell_type": "code",
   "execution_count": 14,
   "id": "288b75fb",
   "metadata": {
    "execution": {
     "iopub.execute_input": "2023-06-05T09:24:22.318373Z",
     "iopub.status.busy": "2023-06-05T09:24:22.317934Z",
     "iopub.status.idle": "2023-06-05T09:24:22.323075Z",
     "shell.execute_reply": "2023-06-05T09:24:22.321839Z"
    },
    "papermill": {
     "duration": 0.025904,
     "end_time": "2023-06-05T09:24:22.325619",
     "exception": false,
     "start_time": "2023-06-05T09:24:22.299715",
     "status": "completed"
    },
    "tags": []
   },
   "outputs": [],
   "source": [
    "from sklearn.linear_model import Lasso\n",
    "las = Lasso()"
   ]
  },
  {
   "cell_type": "code",
   "execution_count": 15,
   "id": "97b7b65c",
   "metadata": {
    "execution": {
     "iopub.execute_input": "2023-06-05T09:24:22.362094Z",
     "iopub.status.busy": "2023-06-05T09:24:22.361628Z",
     "iopub.status.idle": "2023-06-05T09:24:22.368884Z",
     "shell.execute_reply": "2023-06-05T09:24:22.367736Z"
    },
    "papermill": {
     "duration": 0.02873,
     "end_time": "2023-06-05T09:24:22.371448",
     "exception": false,
     "start_time": "2023-06-05T09:24:22.342718",
     "status": "completed"
    },
    "tags": []
   },
   "outputs": [
    {
     "data": {
      "text/plain": [
       "{'alpha': 1.0,\n",
       " 'copy_X': True,\n",
       " 'fit_intercept': True,\n",
       " 'max_iter': 1000,\n",
       " 'positive': False,\n",
       " 'precompute': False,\n",
       " 'random_state': None,\n",
       " 'selection': 'cyclic',\n",
       " 'tol': 0.0001,\n",
       " 'warm_start': False}"
      ]
     },
     "execution_count": 15,
     "metadata": {},
     "output_type": "execute_result"
    }
   ],
   "source": [
    "las.get_params()"
   ]
  },
  {
   "cell_type": "markdown",
   "id": "d8b8c2ab",
   "metadata": {
    "papermill": {
     "duration": 0.016176,
     "end_time": "2023-06-05T09:24:22.404365",
     "exception": false,
     "start_time": "2023-06-05T09:24:22.388189",
     "status": "completed"
    },
    "tags": []
   },
   "source": [
    "here the default alpha value is 1.0"
   ]
  },
  {
   "cell_type": "code",
   "execution_count": 16,
   "id": "546a998c",
   "metadata": {
    "execution": {
     "iopub.execute_input": "2023-06-05T09:24:22.439909Z",
     "iopub.status.busy": "2023-06-05T09:24:22.439436Z",
     "iopub.status.idle": "2023-06-05T09:24:22.702161Z",
     "shell.execute_reply": "2023-06-05T09:24:22.700664Z"
    },
    "papermill": {
     "duration": 0.288699,
     "end_time": "2023-06-05T09:24:22.709771",
     "exception": false,
     "start_time": "2023-06-05T09:24:22.421072",
     "status": "completed"
    },
    "tags": []
   },
   "outputs": [
    {
     "name": "stderr",
     "output_type": "stream",
     "text": [
      "/opt/conda/lib/python3.10/site-packages/sklearn/linear_model/_coordinate_descent.py:631: ConvergenceWarning: Objective did not converge. You might want to increase the number of iterations, check the scale of the features or consider increasing regularisation. Duality gap: 1.343e+07, tolerance: 8.563e+05\n",
      "  model = cd_fast.enet_coordinate_descent(\n"
     ]
    },
    {
     "data": {
      "text/plain": [
       "0.8270188562955525"
      ]
     },
     "execution_count": 16,
     "metadata": {},
     "output_type": "execute_result"
    }
   ],
   "source": [
    "las.fit(X_train_s, y_train)\n",
    "y_pred = las.predict(X_test_s)\n",
    "r2_score(y_pred, y_test)"
   ]
  },
  {
   "cell_type": "code",
   "execution_count": 17,
   "id": "d7c6af9c",
   "metadata": {
    "execution": {
     "iopub.execute_input": "2023-06-05T09:24:22.824330Z",
     "iopub.status.busy": "2023-06-05T09:24:22.823863Z",
     "iopub.status.idle": "2023-06-05T09:24:22.830790Z",
     "shell.execute_reply": "2023-06-05T09:24:22.829669Z"
    },
    "papermill": {
     "duration": 0.048573,
     "end_time": "2023-06-05T09:24:22.833050",
     "exception": false,
     "start_time": "2023-06-05T09:24:22.784477",
     "status": "completed"
    },
    "tags": []
   },
   "outputs": [
    {
     "name": "stdout",
     "output_type": "stream",
     "text": [
      "sum of coefficients: 79832.42588005627\n",
      "number of coefficients not equal to 0: 329\n"
     ]
    }
   ],
   "source": [
    "print('sum of coefficients:', abs(las.coef_).sum() )\n",
    "print('number of coefficients not equal to 0:', (las.coef_!=0).sum())"
   ]
  },
  {
   "cell_type": "markdown",
   "id": "472fba21",
   "metadata": {
    "papermill": {
     "duration": 0.017348,
     "end_time": "2023-06-05T09:24:22.867463",
     "exception": false,
     "start_time": "2023-06-05T09:24:22.850115",
     "status": "completed"
    },
    "tags": []
   },
   "source": [
    "LASSO model has zeroed almost 900 coefficients as compared to the linear regression. "
   ]
  },
  {
   "cell_type": "code",
   "execution_count": 18,
   "id": "e7a57cae",
   "metadata": {
    "execution": {
     "iopub.execute_input": "2023-06-05T09:24:22.904432Z",
     "iopub.status.busy": "2023-06-05T09:24:22.903605Z",
     "iopub.status.idle": "2023-06-05T09:24:23.212330Z",
     "shell.execute_reply": "2023-06-05T09:24:23.210567Z"
    },
    "papermill": {
     "duration": 0.334497,
     "end_time": "2023-06-05T09:24:23.219362",
     "exception": false,
     "start_time": "2023-06-05T09:24:22.884865",
     "status": "completed"
    },
    "tags": []
   },
   "outputs": [
    {
     "name": "stderr",
     "output_type": "stream",
     "text": [
      "/opt/conda/lib/python3.10/site-packages/sklearn/linear_model/_coordinate_descent.py:631: ConvergenceWarning: Objective did not converge. You might want to increase the number of iterations, check the scale of the features or consider increasing regularisation. Duality gap: 1.625e+07, tolerance: 8.563e+05\n",
      "  model = cd_fast.enet_coordinate_descent(\n"
     ]
    },
    {
     "data": {
      "text/plain": [
       "0.7580658274723976"
      ]
     },
     "execution_count": 18,
     "metadata": {},
     "output_type": "execute_result"
    }
   ],
   "source": [
    "las01 = Lasso(alpha = 0.1)\n",
    "las01.fit(X_train_s, y_train)\n",
    "y_pred = las01.predict(X_test_s)\n",
    "r2_score(y_pred, y_test)"
   ]
  },
  {
   "cell_type": "code",
   "execution_count": 19,
   "id": "22e38758",
   "metadata": {
    "execution": {
     "iopub.execute_input": "2023-06-05T09:24:23.331398Z",
     "iopub.status.busy": "2023-06-05T09:24:23.330929Z",
     "iopub.status.idle": "2023-06-05T09:24:23.559162Z",
     "shell.execute_reply": "2023-06-05T09:24:23.556570Z"
    },
    "papermill": {
     "duration": 0.25597,
     "end_time": "2023-06-05T09:24:23.564848",
     "exception": false,
     "start_time": "2023-06-05T09:24:23.308878",
     "status": "completed"
    },
    "tags": []
   },
   "outputs": [
    {
     "name": "stderr",
     "output_type": "stream",
     "text": [
      "/opt/conda/lib/python3.10/site-packages/sklearn/linear_model/_coordinate_descent.py:631: ConvergenceWarning: Objective did not converge. You might want to increase the number of iterations, check the scale of the features or consider increasing regularisation. Duality gap: 3.224e+06, tolerance: 8.563e+05\n",
      "  model = cd_fast.enet_coordinate_descent(\n"
     ]
    },
    {
     "data": {
      "text/plain": [
       "0.8897804886259021"
      ]
     },
     "execution_count": 19,
     "metadata": {},
     "output_type": "execute_result"
    }
   ],
   "source": [
    "las02 = Lasso(alpha = 10)\n",
    "las02.fit(X_train_s, y_train)\n",
    "y_pred = las02.predict(X_test_s)\n",
    "r2_score(y_pred, y_test)"
   ]
  },
  {
   "cell_type": "code",
   "execution_count": 20,
   "id": "40e5a85a",
   "metadata": {
    "execution": {
     "iopub.execute_input": "2023-06-05T09:24:23.678950Z",
     "iopub.status.busy": "2023-06-05T09:24:23.678448Z",
     "iopub.status.idle": "2023-06-05T09:24:23.905325Z",
     "shell.execute_reply": "2023-06-05T09:24:23.903576Z"
    },
    "papermill": {
     "duration": 0.274628,
     "end_time": "2023-06-05T09:24:23.911643",
     "exception": false,
     "start_time": "2023-06-05T09:24:23.637015",
     "status": "completed"
    },
    "tags": []
   },
   "outputs": [
    {
     "name": "stderr",
     "output_type": "stream",
     "text": [
      "/opt/conda/lib/python3.10/site-packages/sklearn/linear_model/_coordinate_descent.py:631: ConvergenceWarning: Objective did not converge. You might want to increase the number of iterations, check the scale of the features or consider increasing regularisation. Duality gap: 3.511e+06, tolerance: 8.563e+05\n",
      "  model = cd_fast.enet_coordinate_descent(\n"
     ]
    },
    {
     "data": {
      "text/plain": [
       "0.9085692102467545"
      ]
     },
     "execution_count": 20,
     "metadata": {},
     "output_type": "execute_result"
    }
   ],
   "source": [
    "las03 = Lasso(alpha = 20)\n",
    "las03.fit(X_train_s, y_train)\n",
    "y_pred = las03.predict(X_test_s)\n",
    "r2_score(y_pred, y_test)"
   ]
  },
  {
   "cell_type": "code",
   "execution_count": 21,
   "id": "f47c3516",
   "metadata": {
    "execution": {
     "iopub.execute_input": "2023-06-05T09:24:24.025754Z",
     "iopub.status.busy": "2023-06-05T09:24:24.025258Z",
     "iopub.status.idle": "2023-06-05T09:24:24.253083Z",
     "shell.execute_reply": "2023-06-05T09:24:24.251723Z"
    },
    "papermill": {
     "duration": 0.258621,
     "end_time": "2023-06-05T09:24:24.257572",
     "exception": false,
     "start_time": "2023-06-05T09:24:23.998951",
     "status": "completed"
    },
    "tags": []
   },
   "outputs": [
    {
     "name": "stderr",
     "output_type": "stream",
     "text": [
      "/opt/conda/lib/python3.10/site-packages/sklearn/linear_model/_coordinate_descent.py:631: ConvergenceWarning: Objective did not converge. You might want to increase the number of iterations, check the scale of the features or consider increasing regularisation. Duality gap: 1.752e+06, tolerance: 8.563e+05\n",
      "  model = cd_fast.enet_coordinate_descent(\n"
     ]
    },
    {
     "data": {
      "text/plain": [
       "0.9114555249887019"
      ]
     },
     "execution_count": 21,
     "metadata": {},
     "output_type": "execute_result"
    }
   ],
   "source": [
    "las04 = Lasso(alpha = 30)\n",
    "las04.fit(X_train_s, y_train)\n",
    "y_pred = las04.predict(X_test_s)\n",
    "r2_score(y_pred, y_test)"
   ]
  },
  {
   "cell_type": "code",
   "execution_count": 22,
   "id": "2d73cd08",
   "metadata": {
    "execution": {
     "iopub.execute_input": "2023-06-05T09:24:24.368332Z",
     "iopub.status.busy": "2023-06-05T09:24:24.367894Z",
     "iopub.status.idle": "2023-06-05T09:24:24.591103Z",
     "shell.execute_reply": "2023-06-05T09:24:24.589792Z"
    },
    "papermill": {
     "duration": 0.263852,
     "end_time": "2023-06-05T09:24:24.595477",
     "exception": false,
     "start_time": "2023-06-05T09:24:24.331625",
     "status": "completed"
    },
    "tags": []
   },
   "outputs": [
    {
     "name": "stderr",
     "output_type": "stream",
     "text": [
      "/opt/conda/lib/python3.10/site-packages/sklearn/linear_model/_coordinate_descent.py:631: ConvergenceWarning: Objective did not converge. You might want to increase the number of iterations, check the scale of the features or consider increasing regularisation. Duality gap: 1.897e+06, tolerance: 8.563e+05\n",
      "  model = cd_fast.enet_coordinate_descent(\n"
     ]
    },
    {
     "data": {
      "text/plain": [
       "0.9132957664186109"
      ]
     },
     "execution_count": 22,
     "metadata": {},
     "output_type": "execute_result"
    }
   ],
   "source": [
    "las05 = Lasso(alpha = 50)\n",
    "las05.fit(X_train_s, y_train)\n",
    "y_pred = las05.predict(X_test_s)\n",
    "r2_score(y_pred, y_test)"
   ]
  },
  {
   "cell_type": "code",
   "execution_count": 23,
   "id": "fc1a9f2b",
   "metadata": {
    "execution": {
     "iopub.execute_input": "2023-06-05T09:24:24.707240Z",
     "iopub.status.busy": "2023-06-05T09:24:24.706792Z",
     "iopub.status.idle": "2023-06-05T09:24:24.924528Z",
     "shell.execute_reply": "2023-06-05T09:24:24.923169Z"
    },
    "papermill": {
     "duration": 0.259918,
     "end_time": "2023-06-05T09:24:24.928515",
     "exception": false,
     "start_time": "2023-06-05T09:24:24.668597",
     "status": "completed"
    },
    "tags": []
   },
   "outputs": [
    {
     "data": {
      "text/plain": [
       "0.9296272949606567"
      ]
     },
     "execution_count": 23,
     "metadata": {},
     "output_type": "execute_result"
    }
   ],
   "source": [
    "las06 = Lasso(alpha = 100)\n",
    "las06.fit(X_train_s, y_train)\n",
    "y_pred = las06.predict(X_test_s)\n",
    "r2_score(y_pred, y_test)"
   ]
  },
  {
   "cell_type": "code",
   "execution_count": 24,
   "id": "dc7c9ae0",
   "metadata": {
    "execution": {
     "iopub.execute_input": "2023-06-05T09:24:25.041758Z",
     "iopub.status.busy": "2023-06-05T09:24:25.041266Z",
     "iopub.status.idle": "2023-06-05T09:24:25.269483Z",
     "shell.execute_reply": "2023-06-05T09:24:25.268056Z"
    },
    "papermill": {
     "duration": 0.272786,
     "end_time": "2023-06-05T09:24:25.273879",
     "exception": false,
     "start_time": "2023-06-05T09:24:25.001093",
     "status": "completed"
    },
    "tags": []
   },
   "outputs": [
    {
     "data": {
      "text/plain": [
       "0.9264581283164819"
      ]
     },
     "execution_count": 24,
     "metadata": {},
     "output_type": "execute_result"
    }
   ],
   "source": [
    "las07 = Lasso(alpha = 150)\n",
    "las07.fit(X_train_s, y_train)\n",
    "y_pred = las07.predict(X_test_s)\n",
    "r2_score(y_pred, y_test)"
   ]
  },
  {
   "cell_type": "code",
   "execution_count": 25,
   "id": "57ad4d4b",
   "metadata": {
    "execution": {
     "iopub.execute_input": "2023-06-05T09:24:25.386579Z",
     "iopub.status.busy": "2023-06-05T09:24:25.386110Z",
     "iopub.status.idle": "2023-06-05T09:24:25.602034Z",
     "shell.execute_reply": "2023-06-05T09:24:25.600746Z"
    },
    "papermill": {
     "duration": 0.259425,
     "end_time": "2023-06-05T09:24:25.606431",
     "exception": false,
     "start_time": "2023-06-05T09:24:25.347006",
     "status": "completed"
    },
    "tags": []
   },
   "outputs": [
    {
     "data": {
      "text/plain": [
       "0.9106139746407593"
      ]
     },
     "execution_count": 25,
     "metadata": {},
     "output_type": "execute_result"
    }
   ],
   "source": [
    "las08 = Lasso(alpha = 250)\n",
    "las08.fit(X_train_s, y_train)\n",
    "y_pred = las08.predict(X_test_s)\n",
    "r2_score(y_pred, y_test)"
   ]
  },
  {
   "cell_type": "code",
   "execution_count": 26,
   "id": "c089040b",
   "metadata": {
    "execution": {
     "iopub.execute_input": "2023-06-05T09:24:25.719217Z",
     "iopub.status.busy": "2023-06-05T09:24:25.718774Z",
     "iopub.status.idle": "2023-06-05T09:24:25.918642Z",
     "shell.execute_reply": "2023-06-05T09:24:25.916993Z"
    },
    "papermill": {
     "duration": 0.241364,
     "end_time": "2023-06-05T09:24:25.923264",
     "exception": false,
     "start_time": "2023-06-05T09:24:25.681900",
     "status": "completed"
    },
    "tags": []
   },
   "outputs": [
    {
     "data": {
      "text/plain": [
       "0.6783513592615316"
      ]
     },
     "execution_count": 26,
     "metadata": {},
     "output_type": "execute_result"
    }
   ],
   "source": [
    "las09 = Lasso(alpha = 1000)\n",
    "las09.fit(X_train_s, y_train)\n",
    "y_pred = las09.predict(X_test_s)\n",
    "r2_score(y_pred, y_test)"
   ]
  },
  {
   "cell_type": "markdown",
   "id": "f648452a",
   "metadata": {
    "papermill": {
     "duration": 0.028778,
     "end_time": "2023-06-05T09:24:26.036738",
     "exception": false,
     "start_time": "2023-06-05T09:24:26.007960",
     "status": "completed"
    },
    "tags": []
   },
   "source": [
    "We can see that the Lasso regression has successfully countered the overfitting. Initially the model performance got increased with alpha but upto certain limit only. The model is best performing for alpha =100 "
   ]
  },
  {
   "cell_type": "code",
   "execution_count": 27,
   "id": "619d9e86",
   "metadata": {
    "execution": {
     "iopub.execute_input": "2023-06-05T09:24:26.076664Z",
     "iopub.status.busy": "2023-06-05T09:24:26.076168Z",
     "iopub.status.idle": "2023-06-05T09:24:30.059850Z",
     "shell.execute_reply": "2023-06-05T09:24:30.058598Z"
    },
    "papermill": {
     "duration": 4.008218,
     "end_time": "2023-06-05T09:24:30.063842",
     "exception": false,
     "start_time": "2023-06-05T09:24:26.055624",
     "status": "completed"
    },
    "tags": []
   },
   "outputs": [
    {
     "name": "stderr",
     "output_type": "stream",
     "text": [
      "/opt/conda/lib/python3.10/site-packages/sklearn/linear_model/_coordinate_descent.py:631: ConvergenceWarning: Objective did not converge. You might want to increase the number of iterations, check the scale of the features or consider increasing regularisation. Duality gap: 1.507e+07, tolerance: 8.563e+05\n",
      "  model = cd_fast.enet_coordinate_descent(\n",
      "/opt/conda/lib/python3.10/site-packages/sklearn/linear_model/_coordinate_descent.py:631: ConvergenceWarning: Objective did not converge. You might want to increase the number of iterations, check the scale of the features or consider increasing regularisation. Duality gap: 1.522e+07, tolerance: 8.563e+05\n",
      "  model = cd_fast.enet_coordinate_descent(\n",
      "/opt/conda/lib/python3.10/site-packages/sklearn/linear_model/_coordinate_descent.py:631: ConvergenceWarning: Objective did not converge. You might want to increase the number of iterations, check the scale of the features or consider increasing regularisation. Duality gap: 1.625e+07, tolerance: 8.563e+05\n",
      "  model = cd_fast.enet_coordinate_descent(\n",
      "/opt/conda/lib/python3.10/site-packages/sklearn/linear_model/_coordinate_descent.py:631: ConvergenceWarning: Objective did not converge. You might want to increase the number of iterations, check the scale of the features or consider increasing regularisation. Duality gap: 1.343e+07, tolerance: 8.563e+05\n",
      "  model = cd_fast.enet_coordinate_descent(\n",
      "/opt/conda/lib/python3.10/site-packages/sklearn/linear_model/_coordinate_descent.py:631: ConvergenceWarning: Objective did not converge. You might want to increase the number of iterations, check the scale of the features or consider increasing regularisation. Duality gap: 3.224e+06, tolerance: 8.563e+05\n",
      "  model = cd_fast.enet_coordinate_descent(\n",
      "/opt/conda/lib/python3.10/site-packages/sklearn/linear_model/_coordinate_descent.py:631: ConvergenceWarning: Objective did not converge. You might want to increase the number of iterations, check the scale of the features or consider increasing regularisation. Duality gap: 1.897e+06, tolerance: 8.563e+05\n",
      "  model = cd_fast.enet_coordinate_descent(\n"
     ]
    },
    {
     "data": {
      "image/png": "[encoded data removed]",
      "text/plain": [
       "<Figure size 640x480 with 1 Axes>"
      ]
     },
     "metadata": {},
     "output_type": "display_data"
    }
   ],
   "source": [
    "import seaborn as sns \n",
    "import matplotlib.pylab as plt\n",
    "%matplotlib inline\n",
    "\n",
    "alphas = [0.001,0.01,0.1,1,10,50,100,200,500,1000]\n",
    "R_2=[]\n",
    "coefs = []\n",
    "for alpha in alphas:\n",
    "    lasso = Lasso(alpha=alpha)\n",
    "    lasso.fit(X_train_s, y_train)\n",
    "    R_2.append(lasso.score(X_test_s,y_test))\n",
    "\n",
    "\n",
    "ax = plt.gca()\n",
    "ax.plot(alphas, R_2)\n",
    "ax.set_xscale(\"log\")\n",
    "plt.xlabel(\"alpha\")\n",
    "plt.ylabel(\"$R^2$\")\n",
    "plt.title(\"$R^2$ as a function of the regularization\")\n",
    "plt.show()          "
   ]
  },
  {
   "cell_type": "markdown",
   "id": "67822a1d",
   "metadata": {
    "papermill": {
     "duration": 0.022846,
     "end_time": "2023-06-05T09:24:30.108135",
     "exception": false,
     "start_time": "2023-06-05T09:24:30.085289",
     "status": "completed"
    },
    "tags": []
   },
   "source": [
    "# Ridge Regression:"
   ]
  },
  {
   "cell_type": "code",
   "execution_count": 28,
   "id": "8943553c",
   "metadata": {
    "execution": {
     "iopub.execute_input": "2023-06-05T09:24:30.151799Z",
     "iopub.status.busy": "2023-06-05T09:24:30.151263Z",
     "iopub.status.idle": "2023-06-05T09:24:30.156785Z",
     "shell.execute_reply": "2023-06-05T09:24:30.155788Z"
    },
    "papermill": {
     "duration": 0.031016,
     "end_time": "2023-06-05T09:24:30.159781",
     "exception": false,
     "start_time": "2023-06-05T09:24:30.128765",
     "status": "completed"
    },
    "tags": []
   },
   "outputs": [],
   "source": [
    "from sklearn.linear_model import Ridge\n",
    "r = Ridge()"
   ]
  },
  {
   "cell_type": "code",
   "execution_count": 29,
   "id": "4f2110ff",
   "metadata": {
    "execution": {
     "iopub.execute_input": "2023-06-05T09:24:30.218664Z",
     "iopub.status.busy": "2023-06-05T09:24:30.217780Z",
     "iopub.status.idle": "2023-06-05T09:24:30.226332Z",
     "shell.execute_reply": "2023-06-05T09:24:30.225165Z"
    },
    "papermill": {
     "duration": 0.041848,
     "end_time": "2023-06-05T09:24:30.229718",
     "exception": false,
     "start_time": "2023-06-05T09:24:30.187870",
     "status": "completed"
    },
    "tags": []
   },
   "outputs": [
    {
     "data": {
      "text/plain": [
       "{'alpha': 1.0,\n",
       " 'copy_X': True,\n",
       " 'fit_intercept': True,\n",
       " 'max_iter': None,\n",
       " 'positive': False,\n",
       " 'random_state': None,\n",
       " 'solver': 'auto',\n",
       " 'tol': 0.0001}"
      ]
     },
     "execution_count": 29,
     "metadata": {},
     "output_type": "execute_result"
    }
   ],
   "source": [
    "r.get_params()"
   ]
  },
  {
   "cell_type": "code",
   "execution_count": 30,
   "id": "c08bb97f",
   "metadata": {
    "execution": {
     "iopub.execute_input": "2023-06-05T09:24:30.274292Z",
     "iopub.status.busy": "2023-06-05T09:24:30.273865Z",
     "iopub.status.idle": "2023-06-05T09:24:30.348495Z",
     "shell.execute_reply": "2023-06-05T09:24:30.346213Z"
    },
    "papermill": {
     "duration": 0.100884,
     "end_time": "2023-06-05T09:24:30.352672",
     "exception": false,
     "start_time": "2023-06-05T09:24:30.251788",
     "status": "completed"
    },
    "tags": []
   },
   "outputs": [
    {
     "data": {
      "text/plain": [
       "0.8912304286021666"
      ]
     },
     "execution_count": 30,
     "metadata": {},
     "output_type": "execute_result"
    }
   ],
   "source": [
    "r.fit(X_train_s, y_train)\n",
    "y_pred = r.predict(X_test_s)\n",
    "r2_score(y_pred, y_test)"
   ]
  },
  {
   "cell_type": "code",
   "execution_count": 31,
   "id": "e6bd9929",
   "metadata": {
    "execution": {
     "iopub.execute_input": "2023-06-05T09:24:30.429245Z",
     "iopub.status.busy": "2023-06-05T09:24:30.428358Z",
     "iopub.status.idle": "2023-06-05T09:24:30.438809Z",
     "shell.execute_reply": "2023-06-05T09:24:30.437213Z"
    },
    "papermill": {
     "duration": 0.046542,
     "end_time": "2023-06-05T09:24:30.443932",
     "exception": false,
     "start_time": "2023-06-05T09:24:30.397390",
     "status": "completed"
    },
    "tags": []
   },
   "outputs": [
    {
     "name": "stdout",
     "output_type": "stream",
     "text": [
      "sum of coefficients: 76175.79102370076\n",
      "number of coefficients not equal to 0: 1220\n"
     ]
    }
   ],
   "source": [
    "print('sum of coefficients:', abs(r.coef_).sum() )\n",
    "print('number of coefficients not equal to 0:', (r.coef_!=0).sum())"
   ]
  },
  {
   "cell_type": "code",
   "execution_count": 32,
   "id": "79c3f283",
   "metadata": {
    "execution": {
     "iopub.execute_input": "2023-06-05T09:24:30.487793Z",
     "iopub.status.busy": "2023-06-05T09:24:30.487344Z",
     "iopub.status.idle": "2023-06-05T09:24:31.763902Z",
     "shell.execute_reply": "2023-06-05T09:24:31.761385Z"
    },
    "papermill": {
     "duration": 1.301987,
     "end_time": "2023-06-05T09:24:31.767032",
     "exception": false,
     "start_time": "2023-06-05T09:24:30.465045",
     "status": "completed"
    },
    "tags": []
   },
   "outputs": [
    {
     "data": {
      "image/png": "[encoded data removed]",
      "text/plain": [
       "<Figure size 640x480 with 1 Axes>"
      ]
     },
     "metadata": {},
     "output_type": "display_data"
    }
   ],
   "source": [
    "alphas = [0.001,0.01,0.1,1,10,50,100,200,500,1000]\n",
    "R_2=[]\n",
    "coefs = []\n",
    "for alpha in alphas:\n",
    "    r = Ridge(alpha=alpha)\n",
    "    r.fit(X_train_s, y_train)\n",
    "    R_2.append(r.score(X_test_s,y_test))\n",
    "\n",
    "\n",
    "ax = plt.gca()\n",
    "ax.plot(alphas, R_2)\n",
    "ax.set_xscale(\"log\")\n",
    "plt.xlabel(\"alpha\")\n",
    "plt.ylabel(\"$R^2$\")\n",
    "plt.title(\"$R^2$ as a function of the regularization\")\n",
    "plt.show()          "
   ]
  },
  {
   "cell_type": "code",
   "execution_count": 33,
   "id": "c9317be2",
   "metadata": {
    "execution": {
     "iopub.execute_input": "2023-06-05T09:24:31.812017Z",
     "iopub.status.busy": "2023-06-05T09:24:31.811565Z",
     "iopub.status.idle": "2023-06-05T09:24:32.027431Z",
     "shell.execute_reply": "2023-06-05T09:24:32.025670Z"
    },
    "papermill": {
     "duration": 0.243166,
     "end_time": "2023-06-05T09:24:32.031901",
     "exception": false,
     "start_time": "2023-06-05T09:24:31.788735",
     "status": "completed"
    },
    "tags": []
   },
   "outputs": [
    {
     "data": {
      "text/plain": [
       "0.9296272949606567"
      ]
     },
     "execution_count": 33,
     "metadata": {},
     "output_type": "execute_result"
    }
   ],
   "source": [
    "r1 = Lasso(alpha = 100)\n",
    "r1.fit(X_train_s, y_train)\n",
    "y_pred1 = r1.predict(X_test_s)\n",
    "r2_score(y_pred1, y_test)"
   ]
  },
  {
   "cell_type": "markdown",
   "id": "9f41eb81",
   "metadata": {
    "papermill": {
     "duration": 0.03295,
     "end_time": "2023-06-05T09:24:32.147908",
     "exception": false,
     "start_time": "2023-06-05T09:24:32.114958",
     "status": "completed"
    },
    "tags": []
   },
   "source": [
    "# Elastic Net:"
   ]
  },
  {
   "cell_type": "code",
   "execution_count": 34,
   "id": "10b80a02",
   "metadata": {
    "execution": {
     "iopub.execute_input": "2023-06-05T09:24:32.192215Z",
     "iopub.status.busy": "2023-06-05T09:24:32.191733Z",
     "iopub.status.idle": "2023-06-05T09:24:32.196388Z",
     "shell.execute_reply": "2023-06-05T09:24:32.195489Z"
    },
    "papermill": {
     "duration": 0.029683,
     "end_time": "2023-06-05T09:24:32.198608",
     "exception": false,
     "start_time": "2023-06-05T09:24:32.168925",
     "status": "completed"
    },
    "tags": []
   },
   "outputs": [],
   "source": [
    "from sklearn.linear_model import ElasticNet"
   ]
  },
  {
   "cell_type": "code",
   "execution_count": 35,
   "id": "2661021c",
   "metadata": {
    "execution": {
     "iopub.execute_input": "2023-06-05T09:24:32.242802Z",
     "iopub.status.busy": "2023-06-05T09:24:32.242122Z",
     "iopub.status.idle": "2023-06-05T09:24:32.246390Z",
     "shell.execute_reply": "2023-06-05T09:24:32.245568Z"
    },
    "papermill": {
     "duration": 0.029069,
     "end_time": "2023-06-05T09:24:32.248613",
     "exception": false,
     "start_time": "2023-06-05T09:24:32.219544",
     "status": "completed"
    },
    "tags": []
   },
   "outputs": [],
   "source": [
    "e = ElasticNet()"
   ]
  },
  {
   "cell_type": "code",
   "execution_count": 36,
   "id": "1a9a3b6f",
   "metadata": {
    "execution": {
     "iopub.execute_input": "2023-06-05T09:24:32.292807Z",
     "iopub.status.busy": "2023-06-05T09:24:32.292295Z",
     "iopub.status.idle": "2023-06-05T09:24:32.300067Z",
     "shell.execute_reply": "2023-06-05T09:24:32.299055Z"
    },
    "papermill": {
     "duration": 0.032654,
     "end_time": "2023-06-05T09:24:32.302231",
     "exception": false,
     "start_time": "2023-06-05T09:24:32.269577",
     "status": "completed"
    },
    "tags": []
   },
   "outputs": [
    {
     "data": {
      "text/plain": [
       "{'alpha': 1.0,\n",
       " 'copy_X': True,\n",
       " 'fit_intercept': True,\n",
       " 'l1_ratio': 0.5,\n",
       " 'max_iter': 1000,\n",
       " 'positive': False,\n",
       " 'precompute': False,\n",
       " 'random_state': None,\n",
       " 'selection': 'cyclic',\n",
       " 'tol': 0.0001,\n",
       " 'warm_start': False}"
      ]
     },
     "execution_count": 36,
     "metadata": {},
     "output_type": "execute_result"
    }
   ],
   "source": [
    "e.get_params()"
   ]
  },
  {
   "cell_type": "code",
   "execution_count": 37,
   "id": "c47ce886",
   "metadata": {
    "execution": {
     "iopub.execute_input": "2023-06-05T09:24:32.346275Z",
     "iopub.status.busy": "2023-06-05T09:24:32.345619Z",
     "iopub.status.idle": "2023-06-05T09:24:32.685493Z",
     "shell.execute_reply": "2023-06-05T09:24:32.683926Z"
    },
    "papermill": {
     "duration": 0.367265,
     "end_time": "2023-06-05T09:24:32.690307",
     "exception": false,
     "start_time": "2023-06-05T09:24:32.323042",
     "status": "completed"
    },
    "tags": []
   },
   "outputs": [
    {
     "name": "stderr",
     "output_type": "stream",
     "text": [
      "/opt/conda/lib/python3.10/site-packages/sklearn/linear_model/_coordinate_descent.py:631: ConvergenceWarning: Objective did not converge. You might want to increase the number of iterations, check the scale of the features or consider increasing regularisation. Duality gap: 1.403e+08, tolerance: 8.563e+05\n",
      "  model = cd_fast.enet_coordinate_descent(\n"
     ]
    },
    {
     "data": {
      "text/plain": [
       "0.9242890106141579"
      ]
     },
     "execution_count": 37,
     "metadata": {},
     "output_type": "execute_result"
    }
   ],
   "source": [
    "e.fit(X_train_s, y_train)\n",
    "y_pred = e.predict(X_test_s)\n",
    "r2_score(y_pred, y_test)"
   ]
  },
  {
   "cell_type": "code",
   "execution_count": 38,
   "id": "283e2693",
   "metadata": {
    "execution": {
     "iopub.execute_input": "2023-06-05T09:24:32.821658Z",
     "iopub.status.busy": "2023-06-05T09:24:32.821145Z",
     "iopub.status.idle": "2023-06-05T09:24:32.827396Z",
     "shell.execute_reply": "2023-06-05T09:24:32.826517Z"
    },
    "papermill": {
     "duration": 0.03259,
     "end_time": "2023-06-05T09:24:32.829806",
     "exception": false,
     "start_time": "2023-06-05T09:24:32.797216",
     "status": "completed"
    },
    "tags": []
   },
   "outputs": [
    {
     "name": "stdout",
     "output_type": "stream",
     "text": [
      "sum of coefficients: 33298.20790474803\n",
      "number of coefficients not equal to 0: 1193\n"
     ]
    }
   ],
   "source": [
    "print('sum of coefficients:', abs(e.coef_).sum() )\n",
    "print('number of coefficients not equal to 0:', (e.coef_!=0).sum())"
   ]
  },
  {
   "cell_type": "code",
   "execution_count": 39,
   "id": "ba05fd4c",
   "metadata": {
    "execution": {
     "iopub.execute_input": "2023-06-05T09:24:32.875455Z",
     "iopub.status.busy": "2023-06-05T09:24:32.874973Z",
     "iopub.status.idle": "2023-06-05T09:24:35.360240Z",
     "shell.execute_reply": "2023-06-05T09:24:35.359154Z"
    },
    "papermill": {
     "duration": 2.51243,
     "end_time": "2023-06-05T09:24:35.363612",
     "exception": false,
     "start_time": "2023-06-05T09:24:32.851182",
     "status": "completed"
    },
    "tags": []
   },
   "outputs": [
    {
     "name": "stderr",
     "output_type": "stream",
     "text": [
      "/opt/conda/lib/python3.10/site-packages/sklearn/linear_model/_coordinate_descent.py:631: ConvergenceWarning: Objective did not converge. You might want to increase the number of iterations, check the scale of the features or consider increasing regularisation. Duality gap: 1.965e+07, tolerance: 8.563e+05\n",
      "  model = cd_fast.enet_coordinate_descent(\n",
      "/opt/conda/lib/python3.10/site-packages/sklearn/linear_model/_coordinate_descent.py:631: ConvergenceWarning: Objective did not converge. You might want to increase the number of iterations, check the scale of the features or consider increasing regularisation. Duality gap: 3.125e+07, tolerance: 8.563e+05\n",
      "  model = cd_fast.enet_coordinate_descent(\n",
      "/opt/conda/lib/python3.10/site-packages/sklearn/linear_model/_coordinate_descent.py:631: ConvergenceWarning: Objective did not converge. You might want to increase the number of iterations, check the scale of the features or consider increasing regularisation. Duality gap: 6.082e+07, tolerance: 8.563e+05\n",
      "  model = cd_fast.enet_coordinate_descent(\n",
      "/opt/conda/lib/python3.10/site-packages/sklearn/linear_model/_coordinate_descent.py:631: ConvergenceWarning: Objective did not converge. You might want to increase the number of iterations, check the scale of the features or consider increasing regularisation. Duality gap: 1.403e+08, tolerance: 8.563e+05\n",
      "  model = cd_fast.enet_coordinate_descent(\n"
     ]
    },
    {
     "data": {
      "image/png": "[encoded data removed]",
      "text/plain": [
       "<Figure size 640x480 with 1 Axes>"
      ]
     },
     "metadata": {},
     "output_type": "display_data"
    }
   ],
   "source": [
    "alphas = [0.001,0.01,0.1,1,10,50,100,200,500,1000]\n",
    "R_2=[]\n",
    "coefs = []\n",
    "for alpha in alphas:\n",
    "    e = ElasticNet(alpha=alpha)\n",
    "    e.fit(X_train_s, y_train)\n",
    "    R_2.append(e.score(X_test_s,y_test))\n",
    "\n",
    "\n",
    "ax = plt.gca()\n",
    "ax.plot(alphas, R_2)\n",
    "ax.set_xscale(\"log\")\n",
    "plt.xlabel(\"alpha\")\n",
    "plt.ylabel(\"$R^2$\")\n",
    "plt.title(\"$R^2$ as a function of the regularization\")\n",
    "plt.show()          "
   ]
  },
  {
   "cell_type": "markdown",
   "id": "2352a0ce",
   "metadata": {
    "papermill": {
     "duration": 0.022157,
     "end_time": "2023-06-05T09:24:35.408951",
     "exception": false,
     "start_time": "2023-06-05T09:24:35.386794",
     "status": "completed"
    },
    "tags": []
   },
   "source": [
    "# Conclusion:"
   ]
  },
  {
   "cell_type": "markdown",
   "id": "e408f1d0",
   "metadata": {
    "papermill": {
     "duration": 0.022451,
     "end_time": "2023-06-05T09:24:35.453754",
     "exception": false,
     "start_time": "2023-06-05T09:24:35.431303",
     "status": "completed"
    },
    "tags": []
   },
   "source": [
    "All the models are trained and tested with same dataset.\n",
    "* The liner regression model have not done well with the testing set, as it got a negative R2 score that might be an indication of overfitting.\n",
    "\n",
    "* The Lasso, Ridge and ElasticNet models have counterd the overfitting with ElasticNet being the best performer with slight edge over Ridge and Lasso regressions.\n",
    "\n",
    "* The  lasso regression has zeroed almost 900 coefficients as compared to the linear regression. While Ridge and ElasticNet models have almost same number of coefficients as linear regression."
   ]
  }
 ],
 "metadata": {
  "kernelspec": {
   "display_name": "Python 3",
   "language": "python",
   "name": "python3"
  },
  "language_info": {
   "codemirror_mode": {
    "name": "ipython",
    "version": 3
   },
   "file_extension": ".py",
   "mimetype": "text/x-python",
   "name": "python",
   "nbconvert_exporter": "python",
   "pygments_lexer": "ipython3",
   "version": "3.10.10"
  },
  "papermill": {
   "default_parameters": {},
   "duration": 30.088527,
   "end_time": "2023-06-05T09:24:36.602401",
   "environment_variables": {},
   "exception": null,
   "input_path": "__notebook__.ipynb",
   "output_path": "__notebook__.ipynb",
   "parameters": {},
   "start_time": "2023-06-05T09:24:06.513874",
   "version": "2.4.0"
  }
 },
 "nbformat": 4,
 "nbformat_minor": 5
}
