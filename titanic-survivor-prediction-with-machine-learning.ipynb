{
 "cells": [
  {
   "cell_type": "code",
   "execution_count": 1,
   "id": "770c457f",
   "metadata": {
    "_cell_guid": "b1076dfc-b9ad-4769-8c92-a6c4dae69d19",
    "_uuid": "8f2839f25d086af736a60e9eeb907d3b93b6e0e5",
    "execution": {
     "iopub.execute_input": "2023-06-17T04:19:28.985909Z",
     "iopub.status.busy": "2023-06-17T04:19:28.984541Z",
     "iopub.status.idle": "2023-06-17T04:19:29.004123Z",
     "shell.execute_reply": "2023-06-17T04:19:29.003092Z"
    },
    "papermill": {
     "duration": 0.048928,
     "end_time": "2023-06-17T04:19:29.006884",
     "exception": false,
     "start_time": "2023-06-17T04:19:28.957956",
     "status": "completed"
    },
    "tags": []
   },
   "outputs": [
    {
     "name": "stdout",
     "output_type": "stream",
     "text": [
      "/kaggle/input/titanic/train.csv\n",
      "/kaggle/input/titanic/test.csv\n",
      "/kaggle/input/titanic/gender_submission.csv\n"
     ]
    }
   ],
   "source": [
    "# This Python 3 environment comes with many helpful analytics libraries installed\n",
    "# It is defined by the kaggle/python Docker image: https://github.com/kaggle/docker-python\n",
    "# For example, here's several helpful packages to load\n",
    "\n",
    "import numpy as np # linear algebra\n",
    "import pandas as pd # data processing, CSV file I/O (e.g. pd.read_csv)\n",
    "\n",
    "# Input data files are available in the read-only \"../input/\" directory\n",
    "# For example, running this (by clicking run or pressing Shift+Enter) will list all files under the input directory\n",
    "\n",
    "import os\n",
    "for dirname, _, filenames in os.walk('/kaggle/input'):\n",
    "    for filename in filenames:\n",
    "        print(os.path.join(dirname, filename))\n",
    "\n",
    "# You can write up to 20GB to the current directory (/kaggle/working/) that gets preserved as output when you create a version using \"Save & Run All\" \n",
    "# You can also write temporary files to /kaggle/temp/, but they won't be saved outside of the current session"
   ]
  },
  {
   "cell_type": "code",
   "execution_count": 2,
   "id": "74a308d9",
   "metadata": {
    "execution": {
     "iopub.execute_input": "2023-06-17T04:19:29.051834Z",
     "iopub.status.busy": "2023-06-17T04:19:29.051261Z",
     "iopub.status.idle": "2023-06-17T04:19:29.057246Z",
     "shell.execute_reply": "2023-06-17T04:19:29.055946Z"
    },
    "papermill": {
     "duration": 0.031604,
     "end_time": "2023-06-17T04:19:29.059915",
     "exception": false,
     "start_time": "2023-06-17T04:19:29.028311",
     "status": "completed"
    },
    "tags": []
   },
   "outputs": [],
   "source": [
    "def warn(*args, **kwargs):\n",
    "    pass\n",
    "import warnings\n",
    "warnings.warn = warn"
   ]
  },
  {
   "cell_type": "markdown",
   "id": "73a0f719",
   "metadata": {
    "papermill": {
     "duration": 0.021537,
     "end_time": "2023-06-17T04:19:29.102243",
     "exception": false,
     "start_time": "2023-06-17T04:19:29.080706",
     "status": "completed"
    },
    "tags": []
   },
   "source": [
    "# Titanic Survivor Prediction with Machine Learning"
   ]
  },
  {
   "cell_type": "markdown",
   "id": "e751fbef",
   "metadata": {
    "papermill": {
     "duration": 0.02048,
     "end_time": "2023-06-17T04:19:29.143780",
     "exception": false,
     "start_time": "2023-06-17T04:19:29.123300",
     "status": "completed"
    },
    "tags": []
   },
   "source": [
    "## Objective:"
   ]
  },
  {
   "cell_type": "markdown",
   "id": "587121e3",
   "metadata": {
    "papermill": {
     "duration": 0.020457,
     "end_time": "2023-06-17T04:19:29.185389",
     "exception": false,
     "start_time": "2023-06-17T04:19:29.164932",
     "status": "completed"
    },
    "tags": []
   },
   "source": [
    "In this notebook my objective is to find the best performing  machine learning model for predicting the survial of passengers based on the information given in the dataset."
   ]
  },
  {
   "cell_type": "markdown",
   "id": "6e7ff2c1",
   "metadata": {
    "papermill": {
     "duration": 0.021407,
     "end_time": "2023-06-17T04:19:29.227890",
     "exception": false,
     "start_time": "2023-06-17T04:19:29.206483",
     "status": "completed"
    },
    "tags": []
   },
   "source": [
    "## Data Cleaning:"
   ]
  },
  {
   "cell_type": "markdown",
   "id": "a464fedb",
   "metadata": {
    "papermill": {
     "duration": 0.020313,
     "end_time": "2023-06-17T04:19:29.268964",
     "exception": false,
     "start_time": "2023-06-17T04:19:29.248651",
     "status": "completed"
    },
    "tags": []
   },
   "source": [
    "**Have a look at the train dataset**"
   ]
  },
  {
   "cell_type": "code",
   "execution_count": 3,
   "id": "87d5a7d1",
   "metadata": {
    "execution": {
     "iopub.execute_input": "2023-06-17T04:19:29.312781Z",
     "iopub.status.busy": "2023-06-17T04:19:29.312317Z",
     "iopub.status.idle": "2023-06-17T04:19:29.355985Z",
     "shell.execute_reply": "2023-06-17T04:19:29.354718Z"
    },
    "papermill": {
     "duration": 0.069091,
     "end_time": "2023-06-17T04:19:29.359312",
     "exception": false,
     "start_time": "2023-06-17T04:19:29.290221",
     "status": "completed"
    },
    "tags": []
   },
   "outputs": [
    {
     "data": {
      "text/html": [
       "<div>\n",
       "<style scoped>\n",
       "    .dataframe tbody tr th:only-of-type {\n",
       "        vertical-align: middle;\n",
       "    }\n",
       "\n",
       "    .dataframe tbody tr th {\n",
       "        vertical-align: top;\n",
       "    }\n",
       "\n",
       "    .dataframe thead th {\n",
       "        text-align: right;\n",
       "    }\n",
       "</style>\n",
       "<table border=\"1\" class=\"dataframe\">\n",
       "  <thead>\n",
       "    <tr style=\"text-align: right;\">\n",
       "      <th></th>\n",
       "      <th>PassengerId</th>\n",
       "      <th>Survived</th>\n",
       "      <th>Pclass</th>\n",
       "      <th>Name</th>\n",
       "      <th>Sex</th>\n",
       "      <th>Age</th>\n",
       "      <th>SibSp</th>\n",
       "      <th>Parch</th>\n",
       "      <th>Ticket</th>\n",
       "      <th>Fare</th>\n",
       "      <th>Cabin</th>\n",
       "      <th>Embarked</th>\n",
       "    </tr>\n",
       "  </thead>\n",
       "  <tbody>\n",
       "    <tr>\n",
       "      <th>0</th>\n",
       "      <td>1</td>\n",
       "      <td>0</td>\n",
       "      <td>3</td>\n",
       "      <td>Braund, Mr. Owen Harris</td>\n",
       "      <td>male</td>\n",
       "      <td>22.0</td>\n",
       "      <td>1</td>\n",
       "      <td>0</td>\n",
       "      <td>A/5 21171</td>\n",
       "      <td>7.2500</td>\n",
       "      <td>NaN</td>\n",
       "      <td>S</td>\n",
       "    </tr>\n",
       "    <tr>\n",
       "      <th>1</th>\n",
       "      <td>2</td>\n",
       "      <td>1</td>\n",
       "      <td>1</td>\n",
       "      <td>Cumings, Mrs. John Bradley (Florence Briggs Th...</td>\n",
       "      <td>female</td>\n",
       "      <td>38.0</td>\n",
       "      <td>1</td>\n",
       "      <td>0</td>\n",
       "      <td>PC 17599</td>\n",
       "      <td>71.2833</td>\n",
       "      <td>C85</td>\n",
       "      <td>C</td>\n",
       "    </tr>\n",
       "    <tr>\n",
       "      <th>2</th>\n",
       "      <td>3</td>\n",
       "      <td>1</td>\n",
       "      <td>3</td>\n",
       "      <td>Heikkinen, Miss. Laina</td>\n",
       "      <td>female</td>\n",
       "      <td>26.0</td>\n",
       "      <td>0</td>\n",
       "      <td>0</td>\n",
       "      <td>STON/O2. 3101282</td>\n",
       "      <td>7.9250</td>\n",
       "      <td>NaN</td>\n",
       "      <td>S</td>\n",
       "    </tr>\n",
       "    <tr>\n",
       "      <th>3</th>\n",
       "      <td>4</td>\n",
       "      <td>1</td>\n",
       "      <td>1</td>\n",
       "      <td>Futrelle, Mrs. Jacques Heath (Lily May Peel)</td>\n",
       "      <td>female</td>\n",
       "      <td>35.0</td>\n",
       "      <td>1</td>\n",
       "      <td>0</td>\n",
       "      <td>113803</td>\n",
       "      <td>53.1000</td>\n",
       "      <td>C123</td>\n",
       "      <td>S</td>\n",
       "    </tr>\n",
       "    <tr>\n",
       "      <th>4</th>\n",
       "      <td>5</td>\n",
       "      <td>0</td>\n",
       "      <td>3</td>\n",
       "      <td>Allen, Mr. William Henry</td>\n",
       "      <td>male</td>\n",
       "      <td>35.0</td>\n",
       "      <td>0</td>\n",
       "      <td>0</td>\n",
       "      <td>373450</td>\n",
       "      <td>8.0500</td>\n",
       "      <td>NaN</td>\n",
       "      <td>S</td>\n",
       "    </tr>\n",
       "  </tbody>\n",
       "</table>\n",
       "</div>"
      ],
      "text/plain": [
       "   PassengerId  Survived  Pclass  \\\n",
       "0            1         0       3   \n",
       "1            2         1       1   \n",
       "2            3         1       3   \n",
       "3            4         1       1   \n",
       "4            5         0       3   \n",
       "\n",
       "                                                Name     Sex   Age  SibSp  \\\n",
       "0                            Braund, Mr. Owen Harris    male  22.0      1   \n",
       "1  Cumings, Mrs. John Bradley (Florence Briggs Th...  female  38.0      1   \n",
       "2                             Heikkinen, Miss. Laina  female  26.0      0   \n",
       "3       Futrelle, Mrs. Jacques Heath (Lily May Peel)  female  35.0      1   \n",
       "4                           Allen, Mr. William Henry    male  35.0      0   \n",
       "\n",
       "   Parch            Ticket     Fare Cabin Embarked  \n",
       "0      0         A/5 21171   7.2500   NaN        S  \n",
       "1      0          PC 17599  71.2833   C85        C  \n",
       "2      0  STON/O2. 3101282   7.9250   NaN        S  \n",
       "3      0            113803  53.1000  C123        S  \n",
       "4      0            373450   8.0500   NaN        S  "
      ]
     },
     "execution_count": 3,
     "metadata": {},
     "output_type": "execute_result"
    }
   ],
   "source": [
    "train_data=pd.read_csv('/kaggle/input/titanic/train.csv')\n",
    "train_data.head()"
   ]
  },
  {
   "cell_type": "markdown",
   "id": "1bf4d9e8",
   "metadata": {
    "papermill": {
     "duration": 0.021814,
     "end_time": "2023-06-17T04:19:29.405029",
     "exception": false,
     "start_time": "2023-06-17T04:19:29.383215",
     "status": "completed"
    },
    "tags": []
   },
   "source": [
    "**Look at the information of the dataframe**"
   ]
  },
  {
   "cell_type": "code",
   "execution_count": 4,
   "id": "ca706b95",
   "metadata": {
    "execution": {
     "iopub.execute_input": "2023-06-17T04:19:29.450404Z",
     "iopub.status.busy": "2023-06-17T04:19:29.449980Z",
     "iopub.status.idle": "2023-06-17T04:19:29.477526Z",
     "shell.execute_reply": "2023-06-17T04:19:29.476509Z"
    },
    "papermill": {
     "duration": 0.052789,
     "end_time": "2023-06-17T04:19:29.479999",
     "exception": false,
     "start_time": "2023-06-17T04:19:29.427210",
     "status": "completed"
    },
    "tags": []
   },
   "outputs": [
    {
     "name": "stdout",
     "output_type": "stream",
     "text": [
      "<class 'pandas.core.frame.DataFrame'>\n",
      "RangeIndex: 891 entries, 0 to 890\n",
      "Data columns (total 12 columns):\n",
      " #   Column       Non-Null Count  Dtype  \n",
      "---  ------       --------------  -----  \n",
      " 0   PassengerId  891 non-null    int64  \n",
      " 1   Survived     891 non-null    int64  \n",
      " 2   Pclass       891 non-null    int64  \n",
      " 3   Name         891 non-null    object \n",
      " 4   Sex          891 non-null    object \n",
      " 5   Age          714 non-null    float64\n",
      " 6   SibSp        891 non-null    int64  \n",
      " 7   Parch        891 non-null    int64  \n",
      " 8   Ticket       891 non-null    object \n",
      " 9   Fare         891 non-null    float64\n",
      " 10  Cabin        204 non-null    object \n",
      " 11  Embarked     889 non-null    object \n",
      "dtypes: float64(2), int64(5), object(5)\n",
      "memory usage: 83.7+ KB\n"
     ]
    }
   ],
   "source": [
    "train_data.info()"
   ]
  },
  {
   "cell_type": "markdown",
   "id": "a5c4cb4c",
   "metadata": {
    "papermill": {
     "duration": 0.021425,
     "end_time": "2023-06-17T04:19:29.523308",
     "exception": false,
     "start_time": "2023-06-17T04:19:29.501883",
     "status": "completed"
    },
    "tags": []
   },
   "source": [
    "We can see that there are many data points missing from the features 'Age' and 'Cabin'."
   ]
  },
  {
   "cell_type": "code",
   "execution_count": 5,
   "id": "e09e86b6",
   "metadata": {
    "execution": {
     "iopub.execute_input": "2023-06-17T04:19:29.569630Z",
     "iopub.status.busy": "2023-06-17T04:19:29.568859Z",
     "iopub.status.idle": "2023-06-17T04:19:29.596269Z",
     "shell.execute_reply": "2023-06-17T04:19:29.595270Z"
    },
    "papermill": {
     "duration": 0.053698,
     "end_time": "2023-06-17T04:19:29.599008",
     "exception": false,
     "start_time": "2023-06-17T04:19:29.545310",
     "status": "completed"
    },
    "tags": []
   },
   "outputs": [
    {
     "data": {
      "text/html": [
       "<div>\n",
       "<style scoped>\n",
       "    .dataframe tbody tr th:only-of-type {\n",
       "        vertical-align: middle;\n",
       "    }\n",
       "\n",
       "    .dataframe tbody tr th {\n",
       "        vertical-align: top;\n",
       "    }\n",
       "\n",
       "    .dataframe thead th {\n",
       "        text-align: right;\n",
       "    }\n",
       "</style>\n",
       "<table border=\"1\" class=\"dataframe\">\n",
       "  <thead>\n",
       "    <tr style=\"text-align: right;\">\n",
       "      <th></th>\n",
       "      <th>PassengerId</th>\n",
       "      <th>Pclass</th>\n",
       "      <th>Name</th>\n",
       "      <th>Sex</th>\n",
       "      <th>Age</th>\n",
       "      <th>SibSp</th>\n",
       "      <th>Parch</th>\n",
       "      <th>Ticket</th>\n",
       "      <th>Fare</th>\n",
       "      <th>Cabin</th>\n",
       "      <th>Embarked</th>\n",
       "    </tr>\n",
       "  </thead>\n",
       "  <tbody>\n",
       "    <tr>\n",
       "      <th>0</th>\n",
       "      <td>892</td>\n",
       "      <td>3</td>\n",
       "      <td>Kelly, Mr. James</td>\n",
       "      <td>male</td>\n",
       "      <td>34.5</td>\n",
       "      <td>0</td>\n",
       "      <td>0</td>\n",
       "      <td>330911</td>\n",
       "      <td>7.8292</td>\n",
       "      <td>NaN</td>\n",
       "      <td>Q</td>\n",
       "    </tr>\n",
       "    <tr>\n",
       "      <th>1</th>\n",
       "      <td>893</td>\n",
       "      <td>3</td>\n",
       "      <td>Wilkes, Mrs. James (Ellen Needs)</td>\n",
       "      <td>female</td>\n",
       "      <td>47.0</td>\n",
       "      <td>1</td>\n",
       "      <td>0</td>\n",
       "      <td>363272</td>\n",
       "      <td>7.0000</td>\n",
       "      <td>NaN</td>\n",
       "      <td>S</td>\n",
       "    </tr>\n",
       "    <tr>\n",
       "      <th>2</th>\n",
       "      <td>894</td>\n",
       "      <td>2</td>\n",
       "      <td>Myles, Mr. Thomas Francis</td>\n",
       "      <td>male</td>\n",
       "      <td>62.0</td>\n",
       "      <td>0</td>\n",
       "      <td>0</td>\n",
       "      <td>240276</td>\n",
       "      <td>9.6875</td>\n",
       "      <td>NaN</td>\n",
       "      <td>Q</td>\n",
       "    </tr>\n",
       "    <tr>\n",
       "      <th>3</th>\n",
       "      <td>895</td>\n",
       "      <td>3</td>\n",
       "      <td>Wirz, Mr. Albert</td>\n",
       "      <td>male</td>\n",
       "      <td>27.0</td>\n",
       "      <td>0</td>\n",
       "      <td>0</td>\n",
       "      <td>315154</td>\n",
       "      <td>8.6625</td>\n",
       "      <td>NaN</td>\n",
       "      <td>S</td>\n",
       "    </tr>\n",
       "    <tr>\n",
       "      <th>4</th>\n",
       "      <td>896</td>\n",
       "      <td>3</td>\n",
       "      <td>Hirvonen, Mrs. Alexander (Helga E Lindqvist)</td>\n",
       "      <td>female</td>\n",
       "      <td>22.0</td>\n",
       "      <td>1</td>\n",
       "      <td>1</td>\n",
       "      <td>3101298</td>\n",
       "      <td>12.2875</td>\n",
       "      <td>NaN</td>\n",
       "      <td>S</td>\n",
       "    </tr>\n",
       "  </tbody>\n",
       "</table>\n",
       "</div>"
      ],
      "text/plain": [
       "   PassengerId  Pclass                                          Name     Sex  \\\n",
       "0          892       3                              Kelly, Mr. James    male   \n",
       "1          893       3              Wilkes, Mrs. James (Ellen Needs)  female   \n",
       "2          894       2                     Myles, Mr. Thomas Francis    male   \n",
       "3          895       3                              Wirz, Mr. Albert    male   \n",
       "4          896       3  Hirvonen, Mrs. Alexander (Helga E Lindqvist)  female   \n",
       "\n",
       "    Age  SibSp  Parch   Ticket     Fare Cabin Embarked  \n",
       "0  34.5      0      0   330911   7.8292   NaN        Q  \n",
       "1  47.0      1      0   363272   7.0000   NaN        S  \n",
       "2  62.0      0      0   240276   9.6875   NaN        Q  \n",
       "3  27.0      0      0   315154   8.6625   NaN        S  \n",
       "4  22.0      1      1  3101298  12.2875   NaN        S  "
      ]
     },
     "execution_count": 5,
     "metadata": {},
     "output_type": "execute_result"
    }
   ],
   "source": [
    "test_data=pd.read_csv('/kaggle/input/titanic/test.csv')\n",
    "test_data.head()"
   ]
  },
  {
   "cell_type": "code",
   "execution_count": 6,
   "id": "ff06c482",
   "metadata": {
    "execution": {
     "iopub.execute_input": "2023-06-17T04:19:29.645148Z",
     "iopub.status.busy": "2023-06-17T04:19:29.644368Z",
     "iopub.status.idle": "2023-06-17T04:19:29.659455Z",
     "shell.execute_reply": "2023-06-17T04:19:29.657483Z"
    },
    "papermill": {
     "duration": 0.041535,
     "end_time": "2023-06-17T04:19:29.662578",
     "exception": false,
     "start_time": "2023-06-17T04:19:29.621043",
     "status": "completed"
    },
    "tags": []
   },
   "outputs": [
    {
     "name": "stdout",
     "output_type": "stream",
     "text": [
      "<class 'pandas.core.frame.DataFrame'>\n",
      "RangeIndex: 418 entries, 0 to 417\n",
      "Data columns (total 11 columns):\n",
      " #   Column       Non-Null Count  Dtype  \n",
      "---  ------       --------------  -----  \n",
      " 0   PassengerId  418 non-null    int64  \n",
      " 1   Pclass       418 non-null    int64  \n",
      " 2   Name         418 non-null    object \n",
      " 3   Sex          418 non-null    object \n",
      " 4   Age          332 non-null    float64\n",
      " 5   SibSp        418 non-null    int64  \n",
      " 6   Parch        418 non-null    int64  \n",
      " 7   Ticket       418 non-null    object \n",
      " 8   Fare         417 non-null    float64\n",
      " 9   Cabin        91 non-null     object \n",
      " 10  Embarked     418 non-null    object \n",
      "dtypes: float64(2), int64(4), object(5)\n",
      "memory usage: 36.0+ KB\n"
     ]
    }
   ],
   "source": [
    "test_data.info()"
   ]
  },
  {
   "cell_type": "markdown",
   "id": "01cc90e2",
   "metadata": {
    "papermill": {
     "duration": 0.021564,
     "end_time": "2023-06-17T04:19:29.706230",
     "exception": false,
     "start_time": "2023-06-17T04:19:29.684666",
     "status": "completed"
    },
    "tags": []
   },
   "source": [
    "Here also we can observe the same scenario."
   ]
  },
  {
   "cell_type": "markdown",
   "id": "5ad86bbf",
   "metadata": {
    "papermill": {
     "duration": 0.021368,
     "end_time": "2023-06-17T04:19:29.749530",
     "exception": false,
     "start_time": "2023-06-17T04:19:29.728162",
     "status": "completed"
    },
    "tags": []
   },
   "source": [
    "So, we have to replace the missing values either with mean or frequency."
   ]
  },
  {
   "cell_type": "code",
   "execution_count": 7,
   "id": "a23f7656",
   "metadata": {
    "execution": {
     "iopub.execute_input": "2023-06-17T04:19:29.796258Z",
     "iopub.status.busy": "2023-06-17T04:19:29.795288Z",
     "iopub.status.idle": "2023-06-17T04:19:29.807087Z",
     "shell.execute_reply": "2023-06-17T04:19:29.805872Z"
    },
    "papermill": {
     "duration": 0.038159,
     "end_time": "2023-06-17T04:19:29.809730",
     "exception": false,
     "start_time": "2023-06-17T04:19:29.771571",
     "status": "completed"
    },
    "tags": []
   },
   "outputs": [
    {
     "data": {
      "text/plain": [
       "count     889\n",
       "unique      3\n",
       "top         S\n",
       "freq      644\n",
       "Name: Embarked, dtype: object"
      ]
     },
     "execution_count": 7,
     "metadata": {},
     "output_type": "execute_result"
    }
   ],
   "source": [
    "train_data['Embarked'].describe()"
   ]
  },
  {
   "cell_type": "code",
   "execution_count": 8,
   "id": "39cfb3e2",
   "metadata": {
    "execution": {
     "iopub.execute_input": "2023-06-17T04:19:29.856119Z",
     "iopub.status.busy": "2023-06-17T04:19:29.855654Z",
     "iopub.status.idle": "2023-06-17T04:19:29.866968Z",
     "shell.execute_reply": "2023-06-17T04:19:29.865758Z"
    },
    "papermill": {
     "duration": 0.037697,
     "end_time": "2023-06-17T04:19:29.869683",
     "exception": false,
     "start_time": "2023-06-17T04:19:29.831986",
     "status": "completed"
    },
    "tags": []
   },
   "outputs": [],
   "source": [
    "train_data['Age'].fillna(train_data['Age'].mean(), inplace=True)\n",
    "test_data['Age'].fillna(test_data['Age'].mean(), inplace=True)\n",
    "\n",
    "test_data[\"Fare\"].fillna(test_data['Fare'].mean(), inplace=True)\n",
    "\n",
    "train_data[\"Embarked\"].fillna(\"S\", inplace = True) "
   ]
  },
  {
   "cell_type": "code",
   "execution_count": null,
   "id": "cf6ccb5d",
   "metadata": {
    "papermill": {
     "duration": 0.021586,
     "end_time": "2023-06-17T04:19:29.913505",
     "exception": false,
     "start_time": "2023-06-17T04:19:29.891919",
     "status": "completed"
    },
    "tags": []
   },
   "outputs": [],
   "source": []
  },
  {
   "cell_type": "code",
   "execution_count": 9,
   "id": "3a5d4964",
   "metadata": {
    "execution": {
     "iopub.execute_input": "2023-06-17T04:19:29.960874Z",
     "iopub.status.busy": "2023-06-17T04:19:29.960430Z",
     "iopub.status.idle": "2023-06-17T04:19:29.975757Z",
     "shell.execute_reply": "2023-06-17T04:19:29.974223Z"
    },
    "papermill": {
     "duration": 0.042088,
     "end_time": "2023-06-17T04:19:29.978547",
     "exception": false,
     "start_time": "2023-06-17T04:19:29.936459",
     "status": "completed"
    },
    "tags": []
   },
   "outputs": [
    {
     "name": "stdout",
     "output_type": "stream",
     "text": [
      "<class 'pandas.core.frame.DataFrame'>\n",
      "RangeIndex: 891 entries, 0 to 890\n",
      "Data columns (total 12 columns):\n",
      " #   Column       Non-Null Count  Dtype  \n",
      "---  ------       --------------  -----  \n",
      " 0   PassengerId  891 non-null    int64  \n",
      " 1   Survived     891 non-null    int64  \n",
      " 2   Pclass       891 non-null    int64  \n",
      " 3   Name         891 non-null    object \n",
      " 4   Sex          891 non-null    object \n",
      " 5   Age          891 non-null    float64\n",
      " 6   SibSp        891 non-null    int64  \n",
      " 7   Parch        891 non-null    int64  \n",
      " 8   Ticket       891 non-null    object \n",
      " 9   Fare         891 non-null    float64\n",
      " 10  Cabin        204 non-null    object \n",
      " 11  Embarked     891 non-null    object \n",
      "dtypes: float64(2), int64(5), object(5)\n",
      "memory usage: 83.7+ KB\n"
     ]
    }
   ],
   "source": [
    "train_data.info()"
   ]
  },
  {
   "cell_type": "code",
   "execution_count": 10,
   "id": "b5122463",
   "metadata": {
    "execution": {
     "iopub.execute_input": "2023-06-17T04:19:30.025221Z",
     "iopub.status.busy": "2023-06-17T04:19:30.024719Z",
     "iopub.status.idle": "2023-06-17T04:19:30.041189Z",
     "shell.execute_reply": "2023-06-17T04:19:30.039773Z"
    },
    "papermill": {
     "duration": 0.043095,
     "end_time": "2023-06-17T04:19:30.043965",
     "exception": false,
     "start_time": "2023-06-17T04:19:30.000870",
     "status": "completed"
    },
    "tags": []
   },
   "outputs": [
    {
     "name": "stdout",
     "output_type": "stream",
     "text": [
      "<class 'pandas.core.frame.DataFrame'>\n",
      "RangeIndex: 418 entries, 0 to 417\n",
      "Data columns (total 11 columns):\n",
      " #   Column       Non-Null Count  Dtype  \n",
      "---  ------       --------------  -----  \n",
      " 0   PassengerId  418 non-null    int64  \n",
      " 1   Pclass       418 non-null    int64  \n",
      " 2   Name         418 non-null    object \n",
      " 3   Sex          418 non-null    object \n",
      " 4   Age          418 non-null    float64\n",
      " 5   SibSp        418 non-null    int64  \n",
      " 6   Parch        418 non-null    int64  \n",
      " 7   Ticket       418 non-null    object \n",
      " 8   Fare         418 non-null    float64\n",
      " 9   Cabin        91 non-null     object \n",
      " 10  Embarked     418 non-null    object \n",
      "dtypes: float64(2), int64(4), object(5)\n",
      "memory usage: 36.0+ KB\n"
     ]
    }
   ],
   "source": [
    "test_data.info()"
   ]
  },
  {
   "cell_type": "code",
   "execution_count": 11,
   "id": "b4c80881",
   "metadata": {
    "execution": {
     "iopub.execute_input": "2023-06-17T04:19:30.090614Z",
     "iopub.status.busy": "2023-06-17T04:19:30.090130Z",
     "iopub.status.idle": "2023-06-17T04:19:30.104985Z",
     "shell.execute_reply": "2023-06-17T04:19:30.103627Z"
    },
    "papermill": {
     "duration": 0.041034,
     "end_time": "2023-06-17T04:19:30.107676",
     "exception": false,
     "start_time": "2023-06-17T04:19:30.066642",
     "status": "completed"
    },
    "tags": []
   },
   "outputs": [
    {
     "data": {
      "text/plain": [
       "count    891.000000\n",
       "mean      29.699118\n",
       "std       13.002015\n",
       "min        0.420000\n",
       "25%       22.000000\n",
       "50%       29.699118\n",
       "75%       35.000000\n",
       "max       80.000000\n",
       "Name: Age, dtype: float64"
      ]
     },
     "execution_count": 11,
     "metadata": {},
     "output_type": "execute_result"
    }
   ],
   "source": [
    "train_data['Age'].describe()"
   ]
  },
  {
   "cell_type": "code",
   "execution_count": 12,
   "id": "612c4b98",
   "metadata": {
    "execution": {
     "iopub.execute_input": "2023-06-17T04:19:30.154523Z",
     "iopub.status.busy": "2023-06-17T04:19:30.154092Z",
     "iopub.status.idle": "2023-06-17T04:19:30.161996Z",
     "shell.execute_reply": "2023-06-17T04:19:30.160761Z"
    },
    "papermill": {
     "duration": 0.034737,
     "end_time": "2023-06-17T04:19:30.164788",
     "exception": false,
     "start_time": "2023-06-17T04:19:30.130051",
     "status": "completed"
    },
    "tags": []
   },
   "outputs": [],
   "source": [
    "bins = np.linspace(min(train_data[\"Age\"]), max(train_data[\"Age\"]), 11)\n",
    "bins\n",
    "group_names = ['8', '16', '24', '32','40','48','56','64', '72','80']"
   ]
  },
  {
   "cell_type": "code",
   "execution_count": 13,
   "id": "0b0ba59c",
   "metadata": {
    "execution": {
     "iopub.execute_input": "2023-06-17T04:19:30.211451Z",
     "iopub.status.busy": "2023-06-17T04:19:30.211001Z",
     "iopub.status.idle": "2023-06-17T04:19:30.235929Z",
     "shell.execute_reply": "2023-06-17T04:19:30.234510Z"
    },
    "papermill": {
     "duration": 0.051563,
     "end_time": "2023-06-17T04:19:30.238769",
     "exception": false,
     "start_time": "2023-06-17T04:19:30.187206",
     "status": "completed"
    },
    "tags": []
   },
   "outputs": [
    {
     "data": {
      "text/html": [
       "<div>\n",
       "<style scoped>\n",
       "    .dataframe tbody tr th:only-of-type {\n",
       "        vertical-align: middle;\n",
       "    }\n",
       "\n",
       "    .dataframe tbody tr th {\n",
       "        vertical-align: top;\n",
       "    }\n",
       "\n",
       "    .dataframe thead th {\n",
       "        text-align: right;\n",
       "    }\n",
       "</style>\n",
       "<table border=\"1\" class=\"dataframe\">\n",
       "  <thead>\n",
       "    <tr style=\"text-align: right;\">\n",
       "      <th></th>\n",
       "      <th>Age</th>\n",
       "      <th>Age-binned</th>\n",
       "    </tr>\n",
       "  </thead>\n",
       "  <tbody>\n",
       "    <tr>\n",
       "      <th>0</th>\n",
       "      <td>22.000000</td>\n",
       "      <td>24</td>\n",
       "    </tr>\n",
       "    <tr>\n",
       "      <th>1</th>\n",
       "      <td>38.000000</td>\n",
       "      <td>40</td>\n",
       "    </tr>\n",
       "    <tr>\n",
       "      <th>2</th>\n",
       "      <td>26.000000</td>\n",
       "      <td>32</td>\n",
       "    </tr>\n",
       "    <tr>\n",
       "      <th>3</th>\n",
       "      <td>35.000000</td>\n",
       "      <td>40</td>\n",
       "    </tr>\n",
       "    <tr>\n",
       "      <th>4</th>\n",
       "      <td>35.000000</td>\n",
       "      <td>40</td>\n",
       "    </tr>\n",
       "    <tr>\n",
       "      <th>5</th>\n",
       "      <td>29.699118</td>\n",
       "      <td>32</td>\n",
       "    </tr>\n",
       "    <tr>\n",
       "      <th>6</th>\n",
       "      <td>54.000000</td>\n",
       "      <td>56</td>\n",
       "    </tr>\n",
       "    <tr>\n",
       "      <th>7</th>\n",
       "      <td>2.000000</td>\n",
       "      <td>8</td>\n",
       "    </tr>\n",
       "    <tr>\n",
       "      <th>8</th>\n",
       "      <td>27.000000</td>\n",
       "      <td>32</td>\n",
       "    </tr>\n",
       "    <tr>\n",
       "      <th>9</th>\n",
       "      <td>14.000000</td>\n",
       "      <td>16</td>\n",
       "    </tr>\n",
       "    <tr>\n",
       "      <th>10</th>\n",
       "      <td>4.000000</td>\n",
       "      <td>8</td>\n",
       "    </tr>\n",
       "    <tr>\n",
       "      <th>11</th>\n",
       "      <td>58.000000</td>\n",
       "      <td>64</td>\n",
       "    </tr>\n",
       "    <tr>\n",
       "      <th>12</th>\n",
       "      <td>20.000000</td>\n",
       "      <td>24</td>\n",
       "    </tr>\n",
       "    <tr>\n",
       "      <th>13</th>\n",
       "      <td>39.000000</td>\n",
       "      <td>40</td>\n",
       "    </tr>\n",
       "    <tr>\n",
       "      <th>14</th>\n",
       "      <td>14.000000</td>\n",
       "      <td>16</td>\n",
       "    </tr>\n",
       "    <tr>\n",
       "      <th>15</th>\n",
       "      <td>55.000000</td>\n",
       "      <td>56</td>\n",
       "    </tr>\n",
       "    <tr>\n",
       "      <th>16</th>\n",
       "      <td>2.000000</td>\n",
       "      <td>8</td>\n",
       "    </tr>\n",
       "    <tr>\n",
       "      <th>17</th>\n",
       "      <td>29.699118</td>\n",
       "      <td>32</td>\n",
       "    </tr>\n",
       "    <tr>\n",
       "      <th>18</th>\n",
       "      <td>31.000000</td>\n",
       "      <td>32</td>\n",
       "    </tr>\n",
       "    <tr>\n",
       "      <th>19</th>\n",
       "      <td>29.699118</td>\n",
       "      <td>32</td>\n",
       "    </tr>\n",
       "  </tbody>\n",
       "</table>\n",
       "</div>"
      ],
      "text/plain": [
       "          Age Age-binned\n",
       "0   22.000000         24\n",
       "1   38.000000         40\n",
       "2   26.000000         32\n",
       "3   35.000000         40\n",
       "4   35.000000         40\n",
       "5   29.699118         32\n",
       "6   54.000000         56\n",
       "7    2.000000          8\n",
       "8   27.000000         32\n",
       "9   14.000000         16\n",
       "10   4.000000          8\n",
       "11  58.000000         64\n",
       "12  20.000000         24\n",
       "13  39.000000         40\n",
       "14  14.000000         16\n",
       "15  55.000000         56\n",
       "16   2.000000          8\n",
       "17  29.699118         32\n",
       "18  31.000000         32\n",
       "19  29.699118         32"
      ]
     },
     "execution_count": 13,
     "metadata": {},
     "output_type": "execute_result"
    }
   ],
   "source": [
    "train_data['Age-binned'] = pd.cut(train_data['Age'], bins, labels=group_names, include_lowest=True)\n",
    "train_data[['Age','Age-binned']].head(20)"
   ]
  },
  {
   "cell_type": "code",
   "execution_count": 14,
   "id": "1fcdd0eb",
   "metadata": {
    "execution": {
     "iopub.execute_input": "2023-06-17T04:19:30.287778Z",
     "iopub.status.busy": "2023-06-17T04:19:30.286882Z",
     "iopub.status.idle": "2023-06-17T04:19:30.303522Z",
     "shell.execute_reply": "2023-06-17T04:19:30.301662Z"
    },
    "papermill": {
     "duration": 0.044204,
     "end_time": "2023-06-17T04:19:30.306360",
     "exception": false,
     "start_time": "2023-06-17T04:19:30.262156",
     "status": "completed"
    },
    "tags": []
   },
   "outputs": [
    {
     "name": "stdout",
     "output_type": "stream",
     "text": [
      "<class 'pandas.core.frame.DataFrame'>\n",
      "RangeIndex: 891 entries, 0 to 890\n",
      "Data columns (total 13 columns):\n",
      " #   Column       Non-Null Count  Dtype   \n",
      "---  ------       --------------  -----   \n",
      " 0   PassengerId  891 non-null    int64   \n",
      " 1   Survived     891 non-null    int64   \n",
      " 2   Pclass       891 non-null    int64   \n",
      " 3   Name         891 non-null    object  \n",
      " 4   Sex          891 non-null    object  \n",
      " 5   Age          891 non-null    float64 \n",
      " 6   SibSp        891 non-null    int64   \n",
      " 7   Parch        891 non-null    int64   \n",
      " 8   Ticket       891 non-null    object  \n",
      " 9   Fare         891 non-null    float64 \n",
      " 10  Cabin        204 non-null    object  \n",
      " 11  Embarked     891 non-null    object  \n",
      " 12  Age-binned   891 non-null    category\n",
      "dtypes: category(1), float64(2), int64(5), object(5)\n",
      "memory usage: 84.9+ KB\n"
     ]
    }
   ],
   "source": [
    "train_data.info()"
   ]
  },
  {
   "cell_type": "code",
   "execution_count": 15,
   "id": "8bb66c4a",
   "metadata": {
    "execution": {
     "iopub.execute_input": "2023-06-17T04:19:30.353898Z",
     "iopub.status.busy": "2023-06-17T04:19:30.353479Z",
     "iopub.status.idle": "2023-06-17T04:19:30.371835Z",
     "shell.execute_reply": "2023-06-17T04:19:30.370499Z"
    },
    "papermill": {
     "duration": 0.045468,
     "end_time": "2023-06-17T04:19:30.374517",
     "exception": false,
     "start_time": "2023-06-17T04:19:30.329049",
     "status": "completed"
    },
    "tags": []
   },
   "outputs": [
    {
     "data": {
      "text/html": [
       "<div>\n",
       "<style scoped>\n",
       "    .dataframe tbody tr th:only-of-type {\n",
       "        vertical-align: middle;\n",
       "    }\n",
       "\n",
       "    .dataframe tbody tr th {\n",
       "        vertical-align: top;\n",
       "    }\n",
       "\n",
       "    .dataframe thead th {\n",
       "        text-align: right;\n",
       "    }\n",
       "</style>\n",
       "<table border=\"1\" class=\"dataframe\">\n",
       "  <thead>\n",
       "    <tr style=\"text-align: right;\">\n",
       "      <th></th>\n",
       "      <th>Age</th>\n",
       "      <th>Age-binned</th>\n",
       "    </tr>\n",
       "  </thead>\n",
       "  <tbody>\n",
       "    <tr>\n",
       "      <th>0</th>\n",
       "      <td>34.50000</td>\n",
       "      <td>40</td>\n",
       "    </tr>\n",
       "    <tr>\n",
       "      <th>1</th>\n",
       "      <td>47.00000</td>\n",
       "      <td>48</td>\n",
       "    </tr>\n",
       "    <tr>\n",
       "      <th>2</th>\n",
       "      <td>62.00000</td>\n",
       "      <td>64</td>\n",
       "    </tr>\n",
       "    <tr>\n",
       "      <th>3</th>\n",
       "      <td>27.00000</td>\n",
       "      <td>32</td>\n",
       "    </tr>\n",
       "    <tr>\n",
       "      <th>4</th>\n",
       "      <td>22.00000</td>\n",
       "      <td>24</td>\n",
       "    </tr>\n",
       "    <tr>\n",
       "      <th>5</th>\n",
       "      <td>14.00000</td>\n",
       "      <td>16</td>\n",
       "    </tr>\n",
       "    <tr>\n",
       "      <th>6</th>\n",
       "      <td>30.00000</td>\n",
       "      <td>32</td>\n",
       "    </tr>\n",
       "    <tr>\n",
       "      <th>7</th>\n",
       "      <td>26.00000</td>\n",
       "      <td>32</td>\n",
       "    </tr>\n",
       "    <tr>\n",
       "      <th>8</th>\n",
       "      <td>18.00000</td>\n",
       "      <td>24</td>\n",
       "    </tr>\n",
       "    <tr>\n",
       "      <th>9</th>\n",
       "      <td>21.00000</td>\n",
       "      <td>24</td>\n",
       "    </tr>\n",
       "    <tr>\n",
       "      <th>10</th>\n",
       "      <td>30.27259</td>\n",
       "      <td>32</td>\n",
       "    </tr>\n",
       "    <tr>\n",
       "      <th>11</th>\n",
       "      <td>46.00000</td>\n",
       "      <td>48</td>\n",
       "    </tr>\n",
       "    <tr>\n",
       "      <th>12</th>\n",
       "      <td>23.00000</td>\n",
       "      <td>24</td>\n",
       "    </tr>\n",
       "    <tr>\n",
       "      <th>13</th>\n",
       "      <td>63.00000</td>\n",
       "      <td>64</td>\n",
       "    </tr>\n",
       "    <tr>\n",
       "      <th>14</th>\n",
       "      <td>47.00000</td>\n",
       "      <td>48</td>\n",
       "    </tr>\n",
       "    <tr>\n",
       "      <th>15</th>\n",
       "      <td>24.00000</td>\n",
       "      <td>24</td>\n",
       "    </tr>\n",
       "    <tr>\n",
       "      <th>16</th>\n",
       "      <td>35.00000</td>\n",
       "      <td>40</td>\n",
       "    </tr>\n",
       "    <tr>\n",
       "      <th>17</th>\n",
       "      <td>21.00000</td>\n",
       "      <td>24</td>\n",
       "    </tr>\n",
       "    <tr>\n",
       "      <th>18</th>\n",
       "      <td>27.00000</td>\n",
       "      <td>32</td>\n",
       "    </tr>\n",
       "    <tr>\n",
       "      <th>19</th>\n",
       "      <td>45.00000</td>\n",
       "      <td>48</td>\n",
       "    </tr>\n",
       "  </tbody>\n",
       "</table>\n",
       "</div>"
      ],
      "text/plain": [
       "         Age Age-binned\n",
       "0   34.50000         40\n",
       "1   47.00000         48\n",
       "2   62.00000         64\n",
       "3   27.00000         32\n",
       "4   22.00000         24\n",
       "5   14.00000         16\n",
       "6   30.00000         32\n",
       "7   26.00000         32\n",
       "8   18.00000         24\n",
       "9   21.00000         24\n",
       "10  30.27259         32\n",
       "11  46.00000         48\n",
       "12  23.00000         24\n",
       "13  63.00000         64\n",
       "14  47.00000         48\n",
       "15  24.00000         24\n",
       "16  35.00000         40\n",
       "17  21.00000         24\n",
       "18  27.00000         32\n",
       "19  45.00000         48"
      ]
     },
     "execution_count": 15,
     "metadata": {},
     "output_type": "execute_result"
    }
   ],
   "source": [
    "test_data['Age-binned'] = pd.cut(test_data['Age'], bins, labels=group_names, include_lowest=True )\n",
    "test_data[['Age','Age-binned']].head(20)"
   ]
  },
  {
   "cell_type": "code",
   "execution_count": 16,
   "id": "97860c84",
   "metadata": {
    "execution": {
     "iopub.execute_input": "2023-06-17T04:19:30.422625Z",
     "iopub.status.busy": "2023-06-17T04:19:30.422179Z",
     "iopub.status.idle": "2023-06-17T04:19:30.428999Z",
     "shell.execute_reply": "2023-06-17T04:19:30.427693Z"
    },
    "papermill": {
     "duration": 0.033971,
     "end_time": "2023-06-17T04:19:30.431401",
     "exception": false,
     "start_time": "2023-06-17T04:19:30.397430",
     "status": "completed"
    },
    "tags": []
   },
   "outputs": [],
   "source": [
    "bins1 = np.linspace(min(train_data[\"Fare\"]), max(train_data[\"Fare\"]), 7)\n",
    "group_names1 = ['1', '2', '3', '4','5','6']"
   ]
  },
  {
   "cell_type": "code",
   "execution_count": 17,
   "id": "732be061",
   "metadata": {
    "execution": {
     "iopub.execute_input": "2023-06-17T04:19:30.478962Z",
     "iopub.status.busy": "2023-06-17T04:19:30.478557Z",
     "iopub.status.idle": "2023-06-17T04:19:30.494562Z",
     "shell.execute_reply": "2023-06-17T04:19:30.493296Z"
    },
    "papermill": {
     "duration": 0.043146,
     "end_time": "2023-06-17T04:19:30.497282",
     "exception": false,
     "start_time": "2023-06-17T04:19:30.454136",
     "status": "completed"
    },
    "tags": []
   },
   "outputs": [
    {
     "data": {
      "text/plain": [
       "Fare-binned\n",
       "1              825\n",
       "2               46\n",
       "3               11\n",
       "4                6\n",
       "6                3\n",
       "5                0\n",
       "dtype: int64"
      ]
     },
     "execution_count": 17,
     "metadata": {},
     "output_type": "execute_result"
    }
   ],
   "source": [
    "train_data['Fare-binned'] = pd.cut(train_data['Fare'], bins1, labels=group_names1, include_lowest=True )\n",
    "train_data[['Fare-binned']].value_counts()"
   ]
  },
  {
   "cell_type": "code",
   "execution_count": 18,
   "id": "e902cd74",
   "metadata": {
    "execution": {
     "iopub.execute_input": "2023-06-17T04:19:30.545032Z",
     "iopub.status.busy": "2023-06-17T04:19:30.544625Z",
     "iopub.status.idle": "2023-06-17T04:19:30.560114Z",
     "shell.execute_reply": "2023-06-17T04:19:30.558777Z"
    },
    "papermill": {
     "duration": 0.042667,
     "end_time": "2023-06-17T04:19:30.562842",
     "exception": false,
     "start_time": "2023-06-17T04:19:30.520175",
     "status": "completed"
    },
    "tags": []
   },
   "outputs": [
    {
     "data": {
      "text/plain": [
       "Fare-binned\n",
       "1              384\n",
       "2               16\n",
       "3               10\n",
       "4                7\n",
       "6                1\n",
       "5                0\n",
       "dtype: int64"
      ]
     },
     "execution_count": 18,
     "metadata": {},
     "output_type": "execute_result"
    }
   ],
   "source": [
    "test_data['Fare-binned'] = pd.cut(test_data['Fare'], bins1, labels=group_names1, include_lowest=True )\n",
    "test_data[['Fare-binned']].value_counts()"
   ]
  },
  {
   "cell_type": "markdown",
   "id": "261c885c",
   "metadata": {
    "papermill": {
     "duration": 0.0231,
     "end_time": "2023-06-17T04:19:30.609246",
     "exception": false,
     "start_time": "2023-06-17T04:19:30.586146",
     "status": "completed"
    },
    "tags": []
   },
   "source": [
    "So far I have cleaned both the datasets given for the competetion. Now I want to use **train_data** for training and validation of my models and then I will use the best performing model on the **test_data**"
   ]
  },
  {
   "cell_type": "code",
   "execution_count": 19,
   "id": "992e2105",
   "metadata": {
    "execution": {
     "iopub.execute_input": "2023-06-17T04:19:30.658578Z",
     "iopub.status.busy": "2023-06-17T04:19:30.658095Z",
     "iopub.status.idle": "2023-06-17T04:19:30.673811Z",
     "shell.execute_reply": "2023-06-17T04:19:30.672453Z"
    },
    "papermill": {
     "duration": 0.043479,
     "end_time": "2023-06-17T04:19:30.676815",
     "exception": false,
     "start_time": "2023-06-17T04:19:30.633336",
     "status": "completed"
    },
    "tags": []
   },
   "outputs": [
    {
     "name": "stdout",
     "output_type": "stream",
     "text": [
      "<class 'pandas.core.frame.DataFrame'>\n",
      "RangeIndex: 891 entries, 0 to 890\n",
      "Data columns (total 14 columns):\n",
      " #   Column       Non-Null Count  Dtype   \n",
      "---  ------       --------------  -----   \n",
      " 0   PassengerId  891 non-null    int64   \n",
      " 1   Survived     891 non-null    int64   \n",
      " 2   Pclass       891 non-null    int64   \n",
      " 3   Name         891 non-null    object  \n",
      " 4   Sex          891 non-null    object  \n",
      " 5   Age          891 non-null    float64 \n",
      " 6   SibSp        891 non-null    int64   \n",
      " 7   Parch        891 non-null    int64   \n",
      " 8   Ticket       891 non-null    object  \n",
      " 9   Fare         891 non-null    float64 \n",
      " 10  Cabin        204 non-null    object  \n",
      " 11  Embarked     891 non-null    object  \n",
      " 12  Age-binned   891 non-null    category\n",
      " 13  Fare-binned  891 non-null    category\n",
      "dtypes: category(2), float64(2), int64(5), object(5)\n",
      "memory usage: 86.0+ KB\n"
     ]
    }
   ],
   "source": [
    "train_data.info()"
   ]
  },
  {
   "cell_type": "markdown",
   "id": "b08c43be",
   "metadata": {
    "papermill": {
     "duration": 0.023564,
     "end_time": "2023-06-17T04:19:30.724520",
     "exception": false,
     "start_time": "2023-06-17T04:19:30.700956",
     "status": "completed"
    },
    "tags": []
   },
   "source": [
    "I'm ignoring the *PassengerID, Name* as they are unique values, hence they will not be useful to build a machine learning model. I'm also ignoring *Cabin* as majority of the entries are missing for this feature."
   ]
  },
  {
   "cell_type": "code",
   "execution_count": 20,
   "id": "22f52b4c",
   "metadata": {
    "execution": {
     "iopub.execute_input": "2023-06-17T04:19:30.773685Z",
     "iopub.status.busy": "2023-06-17T04:19:30.772941Z",
     "iopub.status.idle": "2023-06-17T04:19:30.777869Z",
     "shell.execute_reply": "2023-06-17T04:19:30.776927Z"
    },
    "papermill": {
     "duration": 0.032305,
     "end_time": "2023-06-17T04:19:30.780243",
     "exception": false,
     "start_time": "2023-06-17T04:19:30.747938",
     "status": "completed"
    },
    "tags": []
   },
   "outputs": [],
   "source": [
    "features = [\"Pclass\", \"Sex\", \"SibSp\", \"Parch\",\"Age-binned\",\"Fare-binned\", \"Embarked\", \"Survived\"]"
   ]
  },
  {
   "cell_type": "code",
   "execution_count": 21,
   "id": "c3d0219b",
   "metadata": {
    "execution": {
     "iopub.execute_input": "2023-06-17T04:19:30.829432Z",
     "iopub.status.busy": "2023-06-17T04:19:30.828785Z",
     "iopub.status.idle": "2023-06-17T04:19:30.844453Z",
     "shell.execute_reply": "2023-06-17T04:19:30.843234Z"
    },
    "papermill": {
     "duration": 0.0433,
     "end_time": "2023-06-17T04:19:30.847037",
     "exception": false,
     "start_time": "2023-06-17T04:19:30.803737",
     "status": "completed"
    },
    "tags": []
   },
   "outputs": [
    {
     "data": {
      "text/html": [
       "<div>\n",
       "<style scoped>\n",
       "    .dataframe tbody tr th:only-of-type {\n",
       "        vertical-align: middle;\n",
       "    }\n",
       "\n",
       "    .dataframe tbody tr th {\n",
       "        vertical-align: top;\n",
       "    }\n",
       "\n",
       "    .dataframe thead th {\n",
       "        text-align: right;\n",
       "    }\n",
       "</style>\n",
       "<table border=\"1\" class=\"dataframe\">\n",
       "  <thead>\n",
       "    <tr style=\"text-align: right;\">\n",
       "      <th></th>\n",
       "      <th>Pclass</th>\n",
       "      <th>Sex</th>\n",
       "      <th>SibSp</th>\n",
       "      <th>Parch</th>\n",
       "      <th>Age-binned</th>\n",
       "      <th>Fare-binned</th>\n",
       "      <th>Embarked</th>\n",
       "      <th>Survived</th>\n",
       "    </tr>\n",
       "  </thead>\n",
       "  <tbody>\n",
       "    <tr>\n",
       "      <th>0</th>\n",
       "      <td>3</td>\n",
       "      <td>male</td>\n",
       "      <td>1</td>\n",
       "      <td>0</td>\n",
       "      <td>24</td>\n",
       "      <td>1</td>\n",
       "      <td>S</td>\n",
       "      <td>0</td>\n",
       "    </tr>\n",
       "    <tr>\n",
       "      <th>1</th>\n",
       "      <td>1</td>\n",
       "      <td>female</td>\n",
       "      <td>1</td>\n",
       "      <td>0</td>\n",
       "      <td>40</td>\n",
       "      <td>1</td>\n",
       "      <td>C</td>\n",
       "      <td>1</td>\n",
       "    </tr>\n",
       "    <tr>\n",
       "      <th>2</th>\n",
       "      <td>3</td>\n",
       "      <td>female</td>\n",
       "      <td>0</td>\n",
       "      <td>0</td>\n",
       "      <td>32</td>\n",
       "      <td>1</td>\n",
       "      <td>S</td>\n",
       "      <td>1</td>\n",
       "    </tr>\n",
       "    <tr>\n",
       "      <th>3</th>\n",
       "      <td>1</td>\n",
       "      <td>female</td>\n",
       "      <td>1</td>\n",
       "      <td>0</td>\n",
       "      <td>40</td>\n",
       "      <td>1</td>\n",
       "      <td>S</td>\n",
       "      <td>1</td>\n",
       "    </tr>\n",
       "    <tr>\n",
       "      <th>4</th>\n",
       "      <td>3</td>\n",
       "      <td>male</td>\n",
       "      <td>0</td>\n",
       "      <td>0</td>\n",
       "      <td>40</td>\n",
       "      <td>1</td>\n",
       "      <td>S</td>\n",
       "      <td>0</td>\n",
       "    </tr>\n",
       "  </tbody>\n",
       "</table>\n",
       "</div>"
      ],
      "text/plain": [
       "   Pclass     Sex  SibSp  Parch Age-binned Fare-binned Embarked  Survived\n",
       "0       3    male      1      0         24           1        S         0\n",
       "1       1  female      1      0         40           1        C         1\n",
       "2       3  female      0      0         32           1        S         1\n",
       "3       1  female      1      0         40           1        S         1\n",
       "4       3    male      0      0         40           1        S         0"
      ]
     },
     "execution_count": 21,
     "metadata": {},
     "output_type": "execute_result"
    }
   ],
   "source": [
    "df = train_data[features]\n",
    "df.head()"
   ]
  },
  {
   "cell_type": "code",
   "execution_count": 22,
   "id": "b87a2410",
   "metadata": {
    "execution": {
     "iopub.execute_input": "2023-06-17T04:19:30.898040Z",
     "iopub.status.busy": "2023-06-17T04:19:30.897248Z",
     "iopub.status.idle": "2023-06-17T04:19:30.927423Z",
     "shell.execute_reply": "2023-06-17T04:19:30.925777Z"
    },
    "papermill": {
     "duration": 0.058472,
     "end_time": "2023-06-17T04:19:30.930440",
     "exception": false,
     "start_time": "2023-06-17T04:19:30.871968",
     "status": "completed"
    },
    "tags": []
   },
   "outputs": [
    {
     "data": {
      "text/html": [
       "<div>\n",
       "<style scoped>\n",
       "    .dataframe tbody tr th:only-of-type {\n",
       "        vertical-align: middle;\n",
       "    }\n",
       "\n",
       "    .dataframe tbody tr th {\n",
       "        vertical-align: top;\n",
       "    }\n",
       "\n",
       "    .dataframe thead th {\n",
       "        text-align: right;\n",
       "    }\n",
       "</style>\n",
       "<table border=\"1\" class=\"dataframe\">\n",
       "  <thead>\n",
       "    <tr style=\"text-align: right;\">\n",
       "      <th></th>\n",
       "      <th>Pclass</th>\n",
       "      <th>SibSp</th>\n",
       "      <th>Parch</th>\n",
       "      <th>Survived</th>\n",
       "      <th>Sex_female</th>\n",
       "      <th>Sex_male</th>\n",
       "      <th>Age-binned_8</th>\n",
       "      <th>Age-binned_16</th>\n",
       "      <th>Age-binned_24</th>\n",
       "      <th>Age-binned_32</th>\n",
       "      <th>...</th>\n",
       "      <th>Age-binned_80</th>\n",
       "      <th>Fare-binned_1</th>\n",
       "      <th>Fare-binned_2</th>\n",
       "      <th>Fare-binned_3</th>\n",
       "      <th>Fare-binned_4</th>\n",
       "      <th>Fare-binned_5</th>\n",
       "      <th>Fare-binned_6</th>\n",
       "      <th>Embarked_C</th>\n",
       "      <th>Embarked_Q</th>\n",
       "      <th>Embarked_S</th>\n",
       "    </tr>\n",
       "  </thead>\n",
       "  <tbody>\n",
       "    <tr>\n",
       "      <th>0</th>\n",
       "      <td>3</td>\n",
       "      <td>1</td>\n",
       "      <td>0</td>\n",
       "      <td>0</td>\n",
       "      <td>0</td>\n",
       "      <td>1</td>\n",
       "      <td>0</td>\n",
       "      <td>0</td>\n",
       "      <td>1</td>\n",
       "      <td>0</td>\n",
       "      <td>...</td>\n",
       "      <td>0</td>\n",
       "      <td>1</td>\n",
       "      <td>0</td>\n",
       "      <td>0</td>\n",
       "      <td>0</td>\n",
       "      <td>0</td>\n",
       "      <td>0</td>\n",
       "      <td>0</td>\n",
       "      <td>0</td>\n",
       "      <td>1</td>\n",
       "    </tr>\n",
       "    <tr>\n",
       "      <th>1</th>\n",
       "      <td>1</td>\n",
       "      <td>1</td>\n",
       "      <td>0</td>\n",
       "      <td>1</td>\n",
       "      <td>1</td>\n",
       "      <td>0</td>\n",
       "      <td>0</td>\n",
       "      <td>0</td>\n",
       "      <td>0</td>\n",
       "      <td>0</td>\n",
       "      <td>...</td>\n",
       "      <td>0</td>\n",
       "      <td>1</td>\n",
       "      <td>0</td>\n",
       "      <td>0</td>\n",
       "      <td>0</td>\n",
       "      <td>0</td>\n",
       "      <td>0</td>\n",
       "      <td>1</td>\n",
       "      <td>0</td>\n",
       "      <td>0</td>\n",
       "    </tr>\n",
       "    <tr>\n",
       "      <th>2</th>\n",
       "      <td>3</td>\n",
       "      <td>0</td>\n",
       "      <td>0</td>\n",
       "      <td>1</td>\n",
       "      <td>1</td>\n",
       "      <td>0</td>\n",
       "      <td>0</td>\n",
       "      <td>0</td>\n",
       "      <td>0</td>\n",
       "      <td>1</td>\n",
       "      <td>...</td>\n",
       "      <td>0</td>\n",
       "      <td>1</td>\n",
       "      <td>0</td>\n",
       "      <td>0</td>\n",
       "      <td>0</td>\n",
       "      <td>0</td>\n",
       "      <td>0</td>\n",
       "      <td>0</td>\n",
       "      <td>0</td>\n",
       "      <td>1</td>\n",
       "    </tr>\n",
       "    <tr>\n",
       "      <th>3</th>\n",
       "      <td>1</td>\n",
       "      <td>1</td>\n",
       "      <td>0</td>\n",
       "      <td>1</td>\n",
       "      <td>1</td>\n",
       "      <td>0</td>\n",
       "      <td>0</td>\n",
       "      <td>0</td>\n",
       "      <td>0</td>\n",
       "      <td>0</td>\n",
       "      <td>...</td>\n",
       "      <td>0</td>\n",
       "      <td>1</td>\n",
       "      <td>0</td>\n",
       "      <td>0</td>\n",
       "      <td>0</td>\n",
       "      <td>0</td>\n",
       "      <td>0</td>\n",
       "      <td>0</td>\n",
       "      <td>0</td>\n",
       "      <td>1</td>\n",
       "    </tr>\n",
       "    <tr>\n",
       "      <th>4</th>\n",
       "      <td>3</td>\n",
       "      <td>0</td>\n",
       "      <td>0</td>\n",
       "      <td>0</td>\n",
       "      <td>0</td>\n",
       "      <td>1</td>\n",
       "      <td>0</td>\n",
       "      <td>0</td>\n",
       "      <td>0</td>\n",
       "      <td>0</td>\n",
       "      <td>...</td>\n",
       "      <td>0</td>\n",
       "      <td>1</td>\n",
       "      <td>0</td>\n",
       "      <td>0</td>\n",
       "      <td>0</td>\n",
       "      <td>0</td>\n",
       "      <td>0</td>\n",
       "      <td>0</td>\n",
       "      <td>0</td>\n",
       "      <td>1</td>\n",
       "    </tr>\n",
       "  </tbody>\n",
       "</table>\n",
       "<p>5 rows × 25 columns</p>\n",
       "</div>"
      ],
      "text/plain": [
       "   Pclass  SibSp  Parch  Survived  Sex_female  Sex_male  Age-binned_8  \\\n",
       "0       3      1      0         0           0         1             0   \n",
       "1       1      1      0         1           1         0             0   \n",
       "2       3      0      0         1           1         0             0   \n",
       "3       1      1      0         1           1         0             0   \n",
       "4       3      0      0         0           0         1             0   \n",
       "\n",
       "   Age-binned_16  Age-binned_24  Age-binned_32  ...  Age-binned_80  \\\n",
       "0              0              1              0  ...              0   \n",
       "1              0              0              0  ...              0   \n",
       "2              0              0              1  ...              0   \n",
       "3              0              0              0  ...              0   \n",
       "4              0              0              0  ...              0   \n",
       "\n",
       "   Fare-binned_1  Fare-binned_2  Fare-binned_3  Fare-binned_4  Fare-binned_5  \\\n",
       "0              1              0              0              0              0   \n",
       "1              1              0              0              0              0   \n",
       "2              1              0              0              0              0   \n",
       "3              1              0              0              0              0   \n",
       "4              1              0              0              0              0   \n",
       "\n",
       "   Fare-binned_6  Embarked_C  Embarked_Q  Embarked_S  \n",
       "0              0           0           0           1  \n",
       "1              0           1           0           0  \n",
       "2              0           0           0           1  \n",
       "3              0           0           0           1  \n",
       "4              0           0           0           1  \n",
       "\n",
       "[5 rows x 25 columns]"
      ]
     },
     "execution_count": 22,
     "metadata": {},
     "output_type": "execute_result"
    }
   ],
   "source": [
    "df = pd.get_dummies(df)\n",
    "df.head()"
   ]
  },
  {
   "cell_type": "code",
   "execution_count": 23,
   "id": "eb3bd396",
   "metadata": {
    "execution": {
     "iopub.execute_input": "2023-06-17T04:19:30.981894Z",
     "iopub.status.busy": "2023-06-17T04:19:30.981424Z",
     "iopub.status.idle": "2023-06-17T04:19:30.990308Z",
     "shell.execute_reply": "2023-06-17T04:19:30.989136Z"
    },
    "papermill": {
     "duration": 0.037198,
     "end_time": "2023-06-17T04:19:30.992949",
     "exception": false,
     "start_time": "2023-06-17T04:19:30.955751",
     "status": "completed"
    },
    "tags": []
   },
   "outputs": [
    {
     "data": {
      "text/plain": [
       "['Pclass',\n",
       " 'SibSp',\n",
       " 'Parch',\n",
       " 'Sex_female',\n",
       " 'Sex_male',\n",
       " 'Age-binned_8',\n",
       " 'Age-binned_16',\n",
       " 'Age-binned_24',\n",
       " 'Age-binned_32',\n",
       " 'Age-binned_40',\n",
       " 'Age-binned_48',\n",
       " 'Age-binned_56',\n",
       " 'Age-binned_64',\n",
       " 'Age-binned_72',\n",
       " 'Age-binned_80',\n",
       " 'Fare-binned_1',\n",
       " 'Fare-binned_2',\n",
       " 'Fare-binned_3',\n",
       " 'Fare-binned_4',\n",
       " 'Fare-binned_5',\n",
       " 'Fare-binned_6',\n",
       " 'Embarked_C',\n",
       " 'Embarked_Q',\n",
       " 'Embarked_S']"
      ]
     },
     "execution_count": 23,
     "metadata": {},
     "output_type": "execute_result"
    }
   ],
   "source": [
    "feature_cols = [x for x in df.columns if x != 'Survived']\n",
    "feature_cols"
   ]
  },
  {
   "cell_type": "code",
   "execution_count": 24,
   "id": "bb5121bd",
   "metadata": {
    "execution": {
     "iopub.execute_input": "2023-06-17T04:19:31.044981Z",
     "iopub.status.busy": "2023-06-17T04:19:31.043697Z",
     "iopub.status.idle": "2023-06-17T04:19:31.054919Z",
     "shell.execute_reply": "2023-06-17T04:19:31.053714Z"
    },
    "papermill": {
     "duration": 0.040575,
     "end_time": "2023-06-17T04:19:31.057760",
     "exception": false,
     "start_time": "2023-06-17T04:19:31.017185",
     "status": "completed"
    },
    "tags": []
   },
   "outputs": [
    {
     "data": {
      "text/plain": [
       "0    0.616162\n",
       "1    0.383838\n",
       "Name: Survived, dtype: float64"
      ]
     },
     "execution_count": 24,
     "metadata": {},
     "output_type": "execute_result"
    }
   ],
   "source": [
    "df.Survived.value_counts(normalize = True)"
   ]
  },
  {
   "cell_type": "markdown",
   "id": "7e83eef1",
   "metadata": {
    "papermill": {
     "duration": 0.025156,
     "end_time": "2023-06-17T04:19:31.107836",
     "exception": false,
     "start_time": "2023-06-17T04:19:31.082680",
     "status": "completed"
    },
    "tags": []
   },
   "source": [
    "As the target is not balanced, it is better to use StratifiedShuffleSplit to split the data"
   ]
  },
  {
   "cell_type": "code",
   "execution_count": 25,
   "id": "ff0238b3",
   "metadata": {
    "execution": {
     "iopub.execute_input": "2023-06-17T04:19:31.159493Z",
     "iopub.status.busy": "2023-06-17T04:19:31.159019Z",
     "iopub.status.idle": "2023-06-17T04:19:32.440860Z",
     "shell.execute_reply": "2023-06-17T04:19:32.439403Z"
    },
    "papermill": {
     "duration": 1.311407,
     "end_time": "2023-06-17T04:19:32.443698",
     "exception": false,
     "start_time": "2023-06-17T04:19:31.132291",
     "status": "completed"
    },
    "tags": []
   },
   "outputs": [],
   "source": [
    "from sklearn.model_selection import StratifiedShuffleSplit\n",
    "\n",
    "# Get the split indexes\n",
    "strat_shuf_split = StratifiedShuffleSplit(n_splits=1, \n",
    "                                          test_size=0.3, \n",
    "                                          random_state=42)\n",
    "\n",
    "train_idx, test_idx = next(strat_shuf_split.split(df[feature_cols], df.Survived))\n",
    "\n",
    "# Create the dataframes\n",
    "X_train = df.loc[train_idx, feature_cols]\n",
    "y_train = df.loc[train_idx, 'Survived']\n",
    "\n",
    "X_test  = df.loc[test_idx, feature_cols]\n",
    "y_test  = df.loc[test_idx, 'Survived']\n"
   ]
  },
  {
   "cell_type": "code",
   "execution_count": 26,
   "id": "0acfc0d3",
   "metadata": {
    "execution": {
     "iopub.execute_input": "2023-06-17T04:19:32.494233Z",
     "iopub.status.busy": "2023-06-17T04:19:32.493800Z",
     "iopub.status.idle": "2023-06-17T04:19:32.503328Z",
     "shell.execute_reply": "2023-06-17T04:19:32.501801Z"
    },
    "papermill": {
     "duration": 0.037833,
     "end_time": "2023-06-17T04:19:32.505892",
     "exception": false,
     "start_time": "2023-06-17T04:19:32.468059",
     "status": "completed"
    },
    "tags": []
   },
   "outputs": [
    {
     "data": {
      "text/plain": [
       "0    0.616372\n",
       "1    0.383628\n",
       "Name: Survived, dtype: float64"
      ]
     },
     "execution_count": 26,
     "metadata": {},
     "output_type": "execute_result"
    }
   ],
   "source": [
    "y_train.value_counts(normalize=True)"
   ]
  },
  {
   "cell_type": "code",
   "execution_count": 27,
   "id": "66e37c82",
   "metadata": {
    "execution": {
     "iopub.execute_input": "2023-06-17T04:19:32.557775Z",
     "iopub.status.busy": "2023-06-17T04:19:32.556183Z",
     "iopub.status.idle": "2023-06-17T04:19:32.566719Z",
     "shell.execute_reply": "2023-06-17T04:19:32.565473Z"
    },
    "papermill": {
     "duration": 0.039256,
     "end_time": "2023-06-17T04:19:32.569536",
     "exception": false,
     "start_time": "2023-06-17T04:19:32.530280",
     "status": "completed"
    },
    "tags": []
   },
   "outputs": [
    {
     "data": {
      "text/plain": [
       "0    0.615672\n",
       "1    0.384328\n",
       "Name: Survived, dtype: float64"
      ]
     },
     "execution_count": 27,
     "metadata": {},
     "output_type": "execute_result"
    }
   ],
   "source": [
    "y_test.value_counts(normalize=True)"
   ]
  },
  {
   "cell_type": "markdown",
   "id": "beb42619",
   "metadata": {
    "papermill": {
     "duration": 0.024752,
     "end_time": "2023-06-17T04:19:32.619005",
     "exception": false,
     "start_time": "2023-06-17T04:19:32.594253",
     "status": "completed"
    },
    "tags": []
   },
   "source": [
    "We can observe that the target feature in the training and testing set have similar proportion of positive and negative labels."
   ]
  },
  {
   "cell_type": "markdown",
   "id": "3261cb5d",
   "metadata": {
    "papermill": {
     "duration": 0.024092,
     "end_time": "2023-06-17T04:19:32.667822",
     "exception": false,
     "start_time": "2023-06-17T04:19:32.643730",
     "status": "completed"
    },
    "tags": []
   },
   "source": [
    "## Scaling:"
   ]
  },
  {
   "cell_type": "code",
   "execution_count": 28,
   "id": "c90f922a",
   "metadata": {
    "execution": {
     "iopub.execute_input": "2023-06-17T04:19:32.719600Z",
     "iopub.status.busy": "2023-06-17T04:19:32.719111Z",
     "iopub.status.idle": "2023-06-17T04:19:32.734471Z",
     "shell.execute_reply": "2023-06-17T04:19:32.733464Z"
    },
    "papermill": {
     "duration": 0.044443,
     "end_time": "2023-06-17T04:19:32.737178",
     "exception": false,
     "start_time": "2023-06-17T04:19:32.692735",
     "status": "completed"
    },
    "tags": []
   },
   "outputs": [],
   "source": [
    "from sklearn.preprocessing import StandardScaler\n",
    "\n",
    "s = StandardScaler()\n",
    "X_train = s.fit_transform(X_train) \n",
    "X_test = s.transform(X_test)"
   ]
  },
  {
   "cell_type": "markdown",
   "id": "406f64c8",
   "metadata": {
    "papermill": {
     "duration": 0.024487,
     "end_time": "2023-06-17T04:19:32.786515",
     "exception": false,
     "start_time": "2023-06-17T04:19:32.762028",
     "status": "completed"
    },
    "tags": []
   },
   "source": [
    "## Logistic Regression:"
   ]
  },
  {
   "cell_type": "code",
   "execution_count": 29,
   "id": "157c4d50",
   "metadata": {
    "execution": {
     "iopub.execute_input": "2023-06-17T04:19:32.839678Z",
     "iopub.status.busy": "2023-06-17T04:19:32.838362Z",
     "iopub.status.idle": "2023-06-17T04:19:32.932501Z",
     "shell.execute_reply": "2023-06-17T04:19:32.931154Z"
    },
    "papermill": {
     "duration": 0.124611,
     "end_time": "2023-06-17T04:19:32.935749",
     "exception": false,
     "start_time": "2023-06-17T04:19:32.811138",
     "status": "completed"
    },
    "tags": []
   },
   "outputs": [],
   "source": [
    "from sklearn.linear_model import LogisticRegression\n",
    "\n",
    "# Standard logistic regression\n",
    "lr = LogisticRegression(solver='liblinear').fit(X_train, y_train)"
   ]
  },
  {
   "cell_type": "code",
   "execution_count": 30,
   "id": "b3417203",
   "metadata": {
    "execution": {
     "iopub.execute_input": "2023-06-17T04:19:32.987682Z",
     "iopub.status.busy": "2023-06-17T04:19:32.987240Z",
     "iopub.status.idle": "2023-06-17T04:19:33.535522Z",
     "shell.execute_reply": "2023-06-17T04:19:33.534100Z"
    },
    "papermill": {
     "duration": 0.578124,
     "end_time": "2023-06-17T04:19:33.538848",
     "exception": false,
     "start_time": "2023-06-17T04:19:32.960724",
     "status": "completed"
    },
    "tags": []
   },
   "outputs": [],
   "source": [
    "from sklearn.linear_model import LogisticRegressionCV\n",
    "\n",
    "# L1 regularized logistic regression\n",
    "lr_l1 = LogisticRegressionCV(Cs=10, cv=4, penalty='l1', solver='liblinear').fit(X_train, y_train)"
   ]
  },
  {
   "cell_type": "code",
   "execution_count": 31,
   "id": "8bebb100",
   "metadata": {
    "execution": {
     "iopub.execute_input": "2023-06-17T04:19:33.591693Z",
     "iopub.status.busy": "2023-06-17T04:19:33.590962Z",
     "iopub.status.idle": "2023-06-17T04:19:33.746300Z",
     "shell.execute_reply": "2023-06-17T04:19:33.745072Z"
    },
    "papermill": {
     "duration": 0.185059,
     "end_time": "2023-06-17T04:19:33.749207",
     "exception": false,
     "start_time": "2023-06-17T04:19:33.564148",
     "status": "completed"
    },
    "tags": []
   },
   "outputs": [],
   "source": [
    "# L2 regularized logistic regression\n",
    "lr_l2 = LogisticRegressionCV(Cs=10, cv=4, penalty='l2', solver='liblinear')\n",
    "lr_l2 = lr_l2.fit(X_train, y_train)"
   ]
  },
  {
   "cell_type": "code",
   "execution_count": 32,
   "id": "105e3d7a",
   "metadata": {
    "execution": {
     "iopub.execute_input": "2023-06-17T04:19:33.801162Z",
     "iopub.status.busy": "2023-06-17T04:19:33.800489Z",
     "iopub.status.idle": "2023-06-17T04:19:33.817254Z",
     "shell.execute_reply": "2023-06-17T04:19:33.815831Z"
    },
    "papermill": {
     "duration": 0.045617,
     "end_time": "2023-06-17T04:19:33.819913",
     "exception": false,
     "start_time": "2023-06-17T04:19:33.774296",
     "status": "completed"
    },
    "tags": []
   },
   "outputs": [
    {
     "data": {
      "text/html": [
       "<div>\n",
       "<style scoped>\n",
       "    .dataframe tbody tr th:only-of-type {\n",
       "        vertical-align: middle;\n",
       "    }\n",
       "\n",
       "    .dataframe tbody tr th {\n",
       "        vertical-align: top;\n",
       "    }\n",
       "\n",
       "    .dataframe thead th {\n",
       "        text-align: right;\n",
       "    }\n",
       "</style>\n",
       "<table border=\"1\" class=\"dataframe\">\n",
       "  <thead>\n",
       "    <tr style=\"text-align: right;\">\n",
       "      <th></th>\n",
       "      <th>lr</th>\n",
       "      <th>Lasso(l1)</th>\n",
       "      <th>Ridge(l2)</th>\n",
       "    </tr>\n",
       "  </thead>\n",
       "  <tbody>\n",
       "    <tr>\n",
       "      <th>0</th>\n",
       "      <td>0</td>\n",
       "      <td>0</td>\n",
       "      <td>0</td>\n",
       "    </tr>\n",
       "    <tr>\n",
       "      <th>1</th>\n",
       "      <td>0</td>\n",
       "      <td>0</td>\n",
       "      <td>0</td>\n",
       "    </tr>\n",
       "    <tr>\n",
       "      <th>2</th>\n",
       "      <td>0</td>\n",
       "      <td>0</td>\n",
       "      <td>0</td>\n",
       "    </tr>\n",
       "    <tr>\n",
       "      <th>3</th>\n",
       "      <td>0</td>\n",
       "      <td>0</td>\n",
       "      <td>0</td>\n",
       "    </tr>\n",
       "    <tr>\n",
       "      <th>4</th>\n",
       "      <td>0</td>\n",
       "      <td>0</td>\n",
       "      <td>0</td>\n",
       "    </tr>\n",
       "  </tbody>\n",
       "</table>\n",
       "</div>"
      ],
      "text/plain": [
       "   lr  Lasso(l1)  Ridge(l2)\n",
       "0   0          0          0\n",
       "1   0          0          0\n",
       "2   0          0          0\n",
       "3   0          0          0\n",
       "4   0          0          0"
      ]
     },
     "execution_count": 32,
     "metadata": {},
     "output_type": "execute_result"
    }
   ],
   "source": [
    "y_pred = list()\n",
    "coeff_labels = ['lr', 'Lasso(l1)', 'Ridge(l2)']\n",
    "coeff_models = [lr, lr_l1, lr_l2]\n",
    "\n",
    "for lab,mod in zip(coeff_labels, coeff_models):\n",
    "    y_pred.append(pd.Series(mod.predict(X_test), name=lab))\n",
    "    \n",
    "    \n",
    "y_pred = pd.concat(y_pred, axis=1)\n",
    "\n",
    "\n",
    "y_pred.head()"
   ]
  },
  {
   "cell_type": "code",
   "execution_count": 33,
   "id": "5d4b44f7",
   "metadata": {
    "execution": {
     "iopub.execute_input": "2023-06-17T04:19:33.871341Z",
     "iopub.status.busy": "2023-06-17T04:19:33.870482Z",
     "iopub.status.idle": "2023-06-17T04:19:33.898832Z",
     "shell.execute_reply": "2023-06-17T04:19:33.897496Z"
    },
    "papermill": {
     "duration": 0.05725,
     "end_time": "2023-06-17T04:19:33.901713",
     "exception": false,
     "start_time": "2023-06-17T04:19:33.844463",
     "status": "completed"
    },
    "tags": []
   },
   "outputs": [],
   "source": [
    "from sklearn.metrics import precision_recall_fscore_support as score\n",
    "from sklearn.metrics import confusion_matrix, accuracy_score, roc_auc_score\n",
    "from sklearn.preprocessing import label_binarize\n",
    "\n",
    "metrics = list()\n",
    "cm = dict()\n",
    "\n",
    "for lab in coeff_labels:\n",
    "\n",
    "    # Preciision, recall, f-score from the multi-class support function\n",
    "    precision, recall, f1score, _ = score(y_test, y_pred[lab], average='weighted')\n",
    "    \n",
    "    # The usual way to calculate accuracy\n",
    "    accuracy = accuracy_score(y_test, y_pred[lab])\n",
    "    \n",
    "    # ROC-AUC scores can be calculated by binarizing the data\n",
    "    auc = roc_auc_score(label_binarize(y_test, classes=[0,1]),\n",
    "              label_binarize(y_pred[lab], classes=[0,1]), \n",
    "              average='weighted')\n",
    "    \n",
    "    # Last, the confusion matrix\n",
    "    cm[lab] = confusion_matrix(y_test, y_pred[lab])\n",
    "    \n",
    "    metrics.append(pd.Series({'precision':precision, 'recall':recall, \n",
    "                              'f1score':f1score, 'accuracy':accuracy,\n",
    "                              'auc':auc}, \n",
    "                             name=lab))\n",
    "\n",
    "metrics = pd.concat(metrics, axis=1)"
   ]
  },
  {
   "cell_type": "code",
   "execution_count": 34,
   "id": "7f0244ac",
   "metadata": {
    "execution": {
     "iopub.execute_input": "2023-06-17T04:19:33.954306Z",
     "iopub.status.busy": "2023-06-17T04:19:33.953847Z",
     "iopub.status.idle": "2023-06-17T04:19:33.967911Z",
     "shell.execute_reply": "2023-06-17T04:19:33.966432Z"
    },
    "papermill": {
     "duration": 0.043656,
     "end_time": "2023-06-17T04:19:33.970832",
     "exception": false,
     "start_time": "2023-06-17T04:19:33.927176",
     "status": "completed"
    },
    "tags": []
   },
   "outputs": [
    {
     "data": {
      "text/html": [
       "<div>\n",
       "<style scoped>\n",
       "    .dataframe tbody tr th:only-of-type {\n",
       "        vertical-align: middle;\n",
       "    }\n",
       "\n",
       "    .dataframe tbody tr th {\n",
       "        vertical-align: top;\n",
       "    }\n",
       "\n",
       "    .dataframe thead th {\n",
       "        text-align: right;\n",
       "    }\n",
       "</style>\n",
       "<table border=\"1\" class=\"dataframe\">\n",
       "  <thead>\n",
       "    <tr style=\"text-align: right;\">\n",
       "      <th></th>\n",
       "      <th>lr</th>\n",
       "      <th>Lasso(l1)</th>\n",
       "      <th>Ridge(l2)</th>\n",
       "    </tr>\n",
       "  </thead>\n",
       "  <tbody>\n",
       "    <tr>\n",
       "      <th>precision</th>\n",
       "      <td>0.808008</td>\n",
       "      <td>0.815684</td>\n",
       "      <td>0.812021</td>\n",
       "    </tr>\n",
       "    <tr>\n",
       "      <th>recall</th>\n",
       "      <td>0.809701</td>\n",
       "      <td>0.817164</td>\n",
       "      <td>0.813433</td>\n",
       "    </tr>\n",
       "    <tr>\n",
       "      <th>f1score</th>\n",
       "      <td>0.807403</td>\n",
       "      <td>0.814956</td>\n",
       "      <td>0.812300</td>\n",
       "    </tr>\n",
       "    <tr>\n",
       "      <th>accuracy</th>\n",
       "      <td>0.809701</td>\n",
       "      <td>0.817164</td>\n",
       "      <td>0.813433</td>\n",
       "    </tr>\n",
       "    <tr>\n",
       "      <th>auc</th>\n",
       "      <td>0.788909</td>\n",
       "      <td>0.796793</td>\n",
       "      <td>0.797411</td>\n",
       "    </tr>\n",
       "  </tbody>\n",
       "</table>\n",
       "</div>"
      ],
      "text/plain": [
       "                 lr  Lasso(l1)  Ridge(l2)\n",
       "precision  0.808008   0.815684   0.812021\n",
       "recall     0.809701   0.817164   0.813433\n",
       "f1score    0.807403   0.814956   0.812300\n",
       "accuracy   0.809701   0.817164   0.813433\n",
       "auc        0.788909   0.796793   0.797411"
      ]
     },
     "execution_count": 34,
     "metadata": {},
     "output_type": "execute_result"
    }
   ],
   "source": [
    "metrics"
   ]
  },
  {
   "cell_type": "markdown",
   "id": "5fc651b7",
   "metadata": {
    "papermill": {
     "duration": 0.027078,
     "end_time": "2023-06-17T04:19:34.023593",
     "exception": false,
     "start_time": "2023-06-17T04:19:33.996515",
     "status": "completed"
    },
    "tags": []
   },
   "source": [
    "We can see that all three variants of linear regression done well on the test data."
   ]
  },
  {
   "cell_type": "markdown",
   "id": "e0d53171",
   "metadata": {
    "papermill": {
     "duration": 0.025148,
     "end_time": "2023-06-17T04:19:34.074339",
     "exception": false,
     "start_time": "2023-06-17T04:19:34.049191",
     "status": "completed"
    },
    "tags": []
   },
   "source": [
    "## K Nearest Neighbors:"
   ]
  },
  {
   "cell_type": "code",
   "execution_count": 35,
   "id": "da0e4ea6",
   "metadata": {
    "execution": {
     "iopub.execute_input": "2023-06-17T04:19:34.128427Z",
     "iopub.status.busy": "2023-06-17T04:19:34.127946Z",
     "iopub.status.idle": "2023-06-17T04:19:34.253197Z",
     "shell.execute_reply": "2023-06-17T04:19:34.251456Z"
    },
    "papermill": {
     "duration": 0.157265,
     "end_time": "2023-06-17T04:19:34.257812",
     "exception": false,
     "start_time": "2023-06-17T04:19:34.100547",
     "status": "completed"
    },
    "tags": []
   },
   "outputs": [
    {
     "name": "stdout",
     "output_type": "stream",
     "text": [
      "              precision    recall  f1-score   support\n",
      "\n",
      "           0       0.80      0.86      0.83       165\n",
      "           1       0.75      0.66      0.70       103\n",
      "\n",
      "    accuracy                           0.78       268\n",
      "   macro avg       0.77      0.76      0.77       268\n",
      "weighted avg       0.78      0.78      0.78       268\n",
      "\n",
      "Accuracy score:  0.7836\n",
      "F1 Score:  0.701\n",
      "auc:  0.7604\n"
     ]
    }
   ],
   "source": [
    "from sklearn.neighbors import KNeighborsClassifier\n",
    "from sklearn.metrics import  classification_report, f1_score\n",
    "knn = KNeighborsClassifier()\n",
    "knn = knn.fit(X_train, y_train)\n",
    "y_pred = knn.predict(X_test)\n",
    "# Preciision, recall, f-score from the multi-class support function\n",
    "print(classification_report(y_test, y_pred))\n",
    "print('Accuracy score: ', round(accuracy_score(y_test, y_pred), 4))\n",
    "print('F1 Score: ', round(f1_score(y_test, y_pred), 4))\n",
    "print('auc: ', round((roc_auc_score(label_binarize(y_test, classes=[0,1]),\n",
    "              label_binarize(y_pred, classes=[0,1]), \n",
    "              average='weighted')), 4))"
   ]
  },
  {
   "cell_type": "code",
   "execution_count": 36,
   "id": "7078be44",
   "metadata": {
    "execution": {
     "iopub.execute_input": "2023-06-17T04:19:34.343751Z",
     "iopub.status.busy": "2023-06-17T04:19:34.343303Z",
     "iopub.status.idle": "2023-06-17T04:19:34.401555Z",
     "shell.execute_reply": "2023-06-17T04:19:34.399801Z"
    },
    "papermill": {
     "duration": 0.095598,
     "end_time": "2023-06-17T04:19:34.407311",
     "exception": false,
     "start_time": "2023-06-17T04:19:34.311713",
     "status": "completed"
    },
    "tags": []
   },
   "outputs": [
    {
     "name": "stdout",
     "output_type": "stream",
     "text": [
      "              precision    recall  f1-score   support\n",
      "\n",
      "           0       0.80      0.86      0.83       165\n",
      "           1       0.75      0.66      0.70       103\n",
      "\n",
      "    accuracy                           0.78       268\n",
      "   macro avg       0.77      0.76      0.77       268\n",
      "weighted avg       0.78      0.78      0.78       268\n",
      "\n",
      "Accuracy score:  0.7836\n",
      "F1 Score:  0.701\n",
      "auc:  0.7604\n"
     ]
    }
   ],
   "source": [
    "knn1 = KNeighborsClassifier(n_neighbors=5)\n",
    "knn1 = knn1.fit(X_train, y_train)\n",
    "y_pred1 = knn1.predict(X_test)\n",
    "# Preciision, recall, f-score from the multi-class support function\n",
    "print(classification_report(y_test, y_pred1))\n",
    "print('Accuracy score: ', round(accuracy_score(y_test, y_pred1), 4))\n",
    "print('F1 Score: ', round(f1_score(y_test, y_pred1), 4))\n",
    "print('auc: ', round((roc_auc_score(label_binarize(y_test, classes=[0,1]),\n",
    "              label_binarize(y_pred1, classes=[0,1]), \n",
    "              average='weighted')), 4))"
   ]
  },
  {
   "cell_type": "code",
   "execution_count": 37,
   "id": "42c878a1",
   "metadata": {
    "execution": {
     "iopub.execute_input": "2023-06-17T04:19:34.497576Z",
     "iopub.status.busy": "2023-06-17T04:19:34.496259Z",
     "iopub.status.idle": "2023-06-17T04:19:34.553596Z",
     "shell.execute_reply": "2023-06-17T04:19:34.551846Z"
    },
    "papermill": {
     "duration": 0.0944,
     "end_time": "2023-06-17T04:19:34.558169",
     "exception": false,
     "start_time": "2023-06-17T04:19:34.463769",
     "status": "completed"
    },
    "tags": []
   },
   "outputs": [
    {
     "name": "stdout",
     "output_type": "stream",
     "text": [
      "              precision    recall  f1-score   support\n",
      "\n",
      "           0       0.79      0.87      0.83       165\n",
      "           1       0.76      0.63      0.69       103\n",
      "\n",
      "    accuracy                           0.78       268\n",
      "   macro avg       0.77      0.75      0.76       268\n",
      "weighted avg       0.78      0.78      0.78       268\n",
      "\n",
      "Accuracy score:  0.7799\n",
      "F1 Score:  0.6878\n",
      "auc:  0.7519\n"
     ]
    }
   ],
   "source": [
    "knn2 = KNeighborsClassifier(n_neighbors=7)\n",
    "knn2 = knn2.fit(X_train, y_train)\n",
    "y_pred2 = knn2.predict(X_test)\n",
    "# Preciision, recall, f-score from the multi-class support function\n",
    "print(classification_report(y_test, y_pred2))\n",
    "print('Accuracy score: ', round(accuracy_score(y_test, y_pred2), 4))\n",
    "print('F1 Score: ', round(f1_score(y_test, y_pred2), 4))\n",
    "print('auc: ', round((roc_auc_score(label_binarize(y_test, classes=[0,1]),\n",
    "              label_binarize(y_pred2, classes=[0,1]), \n",
    "              average='weighted')), 4))"
   ]
  },
  {
   "cell_type": "markdown",
   "id": "dd3ecb6c",
   "metadata": {
    "papermill": {
     "duration": 0.031831,
     "end_time": "2023-06-17T04:19:34.645778",
     "exception": false,
     "start_time": "2023-06-17T04:19:34.613947",
     "status": "completed"
    },
    "tags": []
   },
   "source": [
    "## Support Vector Machines:"
   ]
  },
  {
   "cell_type": "code",
   "execution_count": 38,
   "id": "c1540a42",
   "metadata": {
    "execution": {
     "iopub.execute_input": "2023-06-17T04:19:34.699046Z",
     "iopub.status.busy": "2023-06-17T04:19:34.698562Z",
     "iopub.status.idle": "2023-06-17T04:19:34.773111Z",
     "shell.execute_reply": "2023-06-17T04:19:34.772119Z"
    },
    "papermill": {
     "duration": 0.104489,
     "end_time": "2023-06-17T04:19:34.775953",
     "exception": false,
     "start_time": "2023-06-17T04:19:34.671464",
     "status": "completed"
    },
    "tags": []
   },
   "outputs": [
    {
     "name": "stdout",
     "output_type": "stream",
     "text": [
      "              precision    recall  f1-score   support\n",
      "\n",
      "           0       0.83      0.85      0.84       165\n",
      "           1       0.76      0.72      0.74       103\n",
      "\n",
      "    accuracy                           0.80       268\n",
      "   macro avg       0.79      0.79      0.79       268\n",
      "weighted avg       0.80      0.80      0.80       268\n",
      "\n",
      "Accuracy score:  0.8022\n",
      "F1 Score:  0.7363\n",
      "auc:  0.7865\n"
     ]
    }
   ],
   "source": [
    "from sklearn.kernel_approximation import Nystroem\n",
    "from sklearn.svm import SVC\n",
    "from sklearn.linear_model import SGDClassifier\n",
    "\n",
    "svm = SVC()\n",
    "svm = svm.fit(X_train, y_train)\n",
    "y_pred =svm.predict(X_test)\n",
    "# Preciision, recall, f-score from the multi-class support function\n",
    "print(classification_report(y_test, y_pred))\n",
    "print('Accuracy score: ', round(accuracy_score(y_test, y_pred), 4))\n",
    "print('F1 Score: ', round(f1_score(y_test, y_pred), 4))\n",
    "print('auc: ', round((roc_auc_score(label_binarize(y_test, classes=[0,1]),\n",
    "              label_binarize(y_pred, classes=[0,1]), \n",
    "              average='weighted')), 4))"
   ]
  },
  {
   "cell_type": "code",
   "execution_count": 39,
   "id": "1181c748",
   "metadata": {
    "execution": {
     "iopub.execute_input": "2023-06-17T04:19:34.830243Z",
     "iopub.status.busy": "2023-06-17T04:19:34.829378Z",
     "iopub.status.idle": "2023-06-17T04:19:34.838071Z",
     "shell.execute_reply": "2023-06-17T04:19:34.836429Z"
    },
    "papermill": {
     "duration": 0.039015,
     "end_time": "2023-06-17T04:19:34.841058",
     "exception": false,
     "start_time": "2023-06-17T04:19:34.802043",
     "status": "completed"
    },
    "tags": []
   },
   "outputs": [
    {
     "data": {
      "text/plain": [
       "{'C': 1.0,\n",
       " 'break_ties': False,\n",
       " 'cache_size': 200,\n",
       " 'class_weight': None,\n",
       " 'coef0': 0.0,\n",
       " 'decision_function_shape': 'ovr',\n",
       " 'degree': 3,\n",
       " 'gamma': 'scale',\n",
       " 'kernel': 'rbf',\n",
       " 'max_iter': -1,\n",
       " 'probability': False,\n",
       " 'random_state': None,\n",
       " 'shrinking': True,\n",
       " 'tol': 0.001,\n",
       " 'verbose': False}"
      ]
     },
     "execution_count": 39,
     "metadata": {},
     "output_type": "execute_result"
    }
   ],
   "source": [
    "svm.get_params()"
   ]
  },
  {
   "cell_type": "code",
   "execution_count": 40,
   "id": "0b40d963",
   "metadata": {
    "execution": {
     "iopub.execute_input": "2023-06-17T04:19:34.896059Z",
     "iopub.status.busy": "2023-06-17T04:19:34.895182Z",
     "iopub.status.idle": "2023-06-17T04:19:34.935975Z",
     "shell.execute_reply": "2023-06-17T04:19:34.934467Z"
    },
    "papermill": {
     "duration": 0.071629,
     "end_time": "2023-06-17T04:19:34.939020",
     "exception": false,
     "start_time": "2023-06-17T04:19:34.867391",
     "status": "completed"
    },
    "tags": []
   },
   "outputs": [
    {
     "name": "stdout",
     "output_type": "stream",
     "text": [
      "              precision    recall  f1-score   support\n",
      "\n",
      "           0       0.84      0.86      0.85       165\n",
      "           1       0.77      0.73      0.75       103\n",
      "\n",
      "    accuracy                           0.81       268\n",
      "   macro avg       0.80      0.79      0.80       268\n",
      "weighted avg       0.81      0.81      0.81       268\n",
      "\n",
      "Accuracy score:  0.8097\n",
      "F1 Score:  0.7463\n",
      "auc:  0.7944\n"
     ]
    }
   ],
   "source": [
    "svm1 = SVC(C = 2.0)\n",
    "svm1 = svm1.fit(X_train, y_train)\n",
    "y_pred1 =svm1.predict(X_test)\n",
    "# Preciision, recall, f-score from the multi-class support function\n",
    "print(classification_report(y_test, y_pred1))\n",
    "print('Accuracy score: ', round(accuracy_score(y_test, y_pred1), 4))\n",
    "print('F1 Score: ', round(f1_score(y_test, y_pred1), 4))\n",
    "print('auc: ', round((roc_auc_score(label_binarize(y_test, classes=[0,1]),\n",
    "              label_binarize(y_pred1, classes=[0,1]), \n",
    "              average='weighted')), 4))"
   ]
  },
  {
   "cell_type": "markdown",
   "id": "2ffd04f0",
   "metadata": {
    "papermill": {
     "duration": 0.025541,
     "end_time": "2023-06-17T04:19:34.991293",
     "exception": false,
     "start_time": "2023-06-17T04:19:34.965752",
     "status": "completed"
    },
    "tags": []
   },
   "source": [
    "## RandomForest:"
   ]
  },
  {
   "cell_type": "markdown",
   "id": "26137b58",
   "metadata": {
    "papermill": {
     "duration": 0.025442,
     "end_time": "2023-06-17T04:19:35.043338",
     "exception": false,
     "start_time": "2023-06-17T04:19:35.017896",
     "status": "completed"
    },
    "tags": []
   },
   "source": [
    "If we have M features, a popular method to determine max_features is to use the square root of M, hence max_features = square root of 24 approximately 5."
   ]
  },
  {
   "cell_type": "code",
   "execution_count": 41,
   "id": "99e880d6",
   "metadata": {
    "execution": {
     "iopub.execute_input": "2023-06-17T04:19:35.099342Z",
     "iopub.status.busy": "2023-06-17T04:19:35.098113Z",
     "iopub.status.idle": "2023-06-17T04:19:35.276200Z",
     "shell.execute_reply": "2023-06-17T04:19:35.274750Z"
    },
    "papermill": {
     "duration": 0.209438,
     "end_time": "2023-06-17T04:19:35.279005",
     "exception": false,
     "start_time": "2023-06-17T04:19:35.069567",
     "status": "completed"
    },
    "tags": []
   },
   "outputs": [
    {
     "name": "stdout",
     "output_type": "stream",
     "text": [
      "              precision    recall  f1-score   support\n",
      "\n",
      "           0       0.81      0.88      0.85       165\n",
      "           1       0.78      0.68      0.73       103\n",
      "\n",
      "    accuracy                           0.80       268\n",
      "   macro avg       0.80      0.78      0.79       268\n",
      "weighted avg       0.80      0.80      0.80       268\n",
      "\n",
      "Accuracy score:  0.8022\n",
      "F1 Score:  0.7254\n",
      "auc:  0.7792\n"
     ]
    }
   ],
   "source": [
    "from sklearn.ensemble import RandomForestClassifier\n",
    "rf = RandomForestClassifier(max_features=5,n_estimators=20, random_state=0)\n",
    "rf = rf.fit(X_train, y_train)\n",
    "y_pred =rf.predict(X_test)\n",
    "# Preciision, recall, f-score from the multi-class support function\n",
    "print(classification_report(y_test, y_pred))\n",
    "print('Accuracy score: ', round(accuracy_score(y_test, y_pred), 4))\n",
    "print('F1 Score: ', round(f1_score(y_test, y_pred), 4))\n",
    "print('auc: ', round((roc_auc_score(label_binarize(y_test, classes=[0,1]),\n",
    "              label_binarize(y_pred, classes=[0,1]), \n",
    "              average='weighted')), 4))"
   ]
  },
  {
   "cell_type": "code",
   "execution_count": 42,
   "id": "57c885ea",
   "metadata": {
    "execution": {
     "iopub.execute_input": "2023-06-17T04:19:35.332337Z",
     "iopub.status.busy": "2023-06-17T04:19:35.331878Z",
     "iopub.status.idle": "2023-06-17T04:20:09.583074Z",
     "shell.execute_reply": "2023-06-17T04:20:09.581801Z"
    },
    "papermill": {
     "duration": 34.306466,
     "end_time": "2023-06-17T04:20:09.611403",
     "exception": false,
     "start_time": "2023-06-17T04:19:35.304937",
     "status": "completed"
    },
    "tags": []
   },
   "outputs": [
    {
     "data": {
      "text/plain": [
       "GridSearchCV(cv=5, estimator=RandomForestClassifier(),\n",
       "             param_grid={'max_depth': [5, 10, 20],\n",
       "                         'max_features': [5, 7, 10, 12],\n",
       "                         'n_estimators': [20, 50, 75, 100]})"
      ]
     },
     "execution_count": 42,
     "metadata": {},
     "output_type": "execute_result"
    }
   ],
   "source": [
    "from sklearn.model_selection import GridSearchCV\n",
    "rf = RandomForestClassifier()\n",
    "parameters ={'n_estimators':[20,50,75,100], 'max_depth':[5,10,20],'max_features':[5,7,10,12]}\n",
    "rf_cv=GridSearchCV(rf, parameters, cv=5)\n",
    "rf_cv.fit(X_train,y_train)"
   ]
  },
  {
   "cell_type": "code",
   "execution_count": 43,
   "id": "188a4f40",
   "metadata": {
    "execution": {
     "iopub.execute_input": "2023-06-17T04:20:09.665841Z",
     "iopub.status.busy": "2023-06-17T04:20:09.664840Z",
     "iopub.status.idle": "2023-06-17T04:20:09.673008Z",
     "shell.execute_reply": "2023-06-17T04:20:09.671469Z"
    },
    "papermill": {
     "duration": 0.038324,
     "end_time": "2023-06-17T04:20:09.675673",
     "exception": false,
     "start_time": "2023-06-17T04:20:09.637349",
     "status": "completed"
    },
    "tags": []
   },
   "outputs": [
    {
     "name": "stdout",
     "output_type": "stream",
     "text": [
      "tuned hpyerparameters :(best parameters)  {'max_depth': 5, 'max_features': 10, 'n_estimators': 75}\n",
      "accuracy : 0.8345548387096773\n"
     ]
    }
   ],
   "source": [
    "print(\"tuned hpyerparameters :(best parameters) \",rf_cv.best_params_)\n",
    "print(\"accuracy :\",rf_cv.best_score_)"
   ]
  },
  {
   "cell_type": "code",
   "execution_count": 44,
   "id": "325bcf29",
   "metadata": {
    "execution": {
     "iopub.execute_input": "2023-06-17T04:20:09.732056Z",
     "iopub.status.busy": "2023-06-17T04:20:09.730912Z",
     "iopub.status.idle": "2023-06-17T04:20:09.976976Z",
     "shell.execute_reply": "2023-06-17T04:20:09.975227Z"
    },
    "papermill": {
     "duration": 0.277739,
     "end_time": "2023-06-17T04:20:09.980100",
     "exception": false,
     "start_time": "2023-06-17T04:20:09.702361",
     "status": "completed"
    },
    "tags": []
   },
   "outputs": [
    {
     "name": "stdout",
     "output_type": "stream",
     "text": [
      "              precision    recall  f1-score   support\n",
      "\n",
      "           0       0.81      0.90      0.85       165\n",
      "           1       0.81      0.66      0.73       103\n",
      "\n",
      "    accuracy                           0.81       268\n",
      "   macro avg       0.81      0.78      0.79       268\n",
      "weighted avg       0.81      0.81      0.81       268\n",
      "\n",
      "Accuracy score:  0.8097\n",
      "F1 Score:  0.7273\n",
      "auc:  0.7816\n"
     ]
    }
   ],
   "source": [
    "rf = RandomForestClassifier(max_features=10,n_estimators=100,max_depth = 5, random_state=0)\n",
    "rf = rf.fit(X_train, y_train)\n",
    "y_pred =rf.predict(X_test)\n",
    "# Preciision, recall, f-score from the multi-class support function\n",
    "print(classification_report(y_test, y_pred))\n",
    "print('Accuracy score: ', round(accuracy_score(y_test, y_pred), 4))\n",
    "print('F1 Score: ', round(f1_score(y_test, y_pred), 4))\n",
    "print('auc: ', round((roc_auc_score(label_binarize(y_test, classes=[0,1]),\n",
    "              label_binarize(y_pred, classes=[0,1]), \n",
    "              average='weighted')), 4))"
   ]
  },
  {
   "cell_type": "markdown",
   "id": "ff465db3",
   "metadata": {
    "papermill": {
     "duration": 0.027305,
     "end_time": "2023-06-17T04:20:10.034355",
     "exception": false,
     "start_time": "2023-06-17T04:20:10.007050",
     "status": "completed"
    },
    "tags": []
   },
   "source": [
    "We can see that the model performance have not changed much."
   ]
  },
  {
   "cell_type": "markdown",
   "id": "8c1c8891",
   "metadata": {
    "papermill": {
     "duration": 0.025878,
     "end_time": "2023-06-17T04:20:10.086809",
     "exception": false,
     "start_time": "2023-06-17T04:20:10.060931",
     "status": "completed"
    },
    "tags": []
   },
   "source": [
    "## Conclusion:"
   ]
  },
  {
   "cell_type": "markdown",
   "id": "43ee8aa8",
   "metadata": {
    "papermill": {
     "duration": 0.025904,
     "end_time": "2023-06-17T04:20:10.139123",
     "exception": false,
     "start_time": "2023-06-17T04:20:10.113219",
     "status": "completed"
    },
    "tags": []
   },
   "source": [
    "We can see that LogisticRegression with Ridge regularization is performing better on the given data."
   ]
  },
  {
   "cell_type": "markdown",
   "id": "1b44c4f5",
   "metadata": {
    "papermill": {
     "duration": 0.02601,
     "end_time": "2023-06-17T04:20:10.190921",
     "exception": false,
     "start_time": "2023-06-17T04:20:10.164911",
     "status": "completed"
    },
    "tags": []
   },
   "source": [
    "## Submission:"
   ]
  },
  {
   "cell_type": "markdown",
   "id": "b3ac0b59",
   "metadata": {
    "papermill": {
     "duration": 0.025654,
     "end_time": "2023-06-17T04:20:10.242637",
     "exception": false,
     "start_time": "2023-06-17T04:20:10.216983",
     "status": "completed"
    },
    "tags": []
   },
   "source": [
    "Hence I'm training the logistic regression with entire train_data to furher improve the score."
   ]
  },
  {
   "cell_type": "code",
   "execution_count": 45,
   "id": "71b0d6f9",
   "metadata": {
    "execution": {
     "iopub.execute_input": "2023-06-17T04:20:10.296999Z",
     "iopub.status.busy": "2023-06-17T04:20:10.296576Z",
     "iopub.status.idle": "2023-06-17T04:20:10.422764Z",
     "shell.execute_reply": "2023-06-17T04:20:10.420808Z"
    },
    "papermill": {
     "duration": 0.158169,
     "end_time": "2023-06-17T04:20:10.426953",
     "exception": false,
     "start_time": "2023-06-17T04:20:10.268784",
     "status": "completed"
    },
    "tags": []
   },
   "outputs": [],
   "source": [
    "X = df[feature_cols]\n",
    "y = df['Survived']\n",
    "model = LogisticRegressionCV(Cs=10, cv=4, penalty='l2', solver='liblinear').fit(X, y)"
   ]
  },
  {
   "cell_type": "code",
   "execution_count": 46,
   "id": "c0eb109f",
   "metadata": {
    "execution": {
     "iopub.execute_input": "2023-06-17T04:20:10.482783Z",
     "iopub.status.busy": "2023-06-17T04:20:10.482225Z",
     "iopub.status.idle": "2023-06-17T04:20:10.514971Z",
     "shell.execute_reply": "2023-06-17T04:20:10.513832Z"
    },
    "papermill": {
     "duration": 0.063532,
     "end_time": "2023-06-17T04:20:10.517738",
     "exception": false,
     "start_time": "2023-06-17T04:20:10.454206",
     "status": "completed"
    },
    "tags": []
   },
   "outputs": [
    {
     "data": {
      "text/html": [
       "<div>\n",
       "<style scoped>\n",
       "    .dataframe tbody tr th:only-of-type {\n",
       "        vertical-align: middle;\n",
       "    }\n",
       "\n",
       "    .dataframe tbody tr th {\n",
       "        vertical-align: top;\n",
       "    }\n",
       "\n",
       "    .dataframe thead th {\n",
       "        text-align: right;\n",
       "    }\n",
       "</style>\n",
       "<table border=\"1\" class=\"dataframe\">\n",
       "  <thead>\n",
       "    <tr style=\"text-align: right;\">\n",
       "      <th></th>\n",
       "      <th>Pclass</th>\n",
       "      <th>SibSp</th>\n",
       "      <th>Parch</th>\n",
       "      <th>Sex_female</th>\n",
       "      <th>Sex_male</th>\n",
       "      <th>Age-binned_8</th>\n",
       "      <th>Age-binned_16</th>\n",
       "      <th>Age-binned_24</th>\n",
       "      <th>Age-binned_32</th>\n",
       "      <th>Age-binned_40</th>\n",
       "      <th>...</th>\n",
       "      <th>Age-binned_80</th>\n",
       "      <th>Fare-binned_1</th>\n",
       "      <th>Fare-binned_2</th>\n",
       "      <th>Fare-binned_3</th>\n",
       "      <th>Fare-binned_4</th>\n",
       "      <th>Fare-binned_5</th>\n",
       "      <th>Fare-binned_6</th>\n",
       "      <th>Embarked_C</th>\n",
       "      <th>Embarked_Q</th>\n",
       "      <th>Embarked_S</th>\n",
       "    </tr>\n",
       "  </thead>\n",
       "  <tbody>\n",
       "    <tr>\n",
       "      <th>0</th>\n",
       "      <td>3</td>\n",
       "      <td>0</td>\n",
       "      <td>0</td>\n",
       "      <td>0</td>\n",
       "      <td>1</td>\n",
       "      <td>0</td>\n",
       "      <td>0</td>\n",
       "      <td>0</td>\n",
       "      <td>0</td>\n",
       "      <td>1</td>\n",
       "      <td>...</td>\n",
       "      <td>0</td>\n",
       "      <td>1</td>\n",
       "      <td>0</td>\n",
       "      <td>0</td>\n",
       "      <td>0</td>\n",
       "      <td>0</td>\n",
       "      <td>0</td>\n",
       "      <td>0</td>\n",
       "      <td>1</td>\n",
       "      <td>0</td>\n",
       "    </tr>\n",
       "    <tr>\n",
       "      <th>1</th>\n",
       "      <td>3</td>\n",
       "      <td>1</td>\n",
       "      <td>0</td>\n",
       "      <td>1</td>\n",
       "      <td>0</td>\n",
       "      <td>0</td>\n",
       "      <td>0</td>\n",
       "      <td>0</td>\n",
       "      <td>0</td>\n",
       "      <td>0</td>\n",
       "      <td>...</td>\n",
       "      <td>0</td>\n",
       "      <td>1</td>\n",
       "      <td>0</td>\n",
       "      <td>0</td>\n",
       "      <td>0</td>\n",
       "      <td>0</td>\n",
       "      <td>0</td>\n",
       "      <td>0</td>\n",
       "      <td>0</td>\n",
       "      <td>1</td>\n",
       "    </tr>\n",
       "    <tr>\n",
       "      <th>2</th>\n",
       "      <td>2</td>\n",
       "      <td>0</td>\n",
       "      <td>0</td>\n",
       "      <td>0</td>\n",
       "      <td>1</td>\n",
       "      <td>0</td>\n",
       "      <td>0</td>\n",
       "      <td>0</td>\n",
       "      <td>0</td>\n",
       "      <td>0</td>\n",
       "      <td>...</td>\n",
       "      <td>0</td>\n",
       "      <td>1</td>\n",
       "      <td>0</td>\n",
       "      <td>0</td>\n",
       "      <td>0</td>\n",
       "      <td>0</td>\n",
       "      <td>0</td>\n",
       "      <td>0</td>\n",
       "      <td>1</td>\n",
       "      <td>0</td>\n",
       "    </tr>\n",
       "    <tr>\n",
       "      <th>3</th>\n",
       "      <td>3</td>\n",
       "      <td>0</td>\n",
       "      <td>0</td>\n",
       "      <td>0</td>\n",
       "      <td>1</td>\n",
       "      <td>0</td>\n",
       "      <td>0</td>\n",
       "      <td>0</td>\n",
       "      <td>1</td>\n",
       "      <td>0</td>\n",
       "      <td>...</td>\n",
       "      <td>0</td>\n",
       "      <td>1</td>\n",
       "      <td>0</td>\n",
       "      <td>0</td>\n",
       "      <td>0</td>\n",
       "      <td>0</td>\n",
       "      <td>0</td>\n",
       "      <td>0</td>\n",
       "      <td>0</td>\n",
       "      <td>1</td>\n",
       "    </tr>\n",
       "    <tr>\n",
       "      <th>4</th>\n",
       "      <td>3</td>\n",
       "      <td>1</td>\n",
       "      <td>1</td>\n",
       "      <td>1</td>\n",
       "      <td>0</td>\n",
       "      <td>0</td>\n",
       "      <td>0</td>\n",
       "      <td>1</td>\n",
       "      <td>0</td>\n",
       "      <td>0</td>\n",
       "      <td>...</td>\n",
       "      <td>0</td>\n",
       "      <td>1</td>\n",
       "      <td>0</td>\n",
       "      <td>0</td>\n",
       "      <td>0</td>\n",
       "      <td>0</td>\n",
       "      <td>0</td>\n",
       "      <td>0</td>\n",
       "      <td>0</td>\n",
       "      <td>1</td>\n",
       "    </tr>\n",
       "  </tbody>\n",
       "</table>\n",
       "<p>5 rows × 24 columns</p>\n",
       "</div>"
      ],
      "text/plain": [
       "   Pclass  SibSp  Parch  Sex_female  Sex_male  Age-binned_8  Age-binned_16  \\\n",
       "0       3      0      0           0         1             0              0   \n",
       "1       3      1      0           1         0             0              0   \n",
       "2       2      0      0           0         1             0              0   \n",
       "3       3      0      0           0         1             0              0   \n",
       "4       3      1      1           1         0             0              0   \n",
       "\n",
       "   Age-binned_24  Age-binned_32  Age-binned_40  ...  Age-binned_80  \\\n",
       "0              0              0              1  ...              0   \n",
       "1              0              0              0  ...              0   \n",
       "2              0              0              0  ...              0   \n",
       "3              0              1              0  ...              0   \n",
       "4              1              0              0  ...              0   \n",
       "\n",
       "   Fare-binned_1  Fare-binned_2  Fare-binned_3  Fare-binned_4  Fare-binned_5  \\\n",
       "0              1              0              0              0              0   \n",
       "1              1              0              0              0              0   \n",
       "2              1              0              0              0              0   \n",
       "3              1              0              0              0              0   \n",
       "4              1              0              0              0              0   \n",
       "\n",
       "   Fare-binned_6  Embarked_C  Embarked_Q  Embarked_S  \n",
       "0              0           0           1           0  \n",
       "1              0           0           0           1  \n",
       "2              0           0           1           0  \n",
       "3              0           0           0           1  \n",
       "4              0           0           0           1  \n",
       "\n",
       "[5 rows x 24 columns]"
      ]
     },
     "execution_count": 46,
     "metadata": {},
     "output_type": "execute_result"
    }
   ],
   "source": [
    "features1 = [\"Pclass\", \"Sex\", \"SibSp\", \"Parch\",\"Age-binned\",\"Fare-binned\", \"Embarked\"]\n",
    "\n",
    "df1 = pd.get_dummies(test_data[features1])\n",
    "X_test1 = df1[feature_cols]\n",
    "X_test1.head()\n"
   ]
  },
  {
   "cell_type": "code",
   "execution_count": 47,
   "id": "f967b2b6",
   "metadata": {
    "execution": {
     "iopub.execute_input": "2023-06-17T04:20:10.574126Z",
     "iopub.status.busy": "2023-06-17T04:20:10.573701Z",
     "iopub.status.idle": "2023-06-17T04:20:10.598629Z",
     "shell.execute_reply": "2023-06-17T04:20:10.596920Z"
    },
    "papermill": {
     "duration": 0.058201,
     "end_time": "2023-06-17T04:20:10.603234",
     "exception": false,
     "start_time": "2023-06-17T04:20:10.545033",
     "status": "completed"
    },
    "tags": []
   },
   "outputs": [
    {
     "name": "stdout",
     "output_type": "stream",
     "text": [
      "Your submission was successfully saved!\n"
     ]
    }
   ],
   "source": [
    "predictions = model.predict(X_test1)\n",
    "\n",
    "output = pd.DataFrame({'PassengerId': test_data.PassengerId, 'Survived': predictions})\n",
    "output.to_csv('submission.csv', index=False)\n",
    "print(\"Your submission was successfully saved!\")"
   ]
  }
 ],
 "metadata": {
  "kernelspec": {
   "display_name": "Python 3",
   "language": "python",
   "name": "python3"
  },
  "language_info": {
   "codemirror_mode": {
    "name": "ipython",
    "version": 3
   },
   "file_extension": ".py",
   "mimetype": "text/x-python",
   "name": "python",
   "nbconvert_exporter": "python",
   "pygments_lexer": "ipython3",
   "version": "3.7.12"
  },
  "papermill": {
   "default_parameters": {},
   "duration": 54.566375,
   "end_time": "2023-06-17T04:20:11.495751",
   "environment_variables": {},
   "exception": null,
   "input_path": "__notebook__.ipynb",
   "output_path": "__notebook__.ipynb",
   "parameters": {},
   "start_time": "2023-06-17T04:19:16.929376",
   "version": "2.3.4"
  }
 },
 "nbformat": 4,
 "nbformat_minor": 5
}
